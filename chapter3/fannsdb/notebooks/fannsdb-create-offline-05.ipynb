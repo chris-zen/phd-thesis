{
 "metadata": {
  "name": "",
  "signature": "sha256:d7c1bd94d8ddf2923f5aebc9b32c025409c324dd5ab00d632666e83e79253f28"
 },
 "nbformat": 3,
 "nbformat_minor": 0,
 "worksheets": [
  {
   "cells": [
    {
     "cell_type": "heading",
     "level": 1,
     "metadata": {},
     "source": [
      "FannsDB creation (offline)"
     ]
    },
    {
     "cell_type": "markdown",
     "metadata": {},
     "source": [
      "Predictors:\n",
      "\n",
      "- CONDEL\n",
      "- SIFT (*dbNSFP 2.1*)\n",
      "- PPH2 (*dbNSFP 2.1*)\n",
      "- MutationAssessor (*dbNSFP 2.1*)\n",
      "- FATHMM (*dbNSFP 2.1*)\n",
      "- MutationTaster (*dbNSFP 2.1*)\n",
      "- GERP RS (*dbNSFP 2.1*)\n",
      "- PhyloP (*dbNSFP 2.1*)\n",
      "- CADD\n",
      "- FATHMMC\n",
      "- CHASM\n",
      "- InCa"
     ]
    },
    {
     "cell_type": "code",
     "collapsed": false,
     "input": [
      "from IPython.parallel import Client\n",
      "client = Client(profile=\"nb\")"
     ],
     "language": "python",
     "metadata": {},
     "outputs": [],
     "prompt_number": 12
    },
    {
     "cell_type": "code",
     "collapsed": false,
     "input": [
      "dv = client[:]\n",
      "lb = client.load_balanced_view(targets=dv.targets)\n",
      "lb.block = False\n",
      "lb.ordered = False"
     ],
     "language": "python",
     "metadata": {},
     "outputs": [],
     "prompt_number": 13
    },
    {
     "cell_type": "code",
     "collapsed": false,
     "input": [
      "%%px --local\n",
      "%load_ext autoreload\n",
      "%autoreload 2"
     ],
     "language": "python",
     "metadata": {},
     "outputs": []
    },
    {
     "cell_type": "code",
     "collapsed": false,
     "input": [
      "%%px --local\n",
      "import sys\n",
      "import logging\n",
      "logger = logging.getLogger()\n",
      "for h in logger.handlers:\n",
      "    logger.removeHandler(h)\n",
      "h = logging.StreamHandler(sys.stdout)\n",
      "h.setFormatter(logging.Formatter(\"%(asctime)s %(name)-10s [%(levelname)-7s] %(message)s\", \"%Y-%m-%d %H:%M:%S\"))\n",
      "logger.addHandler(h)\n",
      "logger.setLevel(logging.INFO)"
     ],
     "language": "python",
     "metadata": {},
     "outputs": [],
     "prompt_number": 14
    },
    {
     "cell_type": "markdown",
     "metadata": {},
     "source": [
      "This function allows to map node names to client targets."
     ]
    },
    {
     "cell_type": "code",
     "collapsed": false,
     "input": [
      "def node_targets(dv):\n",
      "    def hostname():\n",
      "        import socket\n",
      "        return socket.gethostname()\n",
      "\n",
      "    from collections import defaultdict\n",
      "    nodes = defaultdict(set)\n",
      "    for i, name in enumerate(dv.apply(hostname)):\n",
      "        nodes[name].add(i)\n",
      "    \n",
      "    return dict((k, sorted(v)) for k,v in nodes.iteritems())"
     ],
     "language": "python",
     "metadata": {},
     "outputs": [],
     "prompt_number": 15
    },
    {
     "cell_type": "markdown",
     "metadata": {},
     "source": [
      "This function allows to retrieve the state of a task. It requires the hub to be configured to use a database."
     ]
    },
    {
     "cell_type": "code",
     "collapsed": false,
     "input": [
      "%%px --local\n",
      "from __future__ import print_function\n",
      "import os\n",
      "from pymongo import MongoClient\n",
      "from ipnb.db.tasks import Task, mongodb_from_uri"
     ],
     "language": "python",
     "metadata": {},
     "outputs": [],
     "prompt_number": 16
    },
    {
     "cell_type": "code",
     "collapsed": false,
     "input": [
      "from functools import partial\n",
      "from IPython.display import display, FileLink\n",
      "from ipnb.display.tasks import display_task"
     ],
     "language": "python",
     "metadata": {},
     "outputs": [],
     "prompt_number": 17
    },
    {
     "cell_type": "code",
     "collapsed": false,
     "input": [
      "%%px --local\n",
      "\n",
      "SCRATCH_PATH = TMP_PATH = \"/home/cperez/temp/tmp\"\n",
      "\n",
      "WORK_PATH = \"/shared/projects/fannsdb/notebooks-data/fanns-perf\"\n",
      "\n",
      "CHROMOSOMES = [str(x) for x in range(1, 23)] + [\"X\", \"Y\"]\n",
      "\n",
      "# MongoDB\n",
      "\n",
      "FANNSDB_URI = \"mongodb://lima1/fanns05\"\n",
      "\n",
      "FANNSDB = dict(\n",
      "    uri=FANNSDB_URI,\n",
      "    url=\"mongodb://localhost\", db=\"fanns05\") # deprecated\n",
      "\n",
      "# Ensembl biomart\n",
      "\n",
      "ENST_PATH = os.path.join(WORK_PATH, \"ensp_enst.map\")\n",
      "UNIPROT_PATH = os.path.join(WORK_PATH, \"ensp_uniprot.map\")\n",
      "\n",
      "# dbNSFP\n",
      "\n",
      "DBNSFP_SRC_PATH = \"/shared/datasets/dbNSFP/2.1/dbNSFPv2.1.zip\"\n",
      "DBNSFP_PATH = os.path.join(WORK_PATH, \"dbNSFP\")\n",
      "\n",
      "# CADD\n",
      "\n",
      "CADD_SRC_PATH = \"/shared/datasets/CADD/whole_genome_SNVs.tsv.gz\"\n",
      "CADD_PATH = os.path.join(WORK_PATH, \"CADD\")\n",
      "CADD_SCRATCH_SRC_PATH = os.path.join(SCRATCH_PATH, \"CADD\", \"whole_genome_SNVs.tsv.gz\")\n",
      "\n",
      "# CHASM\n",
      "\n",
      "CHASM_SCORES_PATH = os.path.join(WORK_PATH, \"chasm-scores.tsv\")\n",
      "CHASM3_SCORES_PATH = os.path.join(WORK_PATH, \"chasm3-scores.tsv\")"
     ],
     "language": "python",
     "metadata": {},
     "outputs": [],
     "prompt_number": 18
    },
    {
     "cell_type": "code",
     "collapsed": false,
     "input": [
      "%%px --local\n",
      "def temp_file(base_path=None):\n",
      "    import tempfile\n",
      "    \n",
      "    if base_path is None:\n",
      "        base_path = tempfile.gettempdir()\n",
      "\n",
      "    if not os.path.exists(base_path):\n",
      "        os.makedirs(base_path)\n",
      "\n",
      "    if base_path[-1] != \"/\":\n",
      "        base_path += \"/\"\n",
      "\n",
      "    tf = tempfile.NamedTemporaryFile(prefix=base_path)\n",
      "    \n",
      "    return tf"
     ],
     "language": "python",
     "metadata": {},
     "outputs": [],
     "prompt_number": 19
    },
    {
     "cell_type": "heading",
     "level": 2,
     "metadata": {},
     "source": [
      "dbNSFP"
     ]
    },
    {
     "cell_type": "markdown",
     "metadata": {},
     "source": [
      "From https://sites.google.com/site/jpopgen/dbNSFP\n",
      "\n",
      "Citations:\n",
      "\n",
      "1. Liu X, Jian X, and Boerwinkle E. 2011. dbNSFP: a lightweight database of human non-synonymous SNPs and their functional predictions. Human Mutation. 32:894-899.\n",
      "2. Liu X, Jian X, and Boerwinkle E. 2013. dbNSFP v2.0: A Database of Human Nonsynonymous SNVs and Their Functional Predictions and Annotations. Human Mutation. 34:E2393-E2402."
     ]
    },
    {
     "cell_type": "heading",
     "level": 3,
     "metadata": {},
     "source": [
      "Export zip file data into tabulated files by chromosome"
     ]
    },
    {
     "cell_type": "markdown",
     "metadata": {},
     "source": [
      "Export dbNSFP zip into sepparated tabulated files per chromosome."
     ]
    },
    {
     "cell_type": "code",
     "collapsed": false,
     "input": [
      "%%px --local\n",
      "def dbnsfp_export(chrom, zip_path, work_path, enst_path, uniprot_path, temp_path=None, overwrite=False):\n",
      "    out_path = os.path.join(work_path, \"dbnsfp-{}.tsv\".format(chrom))\n",
      "    log_path = os.path.join(work_path, \"dbnsfp-{}.log\".format(chrom))\n",
      "    if os.path.exists(out_path) and not overwrite:\n",
      "        return out_path, log_path\n",
      "    \n",
      "    tmp_path = temp_file(temp_path).name\n",
      "    \n",
      "    !dbnsfp-export -o $tmp_path --chr $chrom $zip_path $enst_path $uniprot_path 2>$log_path\n",
      "    !mv $tmp_path $out_path\n",
      "    \n",
      "    return out_path, log_path"
     ],
     "language": "python",
     "metadata": {},
     "outputs": [],
     "prompt_number": 13
    },
    {
     "cell_type": "code",
     "collapsed": false,
     "input": [
      "%%px --local\n",
      "def dbnsfp_gzip(chrom, work_path):\n",
      "    path = os.path.join(work_path, \"dbnsfp-{}.tsv\".format(chrom))\n",
      "    !gzip -f $path"
     ],
     "language": "python",
     "metadata": {},
     "outputs": [],
     "prompt_number": 43
    },
    {
     "cell_type": "code",
     "collapsed": false,
     "input": [
      "if not os.path.exists(DBNSFP_PATH):\n",
      "    os.makedirs(DBNSFP_PATH)\n",
      "\n",
      "fn = partial(dbnsfp_export, zip_path=DBNSFP_SRC_PATH, work_path=DBNSFP_PATH,\n",
      "             temp_path=TMP_PATH, enst_path=ENST_PATH, uniprot_path=UNIPROT_PATH)\n",
      "\n",
      "dbnsfp_amr = lb.map_async(fn, CHROMOSOMES)"
     ],
     "language": "python",
     "metadata": {},
     "outputs": [],
     "prompt_number": 27
    },
    {
     "cell_type": "code",
     "collapsed": false,
     "input": [
      "os.chdir(WORK_PATH)\n",
      "for out_path, log_path in dbnsfp_amr:\n",
      "    print(\">>> {}\".format(out_path))\n",
      "    !cat $log_path"
     ],
     "language": "python",
     "metadata": {},
     "outputs": [
      {
       "output_type": "stream",
       "stream": "stdout",
       "text": [
        ">>> /data/users/cperez/notebooks/fanns-perf/dbNSFP/dbnsfp-1.tsv\n",
        "2014-04-22 17:39:50 dbnsfp-export INFO  : Loading maps ...\r\n",
        "2014-04-22 17:39:51 dbnsfp-export INFO  : Opening /data/users/cperez/notebooks/data/dbNSFP/2.1/dbNSFPv2.1.zip ...\r\n",
        "2014-04-22 17:39:51 dbnsfp-export INFO  : Selected chromosomes: 1\r\n",
        "2014-04-22 17:39:51 dbnsfp-export INFO  : Output: /scratch/cperez/tmp/sSOjfA\r\n",
        "2014-04-22 17:39:51 dbnsfp-export INFO  : Reading chromosome 1 ...\r\n",
        "2014-04-22 17:56:09 dbnsfp-export INFO  :   >  9.252 M lines, 9722.0 lines/second\r\n",
        "2014-04-22 17:56:09 dbnsfp-export INFO  :   >> 9.252 M lines, 9459.8 lines/second\r\n",
        "2014-04-22 17:56:10 dbnsfp-export INFO  : Finished successfully. Elapsed time: 0:16:19.427319\r\n"
       ]
      },
      {
       "output_type": "stream",
       "stream": "stdout",
       "text": [
        ">>> /data/users/cperez/notebooks/fanns-perf/dbNSFP/dbnsfp-2.tsv\n",
        "2014-04-22 17:40:07 dbnsfp-export INFO  : Loading maps ...\r\n",
        "2014-04-22 17:40:08 dbnsfp-export INFO  : Opening /data/users/cperez/notebooks/data/dbNSFP/2.1/dbNSFPv2.1.zip ...\r\n",
        "2014-04-22 17:40:08 dbnsfp-export INFO  : Selected chromosomes: 2\r\n",
        "2014-04-22 17:40:08 dbnsfp-export INFO  : Output: /scratch/cperez/tmp/wy9N91\r\n",
        "2014-04-22 17:40:08 dbnsfp-export INFO  : Reading chromosome 2 ...\r\n",
        "2014-04-22 17:52:22 dbnsfp-export INFO  :   >  6.692 M lines, 9329.9 lines/second\r\n",
        "2014-04-22 17:52:22 dbnsfp-export INFO  :   >> 6.692 M lines, 9111.3 lines/second\r\n",
        "2014-04-22 17:52:23 dbnsfp-export INFO  : Finished successfully. Elapsed time: 0:12:15.506046\r\n"
       ]
      },
      {
       "output_type": "stream",
       "stream": "stdout",
       "text": [
        ">>> /data/users/cperez/notebooks/fanns-perf/dbNSFP/dbnsfp-3.tsv\n",
        "2014-04-22 17:39:49 dbnsfp-export INFO  : Loading maps ...\r\n",
        "2014-04-22 17:39:50 dbnsfp-export INFO  : Opening /data/users/cperez/notebooks/data/dbNSFP/2.1/dbNSFPv2.1.zip ...\r\n",
        "2014-04-22 17:39:50 dbnsfp-export INFO  : Selected chromosomes: 3\r\n",
        "2014-04-22 17:39:50 dbnsfp-export INFO  : Output: /scratch/cperez/tmp/dmxLy_\r\n",
        "2014-04-22 17:39:50 dbnsfp-export INFO  : Reading chromosome 3 ...\r\n",
        "2014-04-22 17:50:00 dbnsfp-export INFO  :   >  5.311 M lines, 8916.6 lines/second\r\n",
        "2014-04-22 17:50:00 dbnsfp-export INFO  :   >> 5.311 M lines, 8706.6 lines/second\r\n",
        "2014-04-22 17:50:01 dbnsfp-export INFO  : Finished successfully. Elapsed time: 0:10:10.639354\r\n"
       ]
      },
      {
       "output_type": "stream",
       "stream": "stdout",
       "text": [
        ">>> /data/users/cperez/notebooks/fanns-perf/dbNSFP/dbnsfp-4.tsv\n",
        "2014-04-22 17:39:50 dbnsfp-export INFO  : Loading maps ...\r\n",
        "2014-04-22 17:39:52 dbnsfp-export INFO  : Opening /data/users/cperez/notebooks/data/dbNSFP/2.1/dbNSFPv2.1.zip ...\r\n",
        "2014-04-22 17:39:52 dbnsfp-export INFO  : Selected chromosomes: 4\r\n",
        "2014-04-22 17:39:52 dbnsfp-export INFO  : Output: /scratch/cperez/tmp/Joh06T\r\n",
        "2014-04-22 17:39:52 dbnsfp-export INFO  : Reading chromosome 4 ...\r\n",
        "2014-04-22 17:46:41 dbnsfp-export INFO  :   >  3.715 M lines, 9522.3 lines/second\r\n",
        "2014-04-22 17:46:41 dbnsfp-export INFO  :   >> 3.715 M lines, 9070.6 lines/second\r\n",
        "2014-04-22 17:46:42 dbnsfp-export INFO  : Finished successfully. Elapsed time: 0:06:50.064889\r\n"
       ]
      },
      {
       "output_type": "stream",
       "stream": "stdout",
       "text": [
        ">>> /data/users/cperez/notebooks/fanns-perf/dbNSFP/dbnsfp-5.tsv\n",
        "2014-04-22 17:39:49 dbnsfp-export INFO  : Loading maps ...\r\n",
        "2014-04-22 17:39:50 dbnsfp-export INFO  : Opening /data/users/cperez/notebooks/data/dbNSFP/2.1/dbNSFPv2.1.zip ...\r\n",
        "2014-04-22 17:39:50 dbnsfp-export INFO  : Selected chromosomes: 5\r\n",
        "2014-04-22 17:39:50 dbnsfp-export INFO  : Output: /scratch/cperez/tmp/72jICR\r\n",
        "2014-04-22 17:39:50 dbnsfp-export INFO  : Reading chromosome 5 ...\r\n",
        "2014-04-22 17:47:40 dbnsfp-export INFO  :   >  4.083 M lines, 8890.1 lines/second\r\n",
        "2014-04-22 17:47:40 dbnsfp-export INFO  :   >> 4.083 M lines, 8681.1 lines/second\r\n",
        "2014-04-22 17:47:41 dbnsfp-export INFO  : Finished successfully. Elapsed time: 0:07:50.796071\r\n"
       ]
      },
      {
       "output_type": "stream",
       "stream": "stdout",
       "text": [
        ">>> /data/users/cperez/notebooks/fanns-perf/dbNSFP/dbnsfp-6.tsv\n",
        "2014-04-22 17:39:49 dbnsfp-export INFO  : Loading maps ...\r\n",
        "2014-04-22 17:39:50 dbnsfp-export INFO  : Opening /data/users/cperez/notebooks/data/dbNSFP/2.1/dbNSFPv2.1.zip ...\r\n",
        "2014-04-22 17:39:50 dbnsfp-export INFO  : Selected chromosomes: 6\r\n",
        "2014-04-22 17:39:50 dbnsfp-export INFO  : Output: /scratch/cperez/tmp/8KKRRH\r\n",
        "2014-04-22 17:39:50 dbnsfp-export INFO  : Reading chromosome 6 ...\r\n",
        "2014-04-22 17:48:13 dbnsfp-export INFO  :   >  4.538 M lines, 9228.4 lines/second\r\n",
        "2014-04-22 17:48:13 dbnsfp-export INFO  :   >> 4.538 M lines, 9015.1 lines/second\r\n",
        "2014-04-22 17:48:14 dbnsfp-export INFO  : Finished successfully. Elapsed time: 0:08:23.898711\r\n"
       ]
      },
      {
       "output_type": "stream",
       "stream": "stdout",
       "text": [
        ">>> /data/users/cperez/notebooks/fanns-perf/dbNSFP/dbnsfp-7.tsv\n",
        "2014-04-22 17:39:50 dbnsfp-export INFO  : Loading maps ...\r\n",
        "2014-04-22 17:39:51 dbnsfp-export INFO  : Opening /data/users/cperez/notebooks/data/dbNSFP/2.1/dbNSFPv2.1.zip ...\r\n",
        "2014-04-22 17:39:51 dbnsfp-export INFO  : Selected chromosomes: 7\r\n",
        "2014-04-22 17:39:51 dbnsfp-export INFO  : Output: /scratch/cperez/tmp/iyMuDk\r\n",
        "2014-04-22 17:39:51 dbnsfp-export INFO  : Reading chromosome 7 ...\r\n",
        "2014-04-22 17:47:58 dbnsfp-export INFO  :   >  4.203 M lines, 8999.9 lines/second\r\n",
        "2014-04-22 17:47:58 dbnsfp-export INFO  :   >> 4.203 M lines, 8629.8 lines/second\r\n",
        "2014-04-22 17:47:59 dbnsfp-export INFO  : Finished successfully. Elapsed time: 0:08:07.650761\r\n"
       ]
      },
      {
       "output_type": "stream",
       "stream": "stdout",
       "text": [
        ">>> /data/users/cperez/notebooks/fanns-perf/dbNSFP/dbnsfp-8.tsv\n",
        "2014-04-22 17:39:50 dbnsfp-export INFO  : Loading maps ...\r\n",
        "2014-04-22 17:39:51 dbnsfp-export INFO  : Opening /data/users/cperez/notebooks/data/dbNSFP/2.1/dbNSFPv2.1.zip ...\r\n",
        "2014-04-22 17:39:51 dbnsfp-export INFO  : Selected chromosomes: 8\r\n",
        "2014-04-22 17:39:51 dbnsfp-export INFO  : Output: /scratch/cperez/tmp/YIxWXI\r\n",
        "2014-04-22 17:39:51 dbnsfp-export INFO  : Reading chromosome 8 ...\r\n",
        "2014-04-22 17:45:23 dbnsfp-export INFO  :   >  3.154 M lines, 9741.9 lines/second\r\n",
        "2014-04-22 17:45:23 dbnsfp-export INFO  :   >> 3.154 M lines, 9508.2 lines/second\r\n",
        "2014-04-22 17:45:23 dbnsfp-export INFO  : Finished successfully. Elapsed time: 0:05:32.037828\r\n"
       ]
      },
      {
       "output_type": "stream",
       "stream": "stdout",
       "text": [
        ">>> /data/users/cperez/notebooks/fanns-perf/dbNSFP/dbnsfp-9.tsv\n",
        "2014-04-22 17:40:07 dbnsfp-export INFO  : Loading maps ...\r\n",
        "2014-04-22 17:40:08 dbnsfp-export INFO  : Opening /data/users/cperez/notebooks/data/dbNSFP/2.1/dbNSFPv2.1.zip ...\r\n",
        "2014-04-22 17:40:08 dbnsfp-export INFO  : Selected chromosomes: 9\r\n",
        "2014-04-22 17:40:08 dbnsfp-export INFO  : Output: /scratch/cperez/tmp/TEwjiv\r\n",
        "2014-04-22 17:40:08 dbnsfp-export INFO  : Reading chromosome 9 ...\r\n",
        "2014-04-22 17:46:40 dbnsfp-export INFO  :   >  3.677 M lines, 9612.0 lines/second\r\n",
        "2014-04-22 17:46:40 dbnsfp-export INFO  :   >> 3.677 M lines, 9375.6 lines/second\r\n",
        "2014-04-22 17:46:41 dbnsfp-export INFO  : Finished successfully. Elapsed time: 0:06:32.786588\r\n"
       ]
      },
      {
       "output_type": "stream",
       "stream": "stdout",
       "text": [
        ">>> /data/users/cperez/notebooks/fanns-perf/dbNSFP/dbnsfp-10.tsv\n",
        "2014-04-22 17:40:07 dbnsfp-export INFO  : Loading maps ...\r\n",
        "2014-04-22 17:40:08 dbnsfp-export INFO  : Opening /data/users/cperez/notebooks/data/dbNSFP/2.1/dbNSFPv2.1.zip ...\r\n",
        "2014-04-22 17:40:08 dbnsfp-export INFO  : Selected chromosomes: 10\r\n",
        "2014-04-22 17:40:08 dbnsfp-export INFO  : Output: /scratch/cperez/tmp/TB0mq1\r\n",
        "2014-04-22 17:40:08 dbnsfp-export INFO  : Reading chromosome 10 ...\r\n",
        "2014-04-22 17:46:35 dbnsfp-export INFO  :   >  3.601 M lines, 9532.3 lines/second\r\n",
        "2014-04-22 17:46:35 dbnsfp-export INFO  :   >> 3.601 M lines, 9297.1 lines/second\r\n",
        "2014-04-22 17:46:36 dbnsfp-export INFO  : Finished successfully. Elapsed time: 0:06:27.965606\r\n"
       ]
      },
      {
       "output_type": "stream",
       "stream": "stdout",
       "text": [
        ">>> /data/users/cperez/notebooks/fanns-perf/dbNSFP/dbnsfp-11.tsv\n",
        "2014-04-22 17:39:50 dbnsfp-export INFO  : Loading maps ...\r\n",
        "2014-04-22 17:39:51 dbnsfp-export INFO  : Opening /data/users/cperez/notebooks/data/dbNSFP/2.1/dbNSFPv2.1.zip ...\r\n",
        "2014-04-22 17:39:51 dbnsfp-export INFO  : Selected chromosomes: 11\r\n",
        "2014-04-22 17:39:51 dbnsfp-export INFO  : Output: /scratch/cperez/tmp/ynftaz\r\n",
        "2014-04-22 17:39:51 dbnsfp-export INFO  : Reading chromosome 11 ...\r\n",
        "2014-04-22 17:49:18 dbnsfp-export INFO  :   >  5.274 M lines, 9558.0 lines/second\r\n",
        "2014-04-22 17:49:18 dbnsfp-export INFO  :   >> 5.274 M lines, 9291.7 lines/second\r\n",
        "2014-04-22 17:49:19 dbnsfp-export INFO  : Finished successfully. Elapsed time: 0:09:28.412003\r\n"
       ]
      },
      {
       "output_type": "stream",
       "stream": "stdout",
       "text": [
        ">>> /data/users/cperez/notebooks/fanns-perf/dbNSFP/dbnsfp-12.tsv\n",
        "2014-04-22 17:39:50 dbnsfp-export INFO  : Loading maps ...\r\n",
        "2014-04-22 17:39:51 dbnsfp-export INFO  : Opening /data/users/cperez/notebooks/data/dbNSFP/2.1/dbNSFPv2.1.zip ...\r\n",
        "2014-04-22 17:39:51 dbnsfp-export INFO  : Selected chromosomes: 12\r\n",
        "2014-04-22 17:39:51 dbnsfp-export INFO  : Output: /scratch/cperez/tmp/orfK62\r\n",
        "2014-04-22 17:39:51 dbnsfp-export INFO  : Reading chromosome 12 ...\r\n",
        "2014-04-22 17:48:31 dbnsfp-export INFO  :   >  4.778 M lines, 9410.4 lines/second\r\n",
        "2014-04-22 17:48:31 dbnsfp-export INFO  :   >> 4.778 M lines, 9189.1 lines/second\r\n",
        "2014-04-22 17:48:32 dbnsfp-export INFO  : Finished successfully. Elapsed time: 0:08:40.601539\r\n"
       ]
      },
      {
       "output_type": "stream",
       "stream": "stdout",
       "text": [
        ">>> /data/users/cperez/notebooks/fanns-perf/dbNSFP/dbnsfp-13.tsv\n",
        "2014-04-22 17:39:50 dbnsfp-export INFO  : Loading maps ...\r\n",
        "2014-04-22 17:39:51 dbnsfp-export INFO  : Opening /data/users/cperez/notebooks/data/dbNSFP/2.1/dbNSFPv2.1.zip ...\r\n",
        "2014-04-22 17:39:51 dbnsfp-export INFO  : Selected chromosomes: 13\r\n",
        "2014-04-22 17:39:51 dbnsfp-export INFO  : Output: /scratch/cperez/tmp/f61C0c\r\n",
        "2014-04-22 17:39:52 dbnsfp-export INFO  : Reading chromosome 13 ...\r\n",
        "2014-04-22 17:42:55 dbnsfp-export INFO  :   >  1.585 M lines, 8829.8 lines/second\r\n",
        "2014-04-22 17:42:55 dbnsfp-export INFO  :   >> 1.585 M lines, 8615.0 lines/second\r\n",
        "2014-04-22 17:42:56 dbnsfp-export INFO  : Finished successfully. Elapsed time: 0:03:04.182549\r\n"
       ]
      },
      {
       "output_type": "stream",
       "stream": "stdout",
       "text": [
        ">>> /data/users/cperez/notebooks/fanns-perf/dbNSFP/dbnsfp-14.tsv\n",
        "2014-04-22 17:39:50 dbnsfp-export INFO  : Loading maps ...\r\n",
        "2014-04-22 17:39:51 dbnsfp-export INFO  : Opening /data/users/cperez/notebooks/data/dbNSFP/2.1/dbNSFPv2.1.zip ...\r\n",
        "2014-04-22 17:39:51 dbnsfp-export INFO  : Selected chromosomes: 14\r\n",
        "2014-04-22 17:39:51 dbnsfp-export INFO  : Output: /scratch/cperez/tmp/GG2HS7\r\n",
        "2014-04-22 17:39:51 dbnsfp-export INFO  : Reading chromosome 14 ...\r\n",
        "2014-04-22 17:45:13 dbnsfp-export INFO  :   >  2.925 M lines, 9367.9 lines/second\r\n",
        "2014-04-22 17:45:13 dbnsfp-export INFO  :   >> 2.925 M lines, 9075.6 lines/second\r\n",
        "2014-04-22 17:45:13 dbnsfp-export INFO  : Finished successfully. Elapsed time: 0:05:22.774113\r\n"
       ]
      },
      {
       "output_type": "stream",
       "stream": "stdout",
       "text": [
        ">>> /data/users/cperez/notebooks/fanns-perf/dbNSFP/dbnsfp-15.tsv\n",
        "2014-04-22 17:40:07 dbnsfp-export INFO  : Loading maps ...\r\n",
        "2014-04-22 17:40:08 dbnsfp-export INFO  : Opening /data/users/cperez/notebooks/data/dbNSFP/2.1/dbNSFPv2.1.zip ...\r\n",
        "2014-04-22 17:40:08 dbnsfp-export INFO  : Selected chromosomes: 15\r\n",
        "2014-04-22 17:40:08 dbnsfp-export INFO  : Output: /scratch/cperez/tmp/ja6trq\r\n",
        "2014-04-22 17:40:08 dbnsfp-export INFO  : Reading chromosome 15 ...\r\n",
        "2014-04-22 17:44:44 dbnsfp-export INFO  :   >  2.931 M lines, 10958.2 lines/second\r\n",
        "2014-04-22 17:44:44 dbnsfp-export INFO  :   >> 2.931 M lines, 10635.8 lines/second\r\n",
        "2014-04-22 17:44:44 dbnsfp-export INFO  : Finished successfully. Elapsed time: 0:04:35.964048\r\n"
       ]
      },
      {
       "output_type": "stream",
       "stream": "stdout",
       "text": [
        ">>> /data/users/cperez/notebooks/fanns-perf/dbNSFP/dbnsfp-16.tsv\n",
        "2014-04-22 17:39:49 dbnsfp-export INFO  : Loading maps ...\r\n",
        "2014-04-22 17:39:50 dbnsfp-export INFO  : Opening /data/users/cperez/notebooks/data/dbNSFP/2.1/dbNSFPv2.1.zip ...\r\n",
        "2014-04-22 17:39:50 dbnsfp-export INFO  : Selected chromosomes: 16\r\n",
        "2014-04-22 17:39:50 dbnsfp-export INFO  : Output: /scratch/cperez/tmp/RYF8rF\r\n",
        "2014-04-22 17:39:50 dbnsfp-export INFO  : Reading chromosome 16 ...\r\n",
        "2014-04-22 17:46:02 dbnsfp-export INFO  :   >  3.635 M lines, 10023.6 lines/second\r\n",
        "2014-04-22 17:46:02 dbnsfp-export INFO  :   >> 3.635 M lines, 9770.0 lines/second\r\n",
        "2014-04-22 17:46:02 dbnsfp-export INFO  : Finished successfully. Elapsed time: 0:06:12.523759\r\n"
       ]
      },
      {
       "output_type": "stream",
       "stream": "stdout",
       "text": [
        ">>> /data/users/cperez/notebooks/fanns-perf/dbNSFP/dbnsfp-17.tsv\n",
        "2014-04-22 17:39:50 dbnsfp-export INFO  : Loading maps ...\r\n",
        "2014-04-22 17:39:51 dbnsfp-export INFO  : Opening /data/users/cperez/notebooks/data/dbNSFP/2.1/dbNSFPv2.1.zip ...\r\n",
        "2014-04-22 17:39:51 dbnsfp-export INFO  : Selected chromosomes: 17\r\n",
        "2014-04-22 17:39:51 dbnsfp-export INFO  : Output: /scratch/cperez/tmp/4UPKE9\r\n",
        "2014-04-22 17:39:52 dbnsfp-export INFO  : Reading chromosome 17 ...\r\n",
        "2014-04-22 17:48:12 dbnsfp-export INFO  :   >  4.908 M lines, 10303.2 lines/second\r\n",
        "2014-04-22 17:48:12 dbnsfp-export INFO  :   >> 4.908 M lines, 9803.0 lines/second\r\n",
        "2014-04-22 17:48:13 dbnsfp-export INFO  : Finished successfully. Elapsed time: 0:08:21.335302\r\n"
       ]
      },
      {
       "output_type": "stream",
       "stream": "stdout",
       "text": [
        ">>> /data/users/cperez/notebooks/fanns-perf/dbNSFP/dbnsfp-18.tsv\n",
        "2014-04-22 17:39:50 dbnsfp-export INFO  : Loading maps ...\r\n",
        "2014-04-22 17:39:51 dbnsfp-export INFO  : Opening /data/users/cperez/notebooks/data/dbNSFP/2.1/dbNSFPv2.1.zip ...\r\n",
        "2014-04-22 17:39:51 dbnsfp-export INFO  : Selected chromosomes: 18\r\n",
        "2014-04-22 17:39:51 dbnsfp-export INFO  : Output: /scratch/cperez/tmp/0n4E8s\r\n",
        "2014-04-22 17:39:51 dbnsfp-export INFO  : Reading chromosome 18 ...\r\n",
        "2014-04-22 17:42:03 dbnsfp-export INFO  :   >  1.335 M lines, 10445.9 lines/second\r\n",
        "2014-04-22 17:42:03 dbnsfp-export INFO  :   >> 1.335 M lines, 10119.8 lines/second\r\n",
        "2014-04-22 17:42:03 dbnsfp-export INFO  : Finished successfully. Elapsed time: 0:02:12.052492\r\n"
       ]
      },
      {
       "output_type": "stream",
       "stream": "stdout",
       "text": [
        ">>> /data/users/cperez/notebooks/fanns-perf/dbNSFP/dbnsfp-19.tsv\n",
        "2014-04-22 17:39:49 dbnsfp-export INFO  : Loading maps ...\r\n",
        "2014-04-22 17:39:50 dbnsfp-export INFO  : Opening /data/users/cperez/notebooks/data/dbNSFP/2.1/dbNSFPv2.1.zip ...\r\n",
        "2014-04-22 17:39:50 dbnsfp-export INFO  : Selected chromosomes: 19\r\n",
        "2014-04-22 17:39:50 dbnsfp-export INFO  : Output: /scratch/cperez/tmp/tewoXk\r\n",
        "2014-04-22 17:39:50 dbnsfp-export INFO  : Reading chromosome 19 ...\r\n",
        "2014-04-22 17:48:50 dbnsfp-export INFO  :   >  5.583 M lines, 10666.3 lines/second\r\n",
        "2014-04-22 17:48:50 dbnsfp-export INFO  :   >> 5.583 M lines, 10343.0 lines/second\r\n",
        "2014-04-22 17:48:50 dbnsfp-export INFO  : Finished successfully. Elapsed time: 0:09:00.389000\r\n"
       ]
      },
      {
       "output_type": "stream",
       "stream": "stdout",
       "text": [
        ">>> /data/users/cperez/notebooks/fanns-perf/dbNSFP/dbnsfp-20.tsv\n",
        "2014-04-22 17:39:50 dbnsfp-export INFO  : Loading maps ...\r\n",
        "2014-04-22 17:39:51 dbnsfp-export INFO  : Opening /data/users/cperez/notebooks/data/dbNSFP/2.1/dbNSFPv2.1.zip ...\r\n",
        "2014-04-22 17:39:51 dbnsfp-export INFO  : Selected chromosomes: 20\r\n",
        "2014-04-22 17:39:51 dbnsfp-export INFO  : Output: /scratch/cperez/tmp/WT9P8a\r\n",
        "2014-04-22 17:39:52 dbnsfp-export INFO  : Reading chromosome 20 ...\r\n",
        "2014-04-22 17:43:59 dbnsfp-export INFO  :   >  2.161 M lines, 9177.7 lines/second\r\n",
        "2014-04-22 17:43:59 dbnsfp-export INFO  :   >> 2.161 M lines, 8742.6 lines/second\r\n",
        "2014-04-22 17:43:59 dbnsfp-export INFO  : Finished successfully. Elapsed time: 0:04:07.546324\r\n"
       ]
      },
      {
       "output_type": "stream",
       "stream": "stdout",
       "text": [
        ">>> /data/users/cperez/notebooks/fanns-perf/dbNSFP/dbnsfp-21.tsv\n",
        "2014-04-22 17:39:50 dbnsfp-export INFO  : Loading maps ...\r\n",
        "2014-04-22 17:39:51 dbnsfp-export INFO  : Opening /data/users/cperez/notebooks/data/dbNSFP/2.1/dbNSFPv2.1.zip ...\r\n",
        "2014-04-22 17:39:51 dbnsfp-export INFO  : Selected chromosomes: 21\r\n",
        "2014-04-22 17:39:51 dbnsfp-export INFO  : Output: /scratch/cperez/tmp/IwYtcx\r\n",
        "2014-04-22 17:39:51 dbnsfp-export INFO  : Reading chromosome 21 ...\r\n",
        "2014-04-22 17:41:36 dbnsfp-export INFO  :   >  921.717 K lines, 9012.0 lines/second\r\n",
        "2014-04-22 17:41:36 dbnsfp-export INFO  :   >> 921.717 K lines, 8783.9 lines/second\r\n",
        "2014-04-22 17:41:36 dbnsfp-export INFO  : Finished successfully. Elapsed time: 0:01:45.048349\r\n"
       ]
      },
      {
       "output_type": "stream",
       "stream": "stdout",
       "text": [
        ">>> /data/users/cperez/notebooks/fanns-perf/dbNSFP/dbnsfp-22.tsv\n",
        "2014-04-22 17:39:50 dbnsfp-export INFO  : Loading maps ...\r\n",
        "2014-04-22 17:39:51 dbnsfp-export INFO  : Opening /data/users/cperez/notebooks/data/dbNSFP/2.1/dbNSFPv2.1.zip ...\r\n",
        "2014-04-22 17:39:51 dbnsfp-export INFO  : Selected chromosomes: 22\r\n",
        "2014-04-22 17:39:51 dbnsfp-export INFO  : Output: /scratch/cperez/tmp/SscLHb\r\n",
        "2014-04-22 17:39:51 dbnsfp-export INFO  : Reading chromosome 22 ...\r\n",
        "2014-04-22 17:44:01 dbnsfp-export INFO  :   >  1.938 M lines, 8169.1 lines/second\r\n",
        "2014-04-22 17:44:01 dbnsfp-export INFO  :   >> 1.938 M lines, 7761.0 lines/second\r\n",
        "2014-04-22 17:44:01 dbnsfp-export INFO  : Finished successfully. Elapsed time: 0:04:10.040336\r\n"
       ]
      },
      {
       "output_type": "stream",
       "stream": "stdout",
       "text": [
        ">>> /data/users/cperez/notebooks/fanns-perf/dbNSFP/dbnsfp-X.tsv\n",
        "2014-04-22 17:39:50 dbnsfp-export INFO  : Loading maps ...\r\n",
        "2014-04-22 17:39:51 dbnsfp-export INFO  : Opening /data/users/cperez/notebooks/data/dbNSFP/2.1/dbNSFPv2.1.zip ...\r\n",
        "2014-04-22 17:39:51 dbnsfp-export INFO  : Selected chromosomes: X\r\n",
        "2014-04-22 17:39:51 dbnsfp-export INFO  : Output: /scratch/cperez/tmp/dnEpWm\r\n",
        "2014-04-22 17:39:51 dbnsfp-export INFO  : Reading chromosome X ...\r\n",
        "2014-04-22 17:46:34 dbnsfp-export INFO  :   >  3.381 M lines, 8742.1 lines/second\r\n",
        "2014-04-22 17:46:34 dbnsfp-export INFO  :   >> 3.381 M lines, 8386.2 lines/second\r\n",
        "2014-04-22 17:46:35 dbnsfp-export INFO  : Finished successfully. Elapsed time: 0:06:43.689956\r\n"
       ]
      },
      {
       "output_type": "stream",
       "stream": "stdout",
       "text": [
        ">>> /data/users/cperez/notebooks/fanns-perf/dbNSFP/dbnsfp-Y.tsv\n",
        "2014-04-22 17:40:07 dbnsfp-export INFO  : Loading maps ...\r\n",
        "2014-04-22 17:40:08 dbnsfp-export INFO  : Opening /data/users/cperez/notebooks/data/dbNSFP/2.1/dbNSFPv2.1.zip ...\r\n",
        "2014-04-22 17:40:08 dbnsfp-export INFO  : Selected chromosomes: Y\r\n",
        "2014-04-22 17:40:08 dbnsfp-export INFO  : Output: /scratch/cperez/tmp/9oRy_I\r\n",
        "2014-04-22 17:40:08 dbnsfp-export INFO  : Reading chromosome Y ...\r\n",
        "2014-04-22 17:40:11 dbnsfp-export INFO  :   >  36.935 K lines, 13266.2 lines/second\r\n",
        "2014-04-22 17:40:11 dbnsfp-export INFO  :   >> 36.935 K lines, 11989.7 lines/second\r\n",
        "2014-04-22 17:40:11 dbnsfp-export INFO  : Finished successfully. Elapsed time: 0:00:03.085077\r\n"
       ]
      }
     ],
     "prompt_number": 28
    },
    {
     "cell_type": "code",
     "collapsed": false,
     "input": [
      "os.chdir(DBNSFP_PATH)\n",
      "print(\"{} tasks completed\".format(dbnsfp_amr.progress))\n",
      "for chrom in CHROMOSOMES:\n",
      "    filename = \"dbnsfp-{}.tsv.gz\".format(chrom)\n",
      "    logname = \"dbnsfp-{}.log\".format(chrom)\n",
      "    if os.path.exists(\"dbnsfp-{}.tsv.gz\".format(chrom)):\n",
      "        print(\"Chromosome {} completed\".format(chrom))\n",
      "    else:\n",
      "        print(\"Chromosome {} missing\".format(chrom))"
     ],
     "language": "python",
     "metadata": {},
     "outputs": [
      {
       "output_type": "stream",
       "stream": "stdout",
       "text": [
        "24 tasks completed\n",
        "Chromosome 1 completed\n",
        "Chromosome 2 completed\n",
        "Chromosome 3 completed\n",
        "Chromosome 4 completed\n",
        "Chromosome 5 completed\n",
        "Chromosome 6 completed\n",
        "Chromosome 7 completed\n",
        "Chromosome 8 completed\n",
        "Chromosome 9 completed\n",
        "Chromosome 10 completed\n",
        "Chromosome 11 completed\n",
        "Chromosome 12 completed\n",
        "Chromosome 13 completed\n",
        "Chromosome 14 completed\n",
        "Chromosome 15 completed\n",
        "Chromosome 16 completed\n",
        "Chromosome 17 completed\n",
        "Chromosome 18 completed\n",
        "Chromosome 19 completed\n",
        "Chromosome 20 completed\n",
        "Chromosome 21 completed\n",
        "Chromosome 22 completed\n",
        "Chromosome X completed\n",
        "Chromosome Y completed\n"
       ]
      }
     ],
     "prompt_number": 51
    },
    {
     "cell_type": "code",
     "collapsed": false,
     "input": [
      "fn = partial(dbnsfp_gzip, work_path=DBNSFP_PATH)\n",
      "dbnsfpg_amr = lb.map_async(fn, CHROMOSOMES)"
     ],
     "language": "python",
     "metadata": {},
     "outputs": [],
     "prompt_number": 44
    },
    {
     "cell_type": "code",
     "collapsed": false,
     "input": [
      "dbnsfpg_amr.progress"
     ],
     "language": "python",
     "metadata": {},
     "outputs": [
      {
       "metadata": {},
       "output_type": "pyout",
       "prompt_number": 50,
       "text": [
        "24"
       ]
      }
     ],
     "prompt_number": 50
    },
    {
     "cell_type": "heading",
     "level": 3,
     "metadata": {},
     "source": [
      "Import data into the MongoDB"
     ]
    },
    {
     "cell_type": "markdown",
     "metadata": {},
     "source": [
      "<span style=\"color:red\">**WARNING**: THIS REMOVES ALL THE DATA</span>\n",
      "\n",
      "Clean the indexes and the collection:"
     ]
    },
    {
     "cell_type": "code",
     "collapsed": false,
     "input": [
      "db = mongodb_from_uri(FANNSDB_URI)\n",
      "db.scores.drop_indexes()\n",
      "db.scores.drop()"
     ],
     "language": "python",
     "metadata": {},
     "outputs": [],
     "prompt_number": 26
    },
    {
     "cell_type": "markdown",
     "metadata": {},
     "source": [
      "Import the data:"
     ]
    },
    {
     "cell_type": "code",
     "collapsed": false,
     "input": [
      "%%px --local\n",
      "def dbnsfp_updatedb(chrom, dbnsfp_path, db_uri):\n",
      "    import gzip\n",
      "    from pymongo import MongoClient\n",
      "    db = mongodb_from_uri(db_uri)\n",
      "    db.connnection.write_concern.update(dict(j=False))\n",
      "    scores = db.scores\n",
      "    #scores.remove({\"chr\" : chrom}, w=1)\n",
      "    with gzip.open(os.path.join(dbnsfp_path, \"dbnsfp-{}.tsv\".format(chrom))) as f:\n",
      "        hdr = f.readline().rstrip(\"\\n\").split(\"\\t\")\n",
      "        hdr_index = dict([(name, i) for i, name in enumerate(hdr)])\n",
      "        for i, line in enumerate(f, start=1):\n",
      "            fields = line.rstrip(\"\\n\").split(\"\\t\")\n",
      "            (ch, strand, start, ref, alt, trs,\n",
      "             protein, aa_pos, aa_ref, aa_alt) = fields[0:10]\n",
      "            start = int(start)\n",
      "            aa_pos = int(aa_pos)\n",
      "            doc = dict(\n",
      "                g=dict(c=ch, d=strand, s=start, r=ref, a=alt, t=trs),\n",
      "                p=dict(n=protein, p=aa_pos, r=aa_ref, a=aa_alt))\n",
      "            doc.update(s=dict(\n",
      "                [(pred, float(score)) for pred, score in zip(hdr[10:], fields[10:]) if len(score) > 0]))\n",
      "            scores.insert(doc, w=1 if i % 1000 == 0 else 0)\n",
      "    return chrom"
     ],
     "language": "python",
     "metadata": {},
     "outputs": [],
     "prompt_number": 54
    },
    {
     "cell_type": "markdown",
     "metadata": {},
     "source": [
      "Serial version:"
     ]
    },
    {
     "cell_type": "code",
     "collapsed": false,
     "input": [
      "def dbnsfp_update_all():\n",
      "    from functools import partial\n",
      "    fn = partial(dbnsfp_updatedb, dbnsfp_path=DBNSFP_PATH, db_uri=FANNSDB_URI)\n",
      "    for chrom in CHROMOSOMES:\n",
      "        logger.info(\"Importing chromosome {} ...\".format(chrom))\n",
      "        fn(chrom)\n",
      "\n",
      "dbnsfp_update_ar = lb.apply(dbnsfp_update_all)"
     ],
     "language": "python",
     "metadata": {},
     "outputs": [],
     "prompt_number": 55
    },
    {
     "cell_type": "code",
     "collapsed": false,
     "input": [
      "display_task(client, dbnsfp_update_ar)"
     ],
     "language": "python",
     "metadata": {},
     "outputs": [
      {
       "output_type": "stream",
       "stream": "stdout",
       "text": [
        "2014-02-20 14:06:35.177953 Importing chromosome 1 ...\n",
        "2014-02-20 15:21:54.801488 Importing chromosome 2 ...\n",
        "2014-02-20 16:25:28.141927 Importing chromosome 3 ...\n",
        "2014-02-20 17:14:05.813133 Importing chromosome 4 ...\n",
        "2014-02-20 17:44:31.745484 Importing chromosome 5 ...\n",
        "2014-02-20 18:20:12.058627 Importing chromosome 6 ...\n",
        "2014-02-20 19:01:23.311074 Importing chromosome 7 ...\n",
        "2014-02-20 19:39:36.609704 Importing chromosome 8 ...\n",
        "2014-02-20 20:09:53.786311 Importing chromosome 9 ...\n",
        "2014-02-20 20:40:14.226543 Importing chromosome 10 ...\n",
        "2014-02-20 21:11:22.420602 Importing chromosome 11 ...\n",
        "2014-02-20 21:55:32.860734 Importing chromosome 12 ...\n",
        "2014-02-20 22:44:14.764655 Importing chromosome 13 ...\n",
        "2014-02-20 22:56:48.718271 Importing chromosome 14 ...\n",
        "2014-02-20 23:22:35.675942 Importing chromosome 15 ...\n",
        "2014-02-20 23:43:06.186136 Importing chromosome 16 ...\n",
        "2014-02-21 00:09:36.932520 Importing chromosome 17 ...\n",
        "2014-02-21 00:44:18.340776 Importing chromosome 18 ...\n",
        "2014-02-21 00:53:14.445864 Importing chromosome 19 ...\n",
        "2014-02-21 01:29:12.529816 Importing chromosome 20 ...\n",
        "2014-02-21 01:46:01.311531 Importing chromosome 21 ...\n",
        "2014-02-21 01:53:47.814859 Importing chromosome 22 ...\n",
        "2014-02-21 02:09:45.760736 Importing chromosome X ...\n",
        "2014-02-21 02:36:26.044048 Importing chromosome Y ...\n",
        "\n"
       ]
      }
     ],
     "prompt_number": 99
    },
    {
     "cell_type": "code",
     "collapsed": false,
     "input": [
      "dbnsfp_update_ar.wait()"
     ],
     "language": "python",
     "metadata": {},
     "outputs": []
    },
    {
     "cell_type": "markdown",
     "metadata": {},
     "source": [
      "Parallel version:"
     ]
    },
    {
     "cell_type": "code",
     "collapsed": false,
     "input": [
      "fn = partial(dbnsfp_updatedb, dbnsfp_path=DBNSFP_PATH, db_uri=FANNSDB_URI)\n",
      "dbnsfp_updatedb_amr = lb.map(fn, CHROMOSOMES)"
     ],
     "language": "python",
     "metadata": {},
     "outputs": [],
     "prompt_number": 9
    },
    {
     "cell_type": "code",
     "collapsed": false,
     "input": [
      "display_task(client, dbnsfp_updatedb_amr)"
     ],
     "language": "python",
     "metadata": {},
     "outputs": []
    },
    {
     "cell_type": "markdown",
     "metadata": {},
     "source": [
      "Create the indexes:"
     ]
    },
    {
     "cell_type": "code",
     "collapsed": false,
     "input": [
      "def create_scores_indexes():\n",
      "    logger.info(\"Creating indexes ...\")\n",
      "    db = mongodb_from_uri(FANNSDB[\"uri\"])\n",
      "    scores = db.scores\n",
      "    scores.ensure_index([(\"g.c\", 1), (\"g.s\", 1), (\"g.r\", 1), (\"g.a\", 1), (\"g.d\", 1), (\"g.t\",1)], name=\"genomic\")\n",
      "    #scores.ensure_index([(\"p.n\", 1), (\"p.s\", 1), (\"p.r\", 1), (\"p.a\", 1)], name=\"protein\")\n",
      "    logger.info(\"Finished\")\n",
      "\n",
      "csi_ar = lb.apply(create_scores_indexes)"
     ],
     "language": "python",
     "metadata": {},
     "outputs": []
    },
    {
     "cell_type": "code",
     "collapsed": false,
     "input": [
      "display_task(client, csi_ar)"
     ],
     "language": "python",
     "metadata": {},
     "outputs": [
      {
       "output_type": "stream",
       "stream": "stdout",
       "text": [
        ">>> create_scores_indexes() [8ac3bc81-28a3-462a-808a-047107342bde]\n",
        "\n",
        "Submitted: 2014-02-21 16:44:49, Started: 16:44:49, Completed: 17:41:17, Received: 17:41:17\n",
        "\n",
        "[stdout]\n",
        "2014-02-21 16:44:49.609832 Creating indexes ...\n",
        "2014-02-21 17:41:17.485233 Finished\n",
        "\n"
       ]
      }
     ],
     "prompt_number": 178
    },
    {
     "cell_type": "markdown",
     "metadata": {},
     "source": [
      "Create a new collection with all the genomic coordinates:"
     ]
    },
    {
     "cell_type": "code",
     "collapsed": false,
     "input": [
      "def create_gcoord():\n",
      "    logger.info(\"Creating gcoord collection ...\")\n",
      "    db = mongodb_from_uri(FANNSDB[\"uri\"])\n",
      "    m = \"\"\"\n",
      "    function() {\n",
      "        g=this.g;\n",
      "        emit({\"c\" : g.c, \"s\" : g.s, \"r\" : g.r, \"a\" : g.a, \"d\" : g.d}, 1);\n",
      "    }\n",
      "    \"\"\"\n",
      "    r = \"\"\"\n",
      "    function(k, vs) {\n",
      "        return Array.sum(vs);\n",
      "    }\n",
      "    \"\"\"\n",
      "    db.scores.map_reduce(m ,r, {\"replace\" : \"gcoord\"})\n",
      "    logger.info(\"Finished\")\n",
      "\n",
      "cg_ar = lb.apply(create_gcoord)"
     ],
     "language": "python",
     "metadata": {},
     "outputs": []
    },
    {
     "cell_type": "heading",
     "level": 3,
     "metadata": {},
     "source": [
      "Update scores (optional)"
     ]
    },
    {
     "cell_type": "code",
     "collapsed": false,
     "input": [
      "%%px --local\n",
      "def dbnsfp_updatedb2(chrom, dbnsfp_path, db_uri, predictors=None):\n",
      "    import gzip\n",
      "    from pymongo import MongoClient\n",
      "    db = mongodb_from_uri(db_uri)\n",
      "    db.connnection.write_concern.update(dict(j=False))\n",
      "    scores = db.scores\n",
      "    with gzip.open(os.path.join(dbnsfp_path, \"dbnsfp-{}.tsv.gz\".format(chrom))) as f:\n",
      "        hdr = f.readline().rstrip(\"\\n\").split(\"\\t\")\n",
      "        hdr_index = dict([(name, i) for i, name in enumerate(hdr)])\n",
      "        if predictors is None:\n",
      "            predictors = set(hdr[10:])\n",
      "        else:\n",
      "            predictors = set(predictors)\n",
      "\n",
      "        for i, line in enumerate(f, start=1):\n",
      "            fields = line.rstrip(\"\\n\").split(\"\\t\")\n",
      "            (ch, strand, start, ref, alt, trs,\n",
      "             protein, aa_pos, aa_ref, aa_alt) = fields[0:10]\n",
      "            start = int(start)\n",
      "            aa_pos = int(aa_pos)\n",
      "            \n",
      "            k = {\"g.c\" : ch, \"g.d\" : strand, \"g.s\" : start, \"g.r\" : ref, \"g.a\" : alt, \"g.t\" : trs}\n",
      "            \n",
      "            s = {\"s.\" + pred : float(score) for pred, score in zip(hdr[10:], fields[10:]) if len(score) > 0 and pred in predictors}\n",
      "            \n",
      "            if len(s) > 0:\n",
      "                scores.update(k, {\"$set\" : s}, multi=True, w=1 if i % 1000 == 0 else 0)\n",
      "                #logger.info(\"{} -> {}\".format(k, {\"$set\" : s}))\n",
      "\n",
      "    return chrom"
     ],
     "language": "python",
     "metadata": {},
     "outputs": [],
     "prompt_number": 72
    },
    {
     "cell_type": "code",
     "collapsed": false,
     "input": [
      "fn = partial(dbnsfp_updatedb2, dbnsfp_path=DBNSFP_PATH, db_uri=FANNSDB_URI, predictors=[\"GERPRS\", \"PHYLOP\"])\n",
      "dbnsfp_updatedb_amr = lb.map_async(fn, CHROMOSOMES)"
     ],
     "language": "python",
     "metadata": {},
     "outputs": [],
     "prompt_number": 73
    },
    {
     "cell_type": "code",
     "collapsed": false,
     "input": [
      "dbnsfp_updatedb_amr.progress"
     ],
     "language": "python",
     "metadata": {},
     "outputs": [
      {
       "metadata": {},
       "output_type": "pyout",
       "prompt_number": 93,
       "text": [
        "24"
       ]
      }
     ],
     "prompt_number": 93
    },
    {
     "cell_type": "code",
     "collapsed": false,
     "input": [
      "display_task(client, dbnsfp_updatedb_amr)"
     ],
     "language": "python",
     "metadata": {},
     "outputs": [
      {
       "output_type": "stream",
       "stream": "stdout",
       "text": [
        "[0] [e486b958-cc46-47ad-ac2d-e441eff81033]\n",
        "\n",
        "Submitted: 2014-04-22 19:08:38, Started: 19:08:38, Completed: 2014-04-24 09:48:30, Received: 09:48:32\n",
        "[return]\n"
       ]
      },
      {
       "metadata": {},
       "output_type": "display_data",
       "text": [
        "'1'"
       ]
      },
      {
       "output_type": "stream",
       "stream": "stdout",
       "text": [
        "()\n",
        "[1] [d7b44126-210f-4717-b771-0147abc26982]\n",
        "\n",
        "Submitted: 2014-04-22 19:08:38, Started: 19:08:38, Completed: 2014-04-24 08:20:48, Received: 08:20:49\n",
        "[return]\n"
       ]
      },
      {
       "metadata": {},
       "output_type": "display_data",
       "text": [
        "'2'"
       ]
      },
      {
       "output_type": "stream",
       "stream": "stdout",
       "text": [
        "()\n",
        "[2] [bc168d5e-f186-4f96-a166-e35a7480b15a]\n",
        "\n",
        "Submitted: 2014-04-22 19:08:38, Started: 19:08:38, Completed: 2014-04-24 07:07:51, Received: 07:07:53\n",
        "[return]\n"
       ]
      },
      {
       "metadata": {},
       "output_type": "display_data",
       "text": [
        "'3'"
       ]
      },
      {
       "output_type": "stream",
       "stream": "stdout",
       "text": [
        "()\n",
        "[3] [22a8e010-514b-46a3-937b-6b9c2fe4f54f]\n",
        "\n",
        "Started: 2014-04-22 19:08:38, Completed: 2014-04-24 02:09:01, Received: 02:09:02\n",
        "[return]\n"
       ]
      },
      {
       "metadata": {},
       "output_type": "display_data",
       "text": [
        "'4'"
       ]
      },
      {
       "output_type": "stream",
       "stream": "stdout",
       "text": [
        "()\n",
        "[4] [2b49b1cb-91c4-4481-811c-a5fc78bd0542]\n",
        "\n",
        "Started: 2014-04-22 19:08:38, Completed: 2014-04-24 04:01:51, Received: 04:01:52\n",
        "[return]\n"
       ]
      },
      {
       "metadata": {},
       "output_type": "display_data",
       "text": [
        "'5'"
       ]
      },
      {
       "output_type": "stream",
       "stream": "stdout",
       "text": [
        "()\n",
        "[5] [3e652126-dd57-4416-b167-82d9e60faf22]\n",
        "\n",
        "Started: 2014-04-22 19:08:38, Completed: 2014-04-24 05:51:42, Received: 05:51:44\n",
        "[return]\n"
       ]
      },
      {
       "metadata": {},
       "output_type": "display_data",
       "text": [
        "'6'"
       ]
      },
      {
       "output_type": "stream",
       "stream": "stdout",
       "text": [
        "()\n",
        "[6] [b6af45f7-0b85-48c4-ae9c-da4410bdb1c4]\n",
        "\n",
        "Started: 2014-04-22 19:08:37, Completed: 2014-04-24 04:33:03, Received: 04:33:06\n",
        "[return]\n"
       ]
      },
      {
       "metadata": {},
       "output_type": "display_data",
       "text": [
        "'7'"
       ]
      },
      {
       "output_type": "stream",
       "stream": "stdout",
       "text": [
        "()\n",
        "[7] [2b26fdd0-855e-4845-aaa3-bc7490ea76bc]\n",
        "\n",
        "Started: 2014-04-22 19:08:38, Completed: 2014-04-23 23:20:31, Received: 23:20:33\n",
        "[return]\n"
       ]
      },
      {
       "metadata": {},
       "output_type": "display_data",
       "text": [
        "'8'"
       ]
      },
      {
       "output_type": "stream",
       "stream": "stdout",
       "text": [
        "()\n",
        "[8] [8c2c024c-8a6f-4b96-ba28-c7b15ad89f0d]\n",
        "\n",
        "Started: 2014-04-22 19:08:37, Completed: 2014-04-24 02:51:08, Received: 02:51:11\n",
        "[return]\n"
       ]
      },
      {
       "metadata": {},
       "output_type": "display_data",
       "text": [
        "'9'"
       ]
      },
      {
       "output_type": "stream",
       "stream": "stdout",
       "text": [
        "()\n",
        "[9] [ee9afb3e-b7e9-497b-9dc3-fbd403b1c474]\n",
        "\n",
        "Started: 2014-04-22 19:08:38, Completed: 2014-04-24 03:01:38, Received: 03:01:40\n",
        "[return]\n"
       ]
      },
      {
       "metadata": {},
       "output_type": "display_data",
       "text": [
        "'10'"
       ]
      },
      {
       "output_type": "stream",
       "stream": "stdout",
       "text": [
        "()\n",
        "[10] [48abbd3e-c4dc-4699-be6e-c8ce7acdfc06]\n",
        "\n",
        "Started: 2014-04-22 19:08:38, Completed: 2014-04-24 07:05:38, Received: 07:05:40\n",
        "[return]\n"
       ]
      },
      {
       "metadata": {},
       "output_type": "display_data",
       "text": [
        "'11'"
       ]
      },
      {
       "output_type": "stream",
       "stream": "stdout",
       "text": [
        "()\n",
        "[11] [bb5af965-0478-4ad8-bcf5-ff7aaac2ac60]\n",
        "\n",
        "Started: 2014-04-22 19:08:38, Completed: 2014-04-24 06:48:27, Received: 06:48:29\n",
        "[return]\n"
       ]
      },
      {
       "metadata": {},
       "output_type": "display_data",
       "text": [
        "'12'"
       ]
      },
      {
       "output_type": "stream",
       "stream": "stdout",
       "text": [
        "()\n",
        "[12] [f3b15c65-985f-41d1-a508-0cea30a8ba03]\n",
        "\n",
        "Started: 2014-04-22 19:08:37, Completed: 2014-04-23 09:47:02, Received: 09:47:04\n",
        "[return]\n"
       ]
      },
      {
       "metadata": {},
       "output_type": "display_data",
       "text": [
        "'13'"
       ]
      },
      {
       "output_type": "stream",
       "stream": "stdout",
       "text": [
        "()\n",
        "[13] [b11b0408-6868-45a3-990c-24091a5296a4]\n",
        "\n",
        "Started: 2014-04-22 19:08:37, Completed: 2014-04-23 23:06:50, Received: 23:06:53\n",
        "[return]\n"
       ]
      },
      {
       "metadata": {},
       "output_type": "display_data",
       "text": [
        "'14'"
       ]
      },
      {
       "output_type": "stream",
       "stream": "stdout",
       "text": [
        "()\n",
        "[14] [50b875ad-b738-4fc0-b839-f5a71367d888]\n",
        "\n",
        "Started: 2014-04-22 19:08:38, Completed: 2014-04-23 17:10:33, Received: 17:10:34\n",
        "[return]\n"
       ]
      },
      {
       "metadata": {},
       "output_type": "display_data",
       "text": [
        "'15'"
       ]
      },
      {
       "output_type": "stream",
       "stream": "stdout",
       "text": [
        "()\n",
        "[15] [a83323e2-cbca-4bc4-afaa-281e01aca73d]\n",
        "\n",
        "Started: 2014-04-22 19:08:38, Completed: 2014-04-23 21:20:04, Received: 21:20:05\n",
        "[return]\n"
       ]
      },
      {
       "metadata": {},
       "output_type": "display_data",
       "text": [
        "'16'"
       ]
      },
      {
       "output_type": "stream",
       "stream": "stdout",
       "text": [
        "()\n",
        "[16] [b97a7cad-8e11-4aca-9830-115ad64bcde8]\n",
        "\n",
        "Started: 2014-04-22 19:08:37, Completed: 2014-04-24 04:39:13, Received: 04:39:16\n",
        "[return]\n"
       ]
      },
      {
       "metadata": {},
       "output_type": "display_data",
       "text": [
        "'17'"
       ]
      },
      {
       "output_type": "stream",
       "stream": "stdout",
       "text": [
        "()\n",
        "[17] [dc52b432-d7c8-40b3-9477-85a01649389b]\n",
        "\n",
        "Started: 2014-04-22 19:08:38, Completed: 2014-04-23 06:27:57, Received: 06:27:58\n",
        "[return]\n"
       ]
      },
      {
       "metadata": {},
       "output_type": "display_data",
       "text": [
        "'18'"
       ]
      },
      {
       "output_type": "stream",
       "stream": "stdout",
       "text": [
        "()\n",
        "[18] [e4c0c80c-c9cc-4440-81f3-44495d420b9f]\n",
        "\n",
        "Started: 2014-04-22 19:08:38, Completed: 2014-04-24 04:55:28, Received: 04:55:29\n",
        "[return]\n"
       ]
      },
      {
       "metadata": {},
       "output_type": "display_data",
       "text": [
        "'19'"
       ]
      },
      {
       "output_type": "stream",
       "stream": "stdout",
       "text": [
        "()\n",
        "[19] [bd25b86e-efc8-4b64-ae9d-3e59be75a8fc]\n",
        "\n",
        "Started: 2014-04-22 19:08:38, Completed: 2014-04-23 14:26:25, Received: 14:26:26\n",
        "[return]\n"
       ]
      },
      {
       "metadata": {},
       "output_type": "display_data",
       "text": [
        "'20'"
       ]
      },
      {
       "output_type": "stream",
       "stream": "stdout",
       "text": [
        "()\n",
        "[20] [f61410a4-916f-4cec-a215-94bfae3c048f]\n",
        "\n",
        "Started: 2014-04-22 19:08:38, Completed: 2014-04-23 05:18:35, Received: 05:18:35\n",
        "[return]\n"
       ]
      },
      {
       "metadata": {},
       "output_type": "display_data",
       "text": [
        "'21'"
       ]
      },
      {
       "output_type": "stream",
       "stream": "stdout",
       "text": [
        "()\n",
        "[21] [656cf46e-279a-415a-b95c-d501a14cc6ac]\n",
        "\n",
        "Started: 2014-04-22 19:08:38, Completed: 2014-04-23 13:43:43, Received: 13:43:44\n",
        "[return]\n"
       ]
      },
      {
       "metadata": {},
       "output_type": "display_data",
       "text": [
        "'22'"
       ]
      },
      {
       "output_type": "stream",
       "stream": "stdout",
       "text": [
        "()\n",
        "[22] [29197a83-f5c5-4088-9894-4700bf1dc3f6]\n",
        "\n",
        "Started: 2014-04-22 19:08:38, Completed: 2014-04-24 00:38:04, Received: 00:38:06\n",
        "[return]\n"
       ]
      },
      {
       "metadata": {},
       "output_type": "display_data",
       "text": [
        "'X'"
       ]
      },
      {
       "output_type": "stream",
       "stream": "stdout",
       "text": [
        "()\n",
        "[23] [dd95e788-1235-4653-ad9f-416b7cb4731f]\n",
        "\n",
        "Started: 2014-04-22 19:08:38, Completed: 19:16:14, Received: 19:16:14\n",
        "[return]\n"
       ]
      },
      {
       "metadata": {},
       "output_type": "display_data",
       "text": [
        "'Y'"
       ]
      }
     ],
     "prompt_number": 94
    },
    {
     "cell_type": "code",
     "collapsed": false,
     "input": [
      "dbnsfp_updatedb_amr.wait()"
     ],
     "language": "python",
     "metadata": {},
     "outputs": []
    },
    {
     "cell_type": "heading",
     "level": 2,
     "metadata": {},
     "source": [
      "CADD"
     ]
    },
    {
     "cell_type": "markdown",
     "metadata": {},
     "source": [
      "From http://cadd.gs.washington.edu/\n",
      "\n",
      "Citation:\n",
      "\n",
      "Kircher M, Witten DM, Jain P, O'Roak BJ, Cooper GM, Shendure J. A general framework for estimating the relative pathogenicity of human genetic variants. Nat Genet. 2014 Feb 2. doi: 10.1038/ng.2892. PubMed PMID: [24487276](http://www.ncbi.nlm.nih.gov/pubmed/24487276)"
     ]
    },
    {
     "cell_type": "heading",
     "level": 3,
     "metadata": {},
     "source": [
      "Export only the exome"
     ]
    },
    {
     "cell_type": "markdown",
     "metadata": {},
     "source": [
      "There is too much information in the source CADD file, so we will extract C-Scores for the exome only."
     ]
    },
    {
     "cell_type": "markdown",
     "metadata": {},
     "source": [
      "Synchronize the CADD files into the scratch zone for all the nodes executing engines, this will speed up the queries with Tabix."
     ]
    },
    {
     "cell_type": "code",
     "collapsed": false,
     "input": [
      "def rsync_cadd(src_path, tmp_path):\n",
      "    if tmp_path[-1] != \"/\":\n",
      "        tmp_path += \"/\"\n",
      "\n",
      "    !rsync -av $src_path* $tmp_path\n",
      "    \n",
      "    import socket\n",
      "    return socket.gethostname()\n",
      "    \n",
      "targets = [t[0] for t in node_targets(dv).values()]\n",
      "rsync_cadd_ar = client[targets].apply_async(rsync_cadd, CADD_SRC_PATH, os.path.dirname(CADD_SCRATCH_SRC_PATH))"
     ],
     "language": "python",
     "metadata": {},
     "outputs": [],
     "prompt_number": 98
    },
    {
     "cell_type": "code",
     "collapsed": false,
     "input": [
      "display_task(client, rsync_cadd_ar)"
     ],
     "language": "python",
     "metadata": {},
     "outputs": []
    },
    {
     "cell_type": "code",
     "collapsed": false,
     "input": [
      "%%px --local\n",
      "def extract_exons(exons_path, out_path, cadd_path, temp_path=None, overwrite=False):\n",
      "    if not os.path.exists(cadd_path):\n",
      "        raise Exception(\"CADD source file not found on {}\".format(cadd_path))\n",
      "    \n",
      "    if os.path.exists(out_path) and not overwrite:\n",
      "        return out_path\n",
      "    \n",
      "    from pysam import Tabixfile, tabix_compress, tabix_index\n",
      "    tbx = Tabixfile(cadd_path)\n",
      "    \n",
      "    tmp_path = temp_file(temp_path).name\n",
      "    \n",
      "    from sys import stdout\n",
      "    from datetime import datetime\n",
      "    with open(exons_path) as ef, open(tmp_path, \"w\") as of:\n",
      "        last_end = 0 # to avoid overlapping exons\n",
      "        start_time = datetime.now()\n",
      "        for line in ef:\n",
      "            chrom, start, end, exon = line.rstrip(\"\\n\").split(\"\\t\")\n",
      "            start = max(last_end, int(start))\n",
      "            end = int(end)\n",
      "            if start >= end:\n",
      "                continue\n",
      "            last_end = end\n",
      "            #stdout.write(\"Extracting exon {} on chr {} from {} to {} ...\".format(exon, chrom, start, end))\n",
      "            #num_lines = 0\n",
      "            for cadd_line in tbx.fetch(chrom, start - 1, end - 1):\n",
      "                of.write(cadd_line + \"\\n\")\n",
      "                #num_lines += 1\n",
      "            #stdout.write(\" {} rows, elapsed {}\\n\".format(num_lines, datetime.now() - start_time))\n",
      "            #stdout.flush()\n",
      "    \n",
      "    tabix_compress(tmp_path, out_path, force=True)\n",
      "    tabix_index(out_path, force=True, seq_col=0, start_col=1, end_col=1)\n",
      "    os.remove(tmp_path)\n",
      "    \n",
      "    return out_path"
     ],
     "language": "python",
     "metadata": {},
     "outputs": []
    },
    {
     "cell_type": "code",
     "collapsed": false,
     "input": [
      "if not os.path.exists(CADD_PATH):\n",
      "    os.makedirs(CADD_PATH)\n",
      "\n",
      "exons_path = os.path.join(WORK_PATH, \"exons\")\n",
      "fn = lambda args: extract_exons(*args, cadd_path=CADD_SCRATCH_SRC_PATH, temp_path=TMP_PATH)\n",
      "data = [(\n",
      "    os.path.join(exons_path, \"exons-{}.tsv\".format(ch)),\n",
      "    os.path.join(CADD_PATH, \"cadd-{}.tsv.gz\".format(ch))) for ch in CHROMOSOMES]\n",
      "exons_amr = lb.map(fn, data)"
     ],
     "language": "python",
     "metadata": {},
     "outputs": [],
     "prompt_number": 8
    },
    {
     "cell_type": "heading",
     "level": 3,
     "metadata": {},
     "source": [
      "Import data into the MongoDB"
     ]
    },
    {
     "cell_type": "code",
     "collapsed": false,
     "input": [
      "%%px --local\n",
      "def cadd_updatedb(chrom, base_path, db_uri):\n",
      "    import gzip\n",
      "    \n",
      "    with Task(db_uri, \"cadd\", chrom) as task:\n",
      "        db = mongodb_from_uri(db_uri)\n",
      "        db.connection.write_concern.update(dict(j=False))\n",
      "        scores = db.scores\n",
      "        i = 0\n",
      "\n",
      "        with gzip.open(os.path.join(base_path, \"cadd-{}.tsv.gz\".format(chrom))) as f:\n",
      "            task.logger.info(\"Importing chromosome {} ...\".format(chrom))\n",
      "            for i, line in enumerate(f, start=1):\n",
      "                fields = line.rstrip(\"\\n\").split(\"\\t\")\n",
      "                ch, start, ref, alt, cscore = fields[0:5]\n",
      "                scores.update({\"g.c\" : ch, \"g.s\" : int(start), \"g.r\" : ref, \"g.a\" : alt},\n",
      "                              {\"$set\" : {\"s.CSCORE\" : float(cscore)}},\n",
      "                              multi=True, w=1 if i % 10000 == 0 else 0)\n",
      "\n",
      "                if i % 100000 == 0:\n",
      "                    task.progress(i, \"{} scores updated\".format(i))\n",
      "\n",
      "        updated_rows = scores.find({\"g.c\" : chrom, \"s.CSCORE\" : {\"$exists\" : True}}).count()\n",
      "\n",
      "        task.logger.info(\"read_rows = {}, updates = {}\".format(i, updated_rows))\n",
      "\n",
      "        task.metadata(read_rows=i, updated_rows=updated_rows,\n",
      "                      updated_rows_pct=updated_rows * 100.0 / float(i))"
     ],
     "language": "python",
     "metadata": {},
     "outputs": [],
     "prompt_number": 161
    },
    {
     "cell_type": "markdown",
     "metadata": {},
     "source": [
      "The following cell is for testing purposes:"
     ]
    },
    {
     "cell_type": "code",
     "collapsed": false,
     "input": [
      "fn = partial(cadd_updatedb, base_path=CADD_PATH, db_uri=FANNSDB_URI)\n",
      "cadd_updatedb_amr = lb.map(fn, [\"1\", \"2\"])"
     ],
     "language": "python",
     "metadata": {},
     "outputs": [],
     "prompt_number": 171
    },
    {
     "cell_type": "code",
     "collapsed": false,
     "input": [
      "fn = partial(cadd_updatedb, base_path=CADD_PATH, db_uri=FANNSDB_URI)\n",
      "cadd_updatedb_amr = lb.map(fn, CHROMOSOMES)"
     ],
     "language": "python",
     "metadata": {},
     "outputs": [],
     "prompt_number": 162
    },
    {
     "cell_type": "code",
     "collapsed": false,
     "input": [
      "cadd_updatedb_amr.wait()"
     ],
     "language": "python",
     "metadata": {},
     "outputs": []
    },
    {
     "cell_type": "code",
     "collapsed": false,
     "input": [
      "display_task(client, cadd_updatedb_amr)"
     ],
     "language": "python",
     "metadata": {},
     "outputs": []
    },
    {
     "cell_type": "heading",
     "level": 2,
     "metadata": {},
     "source": [
      "CHASM"
     ]
    },
    {
     "cell_type": "markdown",
     "metadata": {},
     "source": [
      "As a simplification, only the CHASM scores for the SNVs in the test datasets have been calculated. The results are expected to be in a single file at *CHASM_SCORES_PATH*."
     ]
    },
    {
     "cell_type": "heading",
     "level": 3,
     "metadata": {},
     "source": [
      "Import the scores into the MongoDb"
     ]
    },
    {
     "cell_type": "code",
     "collapsed": false,
     "input": [
      "!head $CHASM_SCORES_PATH"
     ],
     "language": "python",
     "metadata": {},
     "outputs": [
      {
       "output_type": "stream",
       "stream": "stdout",
       "text": [
        "MutationID\tMutation\tCHASM\tPValue\tBHFDR\r\n",
        "1\tENSP00000000233_R117W\t0.650\t0.4789\t0.80\r\n",
        "2\tENSP00000000233_A125S\t0.698\t0.6178\t0.85\r\n",
        "3\tENSP00000000233_P135S\t0.630\t0.4204\t0.75\r\n",
        "4\tENSP00000000233_V136L\t0.730\t0.7104\t0.90\r\n",
        "5\tENSP00000000233_V155F\t0.468\t0.1015\t0.55\r\n",
        "6\tENSP00000000233_V155I\t0.542\t0.2082\t0.60\r\n",
        "7\tENSP00000000233_W172L\t0.530\t0.1865\t0.60\r\n",
        "8\tENSP00000000233_R180C\t0.568\t0.2609\t0.65\r\n",
        "9\tENSP00000000233_R180H\t0.546\t0.2164\t0.60\r\n"
       ]
      }
     ],
     "prompt_number": 96
    },
    {
     "cell_type": "code",
     "collapsed": false,
     "input": [
      "def chasm_updatedb(path, db_uri, chasm_key=\"CHASM\"):\n",
      "    import re\n",
      "    \n",
      "    with Task(db_uri, \"chasm-update\", os.path.basename(path)) as task:\n",
      "    \n",
      "        db = mongodb_from_uri(db_uri)\n",
      "        scores = db.scores\n",
      "\n",
      "        task.logger.info(\"Importing CHASM scores from {} ...\".format(path))\n",
      "    \n",
      "        hits = fails = 0\n",
      "        \n",
      "        with open(path) as f:\n",
      "            mut_re = re.compile(r\"(.+)_([A-Z])(\\d+)([A-Z])\")\n",
      "            for line in f:\n",
      "                fields = line.rstrip(\"\\n\").split(\"\\t\")\n",
      "                m = mut_re.match(fields[1])\n",
      "                if not m:\n",
      "                    #logger.info(\"Mutation not matched: {}\".format(fields[1]))\n",
      "                    fails += 1\n",
      "                    continue\n",
      "                hits += 1\n",
      "                protein, ref, pos, alt = m.groups()\n",
      "                scores.update({\"p.n\" : protein, \"p.p\" : int(pos), \"p.r\" : ref, \"p.a\" : alt},\n",
      "                              {\"$set\" : {\"s.\" + chasm_key : float(fields[2])}},\n",
      "                              multi=True, w=1 if hits % 1000 == 0 else 0)\n",
      "\n",
      "                if hits % 10000 == 0:\n",
      "                    task.progress(hits, \"{} scores updated, {} failed\".format(hits, fails))\n",
      "\n",
      "        task.logger.info(\"Done. {} scores updated, {} failed\".format(hits, fails))\n",
      "\n",
      "        task.metadata(hits=hits, fails=fails)"
     ],
     "language": "python",
     "metadata": {},
     "outputs": [],
     "prompt_number": 9
    },
    {
     "cell_type": "code",
     "collapsed": false,
     "input": [
      "chasm_updatedb(CHASM_SCORES_PATH, db_uri=FANNSDB_URI, chasm_key=\"CHASM\")"
     ],
     "language": "python",
     "metadata": {},
     "outputs": [
      {
       "output_type": "stream",
       "stream": "stdout",
       "text": [
        "2014-04-28 12:57:33 root       [INFO   ] Task chasm-update/chasm-scores2.tsv started on host node6\n"
       ]
      },
      {
       "output_type": "stream",
       "stream": "stdout",
       "text": [
        "2014-04-28 12:57:33 root       [INFO   ] Importing CHASM scores from /data/users/cperez/notebooks/fanns-perf/chasm-scores2.tsv ...\n"
       ]
      },
      {
       "output_type": "stream",
       "stream": "stdout",
       "text": [
        "2014-04-28 13:17:01 root       [INFO   ] Done. 774229 scores updated, 1 failed\n"
       ]
      }
     ],
     "prompt_number": 98
    },
    {
     "cell_type": "code",
     "collapsed": false,
     "input": [
      "chasm_updatedb(CHASM3_SCORES_PATH, db_uri=FANNSDB_URI, chasm_key=\"CHASM3\")"
     ],
     "language": "python",
     "metadata": {},
     "outputs": [
      {
       "output_type": "stream",
       "stream": "stdout",
       "text": [
        "2014-05-02 09:01:05 root       [INFO   ] Task chasm-update/chasm3-scores.tsv started on host node6\n"
       ]
      },
      {
       "output_type": "stream",
       "stream": "stdout",
       "text": [
        "2014-05-02 09:01:05 root       [INFO   ] Importing CHASM scores from /data/users/cperez/notebooks/fanns-perf/chasm3-scores.tsv ...\n"
       ]
      },
      {
       "output_type": "stream",
       "stream": "stdout",
       "text": [
        "2014-05-02 09:16:28 root       [INFO   ] Done. 774229 scores updated, 1 failed\n"
       ]
      }
     ],
     "prompt_number": 174
    },
    {
     "cell_type": "code",
     "collapsed": false,
     "input": [
      "chasm_updatedb(os.path.join(WORK_PATH, \"chasm3-humvar-scores.tsv\"), db_uri=FANNSDB_URI, chasm_key=\"CHASM3\")"
     ],
     "language": "python",
     "metadata": {},
     "outputs": [
      {
       "output_type": "stream",
       "stream": "stdout",
       "text": [
        "2014-05-06 18:48:45 root       [INFO   ] Task chasm-update/chasm3-humvar-scores.tsv started on host node6\n"
       ]
      },
      {
       "output_type": "stream",
       "stream": "stdout",
       "text": [
        "2014-05-06 18:48:45 root       [INFO   ] Importing CHASM scores from /data/users/cperez/notebooks/fanns-perf/chasm3-humvar-scores.tsv ...\n"
       ]
      },
      {
       "output_type": "stream",
       "stream": "stdout",
       "text": [
        "2014-05-06 18:49:09 root       [INFO   ] Done. 19467 scores updated, 1 failed\n"
       ]
      }
     ],
     "prompt_number": 186
    },
    {
     "cell_type": "code",
     "collapsed": false,
     "input": [
      "chasm_updatedb(os.path.join(WORK_PATH, \"chasm-snvs-fixOV.output\"), db_uri=FANNSDB_URI, chasm_key=\"CHASM3\")"
     ],
     "language": "python",
     "metadata": {},
     "outputs": [
      {
       "output_type": "stream",
       "stream": "stdout",
       "text": [
        "2014-06-19 16:58:11 root [INFO   ] Task chasm-update/chasm-snvs-fixOV.output started on host sydney.imim.es\n"
       ]
      },
      {
       "output_type": "stream",
       "stream": "stdout",
       "text": [
        "2014-06-19 16:58:11 root [INFO   ] Importing CHASM scores from /shared/projects/fannsdb/notebooks-data/fanns-perf/chasm-snvs-fixOV.output ...\n"
       ]
      },
      {
       "output_type": "stream",
       "stream": "stdout",
       "text": [
        "2014-06-19 17:50:28 root [INFO   ] Done. 368362 scores updated, 1 failed\n"
       ]
      }
     ],
     "prompt_number": 10
    },
    {
     "cell_type": "heading",
     "level": 2,
     "metadata": {},
     "source": [
      "InCa"
     ]
    },
    {
     "cell_type": "code",
     "collapsed": false,
     "input": [
      "os.chdir(WORK_PATH)"
     ],
     "language": "python",
     "metadata": {},
     "outputs": [],
     "prompt_number": 20
    },
    {
     "cell_type": "code",
     "collapsed": false,
     "input": [
      "!unzip -p inca_scores_20140428.zip >inca_scores_20140428.csv"
     ],
     "language": "python",
     "metadata": {},
     "outputs": [],
     "prompt_number": 99
    },
    {
     "cell_type": "code",
     "collapsed": false,
     "input": [
      "import pandas as pd\n",
      "inca = pd.read_csv(\"inca_scores_20140428.csv\", header=False, usecols=[0, 1, 3, 4, 5, 10, 12],\n",
      "                   names=[\"SWISSPROT_ACC\", \"SWISSPROT_ID\", \"POS\", \"REF\", \"ALT\", \"INCA\", \"INCA_FI\"])\n",
      "inca = inca[~inca.INCA.isnull()]"
     ],
     "language": "python",
     "metadata": {},
     "outputs": [],
     "prompt_number": 112
    },
    {
     "cell_type": "code",
     "collapsed": false,
     "input": [
      "%matplotlib inline\n",
      "\n",
      "display(inca.sort(\"SWISSPROT_ID\").head())\n",
      "\n",
      "display(inca.describe())\n",
      "\n",
      "inca[\"INCA\"].hist()"
     ],
     "language": "python",
     "metadata": {},
     "outputs": [
      {
       "html": [
        "<div style=\"max-height:1000px;max-width:1500px;overflow:auto;\">\n",
        "<table border=\"1\" class=\"dataframe\">\n",
        "  <thead>\n",
        "    <tr style=\"text-align: right;\">\n",
        "      <th></th>\n",
        "      <th>SWISSPROT_ACC</th>\n",
        "      <th>SWISSPROT_ID</th>\n",
        "      <th>POS</th>\n",
        "      <th>REF</th>\n",
        "      <th>ALT</th>\n",
        "      <th>INCA</th>\n",
        "      <th>INCA_FI</th>\n",
        "    </tr>\n",
        "  </thead>\n",
        "  <tbody>\n",
        "    <tr>\n",
        "      <th>24030 </th>\n",
        "      <td> P31946</td>\n",
        "      <td> 1433B_HUMAN</td>\n",
        "      <td>  62</td>\n",
        "      <td> R</td>\n",
        "      <td> C</td>\n",
        "      <td> 0.223900</td>\n",
        "      <td> 0.328033</td>\n",
        "    </tr>\n",
        "    <tr>\n",
        "      <th>31020 </th>\n",
        "      <td> P31946</td>\n",
        "      <td> 1433B_HUMAN</td>\n",
        "      <td>  49</td>\n",
        "      <td> A</td>\n",
        "      <td> V</td>\n",
        "      <td> 0.409167</td>\n",
        "      <td> 0.468567</td>\n",
        "    </tr>\n",
        "    <tr>\n",
        "      <th>50567 </th>\n",
        "      <td> P31946</td>\n",
        "      <td> 1433B_HUMAN</td>\n",
        "      <td> 150</td>\n",
        "      <td> A</td>\n",
        "      <td> V</td>\n",
        "      <td> 0.279233</td>\n",
        "      <td> 0.429133</td>\n",
        "    </tr>\n",
        "    <tr>\n",
        "      <th>102321</th>\n",
        "      <td> P31946</td>\n",
        "      <td> 1433B_HUMAN</td>\n",
        "      <td>  47</td>\n",
        "      <td> S</td>\n",
        "      <td> F</td>\n",
        "      <td> 0.466633</td>\n",
        "      <td> 0.508233</td>\n",
        "    </tr>\n",
        "    <tr>\n",
        "      <th>105150</th>\n",
        "      <td> P31946</td>\n",
        "      <td> 1433B_HUMAN</td>\n",
        "      <td> 104</td>\n",
        "      <td> D</td>\n",
        "      <td> E</td>\n",
        "      <td> 0.208667</td>\n",
        "      <td> 0.289133</td>\n",
        "    </tr>\n",
        "  </tbody>\n",
        "</table>\n",
        "<p>5 rows \u00d7 7 columns</p>\n",
        "</div>"
       ],
       "metadata": {},
       "output_type": "display_data",
       "text": [
        "       SWISSPROT_ACC SWISSPROT_ID  POS REF ALT      INCA   INCA_FI\n",
        "24030         P31946  1433B_HUMAN   62   R   C  0.223900  0.328033\n",
        "31020         P31946  1433B_HUMAN   49   A   V  0.409167  0.468567\n",
        "50567         P31946  1433B_HUMAN  150   A   V  0.279233  0.429133\n",
        "102321        P31946  1433B_HUMAN   47   S   F  0.466633  0.508233\n",
        "105150        P31946  1433B_HUMAN  104   D   E  0.208667  0.289133\n",
        "\n",
        "[5 rows x 7 columns]"
       ]
      },
      {
       "html": [
        "<div style=\"max-height:1000px;max-width:1500px;overflow:auto;\">\n",
        "<table border=\"1\" class=\"dataframe\">\n",
        "  <thead>\n",
        "    <tr style=\"text-align: right;\">\n",
        "      <th></th>\n",
        "      <th>POS</th>\n",
        "      <th>INCA</th>\n",
        "      <th>INCA_FI</th>\n",
        "    </tr>\n",
        "  </thead>\n",
        "  <tbody>\n",
        "    <tr>\n",
        "      <th>count</th>\n",
        "      <td> 26134.000000</td>\n",
        "      <td> 26134.000000</td>\n",
        "      <td> 25937.000000</td>\n",
        "    </tr>\n",
        "    <tr>\n",
        "      <th>mean</th>\n",
        "      <td>   336.335540</td>\n",
        "      <td>     0.400264</td>\n",
        "      <td>     0.423354</td>\n",
        "    </tr>\n",
        "    <tr>\n",
        "      <th>std</th>\n",
        "      <td>   357.580266</td>\n",
        "      <td>     0.185961</td>\n",
        "      <td>     0.191449</td>\n",
        "    </tr>\n",
        "    <tr>\n",
        "      <th>min</th>\n",
        "      <td>     1.000000</td>\n",
        "      <td>     0.014600</td>\n",
        "      <td>     0.022533</td>\n",
        "    </tr>\n",
        "    <tr>\n",
        "      <th>25%</th>\n",
        "      <td>   120.000000</td>\n",
        "      <td>     0.265533</td>\n",
        "      <td>     0.282500</td>\n",
        "    </tr>\n",
        "    <tr>\n",
        "      <th>50%</th>\n",
        "      <td>   234.000000</td>\n",
        "      <td>     0.373183</td>\n",
        "      <td>     0.404133</td>\n",
        "    </tr>\n",
        "    <tr>\n",
        "      <th>75%</th>\n",
        "      <td>   427.000000</td>\n",
        "      <td>     0.500400</td>\n",
        "      <td>     0.537167</td>\n",
        "    </tr>\n",
        "    <tr>\n",
        "      <th>max</th>\n",
        "      <td>  4806.000000</td>\n",
        "      <td>     0.999333</td>\n",
        "      <td>     1.000000</td>\n",
        "    </tr>\n",
        "  </tbody>\n",
        "</table>\n",
        "<p>8 rows \u00d7 3 columns</p>\n",
        "</div>"
       ],
       "metadata": {},
       "output_type": "display_data",
       "text": [
        "                POS          INCA       INCA_FI\n",
        "count  26134.000000  26134.000000  25937.000000\n",
        "mean     336.335540      0.400264      0.423354\n",
        "std      357.580266      0.185961      0.191449\n",
        "min        1.000000      0.014600      0.022533\n",
        "25%      120.000000      0.265533      0.282500\n",
        "50%      234.000000      0.373183      0.404133\n",
        "75%      427.000000      0.500400      0.537167\n",
        "max     4806.000000      0.999333      1.000000\n",
        "\n",
        "[8 rows x 3 columns]"
       ]
      },
      {
       "metadata": {},
       "output_type": "pyout",
       "prompt_number": 117,
       "text": [
        "<matplotlib.axes.AxesSubplot at 0x86ffa90>"
       ]
      },
      {
       "metadata": {},
       "output_type": "display_data",
       "png": "[encoded data removed]",
       "text": [
        "<matplotlib.figure.Figure at 0x8aa5510>"
       ]
      }
     ],
     "prompt_number": 117
    },
    {
     "cell_type": "code",
     "collapsed": false,
     "input": [
      "def inca_updatedb(path, db_uri, key=\"INCA\"):\n",
      "    import re\n",
      "    import pandas as pd\n",
      "    from fannsdb.db.mongodb import FannsMongoDb\n",
      "    \n",
      "    with Task(db_uri, \"inca-update\", os.path.basename(path)) as task:\n",
      "    \n",
      "        fdb = FannsMongoDb(uri=db_uri)\n",
      "    \n",
      "        task.logger.info(\"Loading InCA scores from {} ...\".format(path))\n",
      "    \n",
      "        inca = pd.read_csv(\"inca_scores_20140428.csv\", header=False, usecols=[0, 1, 3, 4, 5, 10, 12],\n",
      "                           names=[\"SWISSPROT_ACC\", \"SWISSPROT_ID\", \"POS\", \"REF\", \"ALT\", \"INCA\", \"INCA_FI\"])\n",
      "        inca = inca[~inca.INCA.isnull()]\n",
      "\n",
      "        task.logger.info(\"Importing InCA scores ...\")\n",
      "        \n",
      "        for num_rows, (index, row) in enumerate(inca.iterrows(), start=1):\n",
      "            protein, pos, ref, alt = row[[\"SWISSPROT_ID\", \"POS\", \"REF\", \"ALT\"]].values\n",
      "            \n",
      "            fdb.update_scores({\"INCA\" : row[\"INCA\"]}, protein=protein, aa_pos=int(pos), aa_ref=ref, aa_alt=alt)\n",
      "\n",
      "            if num_rows % 1000 == 0:\n",
      "                task.progress(num_rows, \"{} scores updated\".format(num_rows))\n",
      "\n",
      "        task.logger.info(\"Done. {} scores updated\".format(num_rows))\n",
      "\n",
      "        task.metadata(num_rows=num_rows)"
     ],
     "language": "python",
     "metadata": {},
     "outputs": [],
     "prompt_number": 21
    },
    {
     "cell_type": "code",
     "collapsed": false,
     "input": [
      "inca_updatedb(\"inca_scores_20140428.csv\", db_uri=FANNSDB_URI)"
     ],
     "language": "python",
     "metadata": {},
     "outputs": [
      {
       "output_type": "stream",
       "stream": "stdout",
       "text": [
        "2014-04-28 18:58:35 root       [INFO   ] Task inca-update/inca_scores_20140428.csv started on host node6\n"
       ]
      },
      {
       "output_type": "stream",
       "stream": "stdout",
       "text": [
        "2014-04-28 18:58:35 root       [INFO   ] Loading InCA scores from inca_scores_20140428.csv ...\n"
       ]
      },
      {
       "output_type": "stream",
       "stream": "stdout",
       "text": [
        "2014-04-28 18:58:37 root       [INFO   ] Importing InCA scores ...\n"
       ]
      },
      {
       "output_type": "stream",
       "stream": "stdout",
       "text": [
        "2014-04-28 19:02:22 root       [INFO   ] Done. 26134 scores updated\n"
       ]
      }
     ],
     "prompt_number": 156
    },
    {
     "cell_type": "code",
     "collapsed": false,
     "input": [
      "inca_updatedb(\"inca_scores_humvar_20140508.csv\", db_uri=FANNSDB_URI)"
     ],
     "language": "python",
     "metadata": {},
     "outputs": [
      {
       "output_type": "stream",
       "stream": "stdout",
       "text": [
        "2014-05-08 14:19:51 root       [INFO   ] Task inca-update/inca_scores_humvar_20140508.csv started on host node6\n"
       ]
      },
      {
       "output_type": "stream",
       "stream": "stdout",
       "text": [
        "2014-05-08 14:19:51 root       [INFO   ] Loading InCA scores from inca_scores_humvar_20140508.csv ...\n"
       ]
      },
      {
       "output_type": "stream",
       "stream": "stdout",
       "text": [
        "2014-05-08 14:19:53 root       [INFO   ] Importing InCA scores ...\n"
       ]
      },
      {
       "output_type": "stream",
       "stream": "stdout",
       "text": [
        "2014-05-08 14:23:19 root       [INFO   ] Done. 26134 scores updated\n"
       ]
      }
     ],
     "prompt_number": 187
    },
    {
     "cell_type": "code",
     "collapsed": false,
     "input": [
      "inca_updatedb(\"inca_Barc_jun2014Simple.csv\", db_uri=FANNSDB_URI)"
     ],
     "language": "python",
     "metadata": {},
     "outputs": [
      {
       "output_type": "stream",
       "stream": "stdout",
       "text": [
        "2014-06-26 17:46:19 root [INFO   ] Task inca-update/inca_Barc_jun2014Simple.csv started on host sydney.imim.es\n"
       ]
      },
      {
       "output_type": "stream",
       "stream": "stdout",
       "text": [
        "2014-06-26 17:46:19 root [INFO   ] Loading InCA scores from inca_Barc_jun2014Simple.csv ...\n"
       ]
      },
      {
       "output_type": "stream",
       "stream": "stdout",
       "text": [
        "2014-06-26 17:46:25 root [INFO   ] Importing InCA scores ...\n"
       ]
      },
      {
       "output_type": "stream",
       "stream": "stdout",
       "text": [
        "2014-06-26 17:52:51 root [INFO   ] Done. 26134 scores updated\n"
       ]
      }
     ],
     "prompt_number": 22
    }
   ],
   "metadata": {}
  }
 ]
}