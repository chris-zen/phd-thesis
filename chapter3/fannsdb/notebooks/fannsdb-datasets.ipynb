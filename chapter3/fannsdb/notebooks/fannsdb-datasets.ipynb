{
 "metadata": {
  "name": "",
  "signature": "sha256:14951737d07e74f660d0332a34eac8dff4e5b822a8e0523abbd1d0ae342041c1"
 },
 "nbformat": 3,
 "nbformat_minor": 0,
 "worksheets": [
  {
   "cells": [
    {
     "cell_type": "heading",
     "level": 1,
     "metadata": {},
     "source": [
      "FannsDB performance datasets"
     ]
    },
    {
     "cell_type": "markdown",
     "metadata": {},
     "source": [
      "Initialization required to work with parallel engines:"
     ]
    },
    {
     "cell_type": "code",
     "collapsed": false,
     "input": [
      "from IPython.parallel import Client\n",
      "client = Client(profile=\"nb\")\n",
      "lb = client.load_balanced_view()\n",
      "lb.block = False\n",
      "lb.ordered = False"
     ],
     "language": "python",
     "metadata": {},
     "outputs": [],
     "prompt_number": 4
    },
    {
     "cell_type": "code",
     "collapsed": false,
     "input": [
      "%%px --local\n",
      "import sys\n",
      "import logging\n",
      "logger = logging.getLogger()\n",
      "for h in logger.handlers:\n",
      "    logger.removeHandler(h)\n",
      "h = logging.StreamHandler(sys.stdout)\n",
      "h.setFormatter(logging.Formatter(\"%(asctime)s %(name)s [%(levelname)-7s] %(message)s\", \"%Y-%m-%d %H:%M:%S\"))\n",
      "logger.addHandler(h)\n",
      "logger.setLevel(logging.INFO)\n",
      "logger.propagate = False"
     ],
     "language": "python",
     "metadata": {},
     "outputs": [],
     "prompt_number": 12
    },
    {
     "cell_type": "markdown",
     "metadata": {},
     "source": [
      "Global imports:"
     ]
    },
    {
     "cell_type": "code",
     "collapsed": false,
     "input": [
      "%load_ext autoreload\n",
      "%autoreload 2"
     ],
     "language": "python",
     "metadata": {},
     "outputs": [],
     "prompt_number": 6
    },
    {
     "cell_type": "code",
     "collapsed": false,
     "input": [
      "%%px --local\n",
      "from __future__ import print_function\n",
      "import os"
     ],
     "language": "python",
     "metadata": {},
     "outputs": [],
     "prompt_number": 7
    },
    {
     "cell_type": "code",
     "collapsed": false,
     "input": [
      "import tempfile\n",
      "import shutil\n",
      "from glob import glob\n",
      "from functools import partial\n",
      "from subprocess import check_output, STDOUT\n",
      "from IPython.display import display, FileLink, FileLinks\n",
      "from ipnb.display.tasks import display_task\n",
      "from ipnb.path import ensure_path_exists, clean_path"
     ],
     "language": "python",
     "metadata": {},
     "outputs": [],
     "prompt_number": 8
    },
    {
     "cell_type": "markdown",
     "metadata": {},
     "source": [
      "Global variables:"
     ]
    },
    {
     "cell_type": "code",
     "collapsed": false,
     "input": [
      "%%px --local\n",
      "\n",
      "INTOGEN_RESULTS_PATH=\"/shared/projects/intogen/mutations/releases/v2/2.0-20140101\"\n",
      "\n",
      "WORK_PATH=\"/shared/projects/fannsdb/notebooks-data/fanns-perf\"\n",
      "\n",
      "SNVS_PATH = os.path.join(WORK_PATH, \"snvs\")\n",
      "\n",
      "ENSEMBL_HOST = \"sep2011.archive.ensembl.org\"\n",
      "CDS_LEN_PATH = os.path.join(WORK_PATH, \"protein_len.tsv\")\n",
      "\n",
      "FANNSDB_URI = \"mongodb://lima1/fanns05\""
     ],
     "language": "python",
     "metadata": {},
     "outputs": [],
     "prompt_number": 9
    },
    {
     "cell_type": "code",
     "collapsed": false,
     "input": [
      "ensure_path_exists(WORK_PATH)"
     ],
     "language": "python",
     "metadata": {},
     "outputs": [],
     "prompt_number": 6
    },
    {
     "cell_type": "code",
     "collapsed": false,
     "input": [
      "clean_path(SNVS_PATH)"
     ],
     "language": "python",
     "metadata": {},
     "outputs": [],
     "prompt_number": 10
    },
    {
     "cell_type": "heading",
     "level": 2,
     "metadata": {},
     "source": [
      "Proteins CDS length"
     ]
    },
    {
     "cell_type": "markdown",
     "metadata": {},
     "source": [
      "Get CDS length for each protein:"
     ]
    },
    {
     "cell_type": "code",
     "collapsed": false,
     "input": [
      "os.chdir(WORK_PATH)\n",
      "!ensembl-get-ann $ENSEMBL_HOST $CDS_LEN_PATH ensembl_peptide_id cds_length"
     ],
     "language": "python",
     "metadata": {},
     "outputs": [
      {
       "output_type": "stream",
       "stream": "stdout",
       "text": [
        "\r\n",
        "From sep2011.archive.ensembl.org: ensembl_peptide_id * cds_length --> protein_len.tsv ...\r\n",
        "\r\n"
       ]
      },
      {
       "output_type": "stream",
       "stream": "stdout",
       "text": [
        "  % Total    % Received % Xferd  Average Speed   Time    Time     Time  Current\r\n",
        "                                 Dload  Upload   Total   Spent    Left  Speed\r\n",
        "\r",
        "  0     0    0     0    0   597      0   2501 --:--:-- --:--:-- --:--:--  2501"
       ]
      },
      {
       "output_type": "stream",
       "stream": "stdout",
       "text": [
        "\r",
        "  0     0    0     0    0   597      0    481 --:--:--  0:00:01 --:--:--     0"
       ]
      },
      {
       "output_type": "stream",
       "stream": "stdout",
       "text": [
        "\r",
        "106  9623    0  9623    0   597   4105    254 --:--:--  0:00:02 --:--:--  4287"
       ]
      },
      {
       "output_type": "stream",
       "stream": "stdout",
       "text": [
        "\r",
        "104 16366    0 16366    0   597   4891    178 --:--:--  0:00:03 --:--:--  5076"
       ]
      },
      {
       "output_type": "stream",
       "stream": "stdout",
       "text": [
        "\r",
        "102 25996    0 25996    0   597   6575    151 --:--:--  0:00:03 --:--:--  6836"
       ]
      },
      {
       "output_type": "stream",
       "stream": "stdout",
       "text": [
        "\r",
        "101 49105    0 49105    0   597   8685    105 --:--:--  0:00:05 --:--:--  8959"
       ]
      },
      {
       "output_type": "stream",
       "stream": "stdout",
       "text": [
        "\r",
        "101 49105    0 49105    0   597   7379     89 --:--:--  0:00:06 --:--:--  8959"
       ]
      },
      {
       "output_type": "stream",
       "stream": "stdout",
       "text": [
        "\r",
        "101 50547    0 50547    0   597   7159     84 --:--:--  0:00:07 --:--:--  8675"
       ]
      },
      {
       "output_type": "stream",
       "stream": "stdout",
       "text": [
        "\r",
        "100 75087    0 75087    0   597   9549     75 --:--:--  0:00:07 --:--:-- 12997"
       ]
      },
      {
       "output_type": "stream",
       "stream": "stdout",
       "text": [
        "\r",
        "100  103k    0  103k    0   597  11024     61 --:--:--  0:00:09 --:--:-- 14113"
       ]
      },
      {
       "output_type": "stream",
       "stream": "stdout",
       "text": [
        "\r",
        "100  103k    0  103k    0   597   9988     56 --:--:--  0:00:10 --:--:-- 11461"
       ]
      },
      {
       "output_type": "stream",
       "stream": "stdout",
       "text": [
        "\r",
        "100  103k    0  103k    0   597   9130     51 --:--:--  0:00:11 --:--:-- 11463"
       ]
      },
      {
       "output_type": "stream",
       "stream": "stdout",
       "text": [
        "\r",
        "100  105k    0  105k    0   597   9063     50 --:--:--  0:00:11 --:--:-- 11840"
       ]
      },
      {
       "output_type": "stream",
       "stream": "stdout",
       "text": [
        "\r",
        "100  145k    0  145k    0   597  11558     46 --:--:--  0:00:12 --:--:-- 14717"
       ]
      },
      {
       "output_type": "stream",
       "stream": "stdout",
       "text": [
        "\r",
        "100  167k    0  167k    0   597  11988     41 --:--:--  0:00:14 --:--:-- 13973"
       ]
      },
      {
       "output_type": "stream",
       "stream": "stdout",
       "text": [
        "\r",
        "100  167k    0  167k    0   597  11205     38 --:--:--  0:00:15 --:--:-- 13973"
       ]
      },
      {
       "output_type": "stream",
       "stream": "stdout",
       "text": [
        "\r",
        "100  167k    0  167k    0   597  10518     36 --:--:--  0:00:16 --:--:-- 13970"
       ]
      },
      {
       "output_type": "stream",
       "stream": "stdout",
       "text": [
        "\r",
        "100  167k    0  167k    0   597   9911     34 --:--:--  0:00:17 --:--:-- 11767"
       ]
      },
      {
       "output_type": "stream",
       "stream": "stdout",
       "text": [
        "\r",
        "100  177k    0  177k    0   597  10189     33 --:--:--  0:00:17 --:--:--  6622"
       ]
      },
      {
       "output_type": "stream",
       "stream": "stdout",
       "text": [
        "\r",
        "100  217k    0  217k    0   597  11780     31 --:--:--  0:00:18 --:--:-- 11125"
       ]
      },
      {
       "output_type": "stream",
       "stream": "stdout",
       "text": [
        "\r",
        "100  247k    0  247k    0   597  12388     29 --:--:--  0:00:20 --:--:-- 15919"
       ]
      },
      {
       "output_type": "stream",
       "stream": "stdout",
       "text": [
        "\r",
        "100  247k    0  247k    0   597  11811     27 --:--:--  0:00:21 --:--:-- 15919"
       ]
      },
      {
       "output_type": "stream",
       "stream": "stdout",
       "text": [
        "\r",
        "100  247k    0  247k    0   597  11285     26 --:--:--  0:00:22 --:--:-- 15919"
       ]
      },
      {
       "output_type": "stream",
       "stream": "stdout",
       "text": [
        "\r",
        "100  247k    0  247k    0   597  10803     25 --:--:--  0:00:23 --:--:-- 12735"
       ]
      },
      {
       "output_type": "stream",
       "stream": "stdout",
       "text": [
        "\r",
        "100  265k    0  265k    0   597  11361     24 --:--:--  0:00:23 --:--:--  9787"
       ]
      },
      {
       "output_type": "stream",
       "stream": "stdout",
       "text": [
        "\r",
        "100  305k    0  305k    0   597  12509     23 --:--:--  0:00:24 --:--:-- 13059"
       ]
      },
      {
       "output_type": "stream",
       "stream": "stdout",
       "text": [
        "\r",
        "100  319k    0  319k    0   597  12358     22 --:--:--  0:00:26 --:--:-- 14704"
       ]
      },
      {
       "output_type": "stream",
       "stream": "stdout",
       "text": [
        "\r",
        "100  319k    0  319k    0   597  11908     21 --:--:--  0:00:27 --:--:-- 14704"
       ]
      },
      {
       "output_type": "stream",
       "stream": "stdout",
       "text": [
        "\r",
        "100  319k    0  319k    0   597  11489     20 --:--:--  0:00:28 --:--:-- 14704"
       ]
      },
      {
       "output_type": "stream",
       "stream": "stdout",
       "text": [
        "\r",
        "100  319k    0  319k    0   597  11099     20 --:--:--  0:00:29 --:--:--  9980"
       ]
      },
      {
       "output_type": "stream",
       "stream": "stdout",
       "text": [
        "\r",
        "100  319k    0  319k    0   597  10735     19 --:--:--  0:00:30 --:--:--  2706"
       ]
      },
      {
       "output_type": "stream",
       "stream": "stdout",
       "text": [
        "\r",
        "100  319k    0  319k    0   597  10393     18 --:--:--  0:00:31 --:--:--     0"
       ]
      },
      {
       "output_type": "stream",
       "stream": "stdout",
       "text": [
        "\r",
        "100  337k    0  337k    0   597  10839     18 --:--:--  0:00:31 --:--:--  4090"
       ]
      },
      {
       "output_type": "stream",
       "stream": "stdout",
       "text": [
        "\r",
        "100  384k    0  384k    0   597  12016     18 --:--:--  0:00:32 --:--:-- 15490"
       ]
      },
      {
       "output_type": "stream",
       "stream": "stdout",
       "text": [
        "\r",
        "100  399k    0  399k    0   597  11994     17 --:--:--  0:00:34 --:--:-- 17704"
       ]
      },
      {
       "output_type": "stream",
       "stream": "stdout",
       "text": [
        "\r",
        "100  399k    0  399k    0   597  11652     17 --:--:--  0:00:35 --:--:-- 17704"
       ]
      },
      {
       "output_type": "stream",
       "stream": "stdout",
       "text": [
        "\r",
        "100  399k    0  399k    0   597  11329     16 --:--:--  0:00:36 --:--:-- 17704"
       ]
      },
      {
       "output_type": "stream",
       "stream": "stdout",
       "text": [
        "\r",
        "100  399k    0  399k    0   597  11023     16 --:--:--  0:00:37 --:--:-- 12139"
       ]
      },
      {
       "output_type": "stream",
       "stream": "stdout",
       "text": [
        "\r",
        "100  399k    0  399k    0   597  10734     15 --:--:--  0:00:38 --:--:--  2808"
       ]
      },
      {
       "output_type": "stream",
       "stream": "stdout",
       "text": [
        "\r",
        "100  399k    0  399k    0   597  10459     15 --:--:--  0:00:39 --:--:--     0"
       ]
      },
      {
       "output_type": "stream",
       "stream": "stdout",
       "text": [
        "\r",
        "100  399k    0  399k    0   597  10198     14 --:--:--  0:00:40 --:--:--     0"
       ]
      },
      {
       "output_type": "stream",
       "stream": "stdout",
       "text": [
        "\r",
        "100  416k    0  416k    0   597  10410     14 --:--:--  0:00:41 --:--:--  3634"
       ]
      },
      {
       "output_type": "stream",
       "stream": "stdout",
       "text": [
        "\r",
        "100  440k    0  440k    0   597  10791     14 --:--:--  0:00:41 --:--:--  8967"
       ]
      },
      {
       "output_type": "stream",
       "stream": "stdout",
       "text": [
        "\r",
        "100  479k    0  479k    0   597  11248     13 --:--:--  0:00:43 --:--:-- 14788"
       ]
      },
      {
       "output_type": "stream",
       "stream": "stdout",
       "text": [
        "\r",
        "100  479k    0  479k    0   597  10995     13 --:--:--  0:00:44 --:--:-- 14788"
       ]
      },
      {
       "output_type": "stream",
       "stream": "stdout",
       "text": [
        "\r",
        "100  479k    0  479k    0   597  10754     13 --:--:--  0:00:45 --:--:-- 14788"
       ]
      },
      {
       "output_type": "stream",
       "stream": "stdout",
       "text": [
        "\r",
        "100  479k    0  479k    0   597  10524     12 --:--:--  0:00:46 --:--:-- 11348"
       ]
      },
      {
       "output_type": "stream",
       "stream": "stdout",
       "text": [
        "\r",
        "100  479k    0  479k    0   597  10303     12 --:--:--  0:00:47 --:--:--  6787"
       ]
      },
      {
       "output_type": "stream",
       "stream": "stdout",
       "text": [
        "\r",
        "100  479k    0  479k    0   597  10090     12 --:--:--  0:00:48 --:--:--     0"
       ]
      },
      {
       "output_type": "stream",
       "stream": "stdout",
       "text": [
        "\r",
        "100  479k    0  479k    0   597   9887     12 --:--:--  0:00:49 --:--:--     0"
       ]
      },
      {
       "output_type": "stream",
       "stream": "stdout",
       "text": [
        "\r",
        "100  479k    0  479k    0   597   9692     11 --:--:--  0:00:50 --:--:--     0"
       ]
      },
      {
       "output_type": "stream",
       "stream": "stdout",
       "text": [
        "\r",
        "100  480k    0  480k    0   597   9573     11 --:--:--  0:00:51 --:--:--   301"
       ]
      },
      {
       "output_type": "stream",
       "stream": "stdout",
       "text": [
        "\r",
        "100  488k    0  488k    0   597   9665     11 --:--:--  0:00:51 --:--:--  2325"
       ]
      },
      {
       "output_type": "stream",
       "stream": "stdout",
       "text": [
        "\r",
        "100  520k    0  520k    0   597  10086     11 --:--:--  0:00:52 --:--:-- 10034"
       ]
      },
      {
       "output_type": "stream",
       "stream": "stdout",
       "text": [
        "\r",
        "100  552k    0  552k    0   597  10497     11 --:--:--  0:00:53 --:--:-- 17598"
       ]
      },
      {
       "output_type": "stream",
       "stream": "stdout",
       "text": [
        "\r",
        "100  559k    0  559k    0   597  10429     10 --:--:--  0:00:54 --:--:-- 19173"
       ]
      },
      {
       "output_type": "stream",
       "stream": "stdout",
       "text": [
        "\r",
        "100  559k    0  559k    0   597  10242     10 --:--:--  0:00:55 --:--:-- 17904"
       ]
      },
      {
       "output_type": "stream",
       "stream": "stdout",
       "text": [
        "\r",
        "100  559k    0  559k    0   597  10062     10 --:--:--  0:00:56 --:--:-- 14062"
       ]
      },
      {
       "output_type": "stream",
       "stream": "stdout",
       "text": [
        "\r",
        "100  559k    0  559k    0   597   9888     10 --:--:--  0:00:57 --:--:--  7813"
       ]
      },
      {
       "output_type": "stream",
       "stream": "stdout",
       "text": [
        "\r",
        "100  559k    0  559k    0   597   9720     10 --:--:--  0:00:58 --:--:--  1346"
       ]
      },
      {
       "output_type": "stream",
       "stream": "stdout",
       "text": [
        "\r",
        "100  559k    0  559k    0   597   9557      9 --:--:--  0:00:59 --:--:--     0"
       ]
      },
      {
       "output_type": "stream",
       "stream": "stdout",
       "text": [
        "\r",
        "100  559k    0  559k    0   597   9400      9 --:--:--  0:01:00 --:--:--     0"
       ]
      },
      {
       "output_type": "stream",
       "stream": "stdout",
       "text": [
        "\r",
        "100  559k    0  559k    0   597   9248      9 --:--:--  0:01:01 --:--:--     0"
       ]
      },
      {
       "output_type": "stream",
       "stream": "stdout",
       "text": [
        "\r",
        "100  576k    0  576k    0   597   9390      9 --:--:--  0:01:02 --:--:--  3585"
       ]
      },
      {
       "output_type": "stream",
       "stream": "stdout",
       "text": [
        "\r",
        "100  624k    0  624k    0   597  10006      9 --:--:--  0:01:03 --:--:-- 13387"
       ]
      },
      {
       "output_type": "stream",
       "stream": "stdout",
       "text": [
        "\r",
        "100  631k    0  631k    0   597   9956      9 --:--:--  0:01:04 --:--:-- 14731"
       ]
      },
      {
       "output_type": "stream",
       "stream": "stdout",
       "text": [
        "\r",
        "100  631k    0  631k    0   597   9804      9 --:--:--  0:01:05 --:--:-- 14731"
       ]
      },
      {
       "output_type": "stream",
       "stream": "stdout",
       "text": [
        "\r",
        "100  631k    0  631k    0   597   9658      8 --:--:--  0:01:06 --:--:-- 14731"
       ]
      },
      {
       "output_type": "stream",
       "stream": "stdout",
       "text": [
        "\r",
        "100  631k    0  631k    0   597   9515      8 --:--:--  0:01:07 --:--:-- 11079"
       ]
      },
      {
       "output_type": "stream",
       "stream": "stdout",
       "text": [
        "\r",
        "100  631k    0  631k    0   597   9377      8 --:--:--  0:01:08 --:--:--  1344"
       ]
      },
      {
       "output_type": "stream",
       "stream": "stdout",
       "text": [
        "\r",
        "100  631k    0  631k    0   597   9243      8 --:--:--  0:01:09 --:--:--     0"
       ]
      },
      {
       "output_type": "stream",
       "stream": "stdout",
       "text": [
        "\r",
        "100  631k    0  631k    0   597   9112      8 --:--:--  0:01:10 --:--:--     0"
       ]
      },
      {
       "output_type": "stream",
       "stream": "stdout",
       "text": [
        "\r",
        "100  631k    0  631k    0   597   8986      8 --:--:--  0:01:11 --:--:--     0"
       ]
      },
      {
       "output_type": "stream",
       "stream": "stdout",
       "text": [
        "\r",
        "100  631k    0  631k    0   597   8862      8 --:--:--  0:01:12 --:--:--     0"
       ]
      },
      {
       "output_type": "stream",
       "stream": "stdout",
       "text": [
        "\r",
        "100  672k    0  672k    0   597   9311      8 --:--:--  0:01:13 --:--:--  8411"
       ]
      },
      {
       "output_type": "stream",
       "stream": "stdout",
       "text": [
        "\r",
        "100  712k    0  712k    0   597   9749      7 --:--:--  0:01:14 --:--:-- 16951"
       ]
      },
      {
       "output_type": "stream",
       "stream": "stdout",
       "text": [
        "\r",
        "100  719k    0  719k    0   597   9671      7 --:--:--  0:01:16 --:--:-- 17287"
       ]
      },
      {
       "output_type": "stream",
       "stream": "stdout",
       "text": [
        "\r",
        "100  719k    0  719k    0   597   9546      7 --:--:--  0:01:17 --:--:-- 17287"
       ]
      },
      {
       "output_type": "stream",
       "stream": "stdout",
       "text": [
        "\r",
        "100  719k    0  719k    0   597   9424      7 --:--:--  0:01:18 --:--:-- 17287"
       ]
      },
      {
       "output_type": "stream",
       "stream": "stdout",
       "text": [
        "\r",
        "100  719k    0  719k    0   597   9304      7 --:--:--  0:01:19 --:--:--  9207"
       ]
      },
      {
       "output_type": "stream",
       "stream": "stdout",
       "text": [
        "\r",
        "100  719k    0  719k    0   597   9188      7 --:--:--  0:01:20 --:--:--  1269"
       ]
      },
      {
       "output_type": "stream",
       "stream": "stdout",
       "text": [
        "\r",
        "100  719k    0  719k    0   597   9075      7 --:--:--  0:01:21 --:--:--     0"
       ]
      },
      {
       "output_type": "stream",
       "stream": "stdout",
       "text": [
        "\r",
        "100  719k    0  719k    0   597   8964      7 --:--:--  0:01:22 --:--:--     0"
       ]
      },
      {
       "output_type": "stream",
       "stream": "stdout",
       "text": [
        "\r",
        "100  719k    0  719k    0   597   8856      7 --:--:--  0:01:23 --:--:--     0"
       ]
      },
      {
       "output_type": "stream",
       "stream": "stdout",
       "text": [
        "\r",
        "100  751k    0  751k    0   597   9175      7 --:--:--  0:01:23 --:--:--  6991"
       ]
      },
      {
       "output_type": "stream",
       "stream": "stdout",
       "text": [
        "\r",
        "100  799k    0  799k    0   597   9648      7 --:--:--  0:01:24 --:--:-- 17556"
       ]
      },
      {
       "output_type": "stream",
       "stream": "stdout",
       "text": [
        "\r",
        "100  807k    0  807k    0   597   9613      6 --:--:--  0:01:25 --:--:-- 18668"
       ]
      },
      {
       "output_type": "stream",
       "stream": "stdout",
       "text": [
        "\r",
        "100  807k    0  807k    0   597   9502      6 --:--:--  0:01:26 --:--:-- 18668"
       ]
      },
      {
       "output_type": "stream",
       "stream": "stdout",
       "text": [
        "\r",
        "100  807k    0  807k    0   597   9394      6 --:--:--  0:01:27 --:--:-- 18668"
       ]
      },
      {
       "output_type": "stream",
       "stream": "stdout",
       "text": [
        "\r",
        "100  807k    0  807k    0   597   9288      6 --:--:--  0:01:28 --:--:-- 11135"
       ]
      },
      {
       "output_type": "stream",
       "stream": "stdout",
       "text": [
        "\r",
        "100  807k    0  807k    0   597   9185      6 --:--:--  0:01:29 --:--:--  1582"
       ]
      },
      {
       "output_type": "stream",
       "stream": "stdout",
       "text": [
        "\r",
        "100  807k    0  807k    0   597   9084      6 --:--:--  0:01:30 --:--:--     0"
       ]
      },
      {
       "output_type": "stream",
       "stream": "stdout",
       "text": [
        "\r",
        "100  807k    0  807k    0   597   8985      6 --:--:--  0:01:31 --:--:--     0"
       ]
      },
      {
       "output_type": "stream",
       "stream": "stdout",
       "text": [
        "\r",
        "100  807k    0  807k    0   597   8888      6 --:--:--  0:01:32 --:--:--     0"
       ]
      },
      {
       "output_type": "stream",
       "stream": "stdout",
       "text": [
        "\r",
        "100  807k    0  807k    0   597   8794      6 --:--:--  0:01:33 --:--:--     0"
       ]
      },
      {
       "output_type": "stream",
       "stream": "stdout",
       "text": [
        "\r",
        "100  807k    0  807k    0   597   8701      6 --:--:--  0:01:34 --:--:--     0"
       ]
      },
      {
       "output_type": "stream",
       "stream": "stdout",
       "text": [
        "\r",
        "100  832k    0  832k    0   597   8895      6 --:--:--  0:01:35 --:--:--  5359"
       ]
      },
      {
       "output_type": "stream",
       "stream": "stdout",
       "text": [
        "\r",
        "100  880k    0  880k    0   597   9307      6 --:--:--  0:01:36 --:--:-- 15373"
       ]
      },
      {
       "output_type": "stream",
       "stream": "stdout",
       "text": [
        "\r",
        "100  886k    0  886k    0   597   9240      6 --:--:--  0:01:38 --:--:-- 15390"
       ]
      },
      {
       "output_type": "stream",
       "stream": "stdout",
       "text": [
        "\r",
        "100  886k    0  886k    0   597   9147      6 --:--:--  0:01:39 --:--:-- 15390"
       ]
      },
      {
       "output_type": "stream",
       "stream": "stdout",
       "text": [
        "\r",
        "100  886k    0  886k    0   597   9056      5 --:--:--  0:01:40 --:--:-- 15390"
       ]
      },
      {
       "output_type": "stream",
       "stream": "stdout",
       "text": [
        "\r",
        "100  886k    0  886k    0   597   8966      5 --:--:--  0:01:41 --:--:-- 10203"
       ]
      },
      {
       "output_type": "stream",
       "stream": "stdout",
       "text": [
        "\r",
        "100  886k    0  886k    0   597   8878      5 --:--:--  0:01:42 --:--:--  1238"
       ]
      },
      {
       "output_type": "stream",
       "stream": "stdout",
       "text": [
        "\r",
        "100  886k    0  886k    0   597   8792      5 --:--:--  0:01:43 --:--:--     0"
       ]
      },
      {
       "output_type": "stream",
       "stream": "stdout",
       "text": [
        "\r",
        "100  886k    0  886k    0   597   8708      5 --:--:--  0:01:44 --:--:--     0"
       ]
      },
      {
       "output_type": "stream",
       "stream": "stdout",
       "text": [
        "\r",
        "100  886k    0  886k    0   597   8625      5 --:--:--  0:01:45 --:--:--     0"
       ]
      },
      {
       "output_type": "stream",
       "stream": "stdout",
       "text": [
        "\r",
        "100  886k    0  886k    0   597   8544      5 --:--:--  0:01:46 --:--:--     0"
       ]
      },
      {
       "output_type": "stream",
       "stream": "stdout",
       "text": [
        "\r",
        "100  896k    0  896k    0   597   8594      5 --:--:--  0:01:46 --:--:--  2135"
       ]
      },
      {
       "output_type": "stream",
       "stream": "stdout",
       "text": [
        "\r",
        "100  952k    0  952k    0   597   9038      5 --:--:--  0:01:47 --:--:-- 14569"
       ]
      },
      {
       "output_type": "stream",
       "stream": "stdout",
       "text": [
        "\r",
        "100  974k    0  974k    0   597   9146      5 --:--:--  0:01:49 --:--:-- 18573"
       ]
      },
      {
       "output_type": "stream",
       "stream": "stdout",
       "text": [
        "\r",
        "100  974k    0  974k    0   597   9063      5 --:--:--  0:01:50 --:--:-- 18573"
       ]
      },
      {
       "output_type": "stream",
       "stream": "stdout",
       "text": [
        "\r",
        "100  974k    0  974k    0   597   8981      5 --:--:--  0:01:51 --:--:-- 18573"
       ]
      },
      {
       "output_type": "stream",
       "stream": "stdout",
       "text": [
        "\r",
        "100  974k    0  974k    0   597   8901      5 --:--:--  0:01:52 --:--:-- 15046"
       ]
      },
      {
       "output_type": "stream",
       "stream": "stdout",
       "text": [
        "\r",
        "100  974k    0  974k    0   597   8822      5 --:--:--  0:01:53 --:--:--  4395"
       ]
      },
      {
       "output_type": "stream",
       "stream": "stdout",
       "text": [
        "\r",
        "100  974k    0  974k    0   597   8745      5 --:--:--  0:01:54 --:--:--     0"
       ]
      },
      {
       "output_type": "stream",
       "stream": "stdout",
       "text": [
        "\r",
        "100  974k    0  974k    0   597   8669      5 --:--:--  0:01:55 --:--:--     0"
       ]
      },
      {
       "output_type": "stream",
       "stream": "stdout",
       "text": [
        "\r",
        "100  974k    0  974k    0   597   8594      5 --:--:--  0:01:56 --:--:--     0"
       ]
      },
      {
       "output_type": "stream",
       "stream": "stdout",
       "text": [
        "\r",
        "100  974k    0  974k    0   597   8521      5 --:--:--  0:01:57 --:--:--     0"
       ]
      },
      {
       "output_type": "stream",
       "stream": "stdout",
       "text": [
        "\r",
        "100  974k    0  974k    0   597   8448      5 --:--:--  0:01:58 --:--:--     0"
       ]
      },
      {
       "output_type": "stream",
       "stream": "stdout",
       "text": [
        "\r",
        "100  974k    0  974k    0   597   8378      5 --:--:--  0:01:59 --:--:--     0"
       ]
      },
      {
       "output_type": "stream",
       "stream": "stdout",
       "text": [
        "\r",
        "100  974k    0  974k    0   597   8308      4 --:--:--  0:02:00 --:--:--     0"
       ]
      },
      {
       "output_type": "stream",
       "stream": "stdout",
       "text": [
        "\r",
        "100 1000k    0 1000k    0   597   8468      4 --:--:--  0:02:00 --:--:--  5421"
       ]
      },
      {
       "output_type": "stream",
       "stream": "stdout",
       "text": [
        "\r",
        "100 1040k    0 1040k    0   597   8740      4 --:--:--  0:02:01 --:--:-- 14200"
       ]
      },
      {
       "output_type": "stream",
       "stream": "stdout",
       "text": [
        "\r",
        "100 1062k    0 1062k    0   597   8828      4 --:--:--  0:02:03 --:--:-- 17574"
       ]
      },
      {
       "output_type": "stream",
       "stream": "stdout",
       "text": [
        "\r",
        "100 1062k    0 1062k    0   597   8756      4 --:--:--  0:02:04 --:--:-- 17574"
       ]
      },
      {
       "output_type": "stream",
       "stream": "stdout",
       "text": [
        "\r",
        "100 1062k    0 1062k    0   597   8686      4 --:--:--  0:02:05 --:--:-- 17574"
       ]
      },
      {
       "output_type": "stream",
       "stream": "stdout",
       "text": [
        "\r",
        "100 1062k    0 1062k    0   597   8618      4 --:--:--  0:02:06 --:--:-- 12001"
       ]
      },
      {
       "output_type": "stream",
       "stream": "stdout",
       "text": [
        "\r",
        "100 1062k    0 1062k    0   597   8550      4 --:--:--  0:02:07 --:--:--  4265"
       ]
      },
      {
       "output_type": "stream",
       "stream": "stdout",
       "text": [
        "\r",
        "100 1062k    0 1062k    0   597   8483      4 --:--:--  0:02:08 --:--:--     0"
       ]
      },
      {
       "output_type": "stream",
       "stream": "stdout",
       "text": [
        "\r",
        "100 1062k    0 1062k    0   597   8417      4 --:--:--  0:02:09 --:--:--     0"
       ]
      },
      {
       "output_type": "stream",
       "stream": "stdout",
       "text": [
        "\r",
        "100 1062k    0 1062k    0   597   8353      4 --:--:--  0:02:10 --:--:--     0"
       ]
      },
      {
       "output_type": "stream",
       "stream": "stdout",
       "text": [
        "\r",
        "100 1062k    0 1062k    0   597   8289      4 --:--:--  0:02:11 --:--:--     0"
       ]
      },
      {
       "output_type": "stream",
       "stream": "stdout",
       "text": [
        "\r",
        "100 1062k    0 1062k    0   597   8226      4 --:--:--  0:02:12 --:--:--     0"
       ]
      },
      {
       "output_type": "stream",
       "stream": "stdout",
       "text": [
        "\r",
        "100 1062k    0 1062k    0   597   8164      4 --:--:--  0:02:13 --:--:--     0"
       ]
      },
      {
       "output_type": "stream",
       "stream": "stdout",
       "text": [
        "\r",
        "100 1062k    0 1062k    0   597   8104      4 --:--:--  0:02:14 --:--:--     0"
       ]
      },
      {
       "output_type": "stream",
       "stream": "stdout",
       "text": [
        "\r",
        "100 1062k    0 1062k    0   597   8044      4 --:--:--  0:02:15 --:--:--     0"
       ]
      },
      {
       "output_type": "stream",
       "stream": "stdout",
       "text": [
        "\r",
        "100 1080k    0 1080k    0   597   8143      4 --:--:--  0:02:15 --:--:--  3926"
       ]
      },
      {
       "output_type": "stream",
       "stream": "stdout",
       "text": [
        "\r",
        "100 1128k    0 1128k    0   597   8438      4 --:--:--  0:02:16 --:--:-- 14536"
       ]
      },
      {
       "output_type": "stream",
       "stream": "stdout",
       "text": [
        "\r",
        "100 1142k    0 1142k    0   597   8475      4 --:--:--  0:02:18 --:--:-- 17185"
       ]
      },
      {
       "output_type": "stream",
       "stream": "stdout",
       "text": [
        "\r",
        "100 1142k    0 1142k    0   597   8415      4 --:--:--  0:02:19 --:--:-- 17188"
       ]
      },
      {
       "output_type": "stream",
       "stream": "stdout",
       "text": [
        "\r",
        "100 1142k    0 1142k    0   597   8354      4 --:--:--  0:02:20 --:--:-- 17188"
       ]
      },
      {
       "output_type": "stream",
       "stream": "stdout",
       "text": [
        "\r",
        "100 1142k    0 1142k    0   597   8295      4 --:--:--  0:02:21 --:--:-- 12234"
       ]
      },
      {
       "output_type": "stream",
       "stream": "stdout",
       "text": [
        "\r",
        "100 1142k    0 1142k    0   597   8237      4 --:--:--  0:02:22 --:--:--  2888"
       ]
      },
      {
       "output_type": "stream",
       "stream": "stdout",
       "text": [
        "\r",
        "100 1142k    0 1142k    0   597   8179      4 --:--:--  0:02:23 --:--:--     0"
       ]
      },
      {
       "output_type": "stream",
       "stream": "stdout",
       "text": [
        "\r",
        "100 1142k    0 1142k    0   597   8122      4 --:--:--  0:02:24 --:--:--     0"
       ]
      },
      {
       "output_type": "stream",
       "stream": "stdout",
       "text": [
        "\r",
        "100 1142k    0 1142k    0   597   8066      4 --:--:--  0:02:25 --:--:--     0"
       ]
      },
      {
       "output_type": "stream",
       "stream": "stdout",
       "text": [
        "\r",
        "100 1142k    0 1142k    0   597   8011      4 --:--:--  0:02:26 --:--:--     0"
       ]
      },
      {
       "output_type": "stream",
       "stream": "stdout",
       "text": [
        "\r",
        "100 1142k    0 1142k    0   597   7956      4 --:--:--  0:02:27 --:--:--     0"
       ]
      },
      {
       "output_type": "stream",
       "stream": "stdout",
       "text": [
        "\r",
        "100 1142k    0 1142k    0   597   7902      4 --:--:--  0:02:28 --:--:--     0"
       ]
      },
      {
       "output_type": "stream",
       "stream": "stdout",
       "text": [
        "\r",
        "100 1142k    0 1142k    0   597   7849      4 --:--:--  0:02:29 --:--:--     0"
       ]
      },
      {
       "output_type": "stream",
       "stream": "stdout",
       "text": [
        "\r",
        "100 1142k    0 1142k    0   597   7797      3 --:--:--  0:02:30 --:--:--     0"
       ]
      },
      {
       "output_type": "stream",
       "stream": "stdout",
       "text": [
        "\r",
        "100 1144k    0 1144k    0   597   7756      3 --:--:--  0:02:31 --:--:--   289"
       ]
      },
      {
       "output_type": "stream",
       "stream": "stdout",
       "text": [
        "\r",
        "100 1183k    0 1183k    0   597   7985      3 --:--:--  0:02:31 --:--:--  8877"
       ]
      },
      {
       "output_type": "stream",
       "stream": "stdout",
       "text": [
        "\r",
        "100 1230k    0 1230k    0   597   8201      3 --:--:--  0:02:33 --:--:-- 16132"
       ]
      },
      {
       "output_type": "stream",
       "stream": "stdout",
       "text": [
        "\r",
        "100 1230k    0 1230k    0   597   8148      3 --:--:--  0:02:34 --:--:-- 16132"
       ]
      },
      {
       "output_type": "stream",
       "stream": "stdout",
       "text": [
        "\r",
        "100 1230k    0 1230k    0   597   8096      3 --:--:--  0:02:35 --:--:-- 16132"
       ]
      },
      {
       "output_type": "stream",
       "stream": "stdout",
       "text": [
        "\r",
        "100 1230k    0 1230k    0   597   8044      3 --:--:--  0:02:36 --:--:-- 15806"
       ]
      },
      {
       "output_type": "stream",
       "stream": "stdout",
       "text": [
        "\r",
        "100 1230k    0 1230k    0   597   7993      3 --:--:--  0:02:37 --:--:--  8196"
       ]
      },
      {
       "output_type": "stream",
       "stream": "stdout",
       "text": [
        "\r",
        "100 1230k    0 1230k    0   597   7942      3 --:--:--  0:02:38 --:--:--     0"
       ]
      },
      {
       "output_type": "stream",
       "stream": "stdout",
       "text": [
        "\r",
        "100 1230k    0 1230k    0   597   7893      3 --:--:--  0:02:39 --:--:--     0"
       ]
      },
      {
       "output_type": "stream",
       "stream": "stdout",
       "text": [
        "\r",
        "100 1230k    0 1230k    0   597   7843      3 --:--:--  0:02:40 --:--:--     0"
       ]
      },
      {
       "output_type": "stream",
       "stream": "stdout",
       "text": [
        "\r",
        "100 1230k    0 1230k    0   597   7795      3 --:--:--  0:02:41 --:--:--     0"
       ]
      },
      {
       "output_type": "stream",
       "stream": "stdout",
       "text": [
        "\r",
        "100 1230k    0 1230k    0   597   7747      3 --:--:--  0:02:42 --:--:--     0"
       ]
      },
      {
       "output_type": "stream",
       "stream": "stdout",
       "text": [
        "\r",
        "100 1230k    0 1230k    0   597   7700      3 --:--:--  0:02:43 --:--:--     0"
       ]
      },
      {
       "output_type": "stream",
       "stream": "stdout",
       "text": [
        "\r",
        "100 1230k    0 1230k    0   597   7653      3 --:--:--  0:02:44 --:--:--     0"
       ]
      },
      {
       "output_type": "stream",
       "stream": "stdout",
       "text": [
        "\r",
        "100 1230k    0 1230k    0   597   7606      3 --:--:--  0:02:45 --:--:--     0"
       ]
      },
      {
       "output_type": "stream",
       "stream": "stdout",
       "text": [
        "\r",
        "100 1230k    0 1230k    0   597   7561      3 --:--:--  0:02:46 --:--:--     0"
       ]
      },
      {
       "output_type": "stream",
       "stream": "stdout",
       "text": [
        "\r",
        "100 1231k    0 1231k    0   597   7545      3 --:--:--  0:02:47 --:--:--   316"
       ]
      },
      {
       "output_type": "stream",
       "stream": "stdout",
       "text": [
        "\r",
        "100 1263k    0 1263k    0   597   7711      3 --:--:--  0:02:47 --:--:--  8175"
       ]
      },
      {
       "output_type": "stream",
       "stream": "stdout",
       "text": [
        "\r",
        "100 1310k    0 1310k    0   597   7911      3 --:--:--  0:02:49 --:--:-- 16484"
       ]
      },
      {
       "output_type": "stream",
       "stream": "stdout",
       "text": [
        "\r",
        "100 1310k    0 1310k    0   597   7865      3 --:--:--  0:02:50 --:--:-- 16484"
       ]
      },
      {
       "output_type": "stream",
       "stream": "stdout",
       "text": [
        "\r",
        "100 1310k    0 1310k    0   597   7819      3 --:--:--  0:02:51 --:--:-- 16481"
       ]
      },
      {
       "output_type": "stream",
       "stream": "stdout",
       "text": [
        "\r",
        "100 1310k    0 1310k    0   597   7774      3 --:--:--  0:02:52 --:--:-- 14842"
       ]
      },
      {
       "output_type": "stream",
       "stream": "stdout",
       "text": [
        "\r",
        "100 1310k    0 1310k    0   597   7729      3 --:--:--  0:02:53 --:--:--  8232"
       ]
      },
      {
       "output_type": "stream",
       "stream": "stdout",
       "text": [
        "\r",
        "100 1310k    0 1310k    0   597   7684      3 --:--:--  0:02:54 --:--:--     0"
       ]
      },
      {
       "output_type": "stream",
       "stream": "stdout",
       "text": [
        "\r",
        "100 1310k    0 1310k    0   597   7641      3 --:--:--  0:02:55 --:--:--     0"
       ]
      },
      {
       "output_type": "stream",
       "stream": "stdout",
       "text": [
        "\r",
        "100 1310k    0 1310k    0   597   7597      3 --:--:--  0:02:56 --:--:--     0"
       ]
      },
      {
       "output_type": "stream",
       "stream": "stdout",
       "text": [
        "\r",
        "100 1310k    0 1310k    0   597   7554      3 --:--:--  0:02:57 --:--:--     0"
       ]
      },
      {
       "output_type": "stream",
       "stream": "stdout",
       "text": [
        "\r",
        "100 1310k    0 1310k    0   597   7512      3 --:--:--  0:02:58 --:--:--     0"
       ]
      },
      {
       "output_type": "stream",
       "stream": "stdout",
       "text": [
        "\r",
        "100 1310k    0 1310k    0   597   7470      3 --:--:--  0:02:59 --:--:--     0"
       ]
      },
      {
       "output_type": "stream",
       "stream": "stdout",
       "text": [
        "\r",
        "100 1310k    0 1310k    0   597   7429      3 --:--:--  0:03:00 --:--:--     0"
       ]
      },
      {
       "output_type": "stream",
       "stream": "stdout",
       "text": [
        "\r",
        "100 1310k    0 1310k    0   597   7388      3 --:--:--  0:03:01 --:--:--     0"
       ]
      },
      {
       "output_type": "stream",
       "stream": "stdout",
       "text": [
        "\r",
        "100 1310k    0 1310k    0   597   7347      3 --:--:--  0:03:02 --:--:--     0"
       ]
      },
      {
       "output_type": "stream",
       "stream": "stdout",
       "text": [
        "\r",
        "100 1311k    0 1311k    0   597   7335      3 --:--:--  0:03:03 --:--:--   318"
       ]
      },
      {
       "output_type": "stream",
       "stream": "stdout",
       "text": [
        "\r",
        "100 1351k    0 1351k    0   597   7527      3 --:--:--  0:03:03 --:--:--  9934"
       ]
      },
      {
       "output_type": "stream",
       "stream": "stdout",
       "text": [
        "\r",
        "100 1390k    0 1390k    0   597   7672      3 --:--:--  0:03:05 --:--:-- 16577"
       ]
      },
      {
       "output_type": "stream",
       "stream": "stdout",
       "text": [
        "\r",
        "100 1390k    0 1390k    0   597   7631      3 --:--:--  0:03:06 --:--:-- 16577"
       ]
      },
      {
       "output_type": "stream",
       "stream": "stdout",
       "text": [
        "\r",
        "100 1390k    0 1390k    0   597   7590      3 --:--:--  0:03:07 --:--:-- 16577"
       ]
      },
      {
       "output_type": "stream",
       "stream": "stdout",
       "text": [
        "\r",
        "100 1390k    0 1390k    0   597   7550      3 --:--:--  0:03:08 --:--:-- 14817"
       ]
      },
      {
       "output_type": "stream",
       "stream": "stdout",
       "text": [
        "\r",
        "100 1390k    0 1390k    0   597   7510      3 --:--:--  0:03:09 --:--:--  6952"
       ]
      },
      {
       "output_type": "stream",
       "stream": "stdout",
       "text": [
        "\r",
        "100 1390k    0 1390k    0   597   7471      3 --:--:--  0:03:10 --:--:--     0"
       ]
      },
      {
       "output_type": "stream",
       "stream": "stdout",
       "text": [
        "\r",
        "100 1390k    0 1390k    0   597   7432      3 --:--:--  0:03:11 --:--:--     0"
       ]
      },
      {
       "output_type": "stream",
       "stream": "stdout",
       "text": [
        "\r",
        "100 1390k    0 1390k    0   597   7393      3 --:--:--  0:03:12 --:--:--     0"
       ]
      },
      {
       "output_type": "stream",
       "stream": "stdout",
       "text": [
        "\r",
        "100 1390k    0 1390k    0   597   7355      3 --:--:--  0:03:13 --:--:--     0"
       ]
      },
      {
       "output_type": "stream",
       "stream": "stdout",
       "text": [
        "\r",
        "100 1390k    0 1390k    0   597   7317      3 --:--:--  0:03:14 --:--:--     0"
       ]
      },
      {
       "output_type": "stream",
       "stream": "stdout",
       "text": [
        "\r",
        "100 1390k    0 1390k    0   597   7279      3 --:--:--  0:03:15 --:--:--     0"
       ]
      },
      {
       "output_type": "stream",
       "stream": "stdout",
       "text": [
        "\r",
        "100 1390k    0 1390k    0   597   7242      3 --:--:--  0:03:16 --:--:--     0"
       ]
      },
      {
       "output_type": "stream",
       "stream": "stdout",
       "text": [
        "\r",
        "100 1390k    0 1390k    0   597   7206      3 --:--:--  0:03:17 --:--:--     0"
       ]
      },
      {
       "output_type": "stream",
       "stream": "stdout",
       "text": [
        "\r",
        "100 1390k    0 1390k    0   597   7169      3 --:--:--  0:03:18 --:--:--     0"
       ]
      },
      {
       "output_type": "stream",
       "stream": "stdout",
       "text": [
        "\r",
        "100 1390k    0 1390k    0   597   7133      2 --:--:--  0:03:19 --:--:--     0"
       ]
      },
      {
       "output_type": "stream",
       "stream": "stdout",
       "text": [
        "\r",
        "100 1390k    0 1390k    0   597   7098      2 --:--:--  0:03:20 --:--:--     0"
       ]
      },
      {
       "output_type": "stream",
       "stream": "stdout",
       "text": [
        "\r",
        "100 1391k    0 1391k    0   597   7090      2 --:--:--  0:03:21 --:--:--   325"
       ]
      },
      {
       "output_type": "stream",
       "stream": "stdout",
       "text": [
        "\r",
        "100 1431k    0 1431k    0   597   7265      2 --:--:--  0:03:21 --:--:-- 10028"
       ]
      },
      {
       "output_type": "stream",
       "stream": "stdout",
       "text": [
        "\r",
        "100 1470k    0 1470k    0   597   7400      2 --:--:--  0:03:23 --:--:-- 16805"
       ]
      },
      {
       "output_type": "stream",
       "stream": "stdout",
       "text": [
        "\r",
        "100 1470k    0 1470k    0   597   7364      2 --:--:--  0:03:24 --:--:-- 16805"
       ]
      },
      {
       "output_type": "stream",
       "stream": "stdout",
       "text": [
        "\r",
        "100 1470k    0 1470k    0   597   7328      2 --:--:--  0:03:25 --:--:-- 16808"
       ]
      },
      {
       "output_type": "stream",
       "stream": "stdout",
       "text": [
        "\r",
        "100 1470k    0 1470k    0   597   7292      2 --:--:--  0:03:26 --:--:-- 14783"
       ]
      },
      {
       "output_type": "stream",
       "stream": "stdout",
       "text": [
        "\r",
        "100 1470k    0 1470k    0   597   7257      2 --:--:--  0:03:27 --:--:--  6983"
       ]
      },
      {
       "output_type": "stream",
       "stream": "stdout",
       "text": [
        "\r",
        "100 1470k    0 1470k    0   597   7222      2 --:--:--  0:03:28 --:--:--     0"
       ]
      },
      {
       "output_type": "stream",
       "stream": "stdout",
       "text": [
        "\r",
        "100 1470k    0 1470k    0   597   7188      2 --:--:--  0:03:29 --:--:--     0"
       ]
      },
      {
       "output_type": "stream",
       "stream": "stdout",
       "text": [
        "\r",
        "100 1470k    0 1470k    0   597   7153      2 --:--:--  0:03:30 --:--:--     0"
       ]
      },
      {
       "output_type": "stream",
       "stream": "stdout",
       "text": [
        "\r",
        "100 1470k    0 1470k    0   597   7120      2 --:--:--  0:03:31 --:--:--     0"
       ]
      },
      {
       "output_type": "stream",
       "stream": "stdout",
       "text": [
        "\r",
        "100 1470k    0 1470k    0   597   7086      2 --:--:--  0:03:32 --:--:--     0"
       ]
      },
      {
       "output_type": "stream",
       "stream": "stdout",
       "text": [
        "\r",
        "100 1470k    0 1470k    0   597   7053      2 --:--:--  0:03:33 --:--:--     0"
       ]
      },
      {
       "output_type": "stream",
       "stream": "stdout",
       "text": [
        "\r",
        "100 1470k    0 1470k    0   597   7020      2 --:--:--  0:03:34 --:--:--     0"
       ]
      },
      {
       "output_type": "stream",
       "stream": "stdout",
       "text": [
        "\r",
        "100 1470k    0 1470k    0   597   6987      2 --:--:--  0:03:35 --:--:--     0"
       ]
      },
      {
       "output_type": "stream",
       "stream": "stdout",
       "text": [
        "\r",
        "100 1470k    0 1470k    0   597   6955      2 --:--:--  0:03:36 --:--:--     0"
       ]
      },
      {
       "output_type": "stream",
       "stream": "stdout",
       "text": [
        "\r",
        "100 1470k    0 1470k    0   597   6923      2 --:--:--  0:03:37 --:--:--     0"
       ]
      },
      {
       "output_type": "stream",
       "stream": "stdout",
       "text": [
        "\r",
        "100 1470k    0 1470k    0   597   6891      2 --:--:--  0:03:38 --:--:--     0"
       ]
      },
      {
       "output_type": "stream",
       "stream": "stdout",
       "text": [
        "\r",
        "100 1470k    0 1470k    0   597   6860      2 --:--:--  0:03:39 --:--:--     0"
       ]
      },
      {
       "output_type": "stream",
       "stream": "stdout",
       "text": [
        "\r",
        "100 1479k    0 1479k    0   597   6892      2 --:--:--  0:03:39 --:--:--  2193"
       ]
      },
      {
       "output_type": "stream",
       "stream": "stdout",
       "text": [
        "\r",
        "100 1535k    0 1535k    0   597   7119      2 --:--:--  0:03:40 --:--:-- 15147"
       ]
      },
      {
       "output_type": "stream",
       "stream": "stdout",
       "text": [
        "\r",
        "100 1550k    0 1550k    0   597   7148      2 --:--:--  0:03:42 --:--:-- 17825"
       ]
      },
      {
       "output_type": "stream",
       "stream": "stdout",
       "text": [
        "\r",
        "100 1550k    0 1550k    0   597   7116      2 --:--:--  0:03:43 --:--:-- 17825"
       ]
      },
      {
       "output_type": "stream",
       "stream": "stdout",
       "text": [
        "\r",
        "100 1550k    0 1550k    0   597   7084      2 --:--:--  0:03:44 --:--:-- 17821"
       ]
      },
      {
       "output_type": "stream",
       "stream": "stdout",
       "text": [
        "\r",
        "100 1550k    0 1550k    0   597   7053      2 --:--:--  0:03:45 --:--:-- 13862"
       ]
      },
      {
       "output_type": "stream",
       "stream": "stdout",
       "text": [
        "\r",
        "100 1550k    0 1550k    0   597   7022      2 --:--:--  0:03:46 --:--:--  2879"
       ]
      },
      {
       "output_type": "stream",
       "stream": "stdout",
       "text": [
        "\r",
        "100 1550k    0 1550k    0   597   6991      2 --:--:--  0:03:47 --:--:--     0"
       ]
      },
      {
       "output_type": "stream",
       "stream": "stdout",
       "text": [
        "\r",
        "100 1550k    0 1550k    0   597   6960      2 --:--:--  0:03:48 --:--:--     0"
       ]
      },
      {
       "output_type": "stream",
       "stream": "stdout",
       "text": [
        "\r",
        "100 1550k    0 1550k    0   597   6930      2 --:--:--  0:03:49 --:--:--     0"
       ]
      },
      {
       "output_type": "stream",
       "stream": "stdout",
       "text": [
        "\r",
        "100 1550k    0 1550k    0   597   6899      2 --:--:--  0:03:50 --:--:--     0"
       ]
      },
      {
       "output_type": "stream",
       "stream": "stdout",
       "text": [
        "\r",
        "100 1550k    0 1550k    0   597   6870      2 --:--:--  0:03:51 --:--:--     0"
       ]
      },
      {
       "output_type": "stream",
       "stream": "stdout",
       "text": [
        "\r",
        "100 1550k    0 1550k    0   597   6840      2 --:--:--  0:03:52 --:--:--     0"
       ]
      },
      {
       "output_type": "stream",
       "stream": "stdout",
       "text": [
        "\r",
        "100 1550k    0 1550k    0   597   6811      2 --:--:--  0:03:53 --:--:--     0"
       ]
      },
      {
       "output_type": "stream",
       "stream": "stdout",
       "text": [
        "\r",
        "100 1550k    0 1550k    0   597   6781      2 --:--:--  0:03:54 --:--:--     0"
       ]
      },
      {
       "output_type": "stream",
       "stream": "stdout",
       "text": [
        "\r",
        "100 1550k    0 1550k    0   597   6752      2 --:--:--  0:03:55 --:--:--     0"
       ]
      },
      {
       "output_type": "stream",
       "stream": "stdout",
       "text": [
        "\r",
        "100 1550k    0 1550k    0   597   6724      2 --:--:--  0:03:56 --:--:--     0"
       ]
      },
      {
       "output_type": "stream",
       "stream": "stdout",
       "text": [
        "\r",
        "100 1550k    0 1550k    0   597   6695      2 --:--:--  0:03:57 --:--:--     0"
       ]
      },
      {
       "output_type": "stream",
       "stream": "stdout",
       "text": [
        "\r",
        "100 1550k    0 1550k    0   597   6667      2 --:--:--  0:03:58 --:--:--     0"
       ]
      },
      {
       "output_type": "stream",
       "stream": "stdout",
       "text": [
        "\r",
        "100 1550k    0 1550k    0   597   6639      2 --:--:--  0:03:59 --:--:--     0"
       ]
      },
      {
       "output_type": "stream",
       "stream": "stdout",
       "text": [
        "\r",
        "100 1575k    0 1575k    0   597   6726      2 --:--:--  0:03:59 --:--:--  5405"
       ]
      },
      {
       "output_type": "stream",
       "stream": "stdout",
       "text": [
        "\r",
        "100 1631k    0 1631k    0   597   6935      2 --:--:--  0:04:00 --:--:-- 17306"
       ]
      },
      {
       "output_type": "stream",
       "stream": "stdout",
       "text": [
        "\r",
        "100 1638k    0 1638k    0   597   6934      2 --:--:--  0:04:01 --:--:-- 18704"
       ]
      },
      {
       "output_type": "stream",
       "stream": "stdout",
       "text": [
        "\r",
        "100 1638k    0 1638k    0   597   6906      2 --:--:--  0:04:02 --:--:-- 18704"
       ]
      },
      {
       "output_type": "stream",
       "stream": "stdout",
       "text": [
        "\r",
        "100 1638k    0 1638k    0   597   6877      2 --:--:--  0:04:03 --:--:-- 18704"
       ]
      },
      {
       "output_type": "stream",
       "stream": "stdout",
       "text": [
        "\r",
        "100 1638k    0 1638k    0   597   6849      2 --:--:--  0:04:04 --:--:-- 12778"
       ]
      },
      {
       "output_type": "stream",
       "stream": "stdout",
       "text": [
        "\r",
        "100 1638k    0 1638k    0   597   6821      2 --:--:--  0:04:05 --:--:--  1347"
       ]
      },
      {
       "output_type": "stream",
       "stream": "stdout",
       "text": [
        "\r",
        "100 1638k    0 1638k    0   597   6794      2 --:--:--  0:04:06 --:--:--     0"
       ]
      },
      {
       "output_type": "stream",
       "stream": "stdout",
       "text": [
        "\r",
        "100 1638k    0 1638k    0   597   6766      2 --:--:--  0:04:07 --:--:--     0"
       ]
      },
      {
       "output_type": "stream",
       "stream": "stdout",
       "text": [
        "\r",
        "100 1638k    0 1638k    0   597   6739      2 --:--:--  0:04:08 --:--:--     0"
       ]
      },
      {
       "output_type": "stream",
       "stream": "stdout",
       "text": [
        "\r",
        "100 1638k    0 1638k    0   597   6712      2 --:--:--  0:04:09 --:--:--     0"
       ]
      },
      {
       "output_type": "stream",
       "stream": "stdout",
       "text": [
        "\r",
        "100 1638k    0 1638k    0   597   6685      2 --:--:--  0:04:10 --:--:--     0"
       ]
      },
      {
       "output_type": "stream",
       "stream": "stdout",
       "text": [
        "\r",
        "100 1638k    0 1638k    0   597   6659      2 --:--:--  0:04:11 --:--:--     0"
       ]
      },
      {
       "output_type": "stream",
       "stream": "stdout",
       "text": [
        "\r",
        "100 1638k    0 1638k    0   597   6632      2 --:--:--  0:04:12 --:--:--     0"
       ]
      },
      {
       "output_type": "stream",
       "stream": "stdout",
       "text": [
        "\r",
        "100 1638k    0 1638k    0   597   6606      2 --:--:--  0:04:13 --:--:--     0"
       ]
      },
      {
       "output_type": "stream",
       "stream": "stdout",
       "text": [
        "\r",
        "100 1638k    0 1638k    0   597   6580      2 --:--:--  0:04:14 --:--:--     0"
       ]
      },
      {
       "output_type": "stream",
       "stream": "stdout",
       "text": [
        "\r",
        "100 1638k    0 1638k    0   597   6555      2 --:--:--  0:04:15 --:--:--     0"
       ]
      },
      {
       "output_type": "stream",
       "stream": "stdout",
       "text": [
        "\r",
        "100 1638k    0 1638k    0   597   6529      2 --:--:--  0:04:16 --:--:--     0"
       ]
      },
      {
       "output_type": "stream",
       "stream": "stdout",
       "text": [
        "\r",
        "100 1638k    0 1638k    0   597   6504      2 --:--:--  0:04:17 --:--:--     0"
       ]
      },
      {
       "output_type": "stream",
       "stream": "stdout",
       "text": [
        "\r",
        "100 1679k    0 1679k    0   597   6644      2 --:--:--  0:04:18 --:--:--  8606"
       ]
      },
      {
       "output_type": "stream",
       "stream": "stdout",
       "text": [
        "\r",
        "100 1717k    0 1717k    0   597   6756      2 --:--:--  0:04:20 --:--:-- 14917"
       ]
      },
      {
       "output_type": "stream",
       "stream": "stdout",
       "text": [
        "\r",
        "100 1717k    0 1717k    0   597   6730      2 --:--:--  0:04:21 --:--:-- 14917"
       ]
      },
      {
       "output_type": "stream",
       "stream": "stdout",
       "text": [
        "\r",
        "100 1717k    0 1717k    0   597   6704      2 --:--:--  0:04:22 --:--:-- 14917"
       ]
      },
      {
       "output_type": "stream",
       "stream": "stdout",
       "text": [
        "\r",
        "100 1717k    0 1717k    0   597   6679      2 --:--:--  0:04:23 --:--:-- 14917"
       ]
      },
      {
       "output_type": "stream",
       "stream": "stdout",
       "text": [
        "\r",
        "100 1717k    0 1717k    0   597   6654      2 --:--:--  0:04:24 --:--:--  7085"
       ]
      },
      {
       "output_type": "stream",
       "stream": "stdout",
       "text": [
        "\r",
        "100 1717k    0 1717k    0   597   6628      2 --:--:--  0:04:25 --:--:--     0"
       ]
      },
      {
       "output_type": "stream",
       "stream": "stdout",
       "text": [
        "\r",
        "100 1717k    0 1717k    0   597   6604      2 --:--:--  0:04:26 --:--:--     0"
       ]
      },
      {
       "output_type": "stream",
       "stream": "stdout",
       "text": [
        "\r",
        "100 1717k    0 1717k    0   597   6579      2 --:--:--  0:04:27 --:--:--     0"
       ]
      },
      {
       "output_type": "stream",
       "stream": "stdout",
       "text": [
        "\r",
        "100 1717k    0 1717k    0   597   6554      2 --:--:--  0:04:28 --:--:--     0"
       ]
      },
      {
       "output_type": "stream",
       "stream": "stdout",
       "text": [
        "\r",
        "100 1717k    0 1717k    0   597   6530      2 --:--:--  0:04:29 --:--:--     0"
       ]
      },
      {
       "output_type": "stream",
       "stream": "stdout",
       "text": [
        "\r",
        "100 1717k    0 1717k    0   597   6506      2 --:--:--  0:04:30 --:--:--     0"
       ]
      },
      {
       "output_type": "stream",
       "stream": "stdout",
       "text": [
        "\r",
        "100 1717k    0 1717k    0   597   6482      2 --:--:--  0:04:31 --:--:--     0"
       ]
      },
      {
       "output_type": "stream",
       "stream": "stdout",
       "text": [
        "\r",
        "100 1717k    0 1717k    0   597   6458      2 --:--:--  0:04:32 --:--:--     0"
       ]
      },
      {
       "output_type": "stream",
       "stream": "stdout",
       "text": [
        "\r",
        "100 1717k    0 1717k    0   597   6434      2 --:--:--  0:04:33 --:--:--     0"
       ]
      },
      {
       "output_type": "stream",
       "stream": "stdout",
       "text": [
        "\r",
        "100 1717k    0 1717k    0   597   6411      2 --:--:--  0:04:34 --:--:--     0"
       ]
      },
      {
       "output_type": "stream",
       "stream": "stdout",
       "text": [
        "\r",
        "100 1717k    0 1717k    0   597   6388      2 --:--:--  0:04:35 --:--:--     0"
       ]
      },
      {
       "output_type": "stream",
       "stream": "stdout",
       "text": [
        "\r",
        "100 1717k    0 1717k    0   597   6364      2 --:--:--  0:04:36 --:--:--     0"
       ]
      },
      {
       "output_type": "stream",
       "stream": "stdout",
       "text": [
        "\r",
        "100 1717k    0 1717k    0   597   6341      2 --:--:--  0:04:37 --:--:--     0"
       ]
      },
      {
       "output_type": "stream",
       "stream": "stdout",
       "text": [
        "\r",
        "100 1727k    0 1727k    0   597   6366      2 --:--:--  0:04:37 --:--:--  2157"
       ]
      },
      {
       "output_type": "stream",
       "stream": "stdout",
       "text": [
        "\r",
        "100 1783k    0 1783k    0   597   6547      2 --:--:--  0:04:38 --:--:-- 14798"
       ]
      },
      {
       "output_type": "stream",
       "stream": "stdout",
       "text": [
        "\r",
        "100 1805k    0 1805k    0   597   6600      2 --:--:--  0:04:40 --:--:-- 18784"
       ]
      },
      {
       "output_type": "stream",
       "stream": "stdout",
       "text": [
        "\r",
        "100 1805k    0 1805k    0   597   6576      2 --:--:--  0:04:41 --:--:-- 18784"
       ]
      },
      {
       "output_type": "stream",
       "stream": "stdout",
       "text": [
        "\r",
        "100 1805k    0 1805k    0   597   6553      2 --:--:--  0:04:42 --:--:-- 18784"
       ]
      },
      {
       "output_type": "stream",
       "stream": "stdout",
       "text": [
        "\r",
        "100 1805k    0 1805k    0   597   6530      2 --:--:--  0:04:43 --:--:-- 15075"
       ]
      },
      {
       "output_type": "stream",
       "stream": "stdout",
       "text": [
        "\r",
        "100 1805k    0 1805k    0   597   6507      2 --:--:--  0:04:44 --:--:--  4379"
       ]
      },
      {
       "output_type": "stream",
       "stream": "stdout",
       "text": [
        "\r",
        "100 1805k    0 1805k    0   597   6484      2 --:--:--  0:04:45 --:--:--     0"
       ]
      },
      {
       "output_type": "stream",
       "stream": "stdout",
       "text": [
        "\r",
        "100 1805k    0 1805k    0   597   6461      2 --:--:--  0:04:46 --:--:--     0"
       ]
      },
      {
       "output_type": "stream",
       "stream": "stdout",
       "text": [
        "\r",
        "100 1805k    0 1805k    0   597   6439      2 --:--:--  0:04:47 --:--:--     0"
       ]
      },
      {
       "output_type": "stream",
       "stream": "stdout",
       "text": [
        "\r",
        "100 1805k    0 1805k    0   597   6416      2 --:--:--  0:04:48 --:--:--     0"
       ]
      },
      {
       "output_type": "stream",
       "stream": "stdout",
       "text": [
        "\r",
        "100 1805k    0 1805k    0   597   6394      2 --:--:--  0:04:49 --:--:--     0"
       ]
      },
      {
       "output_type": "stream",
       "stream": "stdout",
       "text": [
        "\r",
        "100 1805k    0 1805k    0   597   6372      2 --:--:--  0:04:50 --:--:--     0"
       ]
      },
      {
       "output_type": "stream",
       "stream": "stdout",
       "text": [
        "\r",
        "100 1805k    0 1805k    0   597   6350      2 --:--:--  0:04:51 --:--:--     0"
       ]
      },
      {
       "output_type": "stream",
       "stream": "stdout",
       "text": [
        "\r",
        "100 1805k    0 1805k    0   597   6328      2 --:--:--  0:04:52 --:--:--     0"
       ]
      },
      {
       "output_type": "stream",
       "stream": "stdout",
       "text": [
        "\r",
        "100 1805k    0 1805k    0   597   6307      2 --:--:--  0:04:53 --:--:--     0"
       ]
      },
      {
       "output_type": "stream",
       "stream": "stdout",
       "text": [
        "\r",
        "100 1805k    0 1805k    0   597   6285      2 --:--:--  0:04:54 --:--:--     0"
       ]
      },
      {
       "output_type": "stream",
       "stream": "stdout",
       "text": [
        "\r",
        "100 1805k    0 1805k    0   597   6264      2 --:--:--  0:04:55 --:--:--     0"
       ]
      },
      {
       "output_type": "stream",
       "stream": "stdout",
       "text": [
        "\r",
        "100 1805k    0 1805k    0   597   6243      2 --:--:--  0:04:56 --:--:--     0"
       ]
      },
      {
       "output_type": "stream",
       "stream": "stdout",
       "text": [
        "\r",
        "100 1805k    0 1805k    0   597   6222      2 --:--:--  0:04:57 --:--:--     0"
       ]
      },
      {
       "output_type": "stream",
       "stream": "stdout",
       "text": [
        "\r",
        "100 1815k    0 1815k    0   597   6241      2 --:--:--  0:04:57 --:--:--  2069"
       ]
      },
      {
       "output_type": "stream",
       "stream": "stdout",
       "text": [
        "\r",
        "100 1829k    0 1829k    0   597   6266      1 --:--:--  0:04:59 --:--:--  5099"
       ]
      },
      {
       "output_type": "stream",
       "stream": "stdout",
       "text": [
        "\r",
        "100 1829k    0 1829k    0   597   6245      1 --:--:--  0:05:00 --:--:--  5099"
       ]
      },
      {
       "output_type": "stream",
       "stream": "stdout",
       "text": [
        "\r",
        "100 1829k    0 1829k    0   597   6224      1 --:--:--  0:05:01 --:--:--  5099"
       ]
      },
      {
       "output_type": "stream",
       "stream": "stdout",
       "text": [
        "\r",
        "100 1829k    0 1829k    0   597   6204      1 --:--:--  0:05:02 --:--:--  5099"
       ]
      },
      {
       "output_type": "stream",
       "stream": "stdout",
       "text": [
        "\r",
        "100 1829k    0 1829k    0   597   6183      1 --:--:--  0:05:03 --:--:--  2884"
       ]
      },
      {
       "output_type": "stream",
       "stream": "stdout",
       "text": [
        "\r",
        "100 1829k    0 1829k    0   597   6163      1 --:--:--  0:05:04 --:--:--     0"
       ]
      },
      {
       "output_type": "stream",
       "stream": "stdout",
       "text": [
        "\r",
        "100 1829k    0 1829k    0   597   6143      1 --:--:--  0:05:05 --:--:--     0"
       ]
      },
      {
       "output_type": "stream",
       "stream": "stdout",
       "text": [
        "\r",
        "100 1829k    0 1829k    0   597   6123      1 --:--:--  0:05:06 --:--:--     0"
       ]
      },
      {
       "output_type": "stream",
       "stream": "stdout",
       "text": [
        "\r",
        "100 1829k    0 1829k    0   597   6103      1 --:--:--  0:05:07 --:--:--     0"
       ]
      },
      {
       "output_type": "stream",
       "stream": "stdout",
       "text": [
        "\r",
        "100 1829k    0 1829k    0   597   6083      1 --:--:--  0:05:08 --:--:--     0"
       ]
      },
      {
       "output_type": "stream",
       "stream": "stdout",
       "text": [
        "\r",
        "100 1829k    0 1829k    0   597   6063      1 --:--:--  0:05:09 --:--:--     0"
       ]
      },
      {
       "output_type": "stream",
       "stream": "stdout",
       "text": [
        "\r",
        "100 1829k    0 1829k    0   597   6043      1 --:--:--  0:05:10 --:--:--     0"
       ]
      },
      {
       "output_type": "stream",
       "stream": "stdout",
       "text": [
        "\r",
        "100 1829k    0 1829k    0   597   6024      1 --:--:--  0:05:11 --:--:--     0"
       ]
      },
      {
       "output_type": "stream",
       "stream": "stdout",
       "text": [
        "\r",
        "100 1829k    0 1829k    0   597   6005      1 --:--:--  0:05:12 --:--:--     0"
       ]
      },
      {
       "output_type": "stream",
       "stream": "stdout",
       "text": [
        "\r",
        "100 1829k    0 1829k    0   597   5985      1 --:--:--  0:05:13 --:--:--     0"
       ]
      },
      {
       "output_type": "stream",
       "stream": "stdout",
       "text": [
        "\r",
        "100 1829k    0 1829k    0   597   5966      1 --:--:--  0:05:14 --:--:--     0"
       ]
      },
      {
       "output_type": "stream",
       "stream": "stdout",
       "text": [
        "\r",
        "100 1829k    0 1829k    0   597   5947      1 --:--:--  0:05:15 --:--:--     0"
       ]
      },
      {
       "output_type": "stream",
       "stream": "stdout",
       "text": [
        "\r",
        "100 1829k    0 1829k    0   597   5929      1 --:--:--  0:05:16 --:--:--     0"
       ]
      },
      {
       "output_type": "stream",
       "stream": "stdout",
       "text": [
        "\r",
        "100 1829k    0 1829k    0   597   5910      1 --:--:--  0:05:17 --:--:--     0"
       ]
      },
      {
       "output_type": "stream",
       "stream": "stdout",
       "text": [
        "\r",
        "100 1831k    0 1831k    0   597   5900      1 --:--:--  0:05:17 --:--:--   300\r",
        "100 1836k    0 1836k    0   597   5918      1 --:--:--  0:05:17 --:--:--  1889\r\n"
       ]
      }
     ],
     "prompt_number": 12
    },
    {
     "cell_type": "heading",
     "level": 2,
     "metadata": {},
     "source": [
      "Lists"
     ]
    },
    {
     "cell_type": "heading",
     "level": 3,
     "metadata": {},
     "source": [
      "Cancer Gene Census"
     ]
    },
    {
     "cell_type": "markdown",
     "metadata": {},
     "source": [
      "Preparing the list of CGC genes:"
     ]
    },
    {
     "cell_type": "code",
     "collapsed": false,
     "input": [
      "os.chdir(WORK_PATH)\n",
      "if not os.path.exists(\"cgc_genes.tsv\"):\n",
      "    !wget -c -nv http://cancer.sanger.ac.uk/cancergenome/assets/cancer_gene_census.tsv\n",
      "\n",
      "!cat cancer_gene_census.tsv | tr \"\\r\" \"\\n\" | tail -n+2 >cgc.tsv\n",
      "!cat cgc.tsv | cut -s -f1 | sort -u >CGC.list\n",
      "!cat cgc.tsv | cut -s -f1,12 | awk 'BEGIN{FS=\"\\t\";OFS=\"\\t\"}($2==\"Dom\"){print $1}' | sort -u >CGCD.list\n",
      "!cat cgc.tsv | cut -s -f1,12 | awk 'BEGIN{FS=\"\\t\";OFS=\"\\t\"}($2==\"Rec\"){print $1}' | sort -u >CGCR.list\n",
      "!wc -l CGC.list\n",
      "!wc -l CGCD.list\n",
      "!wc -l CGCR.list"
     ],
     "language": "python",
     "metadata": {},
     "outputs": [
      {
       "output_type": "stream",
       "stream": "stdout",
       "text": [
        "522 CGC.list\r\n"
       ]
      },
      {
       "output_type": "stream",
       "stream": "stdout",
       "text": [
        "393 CGCD.list\r\n"
       ]
      },
      {
       "output_type": "stream",
       "stream": "stdout",
       "text": [
        "108 CGCR.list\r\n"
       ]
      }
     ],
     "prompt_number": 18
    },
    {
     "cell_type": "code",
     "collapsed": false,
     "input": [
      "CGC = set()\n",
      "with open(os.path.join(WORK_PATH, \"CGC.list\")) as f:\n",
      "    for line in f:\n",
      "        CGC.add(line.rstrip(\"\\n\"))\n",
      "\n",
      "CGCD = set()\n",
      "with open(os.path.join(WORK_PATH, \"CGCD.list\")) as f:\n",
      "    for line in f:\n",
      "        CGCD.add(line.rstrip(\"\\n\"))\n",
      "\n",
      "CGCR = set()\n",
      "with open(os.path.join(WORK_PATH, \"CGCR.list\")) as f:\n",
      "    for line in f:\n",
      "        CGCR.add(line.rstrip(\"\\n\"))"
     ],
     "language": "python",
     "metadata": {},
     "outputs": [],
     "prompt_number": 29
    },
    {
     "cell_type": "heading",
     "level": 3,
     "metadata": {},
     "source": [
      "CHASM drivers & passengers"
     ]
    },
    {
     "cell_type": "markdown",
     "metadata": {},
     "source": [
      "Preparing the list of driver genes in *CHASM*:"
     ]
    },
    {
     "cell_type": "code",
     "collapsed": false,
     "input": [
      "os.chdir(WORK_PATH)\n",
      "tar_file = \"ClassifierPack.1.0.8.tar.gz\"\n",
      "if not os.path.exists(tar_file):\n",
      "    !wget -c -nv http://karchinlab.org/chasmdl/ClassifierPack.1.0.8.tar.gz\n",
      "!tar -xOf $tar_file ClassifierPack/drivers.tmps >drivers.tmps\n",
      "!cat drivers.tmps | cut -s -f1 | grep ENST | sort -u >CD.list\n",
      "!wc -l drivers.tmps\n",
      "!wc -l CD.list"
     ],
     "language": "python",
     "metadata": {},
     "outputs": [
      {
       "output_type": "stream",
       "stream": "stdout",
       "text": [
        "13885 drivers.tmps\r\n"
       ]
      },
      {
       "output_type": "stream",
       "stream": "stdout",
       "text": [
        "106 CD.list\r\n"
       ]
      }
     ],
     "prompt_number": 190
    },
    {
     "cell_type": "code",
     "collapsed": false,
     "input": [
      "os.chdir(WORK_PATH)\n",
      "tar_file = \"ClassifierPack.3.0.tar.gz\"\n",
      "if not os.path.exists(tar_file):\n",
      "    !wget -c -nv http://karchinlab.org/chasmdl/ClassifierPack.3.0.tar.gz\n",
      "!tar -xOf $tar_file ClassifierPack/drivers.tmps >drivers3.tmps\n",
      "!cat drivers3.tmps | cut -s -f1 | grep ENST | sort -u >CD3.list\n",
      "!wc -l drivers3.tmps\n",
      "!wc -l CD3.list"
     ],
     "language": "python",
     "metadata": {},
     "outputs": [
      {
       "output_type": "stream",
       "stream": "stdout",
       "text": [
        "13885 drivers3.tmps\r\n"
       ]
      },
      {
       "output_type": "stream",
       "stream": "stdout",
       "text": [
        "106 CD3.list\r\n"
       ]
      }
     ],
     "prompt_number": 191
    },
    {
     "cell_type": "code",
     "collapsed": false,
     "input": [
      "os.chdir(WORK_PATH)\n",
      "if not os.path.exists(\"CHASM64DL.3.0.tar.gz\"):\n",
      "    !wget -c -nv http://karchinlab.org/chasmdl/CHASM64DL.3.0.tar.gz\n",
      "\n",
      "if not os.path.exists(\"passengers.tmps\"):\n",
      "    !tar -xOf CHASM64DL.3.0.tar.gz CHASM/CHASM/BuiltClassifiers/OV/passengers.tmps >passengers.tmps\n",
      "\n",
      "import re\n",
      "line_re = re.compile(r\"^(.+)\\t([A-Z])(\\d+)([A-Z])$\")\n",
      "with open(\"passengers.tmps\") as f, open(\"snvs/synth-ov\", \"w\") as wf:\n",
      "    for line in f:\n",
      "        m = line_re.match(line.rstrip(\"\\n\"))\n",
      "        if m:\n",
      "            prot, ref, pos, alt = m.groups()\n",
      "            wf.write(\"\\t\".join([prot, pos, ref, alt]) + \"\\n\")\n",
      "\n",
      "!wc -l snvs/synth-ov"
     ],
     "language": "python",
     "metadata": {},
     "outputs": [
      {
       "output_type": "stream",
       "stream": "stdout",
       "text": [
        "14000 snvs/synth-ov\r\n"
       ]
      }
     ],
     "prompt_number": 188
    },
    {
     "cell_type": "markdown",
     "metadata": {},
     "source": [
      "Load the CHASM drivers:"
     ]
    },
    {
     "cell_type": "code",
     "collapsed": false,
     "input": [
      "CD = set()\n",
      "with open(os.path.join(WORK_PATH, \"CD.list\")) as f:\n",
      "    for line in f:\n",
      "        CD.add(line.rstrip(\"\\n\"))"
     ],
     "language": "python",
     "metadata": {},
     "outputs": [],
     "prompt_number": 31
    },
    {
     "cell_type": "heading",
     "level": 3,
     "metadata": {},
     "source": [
      "IntOGen Mutations"
     ]
    },
    {
     "cell_type": "markdown",
     "metadata": {},
     "source": [
      "List of IntOGen drivers in:\n",
      "\n",
      "[Comprehensive identification of mutational cancer driver genes across 12 tumor types](http://www.nature.com/srep/2013/131002/srep02650/full/srep02650.html)\n",
      "\n",
      "David Tamborero,\t Abel Gonzalez-Perez,\t Christian Perez-Llamas,\t Jordi Deu-Pons,\t Cyriac Kandoth,\t J\u00fcri Reimand,\t Michael S. Lawrence,\t Gad Getz,\t Gary D. Bader,\t Li Ding\t & Nuria Lopez-Bigas"
     ]
    },
    {
     "cell_type": "code",
     "collapsed": false,
     "input": [
      "TD = \"\"\"\n",
      "    AARS2,ABCB1,ABL1,ACVR1B,ADAM10,ADCY1,ADORA2A,AHNAK2,AJUBA,AKAP9,AKD1,AKT1,AMPH,ANAPC1,ANKRD12,APAF1,APC,AR,\n",
      "    ARHGAP32,ARHGAP35,ARHGEF6,ARID1A,ARID2,ARID5B,ASPM,ASXL1,ATG13,ATM,ATR,ATRX,AXIN2,B2M,BAP1,BARD1,BCLAF1,BCOR,\n",
      "    BLM,BRAF,BRCA1,BRCA2,BUB1B,CAD,CARM1,CASP8,CAST,CBFB,CCAR1,CCND1,CDC73,CDH1,CDK12,CDKN1A,CDKN1B,CDKN2A,CDKN2C,\n",
      "    CEBPA,CFH,CHD4,CHD8,CHEK2,CIC,CLIP1,CLTC,CLTCL1,COL18A1,CREB1,CRTC1,CRTC3,CSDE1,CTCF,CTNNB1,CTNND1,CTTN,CUL1,\n",
      "    CYLD,DD$X5,DHX9,DICER1,DMD,DNMT3A,DOCK2,EEF1A1,EGFR,EIF4A2,ELF3,EP300,ERBB2,ERBB2IP,ERCC2,ESR1,EWSR1,EZH2,FANCA,\n",
      "    FBN2,FBXO11,FBXW7,FES,FGFR2,FGFR3,FLT3,FN1,FOXA1,FOXA2,FRG1B,GATA3,GNAI1,GNAS,GOLGA5,GOT2,GPHN,GPS2,GTF2H1,\n",
      "    H3F3C,HGF,HLA-A,HLA-B,HMGXB4,HRAS,HSP90AB1,HSPA8,HUWE1,IDH1,IDH2,IRS2,ITGA6,JAK2,KALRN,KDM5C,KDM6A,KEAP1,\n",
      "    KIAA1109,KIFC3,KIT,KRAS,LCP1,LEPR,LIFR,LPP,LRRK2,LUM,LYN,LZTR1,MALAT1,MAP2K4,MAP3K1,MAP3K3,MAP3K4,MAPK8IP1,\n",
      "    MAST2,MATK,MAX,MDC1,MECOM,MED12,MED13,MED17,MEF2A,METTL14,MLL,MLL2,MLL3,MLLT10,MLLT3,MLLT4,MMP2,MN1,MSN,MST1,\n",
      "    MTOR,MYB,MYH9,NAV3,NBPF10,NCOA3,NCOA4,NCOR1,NCOR2,NEB,NEDD4L,NF1,NFE2L2,NIN,NLRP3,NONO,NOTCH1,NPM1,NR1H2,NR4A2,\n",
      "    NRAS,NSD1,NUMA1,NUP214,NUP93,NUP98,PABPC1,PBRM1,PCBP1,PCM1,PDGFRA,PHF6,PHLDA1,PIK3CA,PIK3CB,PIK3CG,PIK3R1,\n",
      "    PIP5K1A,PLCG1,PLEC,POTEF,PPP2R1A,PRKAR1A,PRKCD,PRPF8,PSEN1,PTEN,PTPN11,RAC1,RAD21,RANBP2,RANBP3,RASA1,RB1,RBMX,\n",
      "    RHEB,RHOA,RNF213,RNF43,RPGR,RPL22,RPL5,RPSAP58,RUNX1,RXRA,SETD2,SF3B1,SGK1,SIN3A,SMAD2,SMAD4,SMARCA4,SMC1A,SMC3,\n",
      "    SOS1,SOX17,SPATA6,SPEN,SPOP,STAG2,STAT3,STK11,SUZ12,SYNE1,TAF1,TBL1XR1,TBX3,TCF12,TCF7,TCF7L2,TET2,TFDP1,TGFBR2,\n",
      "    TGIF1,TJP2,TNFRSF10C,TOM1,TOP3A,TP53,TP53BP1,TPR,TRIM7,TRIO,TRIP11,TSC2,TUBA1A,TXNIP,U2AF1,UHRF1BP1L,VHL,WHSC1,\n",
      "    WHSC1L1,WRN,WT1,ZFHX3,ZFP36L1,ZFP36L2,ZMYM2,ZNF132,ZNF300,ZNF814,ZNF844,ZNF91\"\"\"\n",
      "\n",
      "TD = set(TD.replace(\"\\n\", \"\").replace(\" \", \"\").split(\",\"))\n",
      "\n",
      "with open(os.path.join(WORK_PATH, \"TD.list\"), \"w\") as f:\n",
      "    for d in TD:\n",
      "        f.write(d + \"\\n\")"
     ],
     "language": "python",
     "metadata": {},
     "outputs": [],
     "prompt_number": 32
    },
    {
     "cell_type": "markdown",
     "metadata": {},
     "source": [
      "List of IntOGen drivers in preparation for the next paper:"
     ]
    },
    {
     "cell_type": "code",
     "collapsed": false,
     "input": [
      "PD = \"\"\"\n",
      "    TP53,KRAS,PIK3CA,NRAS,IDH1,PTEN,RB1,BRAF,CDKN2A,CTNNB1,SF3B1,HRAS,FBXW7,FRG1B,NFE2L2,PIK3R1,CTCF,ARID1A,NF1,SMAD4,\n",
      "    EGFR,CASP8,AKT1,IDH2,RUNX1,ELF3,KEAP1,PPP6C,RAC1,SPOP,MLL3,MLL2,KDM6A,SETD2,MAP3K1,STAG2,FAT1,APC,ATRX,CDH1,GATA3,\n",
      "    RPL22,RPSAP58,DNMT3A,FUBP1,STK11,U2AF1,CDKN1B,MAP2K1,SMAD2,BAP1,CEBPA,CIC,KDM5C,MAP2K4,MYD88,NPM1,PBRM1,VHL,WT1,\n",
      "    CDKN1A,EIF1AX,SMARCA4,ATM,ARID2,CHD4,NCOR1,NOTCH1,PTPN11,MGA,RASA1,TGFBR2,ZNF814,CBFB,CREBBP,FAM123B,MYB,NSD1,\n",
      "    ACVR2A,CHD2,LPHN2,RBM10,ALK,FGFR2,FLT3,GNAS,PHF6,PPP2R1A,TCF7L2,ACTG1,B2M,CNOT4,MTOR,RHOA,RPL5,SOX9,TBL1XR1,TBX3,\n",
      "    CCND1,DDX5,FGFR1,KIT,SMO,TET2,ARID5B,CLCC1,CSNK2A1,EEF1A1,EPC1,EPHA2,FOXA1,FRG1,PABPC1,POT1,SCAI,TXNIP,ZFP36L1,\n",
      "    ZNF750,EP300,BCOR,BRCA1,MECOM,MED12,MYH9,NOTCH2,AKAP9,ASXL1,BLM,BRCA2,CDK12,CHEK2,CLTC,COL1A1,CYLD,DICER1,ERCC2,\n",
      "    EZH2,FGFR3,KDR,MLL,NUP98,PAX5,PRKAR1A,PTCH1,TCF12,WHSC1L1,ZMYM2,ABL2,ACSL3,ACSL6,AFF4,ARHGAP26,ATF1,ATIC,BCL11A,\n",
      "    C15orf55,CDC73,CDK4,CIITA,CRTC3,EIF4A2,ELF4,ERBB2,FAM46C,FAS,FBXO11,FCRL4,FIP1L1,FOXP1,FUS,GNA11,GOLGA5,HLF,HNF1A,\n",
      "    HSP90AA1,HSP90AB1,KAT6B,KLF6,LCP1,MEN1,MET,MKL1,MLH1,MLLT4,MYC,MYCN,MYH11,NDRG1,NF2,PER1,PRRX1,PSIP1,SFPQ,SMARCB1,\n",
      "    SRGAP3,SUZ12,SYK,THRAP3,TSC1,USP6,WHSC1,XPO1,DDX3X,ACVR1B,ANK3,AHNAK,ARHGAP35,BAZ2B,PRPF8,SVEP1,ARHGEF6,ASPM,BCLAF1,\n",
      "    CAD,CCAR1,CUL3,ERBB3,FN1,HDAC9,HLA-A,HLA-B,MAX,PCDH18,SPTAN1,TCF4,TP53BP1,ACTB,ACTG2,AQR,ARID1B,ATR,BPTF,BRWD1,CHD3,\n",
      "    CHD9,CNOT3,COPS2,CUL1,EEF1B2,EIF2AK3,EIF4G1,ERBB2IP,GPS2,KALRN,MACF1,MAP3K4,MSR1,MYH10,NEDD4L,NTN4,PLCB1,PTPRU,\n",
      "    RAD21,RBBP7,RGS3,SEC24D,SMC1A,STAG1,TAOK1,TAOK2,TFDP1,TJP2,TRIO,ZFHX3,ABCB1,ACACA,ACAD8,ACO1,ADAM10,ADCY1,AHCTF1,\n",
      "    AHR,APAF1,ARAP3,ARFGAP1,ARFGAP3,ARFGEF1,ARFGEF2,ARHGAP29,ARHGEF2,ARID4A,ARID4B,ARNTL,ASH1L,ATP6AP2,AXIN1,AXIN2,BMPR2,\n",
      "    BNC2,CAPN7,CARM1,CASP1,CAST,CAT,CCT5,CD36,CDC27,CEP290,CHD1L,CHD6,CHD8,CLASP2,CLOCK,CLSPN,CNOT1,CNTNAP1,CRNKL1,CSDA,\n",
      "    CSDE1,CSNK1G3,CTNND1,CTTN,CUL2,CUX1,CYTH4,DEPDC1B,DHX15,DHX35,DHX9,DIS3,DLG1,EFTUD2,EIF2C3,EIF4G3,ELF1,EPHA1,EPHA4,\n",
      "    EPHB2,F8,FAF1,FANCI,FAT2,FKBP5,FMR1,FOXA2,FXR1,G3BP1,G3BP2,GNAI1,GNG2,GPSM2,HCFC1,HDAC3,HGF,HNRPDL,HSPA8,ING1,INPP4A,\n",
      "    INPPL1,IREB2,IRF2,IRF6,IRF7,IRS2,ITGA9,ITSN1,JMY,KLF4,LAMA2,LDHA,LIMA1,LNPEP,LRP6,LRPPRC,MAGI2,MAP3K11,MAP4K1,\n",
      "    MAP4K3,MAT2A,MCM3,MCM8,MED17,MED23,MED24,MEF2C,MFNG,MGMT,MLH3,MMP2,MNDA,MUC20,MYH14,NAP1L1,NCF2,NCK1,NCKAP1,NCOR2,\n",
      "    NFATC4,NKX3-1,NR2F2,NR4A2,NTRK2,NUP107,NUP93,PABPC3,PCBP1,PCSK5,PCSK6,PGR,PIK3C2B,PIK3CB,PIK3R3,PIP5K1A,PLCG1,\n",
      "    PLXNA1,PLXNB2,POLR2B,POM121,PPM1D,PPP2R5A,PPP2R5C,PRKCZ,PSMA6,PSMD11,PSME3,PTGS1,PTPRF,RAD23B,RASA2,RASGRP1,RBM5,\n",
      "    RFC4,RHEB,RHOT1,ROBO2,RPGR,RTN4,SEC31A,SETDB1,SF3A3,SH2B3,SHMT1,SIN3A,SMARCA1,SMURF2,SOS1,SOS2,SOX17,SPRR3,SRGAP1,\n",
      "    STARD13,STIP1,STK4,SYNCRIP,TAF1,TFDP2,TJP1,TNPO1,TNPO2,TOM1,TRERF1,TRIP10,UPF3B,VIM,WASF3,WIPF1,WNK1,WNT5A,XRN1,YBX1,\n",
      "    ZC3H11A,ZFP36L2,ZNF292,ZNF638\"\"\"\n",
      "\n",
      "PD = set(PD.replace(\"\\n\", \"\").replace(\" \", \"\").split(\",\"))\n",
      "\n",
      "with open(os.path.join(WORK_PATH, \"PD.list\"), \"w\") as f:\n",
      "    for d in PD:\n",
      "        f.write(d + \"\\n\")"
     ],
     "language": "python",
     "metadata": {},
     "outputs": [],
     "prompt_number": 33
    },
    {
     "cell_type": "code",
     "collapsed": false,
     "input": [
      "TD_noCGC = TD - CGC\n",
      "print(\"TD_noCGC\", len(TD), len(CGC), len(TD & CGC), len(TD_noCGC))\n",
      "PD_noCGC = PD - CGC\n",
      "print(\"PD_noCGC\", len(PD), len(CGC), len(PD & CGC), len(PD_noCGC))\n",
      "TD_PD_CGC = TD | PD | CGC\n",
      "print(\"TD_PD_CGC\", len(TD_PD_CGC))"
     ],
     "language": "python",
     "metadata": {},
     "outputs": [
      {
       "output_type": "stream",
       "stream": "stdout",
       "text": [
        "TD_noCGC 291 522 127 164\n",
        "PD_noCGC 464 522 148 316\n",
        "TD_PD_CGC 915\n"
       ]
      }
     ],
     "prompt_number": 35
    },
    {
     "cell_type": "heading",
     "level": 2,
     "metadata": {},
     "source": [
      "Datasets"
     ]
    },
    {
     "cell_type": "code",
     "collapsed": false,
     "input": [
      "import numpy as np\n",
      "import pandas as pd\n",
      "\n",
      "def save(data, path, **save_opts):\n",
      "    #data[\"ID\"] = data.index.map(lambda x: \"ID\" + str(x))\n",
      "    data.to_csv(path, **save_opts)"
     ],
     "language": "python",
     "metadata": {},
     "outputs": [],
     "prompt_number": 27
    },
    {
     "cell_type": "heading",
     "level": 3,
     "metadata": {},
     "source": [
      "HumVar Polymorphisms"
     ]
    },
    {
     "cell_type": "code",
     "collapsed": false,
     "input": [
      "os.chdir(WORK_PATH)\n",
      "if not os.path.exists(os.path.join(WORK_PATH, \"training-2.2.2.tar.gz\")):\n",
      "    !wget -c -nv ftp://genetics.bwh.harvard.edu/pph2/training/training-2.2.2.tar.gz\n",
      "\n",
      "!tar -xOf training-2.2.2.tar.gz humvar-2011_12.neutral.pph.input | sort -u >$SNVS_PATH/humvar-n\n",
      "!tar -xOf training-2.2.2.tar.gz humvar-2011_12.deleterious.pph.input | sort -u >$SNVS_PATH/humvar-d\n",
      "!ls -l $SNVS_PATH/humvar-*"
     ],
     "language": "python",
     "metadata": {},
     "outputs": [
      {
       "output_type": "stream",
       "stream": "stdout",
       "text": [
        "-rw-r--r-- 1 cperez bg 331653 abr 16 16:55 /home/cperez/projects/transfic/notebooks/perf-1kg/snvs/humvar-d\r\n",
        "-rw-r--r-- 1 cperez bg 315283 abr 16 16:55 /home/cperez/projects/transfic/notebooks/perf-1kg/snvs/humvar-n\r\n"
       ]
      }
     ],
     "prompt_number": 110
    },
    {
     "cell_type": "heading",
     "level": 3,
     "metadata": {},
     "source": [
      "IntOGen Mutations"
     ]
    },
    {
     "cell_type": "code",
     "collapsed": false,
     "input": [
      "%%px --local\n",
      "def extract_samples_per_snv(proj_path, out_base_path, overwrite=False):\n",
      "    import sqlite3\n",
      "    \n",
      "    proj_name = os.path.basename(proj_path)\n",
      "    proj_db = os.path.join(proj_path, \"project.db\")\n",
      "    out_path = os.path.join(out_base_path, proj_name + \".tsv\")\n",
      "    \n",
      "    sql = \"\"\"\n",
      "        select v.var_id, v.chr, v.start, v.ref, v.alt, c.protein_id, c.protein_pos, c.aa_change, g.symbol, c.transcript_id,\n",
      "            (select count(p.sample_id) from variant_samples p where p.var_id=v.var_id)\n",
      "        from consequences c\n",
      "        join variants v on (v.var_id=c.var_id)\n",
      "        join consequence_types t on (c.csq_id=t.csq_id)\n",
      "        join so_terms s on (t.so_id=s.so_id)\n",
      "        join genes g on (c.gene_id=g.gene_id)\n",
      "        where s.name='missense_variant'\n",
      "        order by v.var_id\n",
      "        \"\"\"\n",
      "    \n",
      "    if overwrite or not os.path.exists(out_path):\n",
      "        with open(out_path, \"w\") as wf, sqlite3.connect(proj_db) as conn:\n",
      "            for row in conn.execute(sql):\n",
      "                var_id, chrom, start, ref, alt, protein, aa_pos, aa_change, sym, trs, ns = [str(v) for v in row]\n",
      "                i = aa_change.find(\"/\")\n",
      "                if \"-\" not in aa_pos and i > 0:\n",
      "                    aa_ref, aa_alt = aa_change[0:i], aa_change[i+1:]\n",
      "                    wf.write(\"\\t\".join([chrom, start, ref, alt, protein, aa_pos, aa_ref, aa_alt, sym, trs, ns]) + \"\\n\")\n",
      "    \n",
      "    return proj_name, out_path"
     ],
     "language": "python",
     "metadata": {},
     "outputs": [],
     "prompt_number": 64
    },
    {
     "cell_type": "code",
     "collapsed": false,
     "input": [
      "projects_path = os.path.join(INTOGEN_RESULTS_PATH, \"projects\")\n",
      "skip_projects = [\"tcga_kirp\", \"tcga_cesc\", \"tcga_paad\"]\n",
      "\n",
      "out_path = os.path.join(WORK_PATH, \"intogen\")\n",
      "if not os.path.exists(out_path):\n",
      "    os.makedirs(out_path)\n",
      "\n",
      "projects = [os.path.join(projects_path, p) for p in os.listdir(projects_path) if p not in skip_projects]\n",
      "\n",
      "fn = partial(extract_samples_per_snv, out_base_path=out_path, overwrite=True)\n",
      "exs_amr = lb.map_async(fn, projects)"
     ],
     "language": "python",
     "metadata": {},
     "outputs": [],
     "prompt_number": 65
    },
    {
     "cell_type": "markdown",
     "metadata": {},
     "source": [
      "We need to aggregate the number of samples per variant for all the projects. For each variant many proteins can be affected so we will take only the ones with the longest CDS."
     ]
    },
    {
     "cell_type": "code",
     "collapsed": false,
     "input": [
      "# Load the CDS length per protein\n",
      "from collections import defaultdict\n",
      "cds_len = defaultdict(int)\n",
      "with open(CDS_LEN_PATH) as f:\n",
      "    for line in f:\n",
      "        if line.startswith(\"#\"):\n",
      "            continue\n",
      "        name, ln = line.rstrip(\"\\n\").split(\"\\t\")\n",
      "        cds_len[name] = ln"
     ],
     "language": "python",
     "metadata": {},
     "outputs": [],
     "prompt_number": 51
    },
    {
     "cell_type": "code",
     "collapsed": false,
     "input": [
      "def load_and_filter(proj_name, out_path, snvs):\n",
      "    num_lines = 0\n",
      "    with open(out_path) as f:\n",
      "        last_key = None\n",
      "        last_fields = None\n",
      "        last_cds_len = 0\n",
      "        for num_lines, line in enumerate(f, start=1):\n",
      "            fields = line.rstrip(\"\\n\").split(\"\\t\")\n",
      "            try:\n",
      "                chrom, start, ref, alt, protein, aa_pos, aa_ref, aa_alt, sym, trs, ns = fields\n",
      "                #print \">>>>>\", chrom, start, ref, alt, protein, aa_pos, aa_ref, aa_alt, sym, ns\n",
      "                ns = int(ns)\n",
      "                key = (chrom, start, ref, alt)\n",
      "                if last_key is not None and key != last_key:\n",
      "                    if last_key not in snvs:\n",
      "                        snvs[last_key] = last_fields\n",
      "                        #print \" snvs[last_key] = last_field\"\n",
      "                    else:\n",
      "                        agg_ns = snvs[last_key][0] + last_fields[0]\n",
      "                        snvs[last_key] = tuple([agg_ns] + list(last_fields[1:]))\n",
      "                        #print \" snvs[last_key] = ({}+{}) = {}\".format(snvs[last_key][0], last_fields[0], snvs[last_key])\n",
      "                    last_fields = None\n",
      "                    last_cds_len = 0\n",
      "                \n",
      "                last_key = key\n",
      "                plen = cds_len[protein]\n",
      "                if last_fields is None or plen > last_cds_len:\n",
      "                    #print \" \", last_fields, \"-->\", (ns, protein, aa_pos, aa_ref, aa_alt, sym), \"plen\", plen\n",
      "                    last_fields = (ns, protein, aa_pos, aa_ref, aa_alt, sym, trs)\n",
      "                    last_cds_len = plen\n",
      "            except Exception as ex:\n",
      "                print(line)\n",
      "                raise\n",
      "                \n",
      "    return num_lines"
     ],
     "language": "python",
     "metadata": {},
     "outputs": [],
     "prompt_number": 54
    },
    {
     "cell_type": "code",
     "collapsed": false,
     "input": [
      "# Filter and aggregate for all the projects\n",
      "snvs = {}\n",
      "for proj_name, out_path in exs_amr:\n",
      "    num_lines = load_and_filter(proj_name, out_path, snvs)\n",
      "    logger.info(\"{}: {} snvs\".format(proj_name, num_lines))\n",
      "\n",
      "with open(\"intogen-snvs.tsv\", \"w\") as of:\n",
      "    for ns, prot, pos, ref, alt, sym, trs in sorted(snvs.values()):\n",
      "        of.write(\"\\t\".join([prot, pos, ref, alt, sym, trs, str(ns)]) + \"\\n\")\n",
      "\n",
      "logger.info(\"\\nTotal:\", len(snvs), \"snvs\")\n",
      "\n",
      "snvs.clear()"
     ],
     "language": "python",
     "metadata": {},
     "outputs": [
      {
       "output_type": "stream",
       "stream": "stdout",
       "text": [
        "icgc_snp_hopkins_Colon: 2090 snvs\n",
        "tcga_luad: 157047 snvs"
       ]
      },
      {
       "output_type": "stream",
       "stream": "stdout",
       "text": [
        "\n",
        "icgc_snp_de_Pedbrain: 2163 snvs\n",
        "tcga_prad: 22936 snvs"
       ]
      },
      {
       "output_type": "stream",
       "stream": "stdout",
       "text": [
        "\n",
        "ALL_Memphis: 976 snvs\n",
        "literature_SCLC_JHU: 22453 snvs"
       ]
      },
      {
       "output_type": "stream",
       "stream": "stdout",
       "text": [
        "\n",
        "icgc_snp_qcmg_Panc: 3047 snvs\n",
        "literature_CLL_DF: 2912 snvs\n",
        "tcga_ovary: 40312 snvs"
       ]
      },
      {
       "output_type": "stream",
       "stream": "stdout",
       "text": [
        "\n",
        "Medulloblastoma_NewSamples: 3588 snvs\n",
        "icgc_snp_fr_Liver: 2524 snvs\n",
        "tcga_stad: 90960 snvs"
       ]
      },
      {
       "output_type": "stream",
       "stream": "stdout",
       "text": [
        "\n",
        "tcga_breast: 78542 snvs"
       ]
      },
      {
       "output_type": "stream",
       "stream": "stdout",
       "text": [
        "\n",
        "tcga_lusc: 116675 snvs"
       ]
      },
      {
       "output_type": "stream",
       "stream": "stdout",
       "text": [
        "\n",
        "icgc_snp_es_CLL: 4831 snvs\n",
        "icgc_snp_hopkins_Breast: 2571 snvs\n",
        "tcga_thca: 12320 snvs"
       ]
      },
      {
       "output_type": "stream",
       "stream": "stdout",
       "text": [
        "\n",
        "icgc_snp_tsp_Lung: 2928 snvs\n",
        "icgc_snp_hopkins_Panc: 3460 snvs\n",
        "ALL_NewSamples: 1626 snvs\n",
        "icgc_snp_sanger_Breast: 14871 snvs"
       ]
      },
      {
       "output_type": "stream",
       "stream": "stdout",
       "text": [
        "\n",
        "Astrocytoma_NEWSAMPLES: 253 snvs\n",
        "tcga_lgg: 14617 snvs"
       ]
      },
      {
       "output_type": "stream",
       "stream": "stdout",
       "text": [
        "\n",
        "tcga_uteri: 92139 snvs"
       ]
      },
      {
       "output_type": "stream",
       "stream": "stdout",
       "text": [
        "\n",
        "Melanoma_BROAD: 149847 snvs"
       ]
      },
      {
       "output_type": "stream",
       "stream": "stdout",
       "text": [
        "\n",
        "ALL_Leuven: 1069 snvs\n",
        "literature_gastric_PFIZER: 8135 snvs\n",
        "tcga_glioblastoma: 40986 snvs"
       ]
      },
      {
       "output_type": "stream",
       "stream": "stdout",
       "text": [
        "\n",
        "Esophageal_DFCI: 47825 snvs"
       ]
      },
      {
       "output_type": "stream",
       "stream": "stdout",
       "text": [
        "\n",
        "literature_breast_WU: 6581 snvs\n",
        "Neuroblastoma_BROAD: 10435 snvs"
       ]
      },
      {
       "output_type": "stream",
       "stream": "stdout",
       "text": [
        "\n",
        "Liver_ICGC: 10580 snvs"
       ]
      },
      {
       "output_type": "stream",
       "stream": "stdout",
       "text": [
        "\n",
        "literature_NSCLC_WISCONSIN: 6885 snvs\n",
        "tcga_hnsc: 103070 snvs"
       ]
      },
      {
       "output_type": "stream",
       "stream": "stdout",
       "text": [
        "\n",
        "literature_SCLC_UCOLOGNE: 15691 snvs"
       ]
      },
      {
       "output_type": "stream",
       "stream": "stdout",
       "text": [
        "\n",
        "tcga_laml: 4320 snvs\n",
        "Myeloma_NewSamples: 7230 snvs"
       ]
      },
      {
       "output_type": "stream",
       "stream": "stdout",
       "text": [
        "\n",
        "icgc_snp_hopkins_GBM: 4583 snvs\n",
        "tcga_kidney: 51902 snvs"
       ]
      },
      {
       "output_type": "stream",
       "stream": "stdout",
       "text": [
        "\n",
        "literature_breast_carcinoma_BROAD: 9629 snvs\n",
        "tcga_blca: 56704 snvs"
       ]
      },
      {
       "output_type": "stream",
       "stream": "stdout",
       "text": [
        "\n",
        "icgc_snp_oicr_Panc: 1492 snvs\n",
        "tcga_coadread: 40527 snvs"
       ]
      },
      {
       "output_type": "stream",
       "stream": "stdout",
       "text": [
        "\n",
        "literature_HNSCC_BROAD: 20223 snvs"
       ]
      },
      {
       "output_type": "stream",
       "stream": "stdout",
       "text": [
        "\n",
        "Astrocytoma_StJude: 20223 snvs\n",
        "tcga_skcm: 284986 snvs"
       ]
      },
      {
       "output_type": "stream",
       "stream": "stdout",
       "text": [
        "\n",
        "literature_breast_BC: 7135 snvs\n",
        "Bcell_lymphoma: 2619 snvs"
       ]
      },
      {
       "output_type": "stream",
       "stream": "stdout",
       "text": [
        "\n",
        "\n",
        "Total:"
       ]
      },
      {
       "output_type": "stream",
       "stream": "stdout",
       "text": [
        " 489234 snvs\n"
       ]
      }
     ],
     "prompt_number": 66
    },
    {
     "cell_type": "code",
     "collapsed": false,
     "input": [
      "!head intogen-snvs.tsv"
     ],
     "language": "python",
     "metadata": {},
     "outputs": [
      {
       "output_type": "stream",
       "stream": "stdout",
       "text": [
        "ENSP00000000233\t125\tA\tS\tARF5\tENST00000000233\t1\r\n",
        "ENSP00000000233\t135\tP\tS\tARF5\tENST00000000233\t1\r\n",
        "ENSP00000000233\t136\tV\tL\tARF5\tENST00000000233\t1\r\n",
        "ENSP00000000233\t172\tW\tL\tARF5\tENST00000000233\t1\r\n",
        "ENSP00000000233\t50\tG\tV\tARF5\tENST00000000233\t1\r\n",
        "ENSP00000000412\t140\tV\tA\tM6PR\tENST00000000412\t1\r\n",
        "ENSP00000000412\t163\tK\tE\tM6PR\tENST00000000412\t1\r\n",
        "ENSP00000000412\t228\tF\tY\tM6PR\tENST00000000412\t1\r\n",
        "ENSP00000000412\t257\tG\tS\tM6PR\tENST00000000412\t1\r\n",
        "ENSP00000000412\t61\tE\tQ\tM6PR\tENST00000000412\t1\r\n"
       ]
      }
     ],
     "prompt_number": 67
    },
    {
     "cell_type": "code",
     "collapsed": false,
     "input": [
      "snvs = pd.read_csv(\"intogen-snvs.tsv\", sep=\"\\t\", header=None,\n",
      "                   names=[\"PROTEIN\", \"POS\", \"REF\", \"ALT\", \"SYM\", \"TRS\", \"COUNT\"])\n",
      "g = snvs.groupby([\"PROTEIN\", \"POS\", \"REF\", \"ALT\"], as_index=False)\n",
      "s = g.agg({\"SYM\" : lambda x: x[0], \"TRS\" : lambda x: x[0], \"COUNT\" : np.sum})"
     ],
     "language": "python",
     "metadata": {},
     "outputs": [],
     "prompt_number": 170
    },
    {
     "cell_type": "code",
     "collapsed": false,
     "input": [
      "save_opts = dict(header=False, cols=[\"PROTEIN\", \"POS\", \"REF\", \"ALT\"], sep=\"\\t\", index=False)\n",
      "save(s[s.COUNT == 1], \"snvs/wg-1\", **save_opts)\n",
      "save(s[s.COUNT >= 2], \"snvs/wg-2\", **save_opts)\n",
      "save(s[s.COUNT >= 3], \"snvs/wg-3\", **save_opts)\n",
      "save(s[s.COUNT >= 4], \"snvs/wg-4\", **save_opts)\n",
      "\n",
      "save(s[s.SYM.isin(CGC)], \"snvs/wg-CGC\", **save_opts)\n",
      "save(s[(~s.SYM.isin(CGC)) & (s.COUNT==1)], \"snvs/wg-noCGC\", **save_opts)\n",
      "\n",
      "save(s[s.SYM.isin(TD)], \"snvs/wg-TD\", **save_opts)\n",
      "save(s[(~s.SYM.isin(TD)) & (s.COUNT==1)], \"snvs/wg-noTD\", **save_opts)\n",
      "\n",
      "save(s[s.SYM.isin(PD)], \"snvs/wg-PD\", **save_opts)\n",
      "save(s[(~s.SYM.isin(PD)) & (s.COUNT==1)], \"snvs/wg-noPD\", **save_opts)\n",
      "\n",
      "save(s[s.SYM.isin(TD_noCGC)], \"snvs/wg-TD-noCGC\", **save_opts)\n",
      "save(s[s.SYM.isin(PD_noCGC)], \"snvs/wg-PD-noCGC\", **save_opts)\n",
      "save(s[(~s.SYM.isin(TD_PD_CGC)) & (s.COUNT==1)], \"snvs/wg-noTD-noPD-noCGC\", **save_opts)\n",
      "\n",
      "save(s[s.TRS.isin(CD)], \"snvs/wg-CD\", **save_opts)\n",
      "save(s[(~s.TRS.isin(CD)) & (s.COUNT==1)], \"snvs/wg-noCD\", **save_opts)"
     ],
     "language": "python",
     "metadata": {},
     "outputs": [],
     "prompt_number": 79
    },
    {
     "cell_type": "markdown",
     "metadata": {},
     "source": [
      "Without CD:"
     ]
    },
    {
     "cell_type": "code",
     "collapsed": false,
     "input": [
      "save(s[(s.COUNT >= 2) & (~s.TRS.isin(CD))], \"snvs/wg-2-noCD\", **save_opts)\n",
      "save(s[(s.COUNT >= 3) & (~s.TRS.isin(CD))], \"snvs/wg-3-noCD\", **save_opts)\n",
      "save(s[(s.COUNT >= 4) & (~s.TRS.isin(CD))], \"snvs/wg-4-noCD\", **save_opts)\n",
      "\n",
      "save(s[s.SYM.isin(CGC) & (~s.TRS.isin(CD))], \"snvs/wg-CGC-noCD\", **save_opts)\n",
      "\n",
      "save(s[s.SYM.isin(TD) & (~s.TRS.isin(CD))], \"snvs/wg-TD-noCD\", **save_opts)\n",
      "\n",
      "save(s[s.SYM.isin(PD) & (~s.TRS.isin(CD))], \"snvs/wg-PD-noCD\", **save_opts)\n",
      "\n",
      "save(s[s.SYM.isin(TD_noCGC) & (~s.TRS.isin(CD))], \"snvs/wg-TD-noCGC-noCD\", **save_opts)\n",
      "save(s[s.SYM.isin(PD_noCGC) & (~s.TRS.isin(CD))], \"snvs/wg-PD-noCGC-noCD\", **save_opts)"
     ],
     "language": "python",
     "metadata": {},
     "outputs": [],
     "prompt_number": 181
    },
    {
     "cell_type": "markdown",
     "metadata": {},
     "source": [
      "Let's prepare the datasets specific to ovary:"
     ]
    },
    {
     "cell_type": "code",
     "collapsed": false,
     "input": [
      "intogen_path = os.path.join(WORK_PATH, \"intogen\")\n",
      "ov_path = os.path.join(intogen_path, \"tcga_ovary.tsv\")\n",
      "ov_snvs = {}\n",
      "load_and_filter(\"tcga_ovary\", ov_path, ov_snvs)\n",
      "\n",
      "filt_ov_path = os.path.join(intogen_path, \"tcga_ovary-filt.tsv\")\n",
      "with open(filt_ov_path, \"w\") as of:\n",
      "    for ns, prot, pos, ref, alt, sym, trs in sorted(ov_snvs.values()):\n",
      "        of.write(\"\\t\".join([prot, pos, ref, alt, sym, trs, str(ns)]) + \"\\n\")"
     ],
     "language": "python",
     "metadata": {},
     "outputs": [],
     "prompt_number": 162
    },
    {
     "cell_type": "code",
     "collapsed": false,
     "input": [
      "ovs = pd.read_csv(filt_ov_path, sep=\"\\t\", header=None,\n",
      "                  names=[\"PROTEIN\", \"POS\", \"REF\", \"ALT\", \"SYM\", \"TRS\", \"SAMPLES\"])\n",
      "\n",
      "g = ovs.groupby([\"PROTEIN\", \"POS\", \"REF\", \"ALT\"], as_index=False)\n",
      "ov = g.agg({\"SYM\" : lambda x: x[0], \"TRS\" : lambda x: x[0], \"SAMPLES\" : np.sum})"
     ],
     "language": "python",
     "metadata": {},
     "outputs": [],
     "prompt_number": 166
    },
    {
     "cell_type": "code",
     "collapsed": false,
     "input": [
      "save_opts = dict(header=False, cols=[\"PROTEIN\", \"POS\", \"REF\", \"ALT\"], sep=\"\\t\", index=False)\n",
      "\n",
      "save(ov, \"snvs/wg-ov\", **save_opts)\n",
      "save(ov[ov.SYM.isin(CGC)], \"snvs/wg-ov-CGC\", **save_opts)\n",
      "save(ov[ov.SYM.isin(PD)], \"snvs/wg-ov-PD\", **save_opts)"
     ],
     "language": "python",
     "metadata": {},
     "outputs": [],
     "prompt_number": 167
    },
    {
     "cell_type": "markdown",
     "metadata": {},
     "source": [
      "Do some checks:"
     ]
    },
    {
     "cell_type": "code",
     "collapsed": false,
     "input": [
      "sym = s.groupby(\"SYM\").count()[\"COUNT\"]"
     ],
     "language": "python",
     "metadata": {},
     "outputs": [],
     "prompt_number": 29
    },
    {
     "cell_type": "code",
     "collapsed": false,
     "input": [
      "sc = sym.copy()\n",
      "sc.sort(ascending=False)\n",
      "d = pd.DataFrame({\n",
      "    \"CNT\" : sc, \n",
      "    \"CGC\" : sc.index.isin(cgc) * 1,\n",
      "    \"TD\" : sc.index.isin(TD) * 1,\n",
      "    \"PD\" : sc.index.isin(PD) * 1\n",
      "}, columns=[\"CNT\", \"CGC\", \"TD\", \"PD\"])\n",
      "display(d.sort([\"CNT\"], ascending=False).head(50))\n",
      "sc.describe()"
     ],
     "language": "python",
     "metadata": {},
     "outputs": []
    },
    {
     "cell_type": "code",
     "collapsed": false,
     "input": [
      "def symexp(s, filt):\n",
      "    slen = len(s)\n",
      "    d = s[s.SYM.isin(filt)]\n",
      "    nsym = len(d[\"SYM\"])\n",
      "    usym = len(set(d[\"SYM\"]))\n",
      "    uprot = len(set(d[\"PROTEIN\"]))\n",
      "    flen = len(filt)\n",
      "    print(\"slen={}, nsym={}, usym={}, uprot={}, flen={}, {:.02f} %\".format(\n",
      "            slen, nsym, usym, uprot, flen, float(usym) * 100.0/ flen))\n",
      "\n",
      "symexp(s, cgc)\n",
      "symexp(s, TD)\n",
      "symexp(s, PD)"
     ],
     "language": "python",
     "metadata": {},
     "outputs": [
      {
       "output_type": "stream",
       "stream": "stdout",
       "text": [
        "slen=488523, nsym=16592, usym=447, uprot=910, flen=522, 85.63 %\n",
        "slen=488523, nsym=17772, usym=290, uprot=676, flen=291, 99.66 %\n",
        "slen=488523, nsym=24125, usym=464, uprot=1067, flen=464, 100.00 %"
       ]
      },
      {
       "output_type": "stream",
       "stream": "stdout",
       "text": [
        "\n"
       ]
      }
     ],
     "prompt_number": 150
    },
    {
     "cell_type": "code",
     "collapsed": false,
     "input": [
      "def isec(s, filt):\n",
      "    p = s[s.SYM.isin(filt)]\n",
      "    n = s[(~s.SYM.isin(filt)) & (s.COUNT==1)]\n",
      "    isec = len(set(p[\"SYM\"]) & set(n[\"SYM\"]))\n",
      "    pisec = len(set(p[\"PROTEIN\"]) & set(n[\"PROTEIN\"]))\n",
      "    dlen = len(p) + len(n)\n",
      "    print(\"slen={}, p+n={}, diff={}, pos={}, neg={}, isec={}, pisec={}\".format(\n",
      "            len(s), dlen, len(s) - dlen, len(p), len(n), isec, pisec))\n",
      "\n",
      "isec(s, cgc)\n",
      "isec(s, TD)\n",
      "isec(s, PD)"
     ],
     "language": "python",
     "metadata": {},
     "outputs": [
      {
       "output_type": "stream",
       "stream": "stdout",
       "text": [
        "slen=488523, p+n=470741, diff=17782, pos=16592, neg=454149, isec=0, pisec=0\n",
        "slen=488523, p+n=470898, diff=17625, pos=17772, neg=453126, isec=0, pisec=0"
       ]
      },
      {
       "output_type": "stream",
       "stream": "stdout",
       "text": [
        "\n",
        "slen=488523, p+n=471135, diff=17388, pos=24125, neg=447010, isec=0, pisec=0"
       ]
      },
      {
       "output_type": "stream",
       "stream": "stdout",
       "text": [
        "\n"
       ]
      }
     ],
     "prompt_number": 153
    },
    {
     "cell_type": "heading",
     "level": 3,
     "metadata": {},
     "source": [
      "COSMIC"
     ]
    },
    {
     "cell_type": "code",
     "collapsed": false,
     "input": [
      "os.chdir(WORK_PATH)"
     ],
     "language": "python",
     "metadata": {},
     "outputs": [],
     "prompt_number": 11
    },
    {
     "cell_type": "code",
     "collapsed": false,
     "input": [
      "!wget -c -nv ftp://ftp.sanger.ac.uk/pub/CGP/cosmic/data_export/CosmicMutantExport_v68.tsv.gz"
     ],
     "language": "python",
     "metadata": {},
     "outputs": []
    },
    {
     "cell_type": "code",
     "collapsed": false,
     "input": [
      "import json\n",
      "from fannsdb.db.mongodb import FannsMongoDb\n",
      "from fannsdb.cosmic import extract_snvs, create_datasets, save_snvs"
     ],
     "language": "python",
     "metadata": {},
     "outputs": [],
     "prompt_number": 2
    },
    {
     "cell_type": "code",
     "collapsed": false,
     "input": [
      "import fannsdb.cosmic\n",
      "reload(fannsdb.cosmic)"
     ],
     "language": "python",
     "metadata": {},
     "outputs": [
      {
       "metadata": {},
       "output_type": "pyout",
       "prompt_number": 18,
       "text": [
        "<module 'fannsdb.cosmic' from '/home/cperez/projects/fannsdb/fannsdb/cosmic.pyc'>"
       ]
      }
     ],
     "prompt_number": 18
    },
    {
     "cell_type": "code",
     "collapsed": false,
     "input": [
      "fanns_db = FannsMongoDb(uri=FANNSDB_URI)\n",
      "snvs = extract_snvs(fanns_db, \"CosmicMutantExport_v68.tsv.gz\", logger=logger)\n",
      "fanns_db.close()"
     ],
     "language": "python",
     "metadata": {},
     "outputs": [
      {
       "output_type": "stream",
       "stream": "stdout",
       "text": [
        "2014-06-18 17:06:17 root [INFO   ] Reading mutations ...\n"
       ]
      },
      {
       "output_type": "stream",
       "stream": "stdout",
       "text": [
        "2014-06-18 17:07:43 root [WARNING] Unexpected mutation position: ['c.4087G>A', 'p.G1363R', '', '', 'ENST00000389420']\n"
       ]
      },
      {
       "output_type": "stream",
       "stream": "stdout",
       "text": [
        "2014-06-18 17:07:44 root [WARNING] Unexpected mutation position: ['c.4662G>A', 'p.M1554I', '', '', 'ENST00000389420']\n"
       ]
      },
      {
       "output_type": "stream",
       "stream": "stdout",
       "text": [
        "2014-06-18 17:07:44 root [WARNING] Unexpected mutation position: ['c.3748C>A', 'p.P1250T', '', '', 'ENST00000389420']\n"
       ]
      },
      {
       "output_type": "stream",
       "stream": "stdout",
       "text": [
        "2014-06-18 17:12:09 root [WARNING] Unexpected mutation position: ['c.878G>A', 'p.G293E', '', '', 'ENST00000317582']\n"
       ]
      },
      {
       "output_type": "stream",
       "stream": "stdout",
       "text": [
        "2014-06-18 17:14:26 root [WARNING] Unexpected mutation position: ['c.1672C>G', 'p.R558G', '', '', 'NM_005104']\n"
       ]
      },
      {
       "output_type": "stream",
       "stream": "stdout",
       "text": [
        "2014-06-18 17:14:26 root [WARNING] Unexpected mutation position: ['c.89G>A', 'p.G30E', '', '', 'NM_005104']\n"
       ]
      },
      {
       "output_type": "stream",
       "stream": "stdout",
       "text": [
        "2014-06-18 17:14:26 root [WARNING] Unexpected mutation position: ['c.2141C>T', 'p.P714L', '', '', 'NM_005104']\n"
       ]
      },
      {
       "output_type": "stream",
       "stream": "stdout",
       "text": [
        "2014-06-18 17:14:26 root [WARNING] Unexpected mutation position: ['c.107C>A', 'p.T36N', '', '', 'ENST00000303407']\n"
       ]
      },
      {
       "output_type": "stream",
       "stream": "stdout",
       "text": [
        "2014-06-18 17:14:26 root [WARNING] Unexpected mutation position: ['c.481G>A', 'p.A161T', '', '', 'ENST00000303407']\n"
       ]
      },
      {
       "output_type": "stream",
       "stream": "stdout",
       "text": [
        "2014-06-18 17:17:12 root [WARNING] Unexpected mutation position: ['c.239C>G', 'p.S80C', '', '', 'ENST00000296742']\n"
       ]
      },
      {
       "output_type": "stream",
       "stream": "stdout",
       "text": [
        "2014-06-18 17:17:20 root [WARNING] Unexpected mutation position: ['c.178G>A', 'p.G60S', '', '', 'ENST00000477224']\n"
       ]
      },
      {
       "output_type": "stream",
       "stream": "stdout",
       "text": [
        "2014-06-18 17:17:20 root [WARNING] Unexpected mutation position: ['c.118C>T', 'p.R40W', '', '', 'ENST00000477224']\n"
       ]
      },
      {
       "output_type": "stream",
       "stream": "stdout",
       "text": [
        "2014-06-18 17:17:20 root [WARNING] Unexpected mutation position: ['c.820C>T', 'p.R274W', '', '', 'ENST00000477224']\n"
       ]
      },
      {
       "output_type": "stream",
       "stream": "stdout",
       "text": [
        "2014-06-18 17:17:37 root [WARNING] Unexpected mutation position: ['c.1213C>T', 'p.P405S', '', '', 'ENST00000264275']\n"
       ]
      },
      {
       "output_type": "stream",
       "stream": "stdout",
       "text": [
        "2014-06-18 17:18:49 root [WARNING] Unexpected mutation position: ['c.839C>T', 'p.S280F', '', '', 'SU_DMPK2']\n"
       ]
      },
      {
       "output_type": "stream",
       "stream": "stdout",
       "text": [
        "2014-06-18 17:19:08 root [WARNING] Unexpected mutation position: ['c.317G>A', 'p.S106N', '', '', 'ENST00000448471']\n"
       ]
      },
      {
       "output_type": "stream",
       "stream": "stdout",
       "text": [
        "2014-06-18 17:22:25 root [WARNING] Unexpected mutation position: ['c.889G>C', 'p.D297H', '', '', 'ENST00000377843']\n"
       ]
      },
      {
       "output_type": "stream",
       "stream": "stdout",
       "text": [
        "2014-06-18 17:22:35 root [WARNING] Unexpected mutation position: ['c.2744C>A', 'p.P915H', '', '', 'NM_004389.1']\n"
       ]
      },
      {
       "output_type": "stream",
       "stream": "stdout",
       "text": [
        "2014-06-18 17:22:35 root [WARNING] Unexpected mutation position: ['c.85G>A', 'p.E29K', '', '', 'NM_004389.1']\n"
       ]
      },
      {
       "output_type": "stream",
       "stream": "stdout",
       "text": [
        "2014-06-18 17:22:35 root [WARNING] Unexpected mutation position: ['c.2491G>T', 'p.G831C', '', '', 'NM_004389.1']\n"
       ]
      },
      {
       "output_type": "stream",
       "stream": "stdout",
       "text": [
        "2014-06-18 17:28:39 root [WARNING] Unexpected mutation position: ['c.731A>G', 'p.N244S', '', '', 'ENST00000433197']\n"
       ]
      },
      {
       "output_type": "stream",
       "stream": "stdout",
       "text": [
        "2014-06-18 17:28:39 root [WARNING] Unexpected mutation position: ['c.1421T>G', 'p.L474R', '', '', 'ENST00000433197']\n"
       ]
      },
      {
       "output_type": "stream",
       "stream": "stdout",
       "text": [
        "2014-06-18 17:28:39 root [WARNING] Unexpected mutation position: ['c.1421T>G', 'p.L474R', '', '', 'ENST00000433197']\n"
       ]
      },
      {
       "output_type": "stream",
       "stream": "stdout",
       "text": [
        "2014-06-18 17:28:39 root [WARNING] Unexpected mutation position: ['c.2489C>T', 'p.P830L', '', '', 'ENST00000433197']\n"
       ]
      },
      {
       "output_type": "stream",
       "stream": "stdout",
       "text": [
        "2014-06-18 17:28:39 root [WARNING] Unexpected mutation position: ['c.1903C>T', 'p.R635W', '', '', 'ENST00000433197']\n"
       ]
      },
      {
       "output_type": "stream",
       "stream": "stdout",
       "text": [
        "2014-06-18 17:28:39 root [WARNING] Unexpected mutation position: ['c.2306C>T', 'p.S769F', '', '', 'ENST00000433197']\n"
       ]
      },
      {
       "output_type": "stream",
       "stream": "stdout",
       "text": [
        "2014-06-18 17:30:32 root [WARNING] Unexpected mutation position: ['c.390G>A', 'p.M130I', '', '', 'NM_012164.2']\n"
       ]
      },
      {
       "output_type": "stream",
       "stream": "stdout",
       "text": [
        "2014-06-18 17:31:03 root [WARNING] Unexpected mutation position: ['c.1921G>A', 'p.E641K', '', '', 'ENST00000292410']\n"
       ]
      },
      {
       "output_type": "stream",
       "stream": "stdout",
       "text": [
        "2014-06-18 17:31:03 root [WARNING] Unexpected mutation position: ['c.1921G>A', 'p.E641K', '', '', 'ENST00000292410']\n"
       ]
      },
      {
       "output_type": "stream",
       "stream": "stdout",
       "text": [
        "2014-06-18 17:34:41 root [WARNING] Unexpected mutation position: ['c.1292G>A', 'p.G431D', '', '', 'NM_000180']\n"
       ]
      },
      {
       "output_type": "stream",
       "stream": "stdout",
       "text": [
        "2014-06-18 17:35:13 root [WARNING] Unexpected mutation position: ['c.1657G>A', 'p.E553K', '', '', 'ENST00000264346']\n"
       ]
      },
      {
       "output_type": "stream",
       "stream": "stdout",
       "text": [
        "2014-06-18 17:37:23 root [WARNING] Unexpected mutation position: ['c.758C>A', 'p.S235Y', '', '', 'AF282265.1']\n"
       ]
      },
      {
       "output_type": "stream",
       "stream": "stdout",
       "text": [
        "2014-06-18 17:37:44 root [WARNING] Unexpected mutation position: ['c.746C>T', 'p.S249L', '', '', 'ENST00000256458']\n"
       ]
      },
      {
       "output_type": "stream",
       "stream": "stdout",
       "text": [
        "2014-06-18 17:37:44 root [WARNING] Unexpected mutation position: ['c.1261C>A', 'p.P421T', '', '', 'ENST00000256458']\n"
       ]
      },
      {
       "output_type": "stream",
       "stream": "stdout",
       "text": [
        "2014-06-18 17:38:15 root [WARNING] Unexpected mutation position: ['c.2347C>T', 'p.L783F', '', '', 'ENST00000342505']\n"
       ]
      },
      {
       "output_type": "stream",
       "stream": "stdout",
       "text": [
        "2014-06-18 17:38:15 root [WARNING] Unexpected mutation position: ['c.1939C>T', 'p.H647Y', '', '', 'ENST00000342505']\n"
       ]
      },
      {
       "output_type": "stream",
       "stream": "stdout",
       "text": [
        "2014-06-18 17:38:15 root [WARNING] Unexpected mutation position: ['c.611A>T', 'p.K204M', '', '', 'ENST00000342505']\n"
       ]
      },
      {
       "output_type": "stream",
       "stream": "stdout",
       "text": [
        "2014-06-18 17:38:15 root [WARNING] Unexpected mutation position: ['c.1901C>A', 'p.A634D', '', '', 'ENST00000342505']\n"
       ]
      },
      {
       "output_type": "stream",
       "stream": "stdout",
       "text": [
        "2014-06-18 17:38:15 root [WARNING] Unexpected mutation position: ['c.1535C>T', 'p.S512L', '', '', 'ENST00000342505']\n"
       ]
      },
      {
       "output_type": "stream",
       "stream": "stdout",
       "text": [
        "2014-06-18 17:38:15 root [WARNING] Unexpected mutation position: ['c.1901C>A', 'p.A634D', '', '', 'ENST00000342505']\n"
       ]
      },
      {
       "output_type": "stream",
       "stream": "stdout",
       "text": [
        "2014-06-18 17:38:15 root [WARNING] Unexpected mutation position: ['c.2635C>A', 'p.R879S', '', '', 'ENST00000342505']\n"
       ]
      },
      {
       "output_type": "stream",
       "stream": "stdout",
       "text": [
        "2014-06-18 17:38:15 root [WARNING] Unexpected mutation position: ['c.2635C>T', 'p.R879C', '', '', 'ENST00000342505']\n"
       ]
      },
      {
       "output_type": "stream",
       "stream": "stdout",
       "text": [
        "2014-06-18 17:38:15 root [WARNING] Unexpected mutation position: ['c.2636G>A', 'p.R879H', '', '', 'ENST00000342505']\n"
       ]
      },
      {
       "output_type": "stream",
       "stream": "stdout",
       "text": [
        "2014-06-18 17:38:15 root [WARNING] Unexpected mutation position: ['c.1957C>T', 'p.L653F', '', '', 'ENST00000342505']\n"
       ]
      },
      {
       "output_type": "stream",
       "stream": "stdout",
       "text": [
        "2014-06-18 17:38:15 root [WARNING] Unexpected mutation position: ['c.1778C>T', 'p.T593M', '', '', 'ENST00000342505']\n"
       ]
      },
      {
       "output_type": "stream",
       "stream": "stdout",
       "text": [
        "2014-06-18 17:38:15 root [WARNING] Unexpected mutation position: ['c.1432A>T', 'p.T478S', '', '', 'ENST00000342505']\n"
       ]
      },
      {
       "output_type": "stream",
       "stream": "stdout",
       "text": [
        "2014-06-18 17:38:15 root [WARNING] Unexpected mutation position: ['c.1868T>C', 'p.V623A', '', '', 'ENST00000342505']\n"
       ]
      },
      {
       "output_type": "stream",
       "stream": "stdout",
       "text": [
        "2014-06-18 17:38:15 root [WARNING] Unexpected mutation position: ['c.2897A>T', 'p.E966V', '', '', 'ENST00000342505']\n"
       ]
      },
      {
       "output_type": "stream",
       "stream": "stdout",
       "text": [
        "2014-06-18 17:38:15 root [WARNING] Unexpected mutation position: ['c.2645G>A', 'p.G882E', '', '', 'ENST00000342505']\n"
       ]
      },
      {
       "output_type": "stream",
       "stream": "stdout",
       "text": [
        "2014-06-18 17:42:56 root [WARNING] Unexpected mutation position: ['c.2417G>C', 'p.R806P', '', '', 'ENST00000543571']\n"
       ]
      },
      {
       "output_type": "stream",
       "stream": "stdout",
       "text": [
        "2014-06-18 17:42:56 root [WARNING] Unexpected mutation position: ['c.2007G>A', 'p.M669I', '', '', 'ENST00000543571']\n"
       ]
      },
      {
       "output_type": "stream",
       "stream": "stdout",
       "text": [
        "2014-06-18 17:45:14 root [WARNING] Unexpected mutation position: ['c.336G>A', 'p.M112I', '', '', 'ENST00000409947']\n"
       ]
      },
      {
       "output_type": "stream",
       "stream": "stdout",
       "text": [
        "2014-06-18 17:45:16 root [WARNING] Unexpected mutation position: ['c.2354C>T', 'p.S785L', '', '', 'NM_004672']\n"
       ]
      },
      {
       "output_type": "stream",
       "stream": "stdout",
       "text": [
        "2014-06-18 17:45:16 root [WARNING] Unexpected mutation position: ['c.2483C>T', 'p.T828I', '', '', 'NM_004672']\n"
       ]
      },
      {
       "output_type": "stream",
       "stream": "stdout",
       "text": [
        "2014-06-18 17:45:23 root [WARNING] Unexpected mutation position: ['c.82C>T', 'p.P28S', '', '', 'ENST00000446044']\n"
       ]
      },
      {
       "output_type": "stream",
       "stream": "stdout",
       "text": [
        "2014-06-18 17:45:32 root [WARNING] Unexpected mutation position: ['c.6864G>T', 'p.E2288D', '', '', 'SU_MAST4']\n"
       ]
      },
      {
       "output_type": "stream",
       "stream": "stdout",
       "text": [
        "2014-06-18 17:45:32 root [WARNING] Unexpected mutation position: ['c.6864G>T', 'p.E2288D', '', '', 'SU_MAST4']\n"
       ]
      },
      {
       "output_type": "stream",
       "stream": "stdout",
       "text": [
        "2014-06-18 17:45:32 root [WARNING] Unexpected mutation position: ['c.5594G>A', 'p.R1865K', '', '', 'SU_MAST4']\n"
       ]
      },
      {
       "output_type": "stream",
       "stream": "stdout",
       "text": [
        "2014-06-18 17:45:52 root [WARNING] Unexpected mutation position: ['c.5890C>T', 'p.P1964S', '', '', 'ENST00000376406']\n"
       ]
      },
      {
       "output_type": "stream",
       "stream": "stdout",
       "text": [
        "2014-06-18 17:45:52 root [WARNING] Unexpected mutation position: ['c.5890C>T', 'p.P1964S', '', '', 'ENST00000376406']\n"
       ]
      },
      {
       "output_type": "stream",
       "stream": "stdout",
       "text": [
        "2014-06-18 17:46:01 root [WARNING] Unexpected mutation position: ['c.5968C>T', 'p.H1990Y', '', '', 'ENST00000374080']\n"
       ]
      },
      {
       "output_type": "stream",
       "stream": "stdout",
       "text": [
        "2014-06-18 17:46:01 root [WARNING] Unexpected mutation position: ['c.3167A>G', 'p.N1056S', '', '', 'ENST00000374080']\n"
       ]
      },
      {
       "output_type": "stream",
       "stream": "stdout",
       "text": [
        "2014-06-18 17:46:01 root [WARNING] Unexpected mutation position: ['c.6385C>G', 'p.P2129A', '', '', 'ENST00000374080']\n"
       ]
      },
      {
       "output_type": "stream",
       "stream": "stdout",
       "text": [
        "2014-06-18 17:46:01 root [WARNING] Unexpected mutation position: ['c.4524C>G', 'p.H1508Q', '', '', 'ENST00000374080']\n"
       ]
      },
      {
       "output_type": "stream",
       "stream": "stdout",
       "text": [
        "2014-06-18 17:46:01 root [WARNING] Unexpected mutation position: ['c.5200C>T', 'p.P1734S', '', '', 'ENST00000374080']\n"
       ]
      },
      {
       "output_type": "stream",
       "stream": "stdout",
       "text": [
        "2014-06-18 17:46:34 root [WARNING] Unexpected mutation position: ['c.2918A>T', 'p.E973V', '', '', 'NM_015716']\n"
       ]
      },
      {
       "output_type": "stream",
       "stream": "stdout",
       "text": [
        "2014-06-18 17:46:43 root [WARNING] Unexpected mutation position: ['c.14464T>A', 'p.C4513S', '', '', 'ENST00000301067']\n"
       ]
      },
      {
       "output_type": "stream",
       "stream": "stdout",
       "text": [
        "2014-06-18 17:46:43 root [WARNING] Unexpected mutation position: ['c.14357T>C', 'p.L4516P', '', '', 'ENST00000301067']\n"
       ]
      },
      {
       "output_type": "stream",
       "stream": "stdout",
       "text": [
        "2014-06-18 17:46:44 root [WARNING] Unexpected mutation position: ['c.15500A>G', 'p.N4526S', '', '', 'ENST00000301067']\n"
       ]
      },
      {
       "output_type": "stream",
       "stream": "stdout",
       "text": [
        "2014-06-18 17:48:20 root [WARNING] Unexpected mutation position: ['c.1883C>T', 'p.A628V', '', '', 'NM_015057.1']\n"
       ]
      },
      {
       "output_type": "stream",
       "stream": "stdout",
       "text": [
        "2014-06-18 17:48:20 root [WARNING] Unexpected mutation position: ['c.3864A>T', 'p.Q1288H', '', '', 'NM_015057.1']\n"
       ]
      },
      {
       "output_type": "stream",
       "stream": "stdout",
       "text": [
        "2014-06-18 17:49:31 root [WARNING] Unexpected mutation position: ['c.265G>T', 'p.D89Y', '', '', 'ENST00000233154']\n"
       ]
      },
      {
       "output_type": "stream",
       "stream": "stdout",
       "text": [
        "2014-06-18 17:50:41 root [WARNING] Unexpected mutation position: ['c.2826G>C', 'p.K942N', '', '', 'ENST00000391828']\n"
       ]
      },
      {
       "output_type": "stream",
       "stream": "stdout",
       "text": [
        "2014-06-18 17:51:31 root [WARNING] Unexpected mutation position: ['c.2638A>C', 'p.I880L', '', '', 'SU_ZC4-NRK']\n"
       ]
      },
      {
       "output_type": "stream",
       "stream": "stdout",
       "text": [
        "2014-06-18 17:54:06 root [WARNING] Unexpected mutation position: ['c.1983A>T', 'p.K661N', '', '', 'ENST00000337303']\n"
       ]
      },
      {
       "output_type": "stream",
       "stream": "stdout",
       "text": [
        "2014-06-18 17:54:06 root [WARNING] Unexpected mutation position: ['c.1790C>A', 'p.A597D', '', '', 'ENST00000337303']\n"
       ]
      },
      {
       "output_type": "stream",
       "stream": "stdout",
       "text": [
        "2014-06-18 17:54:06 root [WARNING] Unexpected mutation position: ['c.3611A>C', 'p.H1204P', '', '', 'ENST00000337303']\n"
       ]
      },
      {
       "output_type": "stream",
       "stream": "stdout",
       "text": [
        "2014-06-18 17:54:06 root [WARNING] Unexpected mutation position: ['c.1569G>T', 'p.M523I', '', '', 'ENST00000337303']\n"
       ]
      },
      {
       "output_type": "stream",
       "stream": "stdout",
       "text": [
        "2014-06-18 17:54:06 root [WARNING] Unexpected mutation position: ['c.2887T>C', 'p.Y963H', '', '', 'ENST00000337303']\n"
       ]
      },
      {
       "output_type": "stream",
       "stream": "stdout",
       "text": [
        "2014-06-18 17:54:06 root [WARNING] Unexpected mutation position: ['c.4520T>A', 'p.I1507N', '', '', 'ENST00000337303']\n"
       ]
      },
      {
       "output_type": "stream",
       "stream": "stdout",
       "text": [
        "2014-06-18 17:54:06 root [WARNING] Unexpected mutation position: ['c.1620A>C', 'p.R540S', '', '', 'ENST00000337303']\n"
       ]
      },
      {
       "output_type": "stream",
       "stream": "stdout",
       "text": [
        "2014-06-18 17:54:06 root [WARNING] Unexpected mutation position: ['c.2520T>A', 'p.F840L', '', '', 'ENST00000337303']\n"
       ]
      },
      {
       "output_type": "stream",
       "stream": "stdout",
       "text": [
        "2014-06-18 17:54:06 root [WARNING] Unexpected mutation position: ['c.2022T>G', 'p.D674E', '', '', 'ENST00000337303']\n"
       ]
      },
      {
       "output_type": "stream",
       "stream": "stdout",
       "text": [
        "2014-06-18 17:54:06 root [WARNING] Unexpected mutation position: ['c.1618A>G', 'p.R540G', '', '', 'ENST00000337303']\n"
       ]
      },
      {
       "output_type": "stream",
       "stream": "stdout",
       "text": [
        "2014-06-18 17:54:06 root [WARNING] Unexpected mutation position: ['c.1861A>G', 'p.K621E', '', '', 'ENST00000337303']\n"
       ]
      },
      {
       "output_type": "stream",
       "stream": "stdout",
       "text": [
        "2014-06-18 17:54:06 root [WARNING] Unexpected mutation position: ['c.602G>T', 'p.G201V', '', '', 'ENST00000337303']\n"
       ]
      },
      {
       "output_type": "stream",
       "stream": "stdout",
       "text": [
        "2014-06-18 17:54:06 root [WARNING] Unexpected mutation position: ['c.694A>C', 'p.T232P', '', '', 'ENST00000337303']\n"
       ]
      },
      {
       "output_type": "stream",
       "stream": "stdout",
       "text": [
        "2014-06-18 17:54:06 root [WARNING] Unexpected mutation position: ['c.761T>C', 'p.L254P', '', '', 'ENST00000337303']\n"
       ]
      },
      {
       "output_type": "stream",
       "stream": "stdout",
       "text": [
        "2014-06-18 17:54:06 root [WARNING] Unexpected mutation position: ['c.3854A>G', 'p.D1285G', '', '', 'ENST00000337303']\n"
       ]
      },
      {
       "output_type": "stream",
       "stream": "stdout",
       "text": [
        "2014-06-18 17:55:08 root [WARNING] Unexpected mutation position: ['c.1955G>C', 'p.G652A', '', '', 'ENST00000257290']\n"
       ]
      },
      {
       "output_type": "stream",
       "stream": "stdout",
       "text": [
        "2014-06-18 17:56:05 root [WARNING] Unexpected mutation position: ['c.1544A>G', 'p.N515S', '', '', 'NM_006218.1']\n"
       ]
      },
      {
       "output_type": "stream",
       "stream": "stdout",
       "text": [
        "2014-06-18 17:56:12 root [WARNING] Unexpected mutation position: ['c.886C>G', 'p.Q296E', '', '', 'NM_006875']\n"
       ]
      },
      {
       "output_type": "stream",
       "stream": "stdout",
       "text": [
        "2014-06-18 17:58:20 root [WARNING] Unexpected mutation position: ['c.1111C>A', 'p.P371T', '', '', 'ENST00000371244']\n"
       ]
      },
      {
       "output_type": "stream",
       "stream": "stdout",
       "text": [
        "2014-06-18 17:58:20 root [WARNING] Unexpected mutation position: ['c.1111C>A', 'p.P371T', '', '', 'ENST00000371244']\n"
       ]
      },
      {
       "output_type": "stream",
       "stream": "stdout",
       "text": [
        "2014-06-18 17:58:25 root [WARNING] Unexpected mutation position: ['c.1555C>T', 'p.R519C', '', '', 'ENST00000378567']\n"
       ]
      },
      {
       "output_type": "stream",
       "stream": "stdout",
       "text": [
        "2014-06-18 17:58:25 root [WARNING] Unexpected mutation position: ['c.1753C>T', 'p.P585S', '', '', 'ENST00000331968']\n"
       ]
      },
      {
       "output_type": "stream",
       "stream": "stdout",
       "text": [
        "2014-06-18 17:58:27 root [WARNING] Unexpected mutation position: ['c.2146T>C', 'p.W716R', '', '', 'ENST00000395578']\n"
       ]
      },
      {
       "output_type": "stream",
       "stream": "stdout",
       "text": [
        "2014-06-18 17:59:04 root [WARNING] Unexpected mutation position: ['c.3944T>C', 'p.L1315P', '', '', 'ENST00000331920']\n"
       ]
      },
      {
       "output_type": "stream",
       "stream": "stdout",
       "text": [
        "2014-06-18 17:59:04 root [WARNING] Unexpected mutation position: ['c.3944T>C', 'p.L1315P', '', '', 'ENST00000331920']\n"
       ]
      },
      {
       "output_type": "stream",
       "stream": "stdout",
       "text": [
        "2014-06-18 17:59:05 root [WARNING] Unexpected mutation position: ['c.3852G>T', 'p.Q1284H', '', '', 'ENST00000331920']\n"
       ]
      },
      {
       "output_type": "stream",
       "stream": "stdout",
       "text": [
        "2014-06-18 17:59:05 root [WARNING] Unexpected mutation position: ['c.3852G>T', 'p.Q1284H', '', '', 'ENST00000331920']\n"
       ]
      },
      {
       "output_type": "stream",
       "stream": "stdout",
       "text": [
        "2014-06-18 17:59:05 root [WARNING] Unexpected mutation position: ['c.3944T>C', 'p.L1315P', '', '', 'ENST00000331920']\n"
       ]
      },
      {
       "output_type": "stream",
       "stream": "stdout",
       "text": [
        "2014-06-18 17:59:05 root [WARNING] Unexpected mutation position: ['c.3944T>C', 'p.L1315P', '', '', 'ENST00000331920']\n"
       ]
      },
      {
       "output_type": "stream",
       "stream": "stdout",
       "text": [
        "2014-06-18 17:59:05 root [WARNING] Unexpected mutation position: ['c.3944T>C', 'p.L1315P', '', '', 'ENST00000331920']\n"
       ]
      },
      {
       "output_type": "stream",
       "stream": "stdout",
       "text": [
        "2014-06-18 17:59:05 root [WARNING] Unexpected mutation position: ['c.3944T>C', 'p.L1315P', '', '', 'ENST00000331920']\n"
       ]
      },
      {
       "output_type": "stream",
       "stream": "stdout",
       "text": [
        "2014-06-18 17:59:08 root [WARNING] Unexpected mutation position: ['c.689G>A', 'p.G230E', '', '', 'ENST00000371953']\n"
       ]
      },
      {
       "output_type": "stream",
       "stream": "stdout",
       "text": [
        "2014-06-18 17:59:08 root [WARNING] Unexpected mutation position: ['c.481A>G', 'p.R161G', '', '', 'ENST00000371953']\n"
       ]
      },
      {
       "output_type": "stream",
       "stream": "stdout",
       "text": [
        "2014-06-18 17:59:08 root [WARNING] Unexpected mutation position: ['c.728T>C', 'p.F243S', '', '', 'ENST00000371953']\n"
       ]
      },
      {
       "output_type": "stream",
       "stream": "stdout",
       "text": [
        "2014-06-18 17:59:08 root [WARNING] Unexpected mutation position: ['c.167T>G', 'p.F56C', '', '', 'ENST00000371953']\n"
       ]
      },
      {
       "output_type": "stream",
       "stream": "stdout",
       "text": [
        "2014-06-18 17:59:08 root [WARNING] Unexpected mutation position: ['c.1148C>T', 'p.T383I', '', '', 'ENST00000371953']\n"
       ]
      },
      {
       "output_type": "stream",
       "stream": "stdout",
       "text": [
        "2014-06-18 17:59:08 root [WARNING] Unexpected mutation position: ['c.5C>T', 'p.T2I', '', '', 'ENST00000371953']\n"
       ]
      },
      {
       "output_type": "stream",
       "stream": "stdout",
       "text": [
        "2014-06-18 17:59:09 root [WARNING] Unexpected mutation position: ['c.973C>G', 'p.L325V', '', '', 'ENST00000371953']\n"
       ]
      },
      {
       "output_type": "stream",
       "stream": "stdout",
       "text": [
        "2014-06-18 17:59:09 root [WARNING] Unexpected mutation position: ['c.919G>A', 'p.E307K', '', '', 'ENST00000371953']\n"
       ]
      },
      {
       "output_type": "stream",
       "stream": "stdout",
       "text": [
        "2014-06-18 17:59:09 root [WARNING] Unexpected mutation position: ['c.919G>A', 'p.E307K', '', '', 'ENST00000371953']\n"
       ]
      },
      {
       "output_type": "stream",
       "stream": "stdout",
       "text": [
        "2014-06-18 17:59:09 root [WARNING] Unexpected mutation position: ['c.919G>A', 'p.E307K', '', '', 'ENST00000371953']\n"
       ]
      },
      {
       "output_type": "stream",
       "stream": "stdout",
       "text": [
        "2014-06-18 17:59:40 root [WARNING] Unexpected mutation position: ['c.1789C>G', 'p.P597A', '', '', 'ENST00000393386']\n"
       ]
      },
      {
       "output_type": "stream",
       "stream": "stdout",
       "text": [
        "2014-06-18 17:59:40 root [WARNING] Unexpected mutation position: ['c.78G>C', 'p.A160P', '', '', 'ENST00000393386']\n"
       ]
      }
     ]
    },
    {
     "cell_type": "code",
     "collapsed": false,
     "input": [
      "logger.info(\"Saving counts ...\")\n",
      "save_snvs(snvs, \"cosmic-snvs.tsv\", header=True)\n",
      "snvs.clear()"
     ],
     "language": "python",
     "metadata": {},
     "outputs": []
    },
    {
     "cell_type": "code",
     "collapsed": false,
     "input": [
      "!wc -l cosmic-snvs.tsv\n",
      "!head cosmic-snvs.tsv"
     ],
     "language": "python",
     "metadata": {},
     "outputs": [
      {
       "output_type": "stream",
       "stream": "stdout",
       "text": [
        "739377 cosmic-snvs.tsv\r\n"
       ]
      },
      {
       "output_type": "stream",
       "stream": "stdout",
       "text": [
        "PROTEIN\tPOS\tREF\tALT\tSYM\tTRS\tMSAMPLES\tWSAMPLES\r\n",
        "ENSP00000347999\t402\tE\tD\tZC3H7A\tENST00000355758\t0\t2\r\n",
        "ENSP00000362105\t113\tA\tD\tUTP11L\tENST00000373014\t0\t1\r\n",
        "ENSP00000377789\t290\tQ\tH\tSYNPO\tENST00000394243\t0\t1\r\n",
        "ENSP00000265368\t3336\tQ\tH\tSYNE1\tENST00000265368\t0\t1\r\n",
        "ENSP00000409346\t82\tE\tD\tCISH\tENST00000443053\t0\t1\r\n",
        "ENSP00000350283\t1342\tS\tL\tBRCA1\tENST00000357654\t0\t1\r\n",
        "ENSP00000381591\t400\tR\tH\tCPEB1\tENST00000398591\t0\t1\r\n",
        "ENSP00000332750\t300\tE\tG\tZNF192\tENST00000330236\t0\t1\r\n",
        "ENSP00000360316\t316\tR\tQ\tDHCR24\tENST00000371269\t0\t1\r\n"
       ]
      }
     ],
     "prompt_number": 24
    },
    {
     "cell_type": "code",
     "collapsed": false,
     "input": [
      "import pandas as pd\n",
      "\n",
      "csnvs = pd.read_csv(\"cosmic-snvs.tsv\", sep=\"\\t\")\n",
      "cm = csnvs[csnvs.MSAMPLES != 0].sort([\"MSAMPLES\"], ascending=[0])\n",
      "cw = csnvs[csnvs.WSAMPLES != 0].sort([\"WSAMPLES\"], ascending=[0])\n",
      "display(cm.head())\n",
      "display(cw.head())"
     ],
     "language": "python",
     "metadata": {},
     "outputs": [
      {
       "html": [
        "<div style=\"max-height:1000px;max-width:1500px;overflow:auto;\">\n",
        "<table border=\"1\" class=\"dataframe\">\n",
        "  <thead>\n",
        "    <tr style=\"text-align: right;\">\n",
        "      <th></th>\n",
        "      <th>PROTEIN</th>\n",
        "      <th>POS</th>\n",
        "      <th>REF</th>\n",
        "      <th>ALT</th>\n",
        "      <th>SYM</th>\n",
        "      <th>TRS</th>\n",
        "      <th>MSAMPLES</th>\n",
        "      <th>WSAMPLES</th>\n",
        "    </tr>\n",
        "  </thead>\n",
        "  <tbody>\n",
        "    <tr>\n",
        "      <th>59771 </th>\n",
        "      <td> ENSP00000371067</td>\n",
        "      <td> 617</td>\n",
        "      <td> V</td>\n",
        "      <td> F</td>\n",
        "      <td> JAK2</td>\n",
        "      <td> ENST00000381652</td>\n",
        "      <td> 34813</td>\n",
        "      <td>   1</td>\n",
        "    </tr>\n",
        "    <tr>\n",
        "      <th>637090</th>\n",
        "      <td> ENSP00000288602</td>\n",
        "      <td> 600</td>\n",
        "      <td> V</td>\n",
        "      <td> E</td>\n",
        "      <td> BRAF</td>\n",
        "      <td> ENST00000288602</td>\n",
        "      <td> 33822</td>\n",
        "      <td> 184</td>\n",
        "    </tr>\n",
        "    <tr>\n",
        "      <th>45565 </th>\n",
        "      <td> ENSP00000308495</td>\n",
        "      <td>  12</td>\n",
        "      <td> G</td>\n",
        "      <td> D</td>\n",
        "      <td> KRAS</td>\n",
        "      <td> ENST00000311936</td>\n",
        "      <td> 10198</td>\n",
        "      <td> 122</td>\n",
        "    </tr>\n",
        "    <tr>\n",
        "      <th>196302</th>\n",
        "      <td> ENSP00000275493</td>\n",
        "      <td> 858</td>\n",
        "      <td> L</td>\n",
        "      <td> R</td>\n",
        "      <td> EGFR</td>\n",
        "      <td> ENST00000275493</td>\n",
        "      <td>  7278</td>\n",
        "      <td>  32</td>\n",
        "    </tr>\n",
        "    <tr>\n",
        "      <th>690704</th>\n",
        "      <td> ENSP00000308495</td>\n",
        "      <td>  12</td>\n",
        "      <td> G</td>\n",
        "      <td> V</td>\n",
        "      <td> KRAS</td>\n",
        "      <td> ENST00000311936</td>\n",
        "      <td>  6711</td>\n",
        "      <td> 144</td>\n",
        "    </tr>\n",
        "  </tbody>\n",
        "</table>\n",
        "<p>5 rows \u00d7 8 columns</p>\n",
        "</div>"
       ],
       "metadata": {},
       "output_type": "display_data",
       "text": [
        "                PROTEIN  POS REF ALT   SYM              TRS  MSAMPLES  \\\n",
        "59771   ENSP00000371067  617   V   F  JAK2  ENST00000381652     34813   \n",
        "637090  ENSP00000288602  600   V   E  BRAF  ENST00000288602     33822   \n",
        "45565   ENSP00000308495   12   G   D  KRAS  ENST00000311936     10198   \n",
        "196302  ENSP00000275493  858   L   R  EGFR  ENST00000275493      7278   \n",
        "690704  ENSP00000308495   12   G   V  KRAS  ENST00000311936      6711   \n",
        "\n",
        "        WSAMPLES  \n",
        "59771          1  \n",
        "637090       184  \n",
        "45565        122  \n",
        "196302        32  \n",
        "690704       144  \n",
        "\n",
        "[5 rows x 8 columns]"
       ]
      },
      {
       "html": [
        "<div style=\"max-height:1000px;max-width:1500px;overflow:auto;\">\n",
        "<table border=\"1\" class=\"dataframe\">\n",
        "  <thead>\n",
        "    <tr style=\"text-align: right;\">\n",
        "      <th></th>\n",
        "      <th>PROTEIN</th>\n",
        "      <th>POS</th>\n",
        "      <th>REF</th>\n",
        "      <th>ALT</th>\n",
        "      <th>SYM</th>\n",
        "      <th>TRS</th>\n",
        "      <th>MSAMPLES</th>\n",
        "      <th>WSAMPLES</th>\n",
        "    </tr>\n",
        "  </thead>\n",
        "  <tbody>\n",
        "    <tr>\n",
        "      <th>637090</th>\n",
        "      <td> ENSP00000288602</td>\n",
        "      <td>  600</td>\n",
        "      <td> V</td>\n",
        "      <td> E</td>\n",
        "      <td>   BRAF</td>\n",
        "      <td> ENST00000288602</td>\n",
        "      <td> 33822</td>\n",
        "      <td> 184</td>\n",
        "    </tr>\n",
        "    <tr>\n",
        "      <th>191757</th>\n",
        "      <td> ENSP00000263967</td>\n",
        "      <td> 1047</td>\n",
        "      <td> H</td>\n",
        "      <td> R</td>\n",
        "      <td> PIK3CA</td>\n",
        "      <td> ENST00000263967</td>\n",
        "      <td>    33</td>\n",
        "      <td> 154</td>\n",
        "    </tr>\n",
        "    <tr>\n",
        "      <th>690704</th>\n",
        "      <td> ENSP00000308495</td>\n",
        "      <td>   12</td>\n",
        "      <td> G</td>\n",
        "      <td> V</td>\n",
        "      <td>   KRAS</td>\n",
        "      <td> ENST00000311936</td>\n",
        "      <td>  6711</td>\n",
        "      <td> 144</td>\n",
        "    </tr>\n",
        "    <tr>\n",
        "      <th>45565 </th>\n",
        "      <td> ENSP00000308495</td>\n",
        "      <td>   12</td>\n",
        "      <td> G</td>\n",
        "      <td> D</td>\n",
        "      <td>   KRAS</td>\n",
        "      <td> ENST00000311936</td>\n",
        "      <td> 10198</td>\n",
        "      <td> 122</td>\n",
        "    </tr>\n",
        "    <tr>\n",
        "      <th>425999</th>\n",
        "      <td> ENSP00000256078</td>\n",
        "      <td>   12</td>\n",
        "      <td> G</td>\n",
        "      <td> V</td>\n",
        "      <td>   KRAS</td>\n",
        "      <td> ENST00000256078</td>\n",
        "      <td>    48</td>\n",
        "      <td> 104</td>\n",
        "    </tr>\n",
        "  </tbody>\n",
        "</table>\n",
        "<p>5 rows \u00d7 8 columns</p>\n",
        "</div>"
       ],
       "metadata": {},
       "output_type": "display_data",
       "text": [
        "                PROTEIN   POS REF ALT     SYM              TRS  MSAMPLES  \\\n",
        "637090  ENSP00000288602   600   V   E    BRAF  ENST00000288602     33822   \n",
        "191757  ENSP00000263967  1047   H   R  PIK3CA  ENST00000263967        33   \n",
        "690704  ENSP00000308495    12   G   V    KRAS  ENST00000311936      6711   \n",
        "45565   ENSP00000308495    12   G   D    KRAS  ENST00000311936     10198   \n",
        "425999  ENSP00000256078    12   G   V    KRAS  ENST00000256078        48   \n",
        "\n",
        "        WSAMPLES  \n",
        "637090       184  \n",
        "191757       154  \n",
        "690704       144  \n",
        "45565        122  \n",
        "425999       104  \n",
        "\n",
        "[5 rows x 8 columns]"
       ]
      }
     ],
     "prompt_number": 25
    },
    {
     "cell_type": "markdown",
     "metadata": {},
     "source": [
      "Datasets for non wide screen mutations:"
     ]
    },
    {
     "cell_type": "code",
     "collapsed": false,
     "input": [
      "save_opts = dict(header=False, cols=[\"PROTEIN\", \"POS\", \"REF\", \"ALT\"], sep=\"\\t\", index=False)\n",
      "save(cm[cm.MSAMPLES == 1], \"snvs/cm-1\", **save_opts)\n",
      "save(cm[cm.MSAMPLES >= 2], \"snvs/cm-2\", **save_opts)\n",
      "save(cm[cm.MSAMPLES >= 3], \"snvs/cm-3\", **save_opts)\n",
      "save(cm[cm.MSAMPLES >= 4], \"snvs/cm-4\", **save_opts)\n",
      "\n",
      "save(cm[cm.SYM.isin(CGC)], \"snvs/cm-CGC\", **save_opts)\n",
      "save(cm[(~cm.SYM.isin(CGC)) & (cm.MSAMPLES==1)], \"snvs/cm-noCGC\", **save_opts)\n",
      "\n",
      "save(cm[cm.SYM.isin(TD)], \"snvs/cm-TD\", **save_opts)\n",
      "save(cm[(~cm.SYM.isin(TD)) & (cm.MSAMPLES==1)], \"snvs/cm-noTD\", **save_opts)\n",
      "\n",
      "save(cm[cm.SYM.isin(PD)], \"snvs/cm-PD\", **save_opts)\n",
      "save(cm[(~cm.SYM.isin(PD)) & (cm.MSAMPLES==1)], \"snvs/cm-noPD\", **save_opts)\n",
      "\n",
      "save(cm[cm.SYM.isin(TD_noCGC)], \"snvs/cm-TD-noCGC\", **save_opts)\n",
      "save(cm[cm.SYM.isin(PD_noCGC)], \"snvs/cm-PD-noCGC\", **save_opts)\n",
      "save(cm[(~cm.SYM.isin(TD_PD_CGC)) & (cm.MSAMPLES==1)], \"snvs/cm-noTD-noPD-noCGC\", **save_opts)\n",
      "\n",
      "save(cm[cm.TRS.isin(CD)], \"snvs/cm-CD\", **save_opts)\n",
      "save(cm[(~cm.TRS.isin(CD)) & (cm.MSAMPLES==1)], \"snvs/cm-noCD\", **save_opts)"
     ],
     "language": "python",
     "metadata": {},
     "outputs": [],
     "prompt_number": 36
    },
    {
     "cell_type": "markdown",
     "metadata": {},
     "source": [
      "Without CD:"
     ]
    },
    {
     "cell_type": "code",
     "collapsed": false,
     "input": [
      "save(cm[(cm.MSAMPLES >= 2) & (~cm.TRS.isin(CD))], \"snvs/cm-2-noCD\", **save_opts)\n",
      "save(cm[(cm.MSAMPLES >= 3) & (~cm.TRS.isin(CD))], \"snvs/cm-3-noCD\", **save_opts)\n",
      "save(cm[(cm.MSAMPLES >= 4) & (~cm.TRS.isin(CD))], \"snvs/cm-4-noCD\", **save_opts)\n",
      "\n",
      "save(cm[cm.SYM.isin(CGC) & (~cm.TRS.isin(CD))], \"snvs/cm-CGC-noCD\", **save_opts)\n",
      "\n",
      "save(cm[cm.SYM.isin(TD) & (~cm.TRS.isin(CD))], \"snvs/cm-TD-noCD\", **save_opts)\n",
      "\n",
      "save(cm[cm.SYM.isin(PD) & (~cm.TRS.isin(CD))], \"snvs/cm-PD-noCD\", **save_opts)\n",
      "\n",
      "save(cm[cm.SYM.isin(TD_noCGC) & (~cm.TRS.isin(CD))], \"snvs/cm-TD-noCGC-noCD\", **save_opts)\n",
      "save(cm[cm.SYM.isin(PD_noCGC) & (~cm.TRS.isin(CD))], \"snvs/cm-PD-noCGC-noCD\", **save_opts)"
     ],
     "language": "python",
     "metadata": {},
     "outputs": [],
     "prompt_number": 38
    },
    {
     "cell_type": "markdown",
     "metadata": {},
     "source": [
      "CGC recurrences for Dominants and Recesives:"
     ]
    },
    {
     "cell_type": "code",
     "collapsed": false,
     "input": [
      "save(cm[(cm.MSAMPLES == 1) & cm.SYM.isin(CGC) & (~cm.TRS.isin(CD))], \"snvs/cm-CGC-1\", **save_opts)\n",
      "save(cm[(cm.MSAMPLES >= 4) & cm.SYM.isin(CGC) & (~cm.TRS.isin(CD))], \"snvs/cm-CGC-4\", **save_opts)\n",
      "\n",
      "save(cm[(cm.MSAMPLES == 1) & cm.SYM.isin(CGCD) & (~cm.TRS.isin(CD))], \"snvs/cm-CGC-D-1\", **save_opts)\n",
      "save(cm[(cm.MSAMPLES >= 4) & cm.SYM.isin(CGCD) & (~cm.TRS.isin(CD))], \"snvs/cm-CGC-D-4\", **save_opts)\n",
      "\n",
      "save(cm[(cm.MSAMPLES == 1) & cm.SYM.isin(CGCR) & (~cm.TRS.isin(CD))], \"snvs/cm-CGC-R-1\", **save_opts)\n",
      "save(cm[(cm.MSAMPLES >= 4) & cm.SYM.isin(CGCR) & (~cm.TRS.isin(CD))], \"snvs/cm-CGC-R-4\", **save_opts)"
     ],
     "language": "python",
     "metadata": {},
     "outputs": [],
     "prompt_number": 58
    },
    {
     "cell_type": "markdown",
     "metadata": {},
     "source": [
      "Datasets by gene:"
     ]
    },
    {
     "cell_type": "code",
     "collapsed": false,
     "input": [
      "genes = [\"TP53\", \"EGFR\", \"CTNNB1\", \"PTEN\", \"PIK3CA\"]\n",
      "save_opts = dict(header=False, cols=[\"PROTEIN\", \"POS\", \"REF\", \"ALT\"], sep=\"\\t\", index=False)\n",
      "\n",
      "for gene in genes:\n",
      "    save(cm[(cm.MSAMPLES == 1) & (cm.SYM == gene) & (~cm.TRS.isin(CD))], \"snvs/cm-1-{}\".format(gene), **save_opts)\n",
      "    save(cm[(cm.MSAMPLES >= 2) & (cm.SYM == gene) & (~cm.TRS.isin(CD))], \"snvs/cm-2-{}\".format(gene), **save_opts)"
     ],
     "language": "python",
     "metadata": {},
     "outputs": [],
     "prompt_number": 59
    },
    {
     "cell_type": "markdown",
     "metadata": {},
     "source": [
      "Datasets for wide screen mutations:"
     ]
    },
    {
     "cell_type": "code",
     "collapsed": false,
     "input": [
      "save_opts = dict(header=False, cols=[\"PROTEIN\", \"POS\", \"REF\", \"ALT\"], sep=\"\\t\", index=False)\n",
      "save(cw[cw.WSAMPLES == 1], \"snvs/cw-1\", **save_opts)\n",
      "save(cw[cw.WSAMPLES >= 2], \"snvs/cw-2\", **save_opts)\n",
      "save(cw[cw.WSAMPLES >= 3], \"snvs/cw-3\", **save_opts)\n",
      "save(cw[cw.WSAMPLES >= 4], \"snvs/cw-4\", **save_opts)\n",
      "\n",
      "save(cw[cw.SYM.isin(CGC) & (cw.WSAMPLES >= 4)], \"snvs/cw-CGC-4\", **save_opts)\n",
      "save(cw[cw.SYM.isin(CGC) & (cw.WSAMPLES == 1)], \"snvs/cw-CGC-1\", **save_opts)\n",
      "\n",
      "save(cw[cw.SYM.isin(CGC)], \"snvs/cw-CGC\", **save_opts)\n",
      "save(cw[(~cw.SYM.isin(CGC)) & (cw.WSAMPLES==1)], \"snvs/cw-noCGC\", **save_opts)\n",
      "\n",
      "save(cw[cw.SYM.isin(TD)], \"snvs/cw-TD\", **save_opts)\n",
      "save(cw[(~cw.SYM.isin(TD)) & (cw.WSAMPLES==1)], \"snvs/cw-noTD\", **save_opts)\n",
      "\n",
      "save(cw[cw.SYM.isin(PD)], \"snvs/cw-PD\", **save_opts)\n",
      "save(cw[(~cw.SYM.isin(PD)) & (cw.WSAMPLES==1)], \"snvs/cw-noPD\", **save_opts)\n",
      "\n",
      "save(cw[cw.SYM.isin(TD_noCGC)], \"snvs/cw-TD-noCGC\", **save_opts)\n",
      "save(cw[cw.SYM.isin(PD_noCGC)], \"snvs/cw-PD-noCGC\", **save_opts)\n",
      "save(cw[(~cw.SYM.isin(TD_PD_CGC)) & (cw.WSAMPLES==1)], \"snvs/cw-noTD-noPD-noCGC\", **save_opts)\n",
      "\n",
      "save(cw[cw.TRS.isin(CD)], \"snvs/cw-CD\", **save_opts)\n",
      "save(cw[(~cw.TRS.isin(CD)) & (cw.WSAMPLES==1)], \"snvs/cw-noCD\", **save_opts)"
     ],
     "language": "python",
     "metadata": {},
     "outputs": [],
     "prompt_number": 41
    },
    {
     "cell_type": "code",
     "collapsed": false,
     "input": [
      "save_opts = dict(header=False, cols=[\"PROTEIN\", \"POS\", \"REF\", \"ALT\"], sep=\"\\t\", index=False)\n",
      "save(cw[cw.SYM.isin(CGC) & (cw.WSAMPLES >= 4)], \"snvs/cw-CGC-4\", **save_opts)\n",
      "save(cw[cw.SYM.isin(CGC) & (cw.WSAMPLES == 1)], \"snvs/cw-CGC-1\", **save_opts)"
     ],
     "language": "python",
     "metadata": {},
     "outputs": [],
     "prompt_number": 42
    },
    {
     "cell_type": "markdown",
     "metadata": {},
     "source": [
      "Without CD:"
     ]
    },
    {
     "cell_type": "code",
     "collapsed": false,
     "input": [
      "save(cw[(cw.WSAMPLES >= 2) & (~cw.TRS.isin(CD))], \"snvs/cw-2-noCD\", **save_opts)\n",
      "save(cw[(cw.WSAMPLES >= 3) & (~cw.TRS.isin(CD))], \"snvs/cw-3-noCD\", **save_opts)\n",
      "save(cw[(cw.WSAMPLES >= 4) & (~cw.TRS.isin(CD))], \"snvs/cw-4-noCD\", **save_opts)\n",
      "\n",
      "save(cw[cw.SYM.isin(CGC) & (~cw.TRS.isin(CD))], \"snvs/cw-CGC-noCD\", **save_opts)\n",
      "\n",
      "save(cw[cw.SYM.isin(TD) & (~cw.TRS.isin(CD))], \"snvs/cw-TD-noCD\", **save_opts)\n",
      "\n",
      "save(cw[cw.SYM.isin(PD) & (~cw.TRS.isin(CD))], \"snvs/cw-PD-noCD\", **save_opts)\n",
      "\n",
      "save(cw[cw.SYM.isin(TD_noCGC) & (~cw.TRS.isin(CD))], \"snvs/cw-TD-noCGC-noCD\", **save_opts)\n",
      "save(cw[cw.SYM.isin(PD_noCGC) & (~cw.TRS.isin(CD))], \"snvs/cw-PD-noCGC-noCD\", **save_opts)"
     ],
     "language": "python",
     "metadata": {},
     "outputs": [],
     "prompt_number": 43
    },
    {
     "cell_type": "markdown",
     "metadata": {},
     "source": [
      "Cosmic v52:"
     ]
    },
    {
     "cell_type": "code",
     "collapsed": false,
     "input": [
      "!cat CosmicMutantExport_v52_260411.tsv | transfic-perf-cosmic52 -L debug mongodb://localhost:27117/fanns05 - cgc_genes.tsv drivers.tmps -o snvs/c52-"
     ],
     "language": "python",
     "metadata": {},
     "outputs": []
    },
    {
     "cell_type": "code",
     "collapsed": false,
     "input": [
      "os.chdir(WORK_PATH)\n",
      "for f in sorted(glob(\"snvs/*\")):\n",
      "    !wc -l $f"
     ],
     "language": "python",
     "metadata": {},
     "outputs": [
      {
       "output_type": "stream",
       "stream": "stdout",
       "text": [
        "0 snvs/all-snvs.tsv.gz\r\n"
       ]
      },
      {
       "output_type": "stream",
       "stream": "stdout",
       "text": [
        "5182 snvs/c52-1\r\n"
       ]
      },
      {
       "output_type": "stream",
       "stream": "stdout",
       "text": [
        "69 snvs/c52-2\r\n"
       ]
      },
      {
       "output_type": "stream",
       "stream": "stdout",
       "text": [
        "11 snvs/c52-4\r\n"
       ]
      },
      {
       "output_type": "stream",
       "stream": "stdout",
       "text": [
        "311 snvs/c52-CGC\r\n"
       ]
      },
      {
       "output_type": "stream",
       "stream": "stdout",
       "text": [
        "237 snvs/c52-D\r\n"
       ]
      },
      {
       "output_type": "stream",
       "stream": "stdout",
       "text": [
        "4990 snvs/c52-O\r\n"
       ]
      },
      {
       "output_type": "stream",
       "stream": "stdout",
       "text": [
        "4917 snvs/c52-noCGC\r\n"
       ]
      },
      {
       "output_type": "stream",
       "stream": "stdout",
       "text": [
        "16887 snvs/cm-1\r\n"
       ]
      },
      {
       "output_type": "stream",
       "stream": "stdout",
       "text": [
        "62 snvs/cm-1-CTNNB1\r\n"
       ]
      },
      {
       "output_type": "stream",
       "stream": "stdout",
       "text": [
        "187 snvs/cm-1-EGFR\r\n"
       ]
      },
      {
       "output_type": "stream",
       "stream": "stdout",
       "text": [
        "17 snvs/cm-1-PIK3CA\r\n"
       ]
      },
      {
       "output_type": "stream",
       "stream": "stdout",
       "text": [
        "230 snvs/cm-1-PTEN\r\n"
       ]
      },
      {
       "output_type": "stream",
       "stream": "stdout",
       "text": [
        "477 snvs/cm-1-TP53\r\n"
       ]
      },
      {
       "output_type": "stream",
       "stream": "stdout",
       "text": [
        "2925 snvs/cm-2\r\n"
       ]
      },
      {
       "output_type": "stream",
       "stream": "stdout",
       "text": [
        "83 snvs/cm-2-CTNNB1\r\n"
       ]
      },
      {
       "output_type": "stream",
       "stream": "stdout",
       "text": [
        "192 snvs/cm-2-EGFR\r\n"
       ]
      },
      {
       "output_type": "stream",
       "stream": "stdout",
       "text": [
        "12 snvs/cm-2-PIK3CA\r\n"
       ]
      },
      {
       "output_type": "stream",
       "stream": "stdout",
       "text": [
        "136 snvs/cm-2-PTEN\r\n"
       ]
      },
      {
       "output_type": "stream",
       "stream": "stdout",
       "text": [
        "883 snvs/cm-2-TP53\r\n"
       ]
      },
      {
       "output_type": "stream",
       "stream": "stdout",
       "text": [
        "1309 snvs/cm-2-noCD\r\n"
       ]
      },
      {
       "output_type": "stream",
       "stream": "stdout",
       "text": [
        "1786 snvs/cm-3\r\n"
       ]
      },
      {
       "output_type": "stream",
       "stream": "stdout",
       "text": [
        "889 snvs/cm-3-noCD\r\n"
       ]
      },
      {
       "output_type": "stream",
       "stream": "stdout",
       "text": [
        "1313 snvs/cm-4\r\n"
       ]
      },
      {
       "output_type": "stream",
       "stream": "stdout",
       "text": [
        "682 snvs/cm-4-noCD\r\n"
       ]
      },
      {
       "output_type": "stream",
       "stream": "stdout",
       "text": [
        "5233 snvs/cm-CD\r\n"
       ]
      },
      {
       "output_type": "stream",
       "stream": "stdout",
       "text": [
        "7917 snvs/cm-CGC\r\n"
       ]
      },
      {
       "output_type": "stream",
       "stream": "stdout",
       "text": [
        "5130 snvs/cm-CGC-1\r\n"
       ]
      },
      {
       "output_type": "stream",
       "stream": "stdout",
       "text": [
        "1297 snvs/cm-CGC-4\r\n"
       ]
      },
      {
       "output_type": "stream",
       "stream": "stdout",
       "text": [
        "2254 snvs/cm-CGC-D-1\r\n"
       ]
      },
      {
       "output_type": "stream",
       "stream": "stdout",
       "text": [
        "570 snvs/cm-CGC-D-4\r\n"
       ]
      },
      {
       "output_type": "stream",
       "stream": "stdout",
       "text": [
        "2679 snvs/cm-CGC-R-1\r\n"
       ]
      },
      {
       "output_type": "stream",
       "stream": "stdout",
       "text": [
        "697 snvs/cm-CGC-R-4\r\n"
       ]
      },
      {
       "output_type": "stream",
       "stream": "stdout",
       "text": [
        "3000 snvs/cm-CGC-noCD\r\n"
       ]
      },
      {
       "output_type": "stream",
       "stream": "stdout",
       "text": [
        "7323 snvs/cm-PD\r\n"
       ]
      },
      {
       "output_type": "stream",
       "stream": "stdout",
       "text": [
        "2798 snvs/cm-PD-noCD\r\n"
       ]
      },
      {
       "output_type": "stream",
       "stream": "stdout",
       "text": [
        "843 snvs/cm-PD-noCGC\r\n"
       ]
      },
      {
       "output_type": "stream",
       "stream": "stdout",
       "text": [
        "556 snvs/cm-PD-noCGC-noCD\r\n"
       ]
      },
      {
       "output_type": "stream",
       "stream": "stdout",
       "text": [
        "6661 snvs/cm-TD\r\n"
       ]
      },
      {
       "output_type": "stream",
       "stream": "stdout",
       "text": [
        "2492 snvs/cm-TD-noCD\r\n"
       ]
      },
      {
       "output_type": "stream",
       "stream": "stdout",
       "text": [
        "491 snvs/cm-TD-noCGC\r\n"
       ]
      },
      {
       "output_type": "stream",
       "stream": "stdout",
       "text": [
        "351 snvs/cm-TD-noCGC-noCD\r\n"
       ]
      },
      {
       "output_type": "stream",
       "stream": "stdout",
       "text": [
        "13270 snvs/cm-noCD\r\n"
       ]
      },
      {
       "output_type": "stream",
       "stream": "stdout",
       "text": [
        "11757 snvs/cm-noCGC\r\n"
       ]
      },
      {
       "output_type": "stream",
       "stream": "stdout",
       "text": [
        "12108 snvs/cm-noPD\r\n"
       ]
      },
      {
       "output_type": "stream",
       "stream": "stdout",
       "text": [
        "12734 snvs/cm-noTD\r\n"
       ]
      },
      {
       "output_type": "stream",
       "stream": "stdout",
       "text": [
        "10784 snvs/cm-noTD-noPD-noCGC\r\n"
       ]
      },
      {
       "output_type": "stream",
       "stream": "stdout",
       "text": [
        "335386 snvs/cosmic-1\r\n"
       ]
      },
      {
       "output_type": "stream",
       "stream": "stdout",
       "text": [
        "20946 snvs/cosmic-2\r\n"
       ]
      },
      {
       "output_type": "stream",
       "stream": "stdout",
       "text": [
        "1072 snvs/cosmic-4\r\n"
       ]
      },
      {
       "output_type": "stream",
       "stream": "stdout",
       "text": [
        "14447 snvs/cosmic-CGC\r\n"
       ]
      },
      {
       "output_type": "stream",
       "stream": "stdout",
       "text": [
        "5125 snvs/cosmic-D\r\n"
       ]
      },
      {
       "output_type": "stream",
       "stream": "stdout",
       "text": [
        "330736 snvs/cosmic-O\r\n"
       ]
      },
      {
       "output_type": "stream",
       "stream": "stdout",
       "text": [
        "322114 snvs/cosmic-noCGC\r\n"
       ]
      },
      {
       "output_type": "stream",
       "stream": "stdout",
       "text": [
        "681108 snvs/cw-1\r\n"
       ]
      },
      {
       "output_type": "stream",
       "stream": "stdout",
       "text": [
        "42360 snvs/cw-2\r\n"
       ]
      },
      {
       "output_type": "stream",
       "stream": "stdout",
       "text": [
        "41172 snvs/cw-2-noCD\r\n"
       ]
      },
      {
       "output_type": "stream",
       "stream": "stdout",
       "text": [
        "7520 snvs/cw-3\r\n"
       ]
      },
      {
       "output_type": "stream",
       "stream": "stdout",
       "text": [
        "7110 snvs/cw-3-noCD\r\n"
       ]
      },
      {
       "output_type": "stream",
       "stream": "stdout",
       "text": [
        "2520 snvs/cw-4\r\n"
       ]
      },
      {
       "output_type": "stream",
       "stream": "stdout",
       "text": [
        "2336 snvs/cw-4-noCD\r\n"
       ]
      },
      {
       "output_type": "stream",
       "stream": "stdout",
       "text": [
        "8808 snvs/cw-CD\r\n"
       ]
      },
      {
       "output_type": "stream",
       "stream": "stdout",
       "text": [
        "29505 snvs/cw-CGC\r\n"
       ]
      },
      {
       "output_type": "stream",
       "stream": "stdout",
       "text": [
        "26269 snvs/cw-CGC-1\r\n"
       ]
      },
      {
       "output_type": "stream",
       "stream": "stdout",
       "text": [
        "685 snvs/cw-CGC-4\r\n"
       ]
      },
      {
       "output_type": "stream",
       "stream": "stdout",
       "text": [
        "21551 snvs/cw-CGC-noCD\r\n"
       ]
      },
      {
       "output_type": "stream",
       "stream": "stdout",
       "text": [
        "39674 snvs/cw-PD\r\n"
       ]
      },
      {
       "output_type": "stream",
       "stream": "stdout",
       "text": [
        "32394 snvs/cw-PD-noCD\r\n"
       ]
      },
      {
       "output_type": "stream",
       "stream": "stdout",
       "text": [
        "23946 snvs/cw-PD-noCGC\r\n"
       ]
      },
      {
       "output_type": "stream",
       "stream": "stdout",
       "text": [
        "23236 snvs/cw-PD-noCGC-noCD\r\n"
       ]
      },
      {
       "output_type": "stream",
       "stream": "stdout",
       "text": [
        "30730 snvs/cw-TD\r\n"
       ]
      },
      {
       "output_type": "stream",
       "stream": "stdout",
       "text": [
        "24378 snvs/cw-TD-noCD\r\n"
       ]
      },
      {
       "output_type": "stream",
       "stream": "stdout",
       "text": [
        "16315 snvs/cw-TD-noCGC\r\n"
       ]
      },
      {
       "output_type": "stream",
       "stream": "stdout",
       "text": [
        "15948 snvs/cw-TD-noCGC-noCD\r\n"
       ]
      },
      {
       "output_type": "stream",
       "stream": "stdout",
       "text": [
        "673488 snvs/cw-noCD\r\n"
       ]
      },
      {
       "output_type": "stream",
       "stream": "stdout",
       "text": [
        "654839 snvs/cw-noCGC\r\n"
       ]
      },
      {
       "output_type": "stream",
       "stream": "stdout",
       "text": [
        "645336 snvs/cw-noPD\r\n"
       ]
      },
      {
       "output_type": "stream",
       "stream": "stdout",
       "text": [
        "653685 snvs/cw-noTD\r\n"
       ]
      },
      {
       "output_type": "stream",
       "stream": "stdout",
       "text": [
        "623340 snvs/cw-noTD-noPD-noCGC\r\n"
       ]
      },
      {
       "output_type": "stream",
       "stream": "stdout",
       "text": [
        "22196 snvs/humvar-d\r\n"
       ]
      },
      {
       "output_type": "stream",
       "stream": "stdout",
       "text": [
        "21151 snvs/humvar-n\r\n"
       ]
      },
      {
       "output_type": "stream",
       "stream": "stdout",
       "text": [
        "14000 snvs/synth-ov\r\n"
       ]
      },
      {
       "output_type": "stream",
       "stream": "stdout",
       "text": [
        "469692 snvs/wg-1\r\n"
       ]
      },
      {
       "output_type": "stream",
       "stream": "stdout",
       "text": [
        "18831 snvs/wg-2\r\n"
       ]
      },
      {
       "output_type": "stream",
       "stream": "stdout",
       "text": [
        "18563 snvs/wg-2-noCD\r\n"
       ]
      },
      {
       "output_type": "stream",
       "stream": "stdout",
       "text": [
        "2743 snvs/wg-3\r\n"
       ]
      },
      {
       "output_type": "stream",
       "stream": "stdout",
       "text": [
        "2641 snvs/wg-3-noCD\r\n"
       ]
      },
      {
       "output_type": "stream",
       "stream": "stdout",
       "text": [
        "967 snvs/wg-4\r\n"
       ]
      },
      {
       "output_type": "stream",
       "stream": "stdout",
       "text": [
        "912 snvs/wg-4-noCD\r\n"
       ]
      },
      {
       "output_type": "stream",
       "stream": "stdout",
       "text": [
        "3157 snvs/wg-CD\r\n"
       ]
      },
      {
       "output_type": "stream",
       "stream": "stdout",
       "text": [
        "16592 snvs/wg-CGC\r\n"
       ]
      },
      {
       "output_type": "stream",
       "stream": "stdout",
       "text": [
        "13731 snvs/wg-CGC-noCD\r\n"
       ]
      },
      {
       "output_type": "stream",
       "stream": "stdout",
       "text": [
        "24125 snvs/wg-PD\r\n"
       ]
      },
      {
       "output_type": "stream",
       "stream": "stdout",
       "text": [
        "21530 snvs/wg-PD-noCD\r\n"
       ]
      },
      {
       "output_type": "stream",
       "stream": "stdout",
       "text": [
        "15775 snvs/wg-PD-noCGC\r\n"
       ]
      },
      {
       "output_type": "stream",
       "stream": "stdout",
       "text": [
        "15557 snvs/wg-PD-noCGC-noCD\r\n"
       ]
      },
      {
       "output_type": "stream",
       "stream": "stdout",
       "text": [
        "17772 snvs/wg-TD\r\n"
       ]
      },
      {
       "output_type": "stream",
       "stream": "stdout",
       "text": [
        "15478 snvs/wg-TD-noCD\r\n"
       ]
      },
      {
       "output_type": "stream",
       "stream": "stdout",
       "text": [
        "10133 snvs/wg-TD-noCGC\r\n"
       ]
      },
      {
       "output_type": "stream",
       "stream": "stdout",
       "text": [
        "9949 snvs/wg-TD-noCGC-noCD\r\n"
       ]
      },
      {
       "output_type": "stream",
       "stream": "stdout",
       "text": [
        "466803 snvs/wg-noCD\r\n"
       ]
      },
      {
       "output_type": "stream",
       "stream": "stdout",
       "text": [
        "454149 snvs/wg-noCGC\r\n"
       ]
      },
      {
       "output_type": "stream",
       "stream": "stdout",
       "text": [
        "447010 snvs/wg-noPD\r\n"
       ]
      },
      {
       "output_type": "stream",
       "stream": "stdout",
       "text": [
        "453126 snvs/wg-noTD\r\n"
       ]
      },
      {
       "output_type": "stream",
       "stream": "stdout",
       "text": [
        "433615 snvs/wg-noTD-noPD-noCGC\r\n"
       ]
      },
      {
       "output_type": "stream",
       "stream": "stdout",
       "text": [
        "12447 snvs/wg-ov\r\n"
       ]
      },
      {
       "output_type": "stream",
       "stream": "stdout",
       "text": [
        "520 snvs/wg-ov-CGC\r\n"
       ]
      },
      {
       "output_type": "stream",
       "stream": "stdout",
       "text": [
        "716 snvs/wg-ov-PD\r\n"
       ]
      }
     ],
     "prompt_number": 44
    },
    {
     "cell_type": "heading",
     "level": 2,
     "metadata": {},
     "source": [
      "Merge all the SNV's into one dataset"
     ]
    },
    {
     "cell_type": "markdown",
     "metadata": {},
     "source": [
      "This dataset containing all the unique mutations used by the datasets is necessary to calculate CHASM, FATHMMC and INCA scores."
     ]
    },
    {
     "cell_type": "code",
     "collapsed": false,
     "input": [
      "%%px --local\n",
      "import fannsdb.db.mongodb\n",
      "reload(fannsdb.db.mongodb)"
     ],
     "language": "python",
     "metadata": {},
     "outputs": []
    },
    {
     "cell_type": "markdown",
     "metadata": {},
     "source": [
      "Convert humvar protein id's into ensembl:"
     ]
    },
    {
     "cell_type": "code",
     "collapsed": false,
     "input": [
      "from fannsdb.db.mongodb import FannsMongoDb\n",
      "fanns_db = FannsMongoDb(uri=FANNSDB_URI)\n",
      "for name in [\"humvar-d\", \"humvar-n\"]:\n",
      "    logger.info(\"Mapping protein identifiers for {} ...\".format(name))\n",
      "    with open(os.path.join(SNVS_PATH, name)) as f, open(os.path.join(WORK_PATH, \"humvar-all.tsv\"), \"w\") as wf:\n",
      "        for line in f:\n",
      "            prot, pos, ref, alt = line.rstrip(\"\\n\").split(\"\\t\")\n",
      "            try:\n",
      "                d = next(fanns_db.query_scores(protein=prot, aa_pos=int(pos), aa_ref=ref, aa_alt=alt))\n",
      "                wf.write(\"\\t\".join([d[\"protein\"], pos, ref, alt]) + \"\\n\")\n",
      "            except StopIteration:\n",
      "                pass\n",
      "logger.info(\"Done\")"
     ],
     "language": "python",
     "metadata": {},
     "outputs": [],
     "prompt_number": 16
    },
    {
     "cell_type": "markdown",
     "metadata": {},
     "source": [
      "Join all the SNVs into 2 files:\n",
      "* **chasm-snvs-all.tsv**: necessary to calculate CHASM scores\n",
      "* **snvs-all.tsv**: necessary to ask InCa people to calculate the InCa scores"
     ]
    },
    {
     "cell_type": "code",
     "collapsed": false,
     "input": [
      "os.chdir(WORK_PATH)\n",
      "!cat $SNVS_PATH/cm-* | cut -s -f 1,2,3,4 | sort -u >cm-all.tsv\n",
      "!cat $SNVS_PATH/cw-* | cut -s -f 1,2,3,4 | sort -u >cw-all.tsv\n",
      "!cat $SNVS_PATH/wg-* | cut -s -f 1,2,3,4 | sort -u >wg-all.tsv\n",
      "!cat {cm,cw,wg,humvar}-all.tsv | sort -u | awk 'BEGIN{FS=\"\\t\";OFS=\"\\t\"}(length($3)==1&&length($4)==1){print $1,$3$2$4}' >chasm-snvs-all.tsv\n",
      "!cat {cm,cw,wg,humvar}-all.tsv | sort -u | awk 'BEGIN{FS=\"\\t\";OFS=\"\\t\"}(length($3)==1&&length($4)==1){print $1,$2,$3,$4}' >snvs-all.tsv\n",
      "#!rm {cm,cw,wg,humvar}-all.tsv"
     ],
     "language": "python",
     "metadata": {},
     "outputs": [],
     "prompt_number": 156
    },
    {
     "cell_type": "markdown",
     "metadata": {},
     "source": [
      "Example for calculating **CHASM3** scores in sydney:\n",
      "\n",
      "    cd /shared/datasets/CHASM/CHASM3\n",
      "    ./RunChasm OV chasm-snvs-all.tsv\n",
      "    \n",
      "Example for calculating **FATHMMC** scores in sydney:\n",
      "\n",
      "    cd $WORK_PATH/FATHMMC_DS\n",
      "    python fathmm.py -w CANCER chasm-snvs-all.tsv - | gzip -c >snvs-all-fathmmc.tsv.gz\n",
      "\n",
      "To calculate the InCa scores I usually send an email to Octavio Espinosa <o.espinosa@dkfz-heidelberg.de> with the file *snvs-all.tsv*."
     ]
    },
    {
     "cell_type": "heading",
     "level": 1,
     "metadata": {},
     "source": [
      "Use case datasets for the benchmark paper"
     ]
    },
    {
     "cell_type": "code",
     "collapsed": false,
     "input": [
      "#tumor_types = [\n",
      "#    \"tcga_luad\",\n",
      "#    \"tcga_ovary\",\n",
      "#    \"tcga_glioblastoma\",\n",
      "#    \"tcga_kidney\"]\n",
      "\n",
      "intogen_path = os.path.join(WORK_PATH, \"intogen\")\n",
      "intogen_filt_path = os.path.join(WORK_PATH, \"intogen-filt\")\n",
      "ensure_path_exists(intogen_filt_path)\n",
      "\n",
      "save_opts = dict(header=False, cols=[\"PROTEIN\", \"POS\", \"REF\", \"ALT\"], sep=\"\\t\", index=False)\n",
      "\n",
      "tumor_types = [n[0:-4] for n in os.listdir(intogen_path)]\n",
      "\n",
      "for tt in tumor_types:\n",
      "    logger.info(\"Processing {} ...\".format(tt))\n",
      "    \n",
      "    path = os.path.join(intogen_path, tt + \".tsv\")\n",
      "    s = {}\n",
      "    load_and_filter(tt, path, s)\n",
      "    \n",
      "    if len(s) == 0:\n",
      "        logger.warn(\"  There were no mutations!\")\n",
      "        continue\n",
      "        \n",
      "    path = os.path.join(intogen_filt_path, tt + \".tsv\")\n",
      "    with open(path, \"w\") as of:\n",
      "        for ns, prot, pos, ref, alt, sym, trs in sorted(s.values()):\n",
      "            of.write(\"\\t\".join([prot, pos, ref, alt, sym, trs, str(ns)]) + \"\\n\")\n",
      "            \n",
      "    d = pd.read_csv(path, sep=\"\\t\", header=None,\n",
      "                  names=[\"PROTEIN\", \"POS\", \"REF\", \"ALT\", \"SYM\", \"TRS\", \"SAMPLES\"])\n",
      "\n",
      "    g = d.groupby([\"PROTEIN\", \"POS\", \"REF\", \"ALT\"], as_index=False)\n",
      "    d = g.agg({\"SYM\" : lambda x: x[0], \"TRS\" : lambda x: x[0], \"SAMPLES\" : np.sum})\n",
      "    \n",
      "    save(d, path, **save_opts)"
     ],
     "language": "python",
     "metadata": {},
     "outputs": [
      {
       "output_type": "stream",
       "stream": "stdout",
       "text": [
        "2014-06-19 10:35:12 root [INFO   ] Processing ALL_Leuven ...\n"
       ]
      },
      {
       "output_type": "stream",
       "stream": "stdout",
       "text": [
        "2014-06-19 10:35:12 root [INFO   ] Processing ALL_Memphis ...\n"
       ]
      },
      {
       "output_type": "stream",
       "stream": "stdout",
       "text": [
        "2014-06-19 10:35:12 root [INFO   ] Processing ALL_NewSamples ...\n"
       ]
      },
      {
       "output_type": "stream",
       "stream": "stdout",
       "text": [
        "2014-06-19 10:35:12 root [INFO   ] Processing Astrocytoma_NEWSAMPLES ...\n"
       ]
      },
      {
       "output_type": "stream",
       "stream": "stdout",
       "text": [
        "2014-06-19 10:35:12 root [INFO   ] Processing Astrocytoma_StJude ...\n"
       ]
      },
      {
       "output_type": "stream",
       "stream": "stdout",
       "text": [
        "2014-06-19 10:35:12 root [WARNING]   There were no mutations!\n"
       ]
      },
      {
       "output_type": "stream",
       "stream": "stdout",
       "text": [
        "2014-06-19 10:35:12 root [INFO   ] Processing Bcell_lymphoma ...\n"
       ]
      },
      {
       "output_type": "stream",
       "stream": "stdout",
       "text": [
        "2014-06-19 10:35:12 root [INFO   ] Processing Esophageal_DFCI ...\n"
       ]
      },
      {
       "output_type": "stream",
       "stream": "stdout",
       "text": [
        "2014-06-19 10:35:12 root [INFO   ] Processing Liver_ICGC ...\n"
       ]
      },
      {
       "output_type": "stream",
       "stream": "stdout",
       "text": [
        "2014-06-19 10:35:12 root [INFO   ] Processing tcga_stad ...\n"
       ]
      },
      {
       "output_type": "stream",
       "stream": "stdout",
       "text": [
        "2014-06-19 10:35:13 root [INFO   ] Processing Medulloblastoma_NewSamples ...\n"
       ]
      },
      {
       "output_type": "stream",
       "stream": "stdout",
       "text": [
        "2014-06-19 10:35:14 root [INFO   ] Processing Melanoma_BROAD ...\n"
       ]
      },
      {
       "output_type": "stream",
       "stream": "stdout",
       "text": [
        "2014-06-19 10:35:15 root [INFO   ] Processing Myeloma_NewSamples ...\n"
       ]
      },
      {
       "output_type": "stream",
       "stream": "stdout",
       "text": [
        "2014-06-19 10:35:16 root [INFO   ] Processing Neuroblastoma_BROAD ...\n"
       ]
      },
      {
       "output_type": "stream",
       "stream": "stdout",
       "text": [
        "2014-06-19 10:35:16 root [INFO   ] Processing icgc_snp_de_Pedbrain ...\n"
       ]
      },
      {
       "output_type": "stream",
       "stream": "stdout",
       "text": [
        "2014-06-19 10:35:16 root [INFO   ] Processing icgc_snp_es_CLL ...\n"
       ]
      },
      {
       "output_type": "stream",
       "stream": "stdout",
       "text": [
        "2014-06-19 10:35:16 root [INFO   ] Processing icgc_snp_fr_Liver ...\n"
       ]
      },
      {
       "output_type": "stream",
       "stream": "stdout",
       "text": [
        "2014-06-19 10:35:16 root [INFO   ] Processing icgc_snp_hopkins_Breast ...\n"
       ]
      },
      {
       "output_type": "stream",
       "stream": "stdout",
       "text": [
        "2014-06-19 10:35:16 root [INFO   ] Processing icgc_snp_hopkins_Colon ...\n"
       ]
      },
      {
       "output_type": "stream",
       "stream": "stdout",
       "text": [
        "2014-06-19 10:35:16 root [INFO   ] Processing icgc_snp_hopkins_GBM ...\n"
       ]
      },
      {
       "output_type": "stream",
       "stream": "stdout",
       "text": [
        "2014-06-19 10:35:16 root [INFO   ] Processing icgc_snp_hopkins_Panc ...\n"
       ]
      },
      {
       "output_type": "stream",
       "stream": "stdout",
       "text": [
        "2014-06-19 10:35:16 root [INFO   ] Processing icgc_snp_oicr_Panc ...\n"
       ]
      },
      {
       "output_type": "stream",
       "stream": "stdout",
       "text": [
        "2014-06-19 10:35:16 root [INFO   ] Processing icgc_snp_qcmg_Panc ...\n"
       ]
      },
      {
       "output_type": "stream",
       "stream": "stdout",
       "text": [
        "2014-06-19 10:35:16 root [INFO   ] Processing icgc_snp_sanger_Breast ...\n"
       ]
      },
      {
       "output_type": "stream",
       "stream": "stdout",
       "text": [
        "2014-06-19 10:35:16 root [INFO   ] Processing icgc_snp_tsp_Lung ...\n"
       ]
      },
      {
       "output_type": "stream",
       "stream": "stdout",
       "text": [
        "2014-06-19 10:35:16 root [INFO   ] Processing literature_CLL_DF ...\n"
       ]
      },
      {
       "output_type": "stream",
       "stream": "stdout",
       "text": [
        "2014-06-19 10:35:16 root [INFO   ] Processing literature_HNSCC_BROAD ...\n"
       ]
      },
      {
       "output_type": "stream",
       "stream": "stdout",
       "text": [
        "2014-06-19 10:35:17 root [INFO   ] Processing tcga_thca ...\n"
       ]
      },
      {
       "output_type": "stream",
       "stream": "stdout",
       "text": [
        "2014-06-19 10:35:17 root [INFO   ] Processing literature_NSCLC_WISCONSIN ...\n"
       ]
      },
      {
       "output_type": "stream",
       "stream": "stdout",
       "text": [
        "2014-06-19 10:35:17 root [INFO   ] Processing literature_SCLC_JHU ...\n"
       ]
      },
      {
       "output_type": "stream",
       "stream": "stdout",
       "text": [
        "2014-06-19 10:35:17 root [INFO   ] Processing literature_SCLC_UCOLOGNE ...\n"
       ]
      },
      {
       "output_type": "stream",
       "stream": "stdout",
       "text": [
        "2014-06-19 10:35:17 root [INFO   ] Processing literature_breast_BC ...\n"
       ]
      },
      {
       "output_type": "stream",
       "stream": "stdout",
       "text": [
        "2014-06-19 10:35:18 root [INFO   ] Processing literature_breast_WU ...\n"
       ]
      },
      {
       "output_type": "stream",
       "stream": "stdout",
       "text": [
        "2014-06-19 10:35:18 root [INFO   ] Processing tcga_uteri ...\n"
       ]
      },
      {
       "output_type": "stream",
       "stream": "stdout",
       "text": [
        "2014-06-19 10:35:19 root [INFO   ] Processing literature_breast_carcinoma_BROAD ...\n"
       ]
      },
      {
       "output_type": "stream",
       "stream": "stdout",
       "text": [
        "2014-06-19 10:35:19 root [INFO   ] Processing literature_gastric_PFIZER ...\n"
       ]
      },
      {
       "output_type": "stream",
       "stream": "stdout",
       "text": [
        "2014-06-19 10:35:19 root [INFO   ] Processing tcga_blca ...\n"
       ]
      },
      {
       "output_type": "stream",
       "stream": "stdout",
       "text": [
        "2014-06-19 10:35:20 root [INFO   ] Processing tcga_breast ...\n"
       ]
      },
      {
       "output_type": "stream",
       "stream": "stdout",
       "text": [
        "2014-06-19 10:35:21 root [INFO   ] Processing tcga_coadread ...\n"
       ]
      },
      {
       "output_type": "stream",
       "stream": "stdout",
       "text": [
        "2014-06-19 10:35:21 root [INFO   ] Processing tcga_glioblastoma ...\n"
       ]
      },
      {
       "output_type": "stream",
       "stream": "stdout",
       "text": [
        "2014-06-19 10:35:22 root [INFO   ] Processing tcga_hnsc ...\n"
       ]
      },
      {
       "output_type": "stream",
       "stream": "stdout",
       "text": [
        "2014-06-19 10:35:23 root [INFO   ] Processing tcga_kidney ...\n"
       ]
      },
      {
       "output_type": "stream",
       "stream": "stdout",
       "text": [
        "2014-06-19 10:35:23 root [INFO   ] Processing tcga_laml ...\n"
       ]
      },
      {
       "output_type": "stream",
       "stream": "stdout",
       "text": [
        "2014-06-19 10:35:24 root [INFO   ] Processing tcga_lgg ...\n"
       ]
      },
      {
       "output_type": "stream",
       "stream": "stdout",
       "text": [
        "2014-06-19 10:35:24 root [INFO   ] Processing tcga_luad ...\n"
       ]
      },
      {
       "output_type": "stream",
       "stream": "stdout",
       "text": [
        "2014-06-19 10:35:26 root [INFO   ] Processing tcga_lusc ...\n"
       ]
      },
      {
       "output_type": "stream",
       "stream": "stdout",
       "text": [
        "2014-06-19 10:35:27 root [INFO   ] Processing tcga_ovary ...\n"
       ]
      },
      {
       "output_type": "stream",
       "stream": "stdout",
       "text": [
        "2014-06-19 10:35:28 root [INFO   ] Processing tcga_prad ...\n"
       ]
      },
      {
       "output_type": "stream",
       "stream": "stdout",
       "text": [
        "2014-06-19 10:35:28 root [INFO   ] Processing tcga_skcm ...\n"
       ]
      }
     ],
     "prompt_number": 57
    }
   ],
   "metadata": {}
  }
 ]
}