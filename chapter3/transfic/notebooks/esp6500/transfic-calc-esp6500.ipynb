{
 "metadata": {
  "name": "",
  "signature": "sha256:4b774a7469f008b895bbec2d2836243626fb57686dbed3554b5c92cbe8d54ee1"
 },
 "nbformat": 3,
 "nbformat_minor": 0,
 "worksheets": [
  {
   "cells": [
    {
     "cell_type": "heading",
     "level": 1,
     "metadata": {},
     "source": [
      "TransFIC Calculation"
     ]
    },
    {
     "cell_type": "markdown",
     "metadata": {},
     "source": [
      "Global variables"
     ]
    },
    {
     "cell_type": "code",
     "collapsed": false,
     "input": [
      "DB_PATH=\"/projects_bg/bg/users/christian/fanns-04-esp6500.db\"\n",
      "WORK_PATH=\"/home/cperez/projects/transfic/notebooks/esp6500\"\n",
      "\n",
      "ORIG_PREDICTORS=\"SIFT,PPH2,MA,FATHMMC\"\n",
      "TFIC_PREDICTORS=\"TFIC_SIFT,TFIC_PPH2,TFIC_MA,TFIC_FATHMMC\"\n",
      "PREDICTORS=ORIG_PREDICTORS + \",\" + TFIC_PREDICTORS\n",
      "\n",
      "BLT=\"esp6500-blt-proteins.json\""
     ],
     "language": "python",
     "metadata": {},
     "outputs": [],
     "prompt_number": 13
    },
    {
     "cell_type": "markdown",
     "metadata": {},
     "source": [
      "Global imports"
     ]
    },
    {
     "cell_type": "code",
     "collapsed": false,
     "input": [
      "import os"
     ],
     "language": "python",
     "metadata": {},
     "outputs": [],
     "prompt_number": 8
    },
    {
     "cell_type": "markdown",
     "metadata": {},
     "source": [
      "Initialization"
     ]
    },
    {
     "cell_type": "code",
     "collapsed": false,
     "input": [
      "if not os.path.exists(WORK_PATH):\n",
      "    os.makedirs(WORK_PATH)\n",
      "\n",
      "os.chdir(WORK_PATH)"
     ],
     "language": "python",
     "metadata": {},
     "outputs": [],
     "prompt_number": 14
    },
    {
     "cell_type": "heading",
     "level": 2,
     "metadata": {},
     "source": [
      "Baseline tolerance"
     ]
    },
    {
     "cell_type": "code",
     "collapsed": false,
     "input": [],
     "language": "python",
     "metadata": {},
     "outputs": []
    },
    {
     "cell_type": "heading",
     "level": 2,
     "metadata": {},
     "source": [
      "Calculation"
     ]
    },
    {
     "cell_type": "code",
     "collapsed": false,
     "input": [
      "sift_flags='-t \"SIFT=max(1e-2,min(1-1e-2,x))\" -t \"SIFT=log((1-x)/x)\"'\n",
      "pph2_flags='-t \"PPH2=max(1e-3,min(1-1e-3,x))\" -t \"PPH2=log(x/(1-x))\"'\n",
      "fathmmc_flags='-t \"FATHMMC=-x\"'\n",
      "\n",
      "!transfic-calc -L debug -p $ORIG_PREDICTORS $sift_flags $pph2_flags $fathmmc_flags $DB_PATH protein $BLT"
     ],
     "language": "python",
     "metadata": {},
     "outputs": []
    },
    {
     "cell_type": "code",
     "collapsed": false,
     "input": [
      "!fannsdb-pred-update -p $TFIC_PREDICTORS $DB_PATH"
     ],
     "language": "python",
     "metadata": {},
     "outputs": [
      {
       "output_type": "stream",
       "stream": "stdout",
       "text": [
        "2014-02-03 22:22:25 pred-update INFO  : Opening database fanns-04-esp6500.db ...\r\n"
       ]
      },
      {
       "output_type": "stream",
       "stream": "stdout",
       "text": [
        "2014-02-03 22:22:41 pred-update INFO  : Selected predictors: TFIC_SIFT, TFIC_PPH2, TFIC_MA, TFIC_FATHMMC\r\n",
        "2014-02-03 22:22:41 pred-update INFO  : Updating predictors ...\r\n"
       ]
      }
     ],
     "prompt_number": 3
    },
    {
     "cell_type": "code",
     "collapsed": false,
     "input": [
      "!fannsdb-pred-list $DB_PATH --json >pred-list.json\n",
      "!fannsdb-pred-list $DB_PATH"
     ],
     "language": "python",
     "metadata": {},
     "outputs": [
      {
       "output_type": "stream",
       "stream": "stdout",
       "text": [
        "2014-02-03 22:59:21 pred-list INFO  : Opening database fanns-04-esp6500.db ...\r\n"
       ]
      },
      {
       "output_type": "stream",
       "stream": "stdout",
       "text": [
        "2014-02-03 22:59:25 pred-list INFO  : Opening database fanns-04-esp6500.db ...\r\n"
       ]
      },
      {
       "output_type": "stream",
       "stream": "stdout",
       "text": [
        "ID\tTYPE\tSOURCE\tMIN\tMAX\tCOUNT\r\n",
        "SIFT\tsource\tNone\t0.0\t1.0\t212005885\r\n",
        "PPH2\tsource\tNone\t0.0\t1.0\t175775446\r\n",
        "MA\tsource\tNone\t-5.545\t5.975\t216440105\r\n",
        "FATHMM\tsource\tNone\t-18.09\t11.0\t206684908\r\n",
        "FATHMMC\tsource\tNone\t-12.99\t11.12\t109694772\r\n",
        "TFIC_SIFT\tcalculated\tSIFT\t-8.36888427175\t3.81288803359\t189186381\r\n",
        "TFIC_FATHMMC\tcalculated\tFATHMMC\t-7.3516290622\t13.6267451843\t73237409\r\n",
        "TFIC_MA\tcalculated\tMA\t-6.63061374468\t4.59198909861\t160495957\r\n",
        "TFIC_PPH2\tcalculated\tPPH2\t-3.4376221158\t5.13346792266\t158023714\r\n"
       ]
      }
     ],
     "prompt_number": 10
    }
   ],
   "metadata": {}
  }
 ]
}