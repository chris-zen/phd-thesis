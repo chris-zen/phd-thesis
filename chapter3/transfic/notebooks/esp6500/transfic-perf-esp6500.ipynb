{
 "metadata": {
  "name": ""
 },
 "nbformat": 3,
 "nbformat_minor": 0,
 "worksheets": [
  {
   "cells": [
    {
     "cell_type": "heading",
     "level": 1,
     "metadata": {},
     "source": [
      "TransFIC performance (ESP6500)"
     ]
    },
    {
     "cell_type": "markdown",
     "metadata": {},
     "source": [
      "Global variables:"
     ]
    },
    {
     "cell_type": "code",
     "collapsed": false,
     "input": [
      "INTOGEN_RESULTS_PATH=\"/shared/projects/intogen/mutations/releases/2014-01_01\"\n",
      "DB_PATH=\"/home/cperez/projects/fannsdb/data/fanns.db\"\n",
      "WORK_PATH=\"/home/cperez/projects/transfic/notebooks/perf-esp6500\"\n",
      "\n",
      "ORIG_PREDICTORS=\"SIFT,PPH2,MA,FATHMMC\"\n",
      "TFIC_PREDICTORS=\"TFIC_SIFT,TFIC_PPH2,TFIC_MA,TFIC_FATHMMC\"\n",
      "PREDICTORS=ORIG_PREDICTORS + \",\" + TFIC_PREDICTORS"
     ],
     "language": "python",
     "metadata": {},
     "outputs": [],
     "prompt_number": 39
    },
    {
     "cell_type": "markdown",
     "metadata": {},
     "source": [
      "Global imports:"
     ]
    },
    {
     "cell_type": "code",
     "collapsed": false,
     "input": [
      "import os\n",
      "import tempfile\n",
      "import shutil\n",
      "from glob import glob\n",
      "from subprocess import check_output, STDOUT\n",
      "from IPython.display import display, HTML, Image, FileLink, FileLinks"
     ],
     "language": "python",
     "metadata": {},
     "outputs": [],
     "prompt_number": 68
    },
    {
     "cell_type": "markdown",
     "metadata": {},
     "source": [
      "Global functions:"
     ]
    },
    {
     "cell_type": "code",
     "collapsed": false,
     "input": [
      "def display_results_with_output(results):\n",
      "    for cmd, out_path, ar in results:\n",
      "        output = ar.get()\n",
      "        display(FileLink(out_path))\n",
      "        display(HTML(\"<strong>{}</strong>\".format(cmd)))\n",
      "        print output"
     ],
     "language": "python",
     "metadata": {},
     "outputs": [],
     "prompt_number": 3
    },
    {
     "cell_type": "markdown",
     "metadata": {},
     "source": [
      "Initialization required to work with parallel engines:"
     ]
    },
    {
     "cell_type": "code",
     "collapsed": false,
     "input": [
      "from IPython.parallel import Client\n",
      "client = Client()\n",
      "lb = client.load_balanced_view()"
     ],
     "language": "python",
     "metadata": {},
     "outputs": [],
     "prompt_number": 4
    },
    {
     "cell_type": "heading",
     "level": 2,
     "metadata": {},
     "source": [
      "Prepare datasets"
     ]
    },
    {
     "cell_type": "code",
     "collapsed": false,
     "input": [
      "import os\n",
      "for path in [\"snvs\", \"scores\", \"scores-filt\", \"tsets\", \"stats\", \"images\"]:\n",
      "    if not os.path.exists(path):\n",
      "        os.makedirs(path)\n",
      "\n",
      "if not os.path.exists(WORK_PATH):\n",
      "    os.makedirs(WORK_PATH)\n",
      "\n",
      "os.chdir(WORK_PATH)"
     ],
     "language": "python",
     "metadata": {},
     "outputs": [],
     "prompt_number": 40
    },
    {
     "cell_type": "markdown",
     "metadata": {},
     "source": [
      "Preparing the list of CGC genes:"
     ]
    },
    {
     "cell_type": "code",
     "collapsed": false,
     "input": [
      "!wget -c -nv http://cancer.sanger.ac.uk/cancergenome/assets/cancer_gene_census.tsv\n",
      "!cat cancer_gene_census.tsv | tr \"\\r\" \"\\n\" | tail -n+2 | cut -s -f1 | sort >cgc_genes.tsv\n",
      "display(FileLink(\"cgc_genes.tsv\"))"
     ],
     "language": "python",
     "metadata": {},
     "outputs": [
      {
       "output_type": "stream",
       "stream": "stdout",
       "text": [
        "2014-02-03 20:19:06 URL:http://cancer.sanger.ac.uk/cancergenome/assets/cancer_gene_census.tsv [66949/66949] -> \"cancer_gene_census.tsv\" [1]\r\n"
       ]
      },
      {
       "html": [
        "<a href='files/cgc_genes.tsv' target='_blank'>cgc_genes.tsv</a><br>"
       ],
       "metadata": {},
       "output_type": "display_data",
       "text": [
        "/home/cperez/projects/transfic/data/validation/cgc_genes.tsv"
       ]
      }
     ],
     "prompt_number": 89
    },
    {
     "cell_type": "markdown",
     "metadata": {},
     "source": [
      "Preparing the list of driver genes in *CHASM*:"
     ]
    },
    {
     "cell_type": "code",
     "collapsed": false,
     "input": [
      "!wget -c -nv http://karchinlab.org/chasmdl/ClassifierPack.1.0.8.tar.gz\n",
      "!tar -xOf ClassifierPack.1.0.8.tar.gz ClassifierPack/drivers.tmps | cut -s -f1 | grep ENST | sort -u >drivers.tmps\n",
      "!wc -l drivers.tmps\n",
      "display(FileLink(\"drivers.tmps\"))"
     ],
     "language": "python",
     "metadata": {},
     "outputs": [
      {
       "output_type": "stream",
       "stream": "stdout",
       "text": [
        "2014-02-03 20:19:43 URL:http://karchinlab.org/chasmdl/ClassifierPack.1.0.8.tar.gz [77001743/77001743] -> \"ClassifierPack.1.0.8.tar.gz\" [1]\r\n"
       ]
      },
      {
       "output_type": "stream",
       "stream": "stdout",
       "text": [
        "106 drivers.tmps\r\n"
       ]
      },
      {
       "html": [
        "<a href='files/drivers.tmps' target='_blank'>drivers.tmps</a><br>"
       ],
       "metadata": {},
       "output_type": "display_data",
       "text": [
        "/home/cperez/projects/transfic/data/validation/drivers.tmps"
       ]
      }
     ],
     "prompt_number": 90
    },
    {
     "cell_type": "heading",
     "level": 3,
     "metadata": {},
     "source": [
      "COSMIC"
     ]
    },
    {
     "cell_type": "code",
     "collapsed": false,
     "input": [
      "!wget -c -nv ftp://ftp.sanger.ac.uk/pub/CGP/cosmic/data_export/CosmicMutantExport_v68.tsv.gz\n",
      "!zcat CosmicMutantExport_v68.tsv.gz | transfic-perf-cosmic $DB_PATH - cgc_genes.tsv drivers.tmps -o snvs/cosmic-"
     ],
     "language": "python",
     "metadata": {},
     "outputs": [
      {
       "output_type": "stream",
       "stream": "stdout",
       "text": [
        "2014-02-03 20:24:45 URL: ftp://ftp.sanger.ac.uk/pub/CGP/cosmic/data_export/CosmicMutantExport_v68.tsv.gz [54093651] -> \"CosmicMutantExport_v68.tsv.gz\" [1]\r\n"
       ]
      },
      {
       "output_type": "stream",
       "stream": "stdout",
       "text": [
        "2014-02-03 20:24:45 perf-cosmic INFO  : Opening database fanns.db ...\r\n"
       ]
      },
      {
       "output_type": "stream",
       "stream": "stdout",
       "text": [
        "2014-02-03 20:24:46 perf-cosmic INFO  : Counting the number of samples per mutation ...\r\n"
       ]
      },
      {
       "output_type": "stream",
       "stream": "stdout",
       "text": [
        "2014-02-03 20:31:23 perf-cosmic WARNING : Unexpected mutation position: ['c.239C>G', 'p.S80C', '', '', 'ENST00000296742']\r\n"
       ]
      },
      {
       "output_type": "stream",
       "stream": "stdout",
       "text": [
        "2014-02-03 20:34:51 perf-cosmic WARNING : Unexpected mutation position: ['c.85G>A', 'p.E29K', '', '', 'NM_004389.1']\r\n"
       ]
      },
      {
       "output_type": "stream",
       "stream": "stdout",
       "text": [
        "2014-02-03 20:48:13 perf-cosmic WARNING : Unexpected mutation position: ['c.5890C>T', 'p.P1964S', '', '', 'ENST00000376406']\r\n"
       ]
      },
      {
       "output_type": "stream",
       "stream": "stdout",
       "text": [
        "2014-02-03 20:48:17 perf-cosmic WARNING : Unexpected mutation position: ['c.3167A>G', 'p.N1056S', '', '', 'ENST00000374080']\r\n"
       ]
      },
      {
       "output_type": "stream",
       "stream": "stdout",
       "text": [
        "2014-02-03 20:48:17 perf-cosmic WARNING : Unexpected mutation position: ['c.4524C>G', 'p.H1508Q', '', '', 'ENST00000374080']\r\n"
       ]
      },
      {
       "output_type": "stream",
       "stream": "stdout",
       "text": [
        "2014-02-03 20:48:17 perf-cosmic WARNING : Unexpected mutation position: ['c.5200C>T', 'p.P1734S', '', '', 'ENST00000374080']\r\n"
       ]
      },
      {
       "output_type": "stream",
       "stream": "stdout",
       "text": [
        "2014-02-03 20:52:59 perf-cosmic WARNING : Unexpected mutation position: ['c.1983A>T', 'p.K661N', '', '', 'ENST00000337303']\r\n"
       ]
      },
      {
       "output_type": "stream",
       "stream": "stdout",
       "text": [
        "2014-02-03 20:55:26 perf-cosmic WARNING : Unexpected mutation position: ['c.1111C>A', 'p.P371T', '', '', 'ENST00000371244']\r\n"
       ]
      },
      {
       "output_type": "stream",
       "stream": "stdout",
       "text": [
        "2014-02-03 21:03:23 perf-cosmic WARNING : Unexpected mutation position: ['c.3842G>C', 'p.G1281A', '', '', 'ENST00000335727']\r\n"
       ]
      },
      {
       "output_type": "stream",
       "stream": "stdout",
       "text": [
        "2014-02-03 21:04:51 perf-cosmic WARNING : Unexpected mutation position: ['c.273G>T', 'p.K91N', '', '', 'SU_ULK3']\r\n",
        "2014-02-03 21:04:51 perf-cosmic WARNING : Unexpected mutation position: ['c.273G>T', 'p.K91N', '', '', 'SU_ULK3']\r\n"
       ]
      },
      {
       "output_type": "stream",
       "stream": "stdout",
       "text": [
        "2014-02-03 21:07:42 perf-cosmic INFO  : Total: total_rows=1627583, queried_rows=916861, protein_changes=373598\r\n",
        "2014-02-03 21:07:42 perf-cosmic INFO  : Loading CGC genes ...\r\n",
        "2014-02-03 21:07:42 perf-cosmic INFO  : Loading CHASM drivers ...\r\n",
        "2014-02-03 21:07:42 perf-cosmic INFO  : Creating datasets ...\r\n"
       ]
      },
      {
       "output_type": "stream",
       "stream": "stdout",
       "text": [
        "2014-02-03 21:07:47 perf-cosmic INFO  :   >> 373.598 K mutations, 76237.0 mutations/second\r\n",
        "2014-02-03 21:07:47 perf-cosmic INFO  : Datasets: cosmic-1=351682, cosmic-2=21916, cosmic-3=3692, cosmic-4=1111, cosmic-5=509, cosmic-CGC=15367, cosmic-noCGC=337811, cosmic-D=5513, cosmic-O=346949\r\n"
       ]
      }
     ],
     "prompt_number": 96
    },
    {
     "cell_type": "heading",
     "level": 3,
     "metadata": {},
     "source": [
      "IntOGen Mutations"
     ]
    },
    {
     "cell_type": "code",
     "collapsed": false,
     "input": [
      "projects_path = os.path.join(INTOGEN_RESULTS_PATH, \"projects\")\n",
      "temp_path = tempfile.mkdtemp()\n",
      "sql = \"\"\"\n",
      "    select c.protein_id, c.protein_pos, c.aa_change, g.symbol, count(distinct p.sample_id) as c\n",
      "    from consequences c join variants v on (c.var_id=v.var_id) join variant_samples p on (p.var_id=c.var_id)\n",
      "    join consequence_types t on (c.csq_id=t.csq_id) join so_terms s on (t.so_id=s.so_id)\n",
      "    join genes g on (c.gene_id=g.gene_id) where s.name='missense_variant' group by c.csq_id;\"\"\"\n",
      "\n",
      "results = []\n",
      "for path in sorted(os.listdir(projects_path)):\n",
      "    path = os.path.join(projects_path, path)\n",
      "    if not os.path.isdir(path):\n",
      "        continue\n",
      "    proj_name = os.path.basename(path)\n",
      "    proj_db = os.path.join(path, \"project.db\")\n",
      "    proj_temp = os.path.join(temp_path, proj_name)\n",
      "    cmd = \"echo \\\"{}\\\" | sqlite3 {} | tr '|' '\\t' | tr '/' '\\t' >{}\".format(sql, proj_db, proj_temp)\n",
      "    results += [(proj_name, proj_temp, lb.apply_async(check_output, cmd, stderr=STDOUT, shell=True))]\n",
      "\n",
      "count = 0\n",
      "with open(\"intogen-snvs.tsv\", \"w\") as of:\n",
      "    for proj_name, proj_temp, ar in results:\n",
      "        ar.wait()\n",
      "        with open(proj_temp) as f:\n",
      "            for num_lines, line in enumerate(f, start=1):\n",
      "                of.write(line)\n",
      "                count += 1\n",
      "\n",
      "        print \"{}: {} snvs\".format(proj_name, num_lines)\n",
      "\n",
      "!grep -v \"-\" intogen-snvs.tsv | sort -u >tmp\n",
      "!mv tmp intogen-snvs.tsv\n",
      "after = !cat intogen-snvs.tsv | wc -l\n",
      "\n",
      "print \"\\nTotal:\", count, \"snvs, Final:\", after[0], \"snvs, Discarded: \", count - int(after[0]), \"snvs\"\n",
      "\n",
      "display(FileLink(\"intogen-snvs.tsv\"))"
     ],
     "language": "python",
     "metadata": {},
     "outputs": [
      {
       "output_type": "stream",
       "stream": "stdout",
       "text": [
        "ALL_Leuven: 1069 snvs\n",
        "ALL_Memphis: 978 snvs"
       ]
      },
      {
       "output_type": "stream",
       "stream": "stdout",
       "text": [
        "\n",
        "ALL_NewSamples: 1626 snvs"
       ]
      },
      {
       "output_type": "stream",
       "stream": "stdout",
       "text": [
        "\n",
        "Astrocytoma_NEWSAMPLES: 253 snvs"
       ]
      },
      {
       "output_type": "stream",
       "stream": "stdout",
       "text": [
        "\n",
        "Astrocytoma_StJude: 253 snvs"
       ]
      },
      {
       "output_type": "stream",
       "stream": "stdout",
       "text": [
        "\n",
        "Bcell_lymphoma: 2619 snvs"
       ]
      },
      {
       "output_type": "stream",
       "stream": "stdout",
       "text": [
        "\n",
        "Esophageal_DFCI: 47929 snvs"
       ]
      },
      {
       "output_type": "stream",
       "stream": "stdout",
       "text": [
        "\n",
        "Liver_ICGC: 10614 snvs"
       ]
      },
      {
       "output_type": "stream",
       "stream": "stdout",
       "text": [
        "\n",
        "Medulloblastoma_NewSamples: 3591 snvs"
       ]
      },
      {
       "output_type": "stream",
       "stream": "stdout",
       "text": [
        "\n",
        "Melanoma_BROAD: 151970 snvs"
       ]
      },
      {
       "output_type": "stream",
       "stream": "stdout",
       "text": [
        "\n",
        "Myeloma_NewSamples: 7232 snvs"
       ]
      },
      {
       "output_type": "stream",
       "stream": "stdout",
       "text": [
        "\n",
        "Neuroblastoma_BROAD: 10465 snvs"
       ]
      },
      {
       "output_type": "stream",
       "stream": "stdout",
       "text": [
        "\n",
        "icgc_snp_de_Pedbrain: 2163 snvs"
       ]
      },
      {
       "output_type": "stream",
       "stream": "stdout",
       "text": [
        "\n",
        "icgc_snp_es_CLL: 4835 snvs"
       ]
      },
      {
       "output_type": "stream",
       "stream": "stdout",
       "text": [
        "\n",
        "icgc_snp_fr_Liver: 2524 snvs"
       ]
      },
      {
       "output_type": "stream",
       "stream": "stdout",
       "text": [
        "\n",
        "icgc_snp_hopkins_Breast: 2572 snvs"
       ]
      },
      {
       "output_type": "stream",
       "stream": "stdout",
       "text": [
        "\n",
        "icgc_snp_hopkins_Colon: 2090 snvs"
       ]
      },
      {
       "output_type": "stream",
       "stream": "stdout",
       "text": [
        "\n",
        "icgc_snp_hopkins_GBM: 4589 snvs"
       ]
      },
      {
       "output_type": "stream",
       "stream": "stdout",
       "text": [
        "\n",
        "icgc_snp_hopkins_Panc: 3470 snvs"
       ]
      },
      {
       "output_type": "stream",
       "stream": "stdout",
       "text": [
        "\n",
        "icgc_snp_oicr_Panc: 1492 snvs"
       ]
      },
      {
       "output_type": "stream",
       "stream": "stdout",
       "text": [
        "\n",
        "icgc_snp_qcmg_Panc: 3047 snvs"
       ]
      },
      {
       "output_type": "stream",
       "stream": "stdout",
       "text": [
        "\n",
        "icgc_snp_sanger_Breast: 14879 snvs"
       ]
      },
      {
       "output_type": "stream",
       "stream": "stdout",
       "text": [
        "\n",
        "icgc_snp_tsp_Lung: 2941 snvs"
       ]
      },
      {
       "output_type": "stream",
       "stream": "stdout",
       "text": [
        "\n",
        "literature_CLL_DF: 2912 snvs"
       ]
      },
      {
       "output_type": "stream",
       "stream": "stdout",
       "text": [
        "\n",
        "literature_HNSCC_BROAD: 20279 snvs"
       ]
      },
      {
       "output_type": "stream",
       "stream": "stdout",
       "text": [
        "\n",
        "literature_NSCLC_WISCONSIN: 6888 snvs"
       ]
      },
      {
       "output_type": "stream",
       "stream": "stdout",
       "text": [
        "\n",
        "literature_SCLC_JHU: 22454 snvs"
       ]
      },
      {
       "output_type": "stream",
       "stream": "stdout",
       "text": [
        "\n",
        "literature_SCLC_UCOLOGNE: 15831 snvs"
       ]
      },
      {
       "output_type": "stream",
       "stream": "stdout",
       "text": [
        "\n",
        "literature_breast_BC: 7135 snvs"
       ]
      },
      {
       "output_type": "stream",
       "stream": "stdout",
       "text": [
        "\n",
        "literature_breast_WU: 6581 snvs"
       ]
      },
      {
       "output_type": "stream",
       "stream": "stdout",
       "text": [
        "\n",
        "literature_breast_carcinoma_BROAD: 9695 snvs"
       ]
      },
      {
       "output_type": "stream",
       "stream": "stdout",
       "text": [
        "\n",
        "literature_gastric_PFIZER: 8135 snvs"
       ]
      },
      {
       "output_type": "stream",
       "stream": "stdout",
       "text": [
        "\n",
        "tcga_blca: 56858 snvs"
       ]
      },
      {
       "output_type": "stream",
       "stream": "stdout",
       "text": [
        "\n",
        "tcga_breast: 78785 snvs"
       ]
      },
      {
       "output_type": "stream",
       "stream": "stdout",
       "text": [
        "\n",
        "tcga_cesc: 10336 snvs"
       ]
      },
      {
       "output_type": "stream",
       "stream": "stdout",
       "text": [
        "\n",
        "tcga_coadread: 40753 snvs"
       ]
      },
      {
       "output_type": "stream",
       "stream": "stdout",
       "text": [
        "\n",
        "tcga_glioblastoma: 41073 snvs"
       ]
      },
      {
       "output_type": "stream",
       "stream": "stdout",
       "text": [
        "\n",
        "tcga_hnsc: 103538 snvs"
       ]
      },
      {
       "output_type": "stream",
       "stream": "stdout",
       "text": [
        "\n",
        "tcga_kidney: 52166 snvs"
       ]
      },
      {
       "output_type": "stream",
       "stream": "stdout",
       "text": [
        "\n",
        "tcga_kirp: 14533 snvs"
       ]
      },
      {
       "output_type": "stream",
       "stream": "stdout",
       "text": [
        "\n",
        "tcga_laml: 4322 snvs"
       ]
      },
      {
       "output_type": "stream",
       "stream": "stdout",
       "text": [
        "\n",
        "tcga_lgg: 14667 snvs"
       ]
      },
      {
       "output_type": "stream",
       "stream": "stdout",
       "text": [
        "\n",
        "tcga_luad: 158123 snvs"
       ]
      },
      {
       "output_type": "stream",
       "stream": "stdout",
       "text": [
        "\n",
        "tcga_lusc: 116728 snvs"
       ]
      },
      {
       "output_type": "stream",
       "stream": "stdout",
       "text": [
        "\n",
        "tcga_ovary: 40611 snvs"
       ]
      },
      {
       "output_type": "stream",
       "stream": "stdout",
       "text": [
        "\n",
        "tcga_paad: 6763 snvs"
       ]
      },
      {
       "output_type": "stream",
       "stream": "stdout",
       "text": [
        "\n",
        "tcga_prad: 22975 snvs"
       ]
      },
      {
       "output_type": "stream",
       "stream": "stdout",
       "text": [
        "\n",
        "tcga_skcm: 290634 snvs"
       ]
      },
      {
       "output_type": "stream",
       "stream": "stdout",
       "text": [
        "\n",
        "tcga_stad: 90978 snvs"
       ]
      },
      {
       "output_type": "stream",
       "stream": "stdout",
       "text": [
        "\n",
        "tcga_thca: 12378 snvs"
       ]
      },
      {
       "output_type": "stream",
       "stream": "stdout",
       "text": [
        "\n",
        "tcga_uteri: 92239 snvs"
       ]
      },
      {
       "output_type": "stream",
       "stream": "stdout",
       "text": [
        "\n"
       ]
      },
      {
       "output_type": "stream",
       "stream": "stdout",
       "text": [
        "\n",
        "Total: 1631318 snvs, Final: 1568720 snvs, Duplicates:  62598 snvs\n"
       ]
      },
      {
       "html": [
        "<a href='files/intogen-snvs.tsv' target='_blank'>intogen-snvs.tsv</a><br>"
       ],
       "metadata": {},
       "output_type": "display_data",
       "text": [
        "/home/cperez/projects/transfic/data/validation/intogen-snvs.tsv"
       ]
      }
     ],
     "prompt_number": 77
    },
    {
     "cell_type": "code",
     "collapsed": false,
     "input": [
      "import pandas as pd\n",
      "snvs = pd.read_csv(\"intogen-snvs.tsv\", sep=\"\\t\", header=None, names=[\"PROTEIN\", \"POS\", \"REF\", \"ALT\", \"SYM\", \"COUNT\"])\n",
      "cgc = pd.read_csv(\"cgc_genes.tsv\", sep=\"\\t\")\n",
      "g = snvs.groupby([\"PROTEIN\", \"POS\", \"REF\", \"ALT\", \"SYM\"])\n",
      "s = g.sum().reset_index()\n",
      "save_opts = dict(header=False, cols=[\"PROTEIN\", \"POS\", \"REF\", \"ALT\"], sep=\"\\t\", index=False)\n",
      "s[s.COUNT == 1].to_csv(\"snvs/wg-1\", **save_opts)\n",
      "s[s.COUNT >= 2].to_csv(\"snvs/wg-2\", **save_opts)\n",
      "s[s.COUNT >= 3].to_csv(\"snvs/wg-3\", **save_opts)\n",
      "s[s.COUNT >= 4].to_csv(\"snvs/wg-4\", **save_opts)\n",
      "s[s.COUNT >= 5].to_csv(\"snvs/wg-5\", **save_opts)\n",
      "s[s.SYM.isin(cgc)].to_csv(\"snvs/wg-CGC\", **save_opts)\n",
      "s[~s.SYM.isin(cgc) & s.COUNT==1].to_csv(\"snvs/wg-noCGC\", **save_opts)"
     ],
     "language": "python",
     "metadata": {},
     "outputs": [],
     "prompt_number": 81
    },
    {
     "cell_type": "code",
     "collapsed": false,
     "input": [
      "for f in sorted(glob(\"snvs/*\")):\n",
      "    display(FileLink(f))"
     ],
     "language": "python",
     "metadata": {},
     "outputs": [
      {
       "html": [
        "<a href='files/snvs/cosmic-1' target='_blank'>snvs/cosmic-1</a><br>"
       ],
       "metadata": {},
       "output_type": "display_data",
       "text": [
        "/home/cperez/projects/transfic/data/validation/snvs/cosmic-1"
       ]
      },
      {
       "html": [
        "<a href='files/snvs/cosmic-2' target='_blank'>snvs/cosmic-2</a><br>"
       ],
       "metadata": {},
       "output_type": "display_data",
       "text": [
        "/home/cperez/projects/transfic/data/validation/snvs/cosmic-2"
       ]
      },
      {
       "html": [
        "<a href='files/snvs/cosmic-3' target='_blank'>snvs/cosmic-3</a><br>"
       ],
       "metadata": {},
       "output_type": "display_data",
       "text": [
        "/home/cperez/projects/transfic/data/validation/snvs/cosmic-3"
       ]
      },
      {
       "html": [
        "<a href='files/snvs/cosmic-4' target='_blank'>snvs/cosmic-4</a><br>"
       ],
       "metadata": {},
       "output_type": "display_data",
       "text": [
        "/home/cperez/projects/transfic/data/validation/snvs/cosmic-4"
       ]
      },
      {
       "html": [
        "<a href='files/snvs/cosmic-5' target='_blank'>snvs/cosmic-5</a><br>"
       ],
       "metadata": {},
       "output_type": "display_data",
       "text": [
        "/home/cperez/projects/transfic/data/validation/snvs/cosmic-5"
       ]
      },
      {
       "html": [
        "<a href='files/snvs/cosmic-CGC' target='_blank'>snvs/cosmic-CGC</a><br>"
       ],
       "metadata": {},
       "output_type": "display_data",
       "text": [
        "/home/cperez/projects/transfic/data/validation/snvs/cosmic-CGC"
       ]
      },
      {
       "html": [
        "<a href='files/snvs/cosmic-D' target='_blank'>snvs/cosmic-D</a><br>"
       ],
       "metadata": {},
       "output_type": "display_data",
       "text": [
        "/home/cperez/projects/transfic/data/validation/snvs/cosmic-D"
       ]
      },
      {
       "html": [
        "<a href='files/snvs/cosmic-O' target='_blank'>snvs/cosmic-O</a><br>"
       ],
       "metadata": {},
       "output_type": "display_data",
       "text": [
        "/home/cperez/projects/transfic/data/validation/snvs/cosmic-O"
       ]
      },
      {
       "html": [
        "<a href='files/snvs/cosmic-noCGC' target='_blank'>snvs/cosmic-noCGC</a><br>"
       ],
       "metadata": {},
       "output_type": "display_data",
       "text": [
        "/home/cperez/projects/transfic/data/validation/snvs/cosmic-noCGC"
       ]
      },
      {
       "html": [
        "<a href='files/snvs/wg-1' target='_blank'>snvs/wg-1</a><br>"
       ],
       "metadata": {},
       "output_type": "display_data",
       "text": [
        "/home/cperez/projects/transfic/data/validation/snvs/wg-1"
       ]
      },
      {
       "html": [
        "<a href='files/snvs/wg-2' target='_blank'>snvs/wg-2</a><br>"
       ],
       "metadata": {},
       "output_type": "display_data",
       "text": [
        "/home/cperez/projects/transfic/data/validation/snvs/wg-2"
       ]
      },
      {
       "html": [
        "<a href='files/snvs/wg-3' target='_blank'>snvs/wg-3</a><br>"
       ],
       "metadata": {},
       "output_type": "display_data",
       "text": [
        "/home/cperez/projects/transfic/data/validation/snvs/wg-3"
       ]
      },
      {
       "html": [
        "<a href='files/snvs/wg-4' target='_blank'>snvs/wg-4</a><br>"
       ],
       "metadata": {},
       "output_type": "display_data",
       "text": [
        "/home/cperez/projects/transfic/data/validation/snvs/wg-4"
       ]
      },
      {
       "html": [
        "<a href='files/snvs/wg-5' target='_blank'>snvs/wg-5</a><br>"
       ],
       "metadata": {},
       "output_type": "display_data",
       "text": [
        "/home/cperez/projects/transfic/data/validation/snvs/wg-5"
       ]
      },
      {
       "html": [
        "<a href='files/snvs/wg-CGC' target='_blank'>snvs/wg-CGC</a><br>"
       ],
       "metadata": {},
       "output_type": "display_data",
       "text": [
        "/home/cperez/projects/transfic/data/validation/snvs/wg-CGC"
       ]
      },
      {
       "html": [
        "<a href='files/snvs/wg-noCGC' target='_blank'>snvs/wg-noCGC</a><br>"
       ],
       "metadata": {},
       "output_type": "display_data",
       "text": [
        "/home/cperez/projects/transfic/data/validation/snvs/wg-noCGC"
       ]
      }
     ],
     "prompt_number": 82
    },
    {
     "cell_type": "heading",
     "level": 2,
     "metadata": {},
     "source": [
      "Retrieve scores for the datasets"
     ]
    },
    {
     "cell_type": "code",
     "collapsed": false,
     "input": [
      "results = []\n",
      "for in_path in sorted(glob(\"snvs/*\")):\n",
      "    out_path = os.path.join(\"scores\", os.path.basename(in_path))\n",
      "    cmd = \"sort -u {} | fannsdb-fetch {} - {} -p {} -a prot_gene,swissprot_id,swissprot_acc\".format(in_path, DB_PATH, out_path, PREDICTORS)\n",
      "    results += [(cmd, out_path, lb.apply_async(check_output, cmd, stderr=STDOUT, shell=True))]\n",
      "\n",
      "display_results_with_output(results)"
     ],
     "language": "python",
     "metadata": {},
     "outputs": [
      {
       "html": [
        "<a href='files/scores/cosmic-1' target='_blank'>scores/cosmic-1</a><br>"
       ],
       "metadata": {},
       "output_type": "display_data",
       "text": [
        "/home/cperez/projects/transfic/data/validation/scores/cosmic-1"
       ]
      },
      {
       "html": [
        "<strong>sort -u snvs/cosmic-1 | fannsdb-fetch /home/cperez/projects/fannsdb/data/fanns.db - scores/cosmic-1 -p SIFT,PPH2,MA,FATHMMC,TFIC_SIFT,TFIC_PPH2,TFIC_MA,TFIC_FATHMMC -a prot_gene,swissprot_id,swissprot_acc</strong>"
       ],
       "metadata": {},
       "output_type": "display_data",
       "text": [
        "<IPython.core.display.HTML at 0x42d4a50>"
       ]
      },
      {
       "output_type": "stream",
       "stream": "stdout",
       "text": [
        "2014-02-03 15:44:29 fetch INFO  : Opening database fanns.db ...\n",
        "2014-02-03 15:44:31 fetch INFO  : Selected predictors: SIFT, PPH2, MA, FATHMMC, TFIC_SIFT, TFIC_PPH2, TFIC_MA, TFIC_FATHMMC\n",
        "2014-02-03 15:44:31 fetch INFO  : Selected annotations: prot_gene, swissprot_id, swissprot_acc\n",
        "2014-02-03 15:44:31 fetch INFO  : Reading from standard input ...\n",
        "2014-02-03 15:46:30 fetch ERROR : Unexpected field 'X' at line 275712\n",
        "2014-02-03 15:47:01 fetch INFO  :   >> 346.902 K SNVs, 2304.4 SNVs/second\n",
        "2014-02-03 15:47:01 fetch INFO  : Finished. total=346903, hits=346896, fails=7, elapsed=0:02:30.541485\n",
        "\n"
       ]
      },
      {
       "html": [
        "<a href='files/scores/cosmic-2' target='_blank'>scores/cosmic-2</a><br>"
       ],
       "metadata": {},
       "output_type": "display_data",
       "text": [
        "/home/cperez/projects/transfic/data/validation/scores/cosmic-2"
       ]
      },
      {
       "html": [
        "<strong>sort -u snvs/cosmic-2 | fannsdb-fetch /home/cperez/projects/fannsdb/data/fanns.db - scores/cosmic-2 -p SIFT,PPH2,MA,FATHMMC,TFIC_SIFT,TFIC_PPH2,TFIC_MA,TFIC_FATHMMC -a prot_gene,swissprot_id,swissprot_acc</strong>"
       ],
       "metadata": {},
       "output_type": "display_data",
       "text": [
        "<IPython.core.display.HTML at 0x42d4a50>"
       ]
      },
      {
       "output_type": "stream",
       "stream": "stdout",
       "text": [
        "2014-02-03 15:44:29 fetch INFO  : Opening database fanns.db ...\n",
        "2014-02-03 15:44:31 fetch INFO  : Selected predictors: SIFT, PPH2, MA, FATHMMC, TFIC_SIFT, TFIC_PPH2, TFIC_MA, TFIC_FATHMMC\n",
        "2014-02-03 15:44:31 fetch INFO  : Selected annotations: prot_gene, swissprot_id, swissprot_acc\n",
        "2014-02-03 15:44:31 fetch INFO  : Reading from standard input ...\n",
        "2014-02-03 15:44:42 fetch INFO  :   >> 19.986 K SNVs, 1759.4 SNVs/second\n",
        "2014-02-03 15:44:42 fetch INFO  : Finished. total=19986, hits=19986, fails=0, elapsed=0:00:11.359991\n",
        "\n"
       ]
      },
      {
       "html": [
        "<a href='files/scores/cosmic-3' target='_blank'>scores/cosmic-3</a><br>"
       ],
       "metadata": {},
       "output_type": "display_data",
       "text": [
        "/home/cperez/projects/transfic/data/validation/scores/cosmic-3"
       ]
      },
      {
       "html": [
        "<strong>sort -u snvs/cosmic-3 | fannsdb-fetch /home/cperez/projects/fannsdb/data/fanns.db - scores/cosmic-3 -p SIFT,PPH2,MA,FATHMMC,TFIC_SIFT,TFIC_PPH2,TFIC_MA,TFIC_FATHMMC -a prot_gene,swissprot_id,swissprot_acc</strong>"
       ],
       "metadata": {},
       "output_type": "display_data",
       "text": [
        "<IPython.core.display.HTML at 0x42d4a50>"
       ]
      },
      {
       "output_type": "stream",
       "stream": "stdout",
       "text": [
        "2014-02-03 15:44:29 fetch INFO  : Opening database fanns.db ...\n",
        "2014-02-03 15:44:31 fetch INFO  : Selected predictors: SIFT, PPH2, MA, FATHMMC, TFIC_SIFT, TFIC_PPH2, TFIC_MA, TFIC_FATHMMC\n",
        "2014-02-03 15:44:31 fetch INFO  : Selected annotations: prot_gene, swissprot_id, swissprot_acc\n",
        "2014-02-03 15:44:31 fetch INFO  : Reading from standard input ...\n",
        "2014-02-03 15:44:32 fetch INFO  :   >> 3.444 K SNVs, 2277.1 SNVs/second\n",
        "2014-02-03 15:44:32 fetch INFO  : Finished. total=3444, hits=3444, fails=0, elapsed=0:00:01.512599\n",
        "\n"
       ]
      },
      {
       "html": [
        "<a href='files/scores/cosmic-4' target='_blank'>scores/cosmic-4</a><br>"
       ],
       "metadata": {},
       "output_type": "display_data",
       "text": [
        "/home/cperez/projects/transfic/data/validation/scores/cosmic-4"
       ]
      },
      {
       "html": [
        "<strong>sort -u snvs/cosmic-4 | fannsdb-fetch /home/cperez/projects/fannsdb/data/fanns.db - scores/cosmic-4 -p SIFT,PPH2,MA,FATHMMC,TFIC_SIFT,TFIC_PPH2,TFIC_MA,TFIC_FATHMMC -a prot_gene,swissprot_id,swissprot_acc</strong>"
       ],
       "metadata": {},
       "output_type": "display_data",
       "text": [
        "<IPython.core.display.HTML at 0x42d4a50>"
       ]
      },
      {
       "output_type": "stream",
       "stream": "stdout",
       "text": [
        "2014-02-03 15:44:33 fetch INFO  : Opening database fanns.db ...\n",
        "2014-02-03 15:44:34 fetch INFO  : Selected predictors: SIFT, PPH2, MA, FATHMMC, TFIC_SIFT, TFIC_PPH2, TFIC_MA, TFIC_FATHMMC\n",
        "2014-02-03 15:44:34 fetch INFO  : Selected annotations: prot_gene, swissprot_id, swissprot_acc\n",
        "2014-02-03 15:44:34 fetch INFO  : Reading from standard input ...\n",
        "2014-02-03 15:44:35 fetch INFO  :   >> 1.020 K SNVs, 2517.9 SNVs/second\n",
        "2014-02-03 15:44:35 fetch INFO  : Finished. total=1020, hits=1020, fails=0, elapsed=0:00:00.405258\n",
        "\n"
       ]
      },
      {
       "html": [
        "<a href='files/scores/cosmic-5' target='_blank'>scores/cosmic-5</a><br>"
       ],
       "metadata": {},
       "output_type": "display_data",
       "text": [
        "/home/cperez/projects/transfic/data/validation/scores/cosmic-5"
       ]
      },
      {
       "html": [
        "<strong>sort -u snvs/cosmic-5 | fannsdb-fetch /home/cperez/projects/fannsdb/data/fanns.db - scores/cosmic-5 -p SIFT,PPH2,MA,FATHMMC,TFIC_SIFT,TFIC_PPH2,TFIC_MA,TFIC_FATHMMC -a prot_gene,swissprot_id,swissprot_acc</strong>"
       ],
       "metadata": {},
       "output_type": "display_data",
       "text": [
        "<IPython.core.display.HTML at 0x42d4a50>"
       ]
      },
      {
       "output_type": "stream",
       "stream": "stdout",
       "text": [
        "2014-02-03 15:44:35 fetch INFO  : Opening database fanns.db ...\n",
        "2014-02-03 15:44:36 fetch INFO  : Selected predictors: SIFT, PPH2, MA, FATHMMC, TFIC_SIFT, TFIC_PPH2, TFIC_MA, TFIC_FATHMMC\n",
        "2014-02-03 15:44:36 fetch INFO  : Selected annotations: prot_gene, swissprot_id, swissprot_acc\n",
        "2014-02-03 15:44:36 fetch INFO  : Reading from standard input ...\n",
        "2014-02-03 15:44:37 fetch INFO  :   >> 0.468 K SNVs, 2048.1 SNVs/second\n",
        "2014-02-03 15:44:37 fetch INFO  : Finished. total=468, hits=468, fails=0, elapsed=0:00:00.228651\n",
        "\n"
       ]
      },
      {
       "html": [
        "<a href='files/scores/cosmic-CGC' target='_blank'>scores/cosmic-CGC</a><br>"
       ],
       "metadata": {},
       "output_type": "display_data",
       "text": [
        "/home/cperez/projects/transfic/data/validation/scores/cosmic-CGC"
       ]
      },
      {
       "html": [
        "<strong>sort -u snvs/cosmic-CGC | fannsdb-fetch /home/cperez/projects/fannsdb/data/fanns.db - scores/cosmic-CGC -p SIFT,PPH2,MA,FATHMMC,TFIC_SIFT,TFIC_PPH2,TFIC_MA,TFIC_FATHMMC -a prot_gene,swissprot_id,swissprot_acc</strong>"
       ],
       "metadata": {},
       "output_type": "display_data",
       "text": [
        "<IPython.core.display.HTML at 0x42d4a50>"
       ]
      },
      {
       "output_type": "stream",
       "stream": "stdout",
       "text": [
        "2014-02-03 15:44:37 fetch INFO  : Opening database fanns.db ...\n",
        "2014-02-03 15:44:39 fetch INFO  : Selected predictors: SIFT, PPH2, MA, FATHMMC, TFIC_SIFT, TFIC_PPH2, TFIC_MA, TFIC_FATHMMC\n",
        "2014-02-03 15:44:39 fetch INFO  : Selected annotations: prot_gene, swissprot_id, swissprot_acc\n",
        "2014-02-03 15:44:39 fetch INFO  : Reading from standard input ...\n",
        "2014-02-03 15:44:44 fetch INFO  :   >> 13.722 K SNVs, 2409.0 SNVs/second\n",
        "2014-02-03 15:44:44 fetch INFO  : Finished. total=13722, hits=13722, fails=0, elapsed=0:00:05.702508\n",
        "\n"
       ]
      },
      {
       "html": [
        "<a href='files/scores/cosmic-D' target='_blank'>scores/cosmic-D</a><br>"
       ],
       "metadata": {},
       "output_type": "display_data",
       "text": [
        "/home/cperez/projects/transfic/data/validation/scores/cosmic-D"
       ]
      },
      {
       "html": [
        "<strong>sort -u snvs/cosmic-D | fannsdb-fetch /home/cperez/projects/fannsdb/data/fanns.db - scores/cosmic-D -p SIFT,PPH2,MA,FATHMMC,TFIC_SIFT,TFIC_PPH2,TFIC_MA,TFIC_FATHMMC -a prot_gene,swissprot_id,swissprot_acc</strong>"
       ],
       "metadata": {},
       "output_type": "display_data",
       "text": [
        "<IPython.core.display.HTML at 0x42d4a50>"
       ]
      },
      {
       "output_type": "stream",
       "stream": "stdout",
       "text": [
        "2014-02-03 15:44:43 fetch INFO  : Opening database fanns.db ...\n",
        "2014-02-03 15:44:44 fetch INFO  : Selected predictors: SIFT, PPH2, MA, FATHMMC, TFIC_SIFT, TFIC_PPH2, TFIC_MA, TFIC_FATHMMC\n",
        "2014-02-03 15:44:44 fetch INFO  : Selected annotations: prot_gene, swissprot_id, swissprot_acc\n",
        "2014-02-03 15:44:44 fetch INFO  : Reading from standard input ...\n",
        "2014-02-03 15:44:47 fetch INFO  :   >> 5.439 K SNVs, 1836.0 SNVs/second\n",
        "2014-02-03 15:44:47 fetch INFO  : Finished. total=5439, hits=5439, fails=0, elapsed=0:00:02.962577\n",
        "\n"
       ]
      },
      {
       "html": [
        "<a href='files/scores/cosmic-O' target='_blank'>scores/cosmic-O</a><br>"
       ],
       "metadata": {},
       "output_type": "display_data",
       "text": [
        "/home/cperez/projects/transfic/data/validation/scores/cosmic-O"
       ]
      },
      {
       "html": [
        "<strong>sort -u snvs/cosmic-O | fannsdb-fetch /home/cperez/projects/fannsdb/data/fanns.db - scores/cosmic-O -p SIFT,PPH2,MA,FATHMMC,TFIC_SIFT,TFIC_PPH2,TFIC_MA,TFIC_FATHMMC -a prot_gene,swissprot_id,swissprot_acc</strong>"
       ],
       "metadata": {},
       "output_type": "display_data",
       "text": [
        "<IPython.core.display.HTML at 0x42d4a50>"
       ]
      },
      {
       "output_type": "stream",
       "stream": "stdout",
       "text": [
        "2014-02-03 15:44:45 fetch INFO  : Opening database fanns.db ...\n",
        "2014-02-03 15:44:46 fetch INFO  : Selected predictors: SIFT, PPH2, MA, FATHMMC, TFIC_SIFT, TFIC_PPH2, TFIC_MA, TFIC_FATHMMC\n",
        "2014-02-03 15:44:46 fetch INFO  : Selected annotations: prot_gene, swissprot_id, swissprot_acc\n",
        "2014-02-03 15:44:46 fetch INFO  : Reading from standard input ...\n",
        "2014-02-03 15:46:56 fetch ERROR : Unexpected field 'X' at line 271683\n",
        "2014-02-03 15:47:27 fetch INFO  :   >> 342.224 K SNVs, 2130.0 SNVs/second\n",
        "2014-02-03 15:47:27 fetch INFO  : Finished. total=342225, hits=342218, fails=7, elapsed=0:02:40.665588\n",
        "\n"
       ]
      },
      {
       "html": [
        "<a href='files/scores/cosmic-noCGC' target='_blank'>scores/cosmic-noCGC</a><br>"
       ],
       "metadata": {},
       "output_type": "display_data",
       "text": [
        "/home/cperez/projects/transfic/data/validation/scores/cosmic-noCGC"
       ]
      },
      {
       "html": [
        "<strong>sort -u snvs/cosmic-noCGC | fannsdb-fetch /home/cperez/projects/fannsdb/data/fanns.db - scores/cosmic-noCGC -p SIFT,PPH2,MA,FATHMMC,TFIC_SIFT,TFIC_PPH2,TFIC_MA,TFIC_FATHMMC -a prot_gene,swissprot_id,swissprot_acc</strong>"
       ],
       "metadata": {},
       "output_type": "display_data",
       "text": [
        "<IPython.core.display.HTML at 0x42d4a50>"
       ]
      },
      {
       "output_type": "stream",
       "stream": "stdout",
       "text": [
        "2014-02-03 15:44:48 fetch INFO  : Opening database fanns.db ...\n",
        "2014-02-03 15:44:49 fetch INFO  : Selected predictors: SIFT, PPH2, MA, FATHMMC, TFIC_SIFT, TFIC_PPH2, TFIC_MA, TFIC_FATHMMC\n",
        "2014-02-03 15:44:49 fetch INFO  : Selected annotations: prot_gene, swissprot_id, swissprot_acc\n",
        "2014-02-03 15:44:49 fetch INFO  : Reading from standard input ...\n",
        "2014-02-03 15:46:50 fetch ERROR : Unexpected field 'X' at line 266140\n",
        "2014-02-03 15:47:20 fetch INFO  :   >> 334.518 K SNVs, 2216.0 SNVs/second\n",
        "2014-02-03 15:47:20 fetch INFO  : Finished. total=334519, hits=334512, fails=7, elapsed=0:02:30.957332\n",
        "\n"
       ]
      },
      {
       "html": [
        "<a href='files/scores/wg-1' target='_blank'>scores/wg-1</a><br>"
       ],
       "metadata": {},
       "output_type": "display_data",
       "text": [
        "/home/cperez/projects/transfic/data/validation/scores/wg-1"
       ]
      },
      {
       "html": [
        "<strong>sort -u snvs/wg-1 | fannsdb-fetch /home/cperez/projects/fannsdb/data/fanns.db - scores/wg-1 -p SIFT,PPH2,MA,FATHMMC,TFIC_SIFT,TFIC_PPH2,TFIC_MA,TFIC_FATHMMC -a prot_gene,swissprot_id,swissprot_acc</strong>"
       ],
       "metadata": {},
       "output_type": "display_data",
       "text": [
        "<IPython.core.display.HTML at 0x42d4a50>"
       ]
      },
      {
       "output_type": "stream",
       "stream": "stdout",
       "text": [
        "2014-02-03 15:47:02 fetch INFO  : Opening database fanns.db ...\n",
        "2014-02-03 15:47:03 fetch INFO  : Selected predictors: SIFT, PPH2, MA, FATHMMC, TFIC_SIFT, TFIC_PPH2, TFIC_MA, TFIC_FATHMMC\n",
        "2014-02-03 15:47:03 fetch INFO  : Selected annotations: prot_gene, swissprot_id, swissprot_acc\n",
        "2014-02-03 15:47:03 fetch INFO  : Reading from standard input ...\n",
        "2014-02-03 15:55:21 fetch INFO  :   >> 1.534 M SNVs, 3081.7 SNVs/second\n",
        "2014-02-03 15:55:21 fetch INFO  : Finished. total=1534157, hits=1305132, fails=229025, elapsed=0:08:17.833318\n",
        "\n"
       ]
      },
      {
       "html": [
        "<a href='files/scores/wg-2' target='_blank'>scores/wg-2</a><br>"
       ],
       "metadata": {},
       "output_type": "display_data",
       "text": [
        "/home/cperez/projects/transfic/data/validation/scores/wg-2"
       ]
      },
      {
       "html": [
        "<strong>sort -u snvs/wg-2 | fannsdb-fetch /home/cperez/projects/fannsdb/data/fanns.db - scores/wg-2 -p SIFT,PPH2,MA,FATHMMC,TFIC_SIFT,TFIC_PPH2,TFIC_MA,TFIC_FATHMMC -a prot_gene,swissprot_id,swissprot_acc</strong>"
       ],
       "metadata": {},
       "output_type": "display_data",
       "text": [
        "<IPython.core.display.HTML at 0x42d4a50>"
       ]
      },
      {
       "output_type": "stream",
       "stream": "stdout",
       "text": [
        "2014-02-03 15:47:20 fetch INFO  : Opening database fanns.db ...\n",
        "2014-02-03 15:47:22 fetch INFO  : Selected predictors: SIFT, PPH2, MA, FATHMMC, TFIC_SIFT, TFIC_PPH2, TFIC_MA, TFIC_FATHMMC\n",
        "2014-02-03 15:47:22 fetch INFO  : Selected annotations: prot_gene, swissprot_id, swissprot_acc\n",
        "2014-02-03 15:47:22 fetch INFO  : Reading from standard input ...\n",
        "2014-02-03 15:47:32 fetch INFO  :   >> 21.312 K SNVs, 2169.8 SNVs/second\n",
        "2014-02-03 15:47:32 fetch INFO  : Finished. total=21312, hits=18534, fails=2778, elapsed=0:00:09.822340\n",
        "\n"
       ]
      },
      {
       "html": [
        "<a href='files/scores/wg-3' target='_blank'>scores/wg-3</a><br>"
       ],
       "metadata": {},
       "output_type": "display_data",
       "text": [
        "/home/cperez/projects/transfic/data/validation/scores/wg-3"
       ]
      },
      {
       "html": [
        "<strong>sort -u snvs/wg-3 | fannsdb-fetch /home/cperez/projects/fannsdb/data/fanns.db - scores/wg-3 -p SIFT,PPH2,MA,FATHMMC,TFIC_SIFT,TFIC_PPH2,TFIC_MA,TFIC_FATHMMC -a prot_gene,swissprot_id,swissprot_acc</strong>"
       ],
       "metadata": {},
       "output_type": "display_data",
       "text": [
        "<IPython.core.display.HTML at 0x42d4a50>"
       ]
      },
      {
       "output_type": "stream",
       "stream": "stdout",
       "text": [
        "2014-02-03 15:47:27 fetch INFO  : Opening database fanns.db ...\n",
        "2014-02-03 15:47:29 fetch INFO  : Selected predictors: SIFT, PPH2, MA, FATHMMC, TFIC_SIFT, TFIC_PPH2, TFIC_MA, TFIC_FATHMMC\n",
        "2014-02-03 15:47:29 fetch INFO  : Selected annotations: prot_gene, swissprot_id, swissprot_acc\n",
        "2014-02-03 15:47:29 fetch INFO  : Reading from standard input ...\n",
        "2014-02-03 15:47:32 fetch INFO  :   >> 6.654 K SNVs, 2109.7 SNVs/second\n",
        "2014-02-03 15:47:32 fetch INFO  : Finished. total=6654, hits=5907, fails=747, elapsed=0:00:03.154129\n",
        "\n"
       ]
      },
      {
       "html": [
        "<a href='files/scores/wg-4' target='_blank'>scores/wg-4</a><br>"
       ],
       "metadata": {},
       "output_type": "display_data",
       "text": [
        "/home/cperez/projects/transfic/data/validation/scores/wg-4"
       ]
      },
      {
       "html": [
        "<strong>sort -u snvs/wg-4 | fannsdb-fetch /home/cperez/projects/fannsdb/data/fanns.db - scores/wg-4 -p SIFT,PPH2,MA,FATHMMC,TFIC_SIFT,TFIC_PPH2,TFIC_MA,TFIC_FATHMMC -a prot_gene,swissprot_id,swissprot_acc</strong>"
       ],
       "metadata": {},
       "output_type": "display_data",
       "text": [
        "<IPython.core.display.HTML at 0x42d4a50>"
       ]
      },
      {
       "output_type": "stream",
       "stream": "stdout",
       "text": [
        "2014-02-03 15:47:32 fetch INFO  : Opening database fanns.db ...\n",
        "2014-02-03 15:47:33 fetch INFO  : Selected predictors: SIFT, PPH2, MA, FATHMMC, TFIC_SIFT, TFIC_PPH2, TFIC_MA, TFIC_FATHMMC\n",
        "2014-02-03 15:47:33 fetch INFO  : Selected annotations: prot_gene, swissprot_id, swissprot_acc\n",
        "2014-02-03 15:47:33 fetch INFO  : Reading from standard input ...\n",
        "2014-02-03 15:47:34 fetch INFO  :   >> 1.941 K SNVs, 1951.3 SNVs/second\n",
        "2014-02-03 15:47:34 fetch INFO  : Finished. total=1941, hits=1694, fails=247, elapsed=0:00:00.994896\n",
        "\n"
       ]
      },
      {
       "html": [
        "<a href='files/scores/wg-5' target='_blank'>scores/wg-5</a><br>"
       ],
       "metadata": {},
       "output_type": "display_data",
       "text": [
        "/home/cperez/projects/transfic/data/validation/scores/wg-5"
       ]
      },
      {
       "html": [
        "<strong>sort -u snvs/wg-5 | fannsdb-fetch /home/cperez/projects/fannsdb/data/fanns.db - scores/wg-5 -p SIFT,PPH2,MA,FATHMMC,TFIC_SIFT,TFIC_PPH2,TFIC_MA,TFIC_FATHMMC -a prot_gene,swissprot_id,swissprot_acc</strong>"
       ],
       "metadata": {},
       "output_type": "display_data",
       "text": [
        "<IPython.core.display.HTML at 0x42d4a50>"
       ]
      },
      {
       "output_type": "stream",
       "stream": "stdout",
       "text": [
        "2014-02-03 15:47:33 fetch INFO  : Opening database fanns.db ...\n",
        "2014-02-03 15:47:34 fetch INFO  : Selected predictors: SIFT, PPH2, MA, FATHMMC, TFIC_SIFT, TFIC_PPH2, TFIC_MA, TFIC_FATHMMC\n",
        "2014-02-03 15:47:34 fetch INFO  : Selected annotations: prot_gene, swissprot_id, swissprot_acc\n",
        "2014-02-03 15:47:34 fetch INFO  : Reading from standard input ...\n",
        "2014-02-03 15:47:34 fetch INFO  :   >> 1.145 K SNVs, 2793.5 SNVs/second\n",
        "2014-02-03 15:47:34 fetch INFO  : Finished. total=1145, hits=1013, fails=132, elapsed=0:00:00.410036\n",
        "\n"
       ]
      },
      {
       "html": [
        "<a href='files/scores/wg-CGC' target='_blank'>scores/wg-CGC</a><br>"
       ],
       "metadata": {},
       "output_type": "display_data",
       "text": [
        "/home/cperez/projects/transfic/data/validation/scores/wg-CGC"
       ]
      },
      {
       "html": [
        "<strong>sort -u snvs/wg-CGC | fannsdb-fetch /home/cperez/projects/fannsdb/data/fanns.db - scores/wg-CGC -p SIFT,PPH2,MA,FATHMMC,TFIC_SIFT,TFIC_PPH2,TFIC_MA,TFIC_FATHMMC -a prot_gene,swissprot_id,swissprot_acc</strong>"
       ],
       "metadata": {},
       "output_type": "display_data",
       "text": [
        "<IPython.core.display.HTML at 0x42d4a50>"
       ]
      },
      {
       "output_type": "stream",
       "stream": "stdout",
       "text": [
        "2014-02-03 15:47:35 fetch INFO  : Opening database fanns.db ...\n",
        "2014-02-03 15:47:36 fetch INFO  : Selected predictors: SIFT, PPH2, MA, FATHMMC, TFIC_SIFT, TFIC_PPH2, TFIC_MA, TFIC_FATHMMC\n",
        "2014-02-03 15:47:36 fetch INFO  : Selected annotations: prot_gene, swissprot_id, swissprot_acc\n",
        "2014-02-03 15:47:36 fetch INFO  : Reading from standard input ...\n",
        "2014-02-03 15:47:37 fetch INFO  :   >> 0.267 K SNVs, 2076.0 SNVs/second\n",
        "2014-02-03 15:47:37 fetch INFO  : Finished. total=267, hits=254, fails=13, elapsed=0:00:00.129235\n",
        "\n"
       ]
      },
      {
       "html": [
        "<a href='files/scores/wg-noCGC' target='_blank'>scores/wg-noCGC</a><br>"
       ],
       "metadata": {},
       "output_type": "display_data",
       "text": [
        "/home/cperez/projects/transfic/data/validation/scores/wg-noCGC"
       ]
      },
      {
       "html": [
        "<strong>sort -u snvs/wg-noCGC | fannsdb-fetch /home/cperez/projects/fannsdb/data/fanns.db - scores/wg-noCGC -p SIFT,PPH2,MA,FATHMMC,TFIC_SIFT,TFIC_PPH2,TFIC_MA,TFIC_FATHMMC -a prot_gene,swissprot_id,swissprot_acc</strong>"
       ],
       "metadata": {},
       "output_type": "display_data",
       "text": [
        "<IPython.core.display.HTML at 0x42d4a50>"
       ]
      },
      {
       "output_type": "stream",
       "stream": "stdout",
       "text": [
        "2014-02-03 15:47:35 fetch INFO  : Opening database fanns.db ...\n",
        "2014-02-03 15:47:37 fetch INFO  : Selected predictors: SIFT, PPH2, MA, FATHMMC, TFIC_SIFT, TFIC_PPH2, TFIC_MA, TFIC_FATHMMC\n",
        "2014-02-03 15:47:37 fetch INFO  : Selected annotations: prot_gene, swissprot_id, swissprot_acc\n",
        "2014-02-03 15:47:37 fetch INFO  : Reading from standard input ...\n",
        "2014-02-03 15:55:41 fetch INFO  :   >> 1.555 M SNVs, 3208.4 SNVs/second\n",
        "2014-02-03 15:55:41 fetch INFO  : Finished. total=1555202, hits=1323412, fails=231790, elapsed=0:08:04.727345\n",
        "\n"
       ]
      }
     ],
     "prompt_number": 83
    },
    {
     "cell_type": "markdown",
     "metadata": {},
     "source": [
      "Filter scores for the longest transcript"
     ]
    },
    {
     "cell_type": "code",
     "collapsed": false,
     "input": [
      "results = []\n",
      "for in_path in sorted(glob(\"scores/*\")):\n",
      "    out_path = os.path.join(\"scores-filt\", os.path.basename(in_path))\n",
      "    cmd = \"transfic-filter-transcripts ../trs_len.tsv {} {}\".format(in_path, out_path)\n",
      "    results += [(cmd, out_path, lb.apply_async(check_output, cmd, stderr=STDOUT, shell=True))]\n",
      "\n",
      "display_results_with_output(results)"
     ],
     "language": "python",
     "metadata": {},
     "outputs": [
      {
       "html": [
        "<a href='files/scores-filt/cosmic-1' target='_blank'>scores-filt/cosmic-1</a><br>"
       ],
       "metadata": {},
       "output_type": "display_data",
       "text": [
        "/home/cperez/projects/transfic/data/validation/scores-filt/cosmic-1"
       ]
      },
      {
       "html": [
        "<strong>transfic-filter-transcripts ../trs_len.tsv scores/cosmic-1 scores-filt/cosmic-1</strong>"
       ],
       "metadata": {},
       "output_type": "display_data",
       "text": [
        "<IPython.core.display.HTML at 0x350cf50>"
       ]
      },
      {
       "output_type": "stream",
       "stream": "stdout",
       "text": [
        "2014-02-03 15:55:42 filter-transcript INFO  : Loading transcripts length ...\n",
        "2014-02-03 15:55:43 filter-transcript INFO  : Filtering cosmic-1 ...\n",
        "2014-02-03 15:55:47 filter-transcript INFO  :   >> 412.553 K mutations, 84877.5 mutations/second\n",
        "2014-02-03 15:55:47 filter-transcript INFO  : Finished. in=412553, out=408077, filtered=4476, elapsed=0:00:04.860774\n",
        "\n"
       ]
      },
      {
       "html": [
        "<a href='files/scores-filt/cosmic-2' target='_blank'>scores-filt/cosmic-2</a><br>"
       ],
       "metadata": {},
       "output_type": "display_data",
       "text": [
        "/home/cperez/projects/transfic/data/validation/scores-filt/cosmic-2"
       ]
      },
      {
       "html": [
        "<strong>transfic-filter-transcripts ../trs_len.tsv scores/cosmic-2 scores-filt/cosmic-2</strong>"
       ],
       "metadata": {},
       "output_type": "display_data",
       "text": [
        "<IPython.core.display.HTML at 0x350cf50>"
       ]
      },
      {
       "output_type": "stream",
       "stream": "stdout",
       "text": [
        "2014-02-03 15:55:42 filter-transcript INFO  : Loading transcripts length ...\n",
        "2014-02-03 15:55:42 filter-transcript INFO  : Filtering cosmic-2 ...\n",
        "2014-02-03 15:55:43 filter-transcript INFO  :   >> 23.243 K mutations, 81908.4 mutations/second\n",
        "2014-02-03 15:55:43 filter-transcript INFO  : Finished. in=23243, out=22886, filtered=357, elapsed=0:00:00.283960\n",
        "\n"
       ]
      },
      {
       "html": [
        "<a href='files/scores-filt/cosmic-3' target='_blank'>scores-filt/cosmic-3</a><br>"
       ],
       "metadata": {},
       "output_type": "display_data",
       "text": [
        "/home/cperez/projects/transfic/data/validation/scores-filt/cosmic-3"
       ]
      },
      {
       "html": [
        "<strong>transfic-filter-transcripts ../trs_len.tsv scores/cosmic-3 scores-filt/cosmic-3</strong>"
       ],
       "metadata": {},
       "output_type": "display_data",
       "text": [
        "<IPython.core.display.HTML at 0x350cf50>"
       ]
      },
      {
       "output_type": "stream",
       "stream": "stdout",
       "text": [
        "2014-02-03 15:55:42 filter-transcript INFO  : Loading transcripts length ...\n",
        "2014-02-03 15:55:42 filter-transcript INFO  : Filtering cosmic-3 ...\n",
        "2014-02-03 15:55:42 filter-transcript INFO  :   >> 3.934 K mutations, 139935.8 mutations/second\n",
        "2014-02-03 15:55:42 filter-transcript INFO  : Finished. in=3934, out=3825, filtered=109, elapsed=0:00:00.028271\n",
        "\n"
       ]
      },
      {
       "html": [
        "<a href='files/scores-filt/cosmic-4' target='_blank'>scores-filt/cosmic-4</a><br>"
       ],
       "metadata": {},
       "output_type": "display_data",
       "text": [
        "/home/cperez/projects/transfic/data/validation/scores-filt/cosmic-4"
       ]
      },
      {
       "html": [
        "<strong>transfic-filter-transcripts ../trs_len.tsv scores/cosmic-4 scores-filt/cosmic-4</strong>"
       ],
       "metadata": {},
       "output_type": "display_data",
       "text": [
        "<IPython.core.display.HTML at 0x350cf50>"
       ]
      },
      {
       "output_type": "stream",
       "stream": "stdout",
       "text": [
        "2014-02-03 15:55:42 filter-transcript INFO  : Loading transcripts length ...\n",
        "2014-02-03 15:55:43 filter-transcript INFO  : Filtering cosmic-4 ...\n",
        "2014-02-03 15:55:43 filter-transcript INFO  :   >> 1.205 K mutations, 138125.1 mutations/second\n",
        "2014-02-03 15:55:43 filter-transcript INFO  : Finished. in=1205, out=1139, filtered=66, elapsed=0:00:00.008850\n",
        "\n"
       ]
      },
      {
       "html": [
        "<a href='files/scores-filt/cosmic-5' target='_blank'>scores-filt/cosmic-5</a><br>"
       ],
       "metadata": {},
       "output_type": "display_data",
       "text": [
        "/home/cperez/projects/transfic/data/validation/scores-filt/cosmic-5"
       ]
      },
      {
       "html": [
        "<strong>transfic-filter-transcripts ../trs_len.tsv scores/cosmic-5 scores-filt/cosmic-5</strong>"
       ],
       "metadata": {},
       "output_type": "display_data",
       "text": [
        "<IPython.core.display.HTML at 0x350cf50>"
       ]
      },
      {
       "output_type": "stream",
       "stream": "stdout",
       "text": [
        "2014-02-03 15:55:42 filter-transcript INFO  : Loading transcripts length ...\n",
        "2014-02-03 15:55:42 filter-transcript INFO  : Filtering cosmic-5 ...\n",
        "2014-02-03 15:55:42 filter-transcript INFO  :   >> 0.581 K mutations, 65604.8 mutations/second\n",
        "2014-02-03 15:55:42 filter-transcript INFO  : Finished. in=581, out=534, filtered=47, elapsed=0:00:00.009543\n",
        "\n"
       ]
      },
      {
       "html": [
        "<a href='files/scores-filt/cosmic-CGC' target='_blank'>scores-filt/cosmic-CGC</a><br>"
       ],
       "metadata": {},
       "output_type": "display_data",
       "text": [
        "/home/cperez/projects/transfic/data/validation/scores-filt/cosmic-CGC"
       ]
      },
      {
       "html": [
        "<strong>transfic-filter-transcripts ../trs_len.tsv scores/cosmic-CGC scores-filt/cosmic-CGC</strong>"
       ],
       "metadata": {},
       "output_type": "display_data",
       "text": [
        "<IPython.core.display.HTML at 0x350cf50>"
       ]
      },
      {
       "output_type": "stream",
       "stream": "stdout",
       "text": [
        "2014-02-03 15:55:43 filter-transcript INFO  : Loading transcripts length ...\n",
        "2014-02-03 15:55:43 filter-transcript INFO  : Filtering cosmic-CGC ...\n",
        "2014-02-03 15:55:43 filter-transcript INFO  :   >> 15.913 K mutations, 140977.8 mutations/second\n",
        "2014-02-03 15:55:43 filter-transcript INFO  : Finished. in=15913, out=15913, filtered=0, elapsed=0:00:00.113063\n",
        "\n"
       ]
      },
      {
       "html": [
        "<a href='files/scores-filt/cosmic-D' target='_blank'>scores-filt/cosmic-D</a><br>"
       ],
       "metadata": {},
       "output_type": "display_data",
       "text": [
        "/home/cperez/projects/transfic/data/validation/scores-filt/cosmic-D"
       ]
      },
      {
       "html": [
        "<strong>transfic-filter-transcripts ../trs_len.tsv scores/cosmic-D scores-filt/cosmic-D</strong>"
       ],
       "metadata": {},
       "output_type": "display_data",
       "text": [
        "<IPython.core.display.HTML at 0x350cf50>"
       ]
      },
      {
       "output_type": "stream",
       "stream": "stdout",
       "text": [
        "2014-02-03 15:55:43 filter-transcript INFO  : Loading transcripts length ...\n",
        "2014-02-03 15:55:43 filter-transcript INFO  : Filtering cosmic-D ...\n",
        "2014-02-03 15:55:43 filter-transcript INFO  :   >> 6.267 K mutations, 60385.7 mutations/second\n",
        "2014-02-03 15:55:43 filter-transcript INFO  : Finished. in=6267, out=6267, filtered=0, elapsed=0:00:00.104000\n",
        "\n"
       ]
      },
      {
       "html": [
        "<a href='files/scores-filt/cosmic-O' target='_blank'>scores-filt/cosmic-O</a><br>"
       ],
       "metadata": {},
       "output_type": "display_data",
       "text": [
        "/home/cperez/projects/transfic/data/validation/scores-filt/cosmic-O"
       ]
      },
      {
       "html": [
        "<strong>transfic-filter-transcripts ../trs_len.tsv scores/cosmic-O scores-filt/cosmic-O</strong>"
       ],
       "metadata": {},
       "output_type": "display_data",
       "text": [
        "<IPython.core.display.HTML at 0x350cf50>"
       ]
      },
      {
       "output_type": "stream",
       "stream": "stdout",
       "text": [
        "2014-02-03 15:55:43 filter-transcript INFO  : Loading transcripts length ...\n",
        "2014-02-03 15:55:44 filter-transcript INFO  : Filtering cosmic-O ...\n",
        "2014-02-03 15:55:48 filter-transcript INFO  :   >> 407.137 K mutations, 84480.8 mutations/second\n",
        "2014-02-03 15:55:48 filter-transcript INFO  : Finished. in=407137, out=402661, filtered=4476, elapsed=0:00:04.819545\n",
        "\n"
       ]
      },
      {
       "html": [
        "<a href='files/scores-filt/cosmic-noCGC' target='_blank'>scores-filt/cosmic-noCGC</a><br>"
       ],
       "metadata": {},
       "output_type": "display_data",
       "text": [
        "/home/cperez/projects/transfic/data/validation/scores-filt/cosmic-noCGC"
       ]
      },
      {
       "html": [
        "<strong>transfic-filter-transcripts ../trs_len.tsv scores/cosmic-noCGC scores-filt/cosmic-noCGC</strong>"
       ],
       "metadata": {},
       "output_type": "display_data",
       "text": [
        "<IPython.core.display.HTML at 0x350cf50>"
       ]
      },
      {
       "output_type": "stream",
       "stream": "stdout",
       "text": [
        "2014-02-03 15:55:43 filter-transcript INFO  : Loading transcripts length ...\n",
        "2014-02-03 15:55:43 filter-transcript INFO  : Filtering cosmic-noCGC ...\n",
        "2014-02-03 15:55:47 filter-transcript INFO  :   >> 398.144 K mutations, 102485.6 mutations/second\n",
        "2014-02-03 15:55:47 filter-transcript INFO  : Finished. in=398144, out=393668, filtered=4476, elapsed=0:00:03.885070\n",
        "\n"
       ]
      },
      {
       "html": [
        "<a href='files/scores-filt/cosmic-nonCGC' target='_blank'>scores-filt/cosmic-nonCGC</a><br>"
       ],
       "metadata": {},
       "output_type": "display_data",
       "text": [
        "/home/cperez/projects/transfic/data/validation/scores-filt/cosmic-nonCGC"
       ]
      },
      {
       "html": [
        "<strong>transfic-filter-transcripts ../trs_len.tsv scores/cosmic-nonCGC scores-filt/cosmic-nonCGC</strong>"
       ],
       "metadata": {},
       "output_type": "display_data",
       "text": [
        "<IPython.core.display.HTML at 0x350cf50>"
       ]
      },
      {
       "output_type": "stream",
       "stream": "stdout",
       "text": [
        "2014-02-03 15:55:43 filter-transcript INFO  : Loading transcripts length ...\n",
        "2014-02-03 15:55:44 filter-transcript INFO  : Filtering cosmic-nonCGC ...\n",
        "2014-02-03 15:55:48 filter-transcript INFO  :   >> 399.227 K mutations, 85470.3 mutations/second\n",
        "2014-02-03 15:55:48 filter-transcript INFO  : Finished. in=399227, out=394745, filtered=4482, elapsed=0:00:04.671625\n",
        "\n"
       ]
      },
      {
       "html": [
        "<a href='files/scores-filt/poly-n' target='_blank'>scores-filt/poly-n</a><br>"
       ],
       "metadata": {},
       "output_type": "display_data",
       "text": [
        "/home/cperez/projects/transfic/data/validation/scores-filt/poly-n"
       ]
      },
      {
       "html": [
        "<strong>transfic-filter-transcripts ../trs_len.tsv scores/poly-n scores-filt/poly-n</strong>"
       ],
       "metadata": {},
       "output_type": "display_data",
       "text": [
        "<IPython.core.display.HTML at 0x350cf50>"
       ]
      },
      {
       "output_type": "stream",
       "stream": "stdout",
       "text": [
        "2014-02-03 15:55:44 filter-transcript INFO  : Loading transcripts length ...\n",
        "2014-02-03 15:55:44 filter-transcript INFO  : Filtering poly-n ...\n",
        "2014-02-03 15:55:45 filter-transcript INFO  :   >> 30.066 K mutations, 69707.4 mutations/second\n",
        "2014-02-03 15:55:45 filter-transcript INFO  : Finished. in=30066, out=23425, filtered=6641, elapsed=0:00:00.434885\n",
        "\n"
       ]
      },
      {
       "html": [
        "<a href='files/scores-filt/wg-1' target='_blank'>scores-filt/wg-1</a><br>"
       ],
       "metadata": {},
       "output_type": "display_data",
       "text": [
        "/home/cperez/projects/transfic/data/validation/scores-filt/wg-1"
       ]
      },
      {
       "html": [
        "<strong>transfic-filter-transcripts ../trs_len.tsv scores/wg-1 scores-filt/wg-1</strong>"
       ],
       "metadata": {},
       "output_type": "display_data",
       "text": [
        "<IPython.core.display.HTML at 0x350cf50>"
       ]
      },
      {
       "output_type": "stream",
       "stream": "stdout",
       "text": [
        "2014-02-03 15:55:45 filter-transcript INFO  : Loading transcripts length ...\n",
        "2014-02-03 15:55:45 filter-transcript INFO  : Filtering wg-1 ...\n",
        "2014-02-03 15:55:58 filter-transcript INFO  :   >> 1.522 M mutations, 123593.4 mutations/second\n",
        "2014-02-03 15:55:58 filter-transcript INFO  : Finished. in=1522101, out=1513253, filtered=8848, elapsed=0:00:12.315568\n",
        "\n"
       ]
      },
      {
       "html": [
        "<a href='files/scores-filt/wg-2' target='_blank'>scores-filt/wg-2</a><br>"
       ],
       "metadata": {},
       "output_type": "display_data",
       "text": [
        "/home/cperez/projects/transfic/data/validation/scores-filt/wg-2"
       ]
      },
      {
       "html": [
        "<strong>transfic-filter-transcripts ../trs_len.tsv scores/wg-2 scores-filt/wg-2</strong>"
       ],
       "metadata": {},
       "output_type": "display_data",
       "text": [
        "<IPython.core.display.HTML at 0x350cf50>"
       ]
      },
      {
       "output_type": "stream",
       "stream": "stdout",
       "text": [
        "2014-02-03 15:55:48 filter-transcript INFO  : Loading transcripts length ...\n",
        "2014-02-03 15:55:48 filter-transcript INFO  : Filtering wg-2 ...\n",
        "2014-02-03 15:55:48 filter-transcript INFO  :   >> 20.573 K mutations, 99647.3 mutations/second\n",
        "2014-02-03 15:55:48 filter-transcript INFO  : Finished. in=20573, out=20003, filtered=570, elapsed=0:00:00.206647\n",
        "\n"
       ]
      },
      {
       "html": [
        "<a href='files/scores-filt/wg-3' target='_blank'>scores-filt/wg-3</a><br>"
       ],
       "metadata": {},
       "output_type": "display_data",
       "text": [
        "/home/cperez/projects/transfic/data/validation/scores-filt/wg-3"
       ]
      },
      {
       "html": [
        "<strong>transfic-filter-transcripts ../trs_len.tsv scores/wg-3 scores-filt/wg-3</strong>"
       ],
       "metadata": {},
       "output_type": "display_data",
       "text": [
        "<IPython.core.display.HTML at 0x350cf50>"
       ]
      },
      {
       "output_type": "stream",
       "stream": "stdout",
       "text": [
        "2014-02-03 15:55:48 filter-transcript INFO  : Loading transcripts length ...\n",
        "2014-02-03 15:55:48 filter-transcript INFO  : Filtering wg-3 ...\n",
        "2014-02-03 15:55:48 filter-transcript INFO  :   >> 6.457 K mutations, 110694.0 mutations/second\n",
        "2014-02-03 15:55:48 filter-transcript INFO  : Finished. in=6457, out=6204, filtered=253, elapsed=0:00:00.058540\n",
        "\n"
       ]
      },
      {
       "html": [
        "<a href='files/scores-filt/wg-4' target='_blank'>scores-filt/wg-4</a><br>"
       ],
       "metadata": {},
       "output_type": "display_data",
       "text": [
        "/home/cperez/projects/transfic/data/validation/scores-filt/wg-4"
       ]
      },
      {
       "html": [
        "<strong>transfic-filter-transcripts ../trs_len.tsv scores/wg-4 scores-filt/wg-4</strong>"
       ],
       "metadata": {},
       "output_type": "display_data",
       "text": [
        "<IPython.core.display.HTML at 0x350cf50>"
       ]
      },
      {
       "output_type": "stream",
       "stream": "stdout",
       "text": [
        "2014-02-03 15:55:49 filter-transcript INFO  : Loading transcripts length ...\n",
        "2014-02-03 15:55:49 filter-transcript INFO  : Filtering wg-4 ...\n",
        "2014-02-03 15:55:49 filter-transcript INFO  :   >> 1.807 K mutations, 76138.3 mutations/second\n",
        "2014-02-03 15:55:49 filter-transcript INFO  : Finished. in=1807, out=1722, filtered=85, elapsed=0:00:00.027744\n",
        "\n"
       ]
      },
      {
       "html": [
        "<a href='files/scores-filt/wg-5' target='_blank'>scores-filt/wg-5</a><br>"
       ],
       "metadata": {},
       "output_type": "display_data",
       "text": [
        "/home/cperez/projects/transfic/data/validation/scores-filt/wg-5"
       ]
      },
      {
       "html": [
        "<strong>transfic-filter-transcripts ../trs_len.tsv scores/wg-5 scores-filt/wg-5</strong>"
       ],
       "metadata": {},
       "output_type": "display_data",
       "text": [
        "<IPython.core.display.HTML at 0x350cf50>"
       ]
      },
      {
       "output_type": "stream",
       "stream": "stdout",
       "text": [
        "2014-02-03 15:55:49 filter-transcript INFO  : Loading transcripts length ...\n",
        "2014-02-03 15:55:49 filter-transcript INFO  : Filtering wg-5 ...\n",
        "2014-02-03 15:55:49 filter-transcript INFO  :   >> 1.094 K mutations, 125686.7 mutations/second\n",
        "2014-02-03 15:55:49 filter-transcript INFO  : Finished. in=1094, out=1035, filtered=59, elapsed=0:00:00.008808\n",
        "\n"
       ]
      },
      {
       "html": [
        "<a href='files/scores-filt/wg-CGC' target='_blank'>scores-filt/wg-CGC</a><br>"
       ],
       "metadata": {},
       "output_type": "display_data",
       "text": [
        "/home/cperez/projects/transfic/data/validation/scores-filt/wg-CGC"
       ]
      },
      {
       "html": [
        "<strong>transfic-filter-transcripts ../trs_len.tsv scores/wg-CGC scores-filt/wg-CGC</strong>"
       ],
       "metadata": {},
       "output_type": "display_data",
       "text": [
        "<IPython.core.display.HTML at 0x350cf50>"
       ]
      },
      {
       "output_type": "stream",
       "stream": "stdout",
       "text": [
        "2014-02-03 15:55:49 filter-transcript INFO  : Loading transcripts length ...\n",
        "2014-02-03 15:55:49 filter-transcript INFO  : Filtering wg-CGC ...\n",
        "2014-02-03 15:55:49 filter-transcript INFO  :   >> 0.260 K mutations, 123641.6 mutations/second\n",
        "2014-02-03 15:55:49 filter-transcript INFO  : Finished. in=260, out=260, filtered=0, elapsed=0:00:00.002188\n",
        "\n"
       ]
      },
      {
       "html": [
        "<a href='files/scores-filt/wg-D' target='_blank'>scores-filt/wg-D</a><br>"
       ],
       "metadata": {},
       "output_type": "display_data",
       "text": [
        "/home/cperez/projects/transfic/data/validation/scores-filt/wg-D"
       ]
      },
      {
       "html": [
        "<strong>transfic-filter-transcripts ../trs_len.tsv scores/wg-D scores-filt/wg-D</strong>"
       ],
       "metadata": {},
       "output_type": "display_data",
       "text": [
        "<IPython.core.display.HTML at 0x350cf50>"
       ]
      },
      {
       "output_type": "stream",
       "stream": "stdout",
       "text": [
        "2014-02-03 15:55:49 filter-transcript INFO  : Loading transcripts length ...\n",
        "2014-02-03 15:55:49 filter-transcript INFO  : Filtering wg-D ...\n",
        "2014-02-03 15:55:49 filter-transcript INFO  :   >> 0.725 K mutations, 135923.0 mutations/second\n",
        "2014-02-03 15:55:49 filter-transcript INFO  : Finished. in=725, out=263, filtered=462, elapsed=0:00:00.005421\n",
        "\n"
       ]
      },
      {
       "html": [
        "<a href='files/scores-filt/wg-O' target='_blank'>scores-filt/wg-O</a><br>"
       ],
       "metadata": {},
       "output_type": "display_data",
       "text": [
        "/home/cperez/projects/transfic/data/validation/scores-filt/wg-O"
       ]
      },
      {
       "html": [
        "<strong>transfic-filter-transcripts ../trs_len.tsv scores/wg-O scores-filt/wg-O</strong>"
       ],
       "metadata": {},
       "output_type": "display_data",
       "text": [
        "<IPython.core.display.HTML at 0x350cf50>"
       ]
      },
      {
       "output_type": "stream",
       "stream": "stdout",
       "text": [
        "2014-02-03 15:55:49 filter-transcript INFO  : Loading transcripts length ...\n",
        "2014-02-03 15:55:50 filter-transcript INFO  : Filtering wg-O ...\n",
        "2014-02-03 15:55:50 filter-transcript INFO  :   >> 39.352 K mutations, 147278.2 mutations/second\n",
        "2014-02-03 15:55:50 filter-transcript INFO  : Finished. in=39352, out=32617, filtered=6735, elapsed=0:00:00.267419\n",
        "\n"
       ]
      },
      {
       "html": [
        "<a href='files/scores-filt/wg-noCGC' target='_blank'>scores-filt/wg-noCGC</a><br>"
       ],
       "metadata": {},
       "output_type": "display_data",
       "text": [
        "/home/cperez/projects/transfic/data/validation/scores-filt/wg-noCGC"
       ]
      },
      {
       "html": [
        "<strong>transfic-filter-transcripts ../trs_len.tsv scores/wg-noCGC scores-filt/wg-noCGC</strong>"
       ],
       "metadata": {},
       "output_type": "display_data",
       "text": [
        "<IPython.core.display.HTML at 0x350cf50>"
       ]
      },
      {
       "output_type": "stream",
       "stream": "stdout",
       "text": [
        "2014-02-03 15:55:49 filter-transcript INFO  : Loading transcripts length ...\n",
        "2014-02-03 15:55:50 filter-transcript INFO  : Filtering wg-noCGC ...\n",
        "2014-02-03 15:56:01 filter-transcript INFO  :   >> 1.542 M mutations, 143449.9 mutations/second\n",
        "2014-02-03 15:56:01 filter-transcript INFO  : Finished. in=1542414, out=1533430, filtered=8984, elapsed=0:00:10.752462\n",
        "\n"
       ]
      },
      {
       "html": [
        "<a href='files/scores-filt/wg-nonCGC' target='_blank'>scores-filt/wg-nonCGC</a><br>"
       ],
       "metadata": {},
       "output_type": "display_data",
       "text": [
        "/home/cperez/projects/transfic/data/validation/scores-filt/wg-nonCGC"
       ]
      },
      {
       "html": [
        "<strong>transfic-filter-transcripts ../trs_len.tsv scores/wg-nonCGC scores-filt/wg-nonCGC</strong>"
       ],
       "metadata": {},
       "output_type": "display_data",
       "text": [
        "<IPython.core.display.HTML at 0x350cf50>"
       ]
      },
      {
       "output_type": "stream",
       "stream": "stdout",
       "text": [
        "2014-02-03 15:55:50 filter-transcript INFO  : Loading transcripts length ...\n",
        "2014-02-03 15:55:50 filter-transcript INFO  : Filtering wg-nonCGC ...\n",
        "2014-02-03 15:56:10 filter-transcript INFO  :   >> 1.486 M mutations, 73118.0 mutations/second\n",
        "2014-02-03 15:56:10 filter-transcript INFO  : Finished. in=1486102, out=1476153, filtered=9949, elapsed=0:00:20.324876\n",
        "\n"
       ]
      }
     ],
     "prompt_number": 84
    },
    {
     "cell_type": "heading",
     "level": 2,
     "metadata": {},
     "source": [
      "Prepare training sets"
     ]
    },
    {
     "cell_type": "code",
     "collapsed": false,
     "input": [
      "cosmic_tsets = [\n",
      "    (\"cosmic-2\", \"cosmic-1\"),\n",
      "    (\"cosmic-3\", \"cosmic-1\"),\n",
      "    (\"cosmic-4\", \"cosmic-1\"),\n",
      "    (\"cosmic-5\", \"cosmic-1\"),\n",
      "    (\"cosmic-2\", \"poly-n\"),\n",
      "    (\"cosmic-3\", \"poly-n\"),\n",
      "    (\"cosmic-4\", \"poly-n\"),\n",
      "    (\"cosmic-5\", \"poly-n\"),\n",
      "    (\"cosmic-D\", \"cosmic-O\"),\n",
      "    (\"cosmic-CGC\", \"cosmic-noCGC\")\n",
      "]\n",
      "\n",
      "wg_tsets = [\n",
      "    (\"wg-2\", \"wg-1\"),\n",
      "    (\"wg-3\", \"wg-1\"),\n",
      "    (\"wg-4\", \"wg-1\"),\n",
      "    (\"wg-5\", \"wg-1\"),\n",
      "    (\"wg-CGC\", \"wg-noCGC\"),\n",
      "]\n",
      "\n",
      "for pos_name, neg_name in cosmic_tsets + wg_tsets:\n",
      "    tset_name = os.path.join(\"tsets\", \"{}__{}\".format(pos_name, neg_name))\n",
      "    pos_count = neg_count = 0\n",
      "    with open(tset_name, \"w\") as wf:\n",
      "        with open(os.path.join(\"scores-filt\", pos_name)) as f:\n",
      "            wf.write(f.readline())\n",
      "            for line in f:\n",
      "                pos_count += 1\n",
      "                wf.write(\"POS\" + line)\n",
      "        with open(os.path.join(\"scores-filt\", neg_name)) as f:\n",
      "            f.readline()\n",
      "            for line in f:\n",
      "                neg_count += 1\n",
      "                wf.write(\"NEG\" + line)\n",
      "                \n",
      "    display(FileLink(tset_name))\n",
      "    print \"  POS: [{:7}]  NEG: [{:7}]\".format(pos_count, neg_count)"
     ],
     "language": "python",
     "metadata": {},
     "outputs": [
      {
       "html": [
        "<a href='files/tsets/cosmic-2__cosmic-1' target='_blank'>tsets/cosmic-2__cosmic-1</a><br>"
       ],
       "metadata": {},
       "output_type": "display_data",
       "text": [
        "/home/cperez/projects/transfic/data/validation/tsets/cosmic-2__cosmic-1"
       ]
      },
      {
       "output_type": "stream",
       "stream": "stdout",
       "text": [
        "  POS: [  22886]  NEG: [ 408077]\n"
       ]
      },
      {
       "html": [
        "<a href='files/tsets/cosmic-3__cosmic-1' target='_blank'>tsets/cosmic-3__cosmic-1</a><br>"
       ],
       "metadata": {},
       "output_type": "display_data",
       "text": [
        "/home/cperez/projects/transfic/data/validation/tsets/cosmic-3__cosmic-1"
       ]
      },
      {
       "output_type": "stream",
       "stream": "stdout",
       "text": [
        "  POS: [   3825]  NEG: [ 408077]\n"
       ]
      },
      {
       "html": [
        "<a href='files/tsets/cosmic-4__cosmic-1' target='_blank'>tsets/cosmic-4__cosmic-1</a><br>"
       ],
       "metadata": {},
       "output_type": "display_data",
       "text": [
        "/home/cperez/projects/transfic/data/validation/tsets/cosmic-4__cosmic-1"
       ]
      },
      {
       "output_type": "stream",
       "stream": "stdout",
       "text": [
        "  POS: [   1139]  NEG: [ 408077]\n"
       ]
      },
      {
       "html": [
        "<a href='files/tsets/cosmic-5__cosmic-1' target='_blank'>tsets/cosmic-5__cosmic-1</a><br>"
       ],
       "metadata": {},
       "output_type": "display_data",
       "text": [
        "/home/cperez/projects/transfic/data/validation/tsets/cosmic-5__cosmic-1"
       ]
      },
      {
       "output_type": "stream",
       "stream": "stdout",
       "text": [
        "  POS: [    534]  NEG: [ 408077]\n"
       ]
      },
      {
       "html": [
        "<a href='files/tsets/cosmic-2__poly-n' target='_blank'>tsets/cosmic-2__poly-n</a><br>"
       ],
       "metadata": {},
       "output_type": "display_data",
       "text": [
        "/home/cperez/projects/transfic/data/validation/tsets/cosmic-2__poly-n"
       ]
      },
      {
       "output_type": "stream",
       "stream": "stdout",
       "text": [
        "  POS: [  22886]  NEG: [  23425]\n"
       ]
      },
      {
       "html": [
        "<a href='files/tsets/cosmic-3__poly-n' target='_blank'>tsets/cosmic-3__poly-n</a><br>"
       ],
       "metadata": {},
       "output_type": "display_data",
       "text": [
        "/home/cperez/projects/transfic/data/validation/tsets/cosmic-3__poly-n"
       ]
      },
      {
       "output_type": "stream",
       "stream": "stdout",
       "text": [
        "  POS: [   3825]  NEG: [  23425]\n"
       ]
      },
      {
       "html": [
        "<a href='files/tsets/cosmic-4__poly-n' target='_blank'>tsets/cosmic-4__poly-n</a><br>"
       ],
       "metadata": {},
       "output_type": "display_data",
       "text": [
        "/home/cperez/projects/transfic/data/validation/tsets/cosmic-4__poly-n"
       ]
      },
      {
       "output_type": "stream",
       "stream": "stdout",
       "text": [
        "  POS: [   1139]  NEG: [  23425]\n"
       ]
      },
      {
       "html": [
        "<a href='files/tsets/cosmic-5__poly-n' target='_blank'>tsets/cosmic-5__poly-n</a><br>"
       ],
       "metadata": {},
       "output_type": "display_data",
       "text": [
        "/home/cperez/projects/transfic/data/validation/tsets/cosmic-5__poly-n"
       ]
      },
      {
       "output_type": "stream",
       "stream": "stdout",
       "text": [
        "  POS: [    534]  NEG: [  23425]\n"
       ]
      },
      {
       "html": [
        "<a href='files/tsets/cosmic-D__cosmic-O' target='_blank'>tsets/cosmic-D__cosmic-O</a><br>"
       ],
       "metadata": {},
       "output_type": "display_data",
       "text": [
        "/home/cperez/projects/transfic/data/validation/tsets/cosmic-D__cosmic-O"
       ]
      },
      {
       "output_type": "stream",
       "stream": "stdout",
       "text": [
        "  POS: [   6267]  NEG: [ 402661]\n"
       ]
      },
      {
       "html": [
        "<a href='files/tsets/cosmic-CGC__cosmic-noCGC' target='_blank'>tsets/cosmic-CGC__cosmic-noCGC</a><br>"
       ],
       "metadata": {},
       "output_type": "display_data",
       "text": [
        "/home/cperez/projects/transfic/data/validation/tsets/cosmic-CGC__cosmic-noCGC"
       ]
      },
      {
       "output_type": "stream",
       "stream": "stdout",
       "text": [
        "  POS: [  15913]  NEG: [ 393668]\n"
       ]
      },
      {
       "html": [
        "<a href='files/tsets/wg-2__wg-1' target='_blank'>tsets/wg-2__wg-1</a><br>"
       ],
       "metadata": {},
       "output_type": "display_data",
       "text": [
        "/home/cperez/projects/transfic/data/validation/tsets/wg-2__wg-1"
       ]
      },
      {
       "output_type": "stream",
       "stream": "stdout",
       "text": [
        "  POS: [  20003]  NEG: [1513253]\n"
       ]
      },
      {
       "html": [
        "<a href='files/tsets/wg-3__wg-1' target='_blank'>tsets/wg-3__wg-1</a><br>"
       ],
       "metadata": {},
       "output_type": "display_data",
       "text": [
        "/home/cperez/projects/transfic/data/validation/tsets/wg-3__wg-1"
       ]
      },
      {
       "output_type": "stream",
       "stream": "stdout",
       "text": [
        "  POS: [   6204]  NEG: [1513253]\n"
       ]
      },
      {
       "html": [
        "<a href='files/tsets/wg-4__wg-1' target='_blank'>tsets/wg-4__wg-1</a><br>"
       ],
       "metadata": {},
       "output_type": "display_data",
       "text": [
        "/home/cperez/projects/transfic/data/validation/tsets/wg-4__wg-1"
       ]
      },
      {
       "output_type": "stream",
       "stream": "stdout",
       "text": [
        "  POS: [   1722]  NEG: [1513253]\n"
       ]
      },
      {
       "html": [
        "<a href='files/tsets/wg-5__wg-1' target='_blank'>tsets/wg-5__wg-1</a><br>"
       ],
       "metadata": {},
       "output_type": "display_data",
       "text": [
        "/home/cperez/projects/transfic/data/validation/tsets/wg-5__wg-1"
       ]
      },
      {
       "output_type": "stream",
       "stream": "stdout",
       "text": [
        "  POS: [   1035]  NEG: [1513253]\n"
       ]
      },
      {
       "html": [
        "<a href='files/tsets/wg-CGC__wg-noCGC' target='_blank'>tsets/wg-CGC__wg-noCGC</a><br>"
       ],
       "metadata": {},
       "output_type": "display_data",
       "text": [
        "/home/cperez/projects/transfic/data/validation/tsets/wg-CGC__wg-noCGC"
       ]
      },
      {
       "output_type": "stream",
       "stream": "stdout",
       "text": [
        "  POS: [    260]  NEG: [1533430]\n"
       ]
      }
     ],
     "prompt_number": 97
    },
    {
     "cell_type": "heading",
     "level": 2,
     "metadata": {},
     "source": [
      "Calculate statistics for the training sets"
     ]
    },
    {
     "cell_type": "markdown",
     "metadata": {},
     "source": [
      "For each training set calculate:\n",
      "\n",
      "- scores distribution\n",
      "- cummulative distribution\n",
      "- FP/FN/TP/TN\n",
      "- MCC and accuracy"
     ]
    },
    {
     "cell_type": "code",
     "collapsed": false,
     "input": [
      "results = []\n",
      "for in_path in sorted(glob(\"tsets/*\")):\n",
      "    out_path = os.path.join(\"stats\", \"{}.json\".format(os.path.basename(in_path)))\n",
      "    cmd = \"condel-weights ../pred-list.json {} -o {} -p {} -P 2 -f\".format(in_path, out_path, PREDICTORS)\n",
      "    results += [(cmd, out_path, lb.apply_async(check_output, cmd, stderr=STDOUT, shell=True))]\n",
      "\n",
      "display_results_with_output(results)"
     ],
     "language": "python",
     "metadata": {},
     "outputs": [
      {
       "html": [
        "<a href='files/stats/cosmic-2__cosmic-1.json' target='_blank'>stats/cosmic-2__cosmic-1.json</a><br>"
       ],
       "metadata": {},
       "output_type": "display_data",
       "text": [
        "/home/cperez/projects/transfic/data/validation/stats/cosmic-2__cosmic-1.json"
       ]
      },
      {
       "html": [
        "<strong>condel-weights ../pred-list.json tsets/cosmic-2__cosmic-1 -o stats/cosmic-2__cosmic-1.json -p SIFT,PPH2,MA,FATHMMC,TFIC_SIFT,TFIC_PPH2,TFIC_MA,TFIC_FATHMMC -P 2 -f</strong>"
       ],
       "metadata": {},
       "output_type": "display_data",
       "text": [
        "<IPython.core.display.HTML at 0x42d4b10>"
       ]
      },
      {
       "output_type": "stream",
       "stream": "stdout",
       "text": [
        "2014-02-03 15:56:24 weights INFO  : Loading ranges from pred-list.json ...\n",
        "2014-02-03 15:56:24 weights INFO  : Reading training sets tsets/cosmic-2__cosmic-1 ...\n",
        "2014-02-03 16:04:05 weights INFO  :   positive=19963, negative=346888\n",
        "2014-02-03 16:04:05 weights INFO  : Calculating cumulative distribution ...\n",
        "2014-02-03 16:04:05 weights INFO  :   SIFT: cump=18817, cumn=330066\n",
        "2014-02-03 16:04:05 weights INFO  :   PPH2: cump=19100, cumn=331225\n",
        "2014-02-03 16:04:05 weights INFO  :   MA: cump=19526, cumn=339809\n",
        "2014-02-03 16:04:05 weights INFO  :   FATHMMC: cump=12281, cumn=207123\n",
        "2014-02-03 16:04:05 weights INFO  :   TFIC_SIFT: cump=17023, cumn=294913\n",
        "2014-02-03 16:04:05 weights INFO  :   TFIC_PPH2: cump=17344, cumn=296718\n",
        "2014-02-03 16:04:05 weights INFO  :   TFIC_MA: cump=14420, cumn=243008\n",
        "2014-02-03 16:04:05 weights INFO  :   TFIC_FATHMMC: cump=8016, cumn=131895\n",
        "2014-02-03 16:04:05 weights INFO  : Calculating accuracy and cutoff ...\n",
        "2014-02-03 16:04:05 weights INFO  :   SIFT: cutoff=0.960, mcc=0.92, accuracy=72.35\n",
        "2014-02-03 16:04:05 weights INFO  :   PPH2: cutoff=0.830, mcc=0.73, accuracy=75.86\n",
        "2014-02-03 16:04:05 weights INFO  :   MA: cutoff=1.895, mcc=1.15, accuracy=94.57\n",
        "2014-02-03 16:04:05 weights INFO  :   FATHMMC: cutoff=6.150, mcc=4.84, accuracy=94.40\n",
        "2014-02-03 16:04:05 weights INFO  :   TFIC_SIFT: cutoff=0.766, mcc=1.06, accuracy=94.54\n",
        "2014-02-03 16:04:05 weights INFO  :   TFIC_PPH2: cutoff=2.101, mcc=0.83, accuracy=94.48\n",
        "2014-02-03 16:04:05 weights INFO  :   TFIC_MA: cutoff=0.344, mcc=0.90, accuracy=94.40\n",
        "2014-02-03 16:04:05 weights INFO  :   TFIC_FATHMMC: cutoff=4.813, mcc=4.42, accuracy=94.27\n",
        "2014-02-03 16:04:05 weights INFO  : Saving weights with full state ...\n",
        "\n"
       ]
      },
      {
       "html": [
        "<a href='files/stats/cosmic-2__poly-n.json' target='_blank'>stats/cosmic-2__poly-n.json</a><br>"
       ],
       "metadata": {},
       "output_type": "display_data",
       "text": [
        "/home/cperez/projects/transfic/data/validation/stats/cosmic-2__poly-n.json"
       ]
      },
      {
       "html": [
        "<strong>condel-weights ../pred-list.json tsets/cosmic-2__poly-n -o stats/cosmic-2__poly-n.json -p SIFT,PPH2,MA,FATHMMC,TFIC_SIFT,TFIC_PPH2,TFIC_MA,TFIC_FATHMMC -P 2 -f</strong>"
       ],
       "metadata": {},
       "output_type": "display_data",
       "text": [
        "<IPython.core.display.HTML at 0x42d4b10>"
       ]
      },
      {
       "output_type": "stream",
       "stream": "stdout",
       "text": [
        "2014-02-03 15:56:24 weights INFO  : Loading ranges from pred-list.json ...\n",
        "2014-02-03 15:56:24 weights INFO  : Reading training sets tsets/cosmic-2__poly-n ...\n",
        "2014-02-03 15:57:15 weights INFO  :   positive=19963, negative=20160\n",
        "2014-02-03 15:57:15 weights INFO  : Calculating cumulative distribution ...\n",
        "2014-02-03 15:57:15 weights INFO  :   SIFT: cump=18817, cumn=19519\n",
        "2014-02-03 15:57:15 weights INFO  :   PPH2: cump=19100, cumn=19959\n",
        "2014-02-03 15:57:15 weights INFO  :   MA: cump=19526, cumn=19796\n",
        "2014-02-03 15:57:15 weights INFO  :   FATHMMC: cump=12281, cumn=12623\n",
        "2014-02-03 15:57:15 weights INFO  :   TFIC_SIFT: cump=17023, cumn=17070\n",
        "2014-02-03 15:57:15 weights INFO  :   TFIC_PPH2: cump=17344, cumn=17455\n",
        "2014-02-03 15:57:15 weights INFO  :   TFIC_MA: cump=14420, cumn=13967\n",
        "2014-02-03 15:57:15 weights INFO  :   TFIC_FATHMMC: cump=8016, cumn=6834\n",
        "2014-02-03 15:57:15 weights INFO  : Calculating accuracy and cutoff ...\n",
        "2014-02-03 15:57:15 weights INFO  :   SIFT: cutoff=0.820, mcc=31.21, accuracy=65.61\n",
        "2014-02-03 15:57:15 weights INFO  :   PPH2: cutoff=0.160, mcc=37.16, accuracy=68.60\n",
        "2014-02-03 15:57:15 weights INFO  :   MA: cutoff=0.865, mcc=29.94, accuracy=64.82\n",
        "2014-02-03 15:57:15 weights INFO  :   FATHMMC: cutoff=-0.830, mcc=19.41, accuracy=58.10\n",
        "2014-02-03 15:57:15 weights INFO  :   TFIC_SIFT: cutoff=0.106, mcc=32.14, accuracy=66.06\n",
        "2014-02-03 15:57:15 weights INFO  :   TFIC_PPH2: cutoff=-0.139, mcc=37.11, accuracy=68.55\n",
        "2014-02-03 15:57:15 weights INFO  :   TFIC_MA: cutoff=-0.156, mcc=31.46, accuracy=65.74\n",
        "2014-02-03 15:57:15 weights INFO  :   TFIC_FATHMMC: cutoff=0.753, mcc=15.21, accuracy=57.04\n",
        "2014-02-03 15:57:15 weights INFO  : Saving weights with full state ...\n",
        "\n"
       ]
      },
      {
       "html": [
        "<a href='files/stats/cosmic-3__cosmic-1.json' target='_blank'>stats/cosmic-3__cosmic-1.json</a><br>"
       ],
       "metadata": {},
       "output_type": "display_data",
       "text": [
        "/home/cperez/projects/transfic/data/validation/stats/cosmic-3__cosmic-1.json"
       ]
      },
      {
       "html": [
        "<strong>condel-weights ../pred-list.json tsets/cosmic-3__cosmic-1 -o stats/cosmic-3__cosmic-1.json -p SIFT,PPH2,MA,FATHMMC,TFIC_SIFT,TFIC_PPH2,TFIC_MA,TFIC_FATHMMC -P 2 -f</strong>"
       ],
       "metadata": {},
       "output_type": "display_data",
       "text": [
        "<IPython.core.display.HTML at 0x42d4b10>"
       ]
      },
      {
       "output_type": "stream",
       "stream": "stdout",
       "text": [
        "2014-02-03 15:56:24 weights INFO  : Loading ranges from pred-list.json ...\n",
        "2014-02-03 15:56:24 weights INFO  : Reading training sets tsets/cosmic-3__cosmic-1 ...\n",
        "2014-02-03 16:03:55 weights INFO  :   positive=3425, negative=346888\n",
        "2014-02-03 16:03:55 weights INFO  : Calculating cumulative distribution ...\n",
        "2014-02-03 16:03:55 weights INFO  :   SIFT: cump=3192, cumn=330066\n",
        "2014-02-03 16:03:55 weights INFO  :   PPH2: cump=3266, cumn=331225\n",
        "2014-02-03 16:03:55 weights INFO  :   MA: cump=3323, cumn=339809\n",
        "2014-02-03 16:03:55 weights INFO  :   FATHMMC: cump=2113, cumn=207123\n",
        "2014-02-03 16:03:55 weights INFO  :   TFIC_SIFT: cump=2871, cumn=294913\n",
        "2014-02-03 16:03:55 weights INFO  :   TFIC_PPH2: cump=2963, cumn=296718\n",
        "2014-02-03 16:03:55 weights INFO  :   TFIC_MA: cump=2508, cumn=243008\n",
        "2014-02-03 16:03:55 weights INFO  :   TFIC_FATHMMC: cump=1422, cumn=131895\n",
        "2014-02-03 16:03:55 weights INFO  : Calculating accuracy and cutoff ...\n",
        "2014-02-03 16:03:55 weights INFO  :   SIFT: cutoff=0.970, mcc=0.32, accuracy=74.48\n",
        "2014-02-03 16:03:55 weights INFO  :   PPH2: cutoff=0.830, mcc=0.38, accuracy=78.42\n",
        "2014-02-03 16:03:55 weights INFO  :   MA: cutoff=2.415, mcc=0.67, accuracy=99.03\n",
        "2014-02-03 16:03:55 weights INFO  :   FATHMMC: cutoff=6.830, mcc=7.67, accuracy=98.99\n",
        "2014-02-03 16:03:55 weights INFO  :   TFIC_SIFT: cutoff=0.386, mcc=0.46, accuracy=99.03\n",
        "2014-02-03 16:03:55 weights INFO  :   TFIC_PPH2: cutoff=2.451, mcc=0.65, accuracy=99.01\n",
        "2014-02-03 16:03:55 weights INFO  :   TFIC_MA: cutoff=1.644, mcc=0.80, accuracy=98.98\n",
        "2014-02-03 16:03:55 weights INFO  :   TFIC_FATHMMC: cutoff=4.873, mcc=7.88, accuracy=98.93\n",
        "2014-02-03 16:03:55 weights INFO  : Saving weights with full state ...\n",
        "\n"
       ]
      },
      {
       "html": [
        "<a href='files/stats/cosmic-3__poly-n.json' target='_blank'>stats/cosmic-3__poly-n.json</a><br>"
       ],
       "metadata": {},
       "output_type": "display_data",
       "text": [
        "/home/cperez/projects/transfic/data/validation/stats/cosmic-3__poly-n.json"
       ]
      },
      {
       "html": [
        "<strong>condel-weights ../pred-list.json tsets/cosmic-3__poly-n -o stats/cosmic-3__poly-n.json -p SIFT,PPH2,MA,FATHMMC,TFIC_SIFT,TFIC_PPH2,TFIC_MA,TFIC_FATHMMC -P 2 -f</strong>"
       ],
       "metadata": {},
       "output_type": "display_data",
       "text": [
        "<IPython.core.display.HTML at 0x42d4b10>"
       ]
      },
      {
       "output_type": "stream",
       "stream": "stdout",
       "text": [
        "2014-02-03 15:56:24 weights INFO  : Loading ranges from pred-list.json ...\n",
        "2014-02-03 15:56:24 weights INFO  : Reading training sets tsets/cosmic-3__poly-n ...\n",
        "2014-02-03 15:56:50 weights INFO  :   positive=3425, negative=20160\n",
        "2014-02-03 15:56:50 weights INFO  : Calculating cumulative distribution ...\n",
        "2014-02-03 15:56:50 weights INFO  :   SIFT: cump=3192, cumn=19519\n",
        "2014-02-03 15:56:50 weights INFO  :   PPH2: cump=3266, cumn=19959\n",
        "2014-02-03 15:56:50 weights INFO  :   MA: cump=3323, cumn=19796\n",
        "2014-02-03 15:56:50 weights INFO  :   FATHMMC: cump=2113, cumn=12623\n",
        "2014-02-03 15:56:50 weights INFO  :   TFIC_SIFT: cump=2871, cumn=17070\n",
        "2014-02-03 15:56:50 weights INFO  :   TFIC_PPH2: cump=2963, cumn=17455\n",
        "2014-02-03 15:56:50 weights INFO  :   TFIC_MA: cump=2508, cumn=13967\n",
        "2014-02-03 15:56:50 weights INFO  :   TFIC_FATHMMC: cump=1422, cumn=6834\n",
        "2014-02-03 15:56:50 weights INFO  : Calculating accuracy and cutoff ...\n",
        "2014-02-03 15:56:50 weights INFO  :   SIFT: cutoff=0.960, mcc=23.51, accuracy=83.35\n",
        "2014-02-03 15:56:50 weights INFO  :   PPH2: cutoff=0.730, mcc=28.80, accuracy=84.82\n",
        "2014-02-03 15:56:50 weights INFO  :   MA: cutoff=1.935, mcc=23.62, accuracy=85.68\n",
        "2014-02-03 15:56:50 weights INFO  :   FATHMMC: cutoff=0.810, mcc=24.54, accuracy=86.52\n",
        "2014-02-03 15:56:50 weights INFO  :   TFIC_SIFT: cutoff=0.836, mcc=25.28, accuracy=85.72\n",
        "2014-02-03 15:56:50 weights INFO  :   TFIC_PPH2: cutoff=0.771, mcc=30.03, accuracy=85.89\n",
        "2014-02-03 15:56:50 weights INFO  :   TFIC_MA: cutoff=0.564, mcc=26.74, accuracy=85.64\n",
        "2014-02-03 15:56:50 weights INFO  :   TFIC_FATHMMC: cutoff=2.853, mcc=21.54, accuracy=83.77\n",
        "2014-02-03 15:56:50 weights INFO  : Saving weights with full state ...\n",
        "\n"
       ]
      },
      {
       "html": [
        "<a href='files/stats/cosmic-4__cosmic-1.json' target='_blank'>stats/cosmic-4__cosmic-1.json</a><br>"
       ],
       "metadata": {},
       "output_type": "display_data",
       "text": [
        "/home/cperez/projects/transfic/data/validation/stats/cosmic-4__cosmic-1.json"
       ]
      },
      {
       "html": [
        "<strong>condel-weights ../pred-list.json tsets/cosmic-4__cosmic-1 -o stats/cosmic-4__cosmic-1.json -p SIFT,PPH2,MA,FATHMMC,TFIC_SIFT,TFIC_PPH2,TFIC_MA,TFIC_FATHMMC -P 2 -f</strong>"
       ],
       "metadata": {},
       "output_type": "display_data",
       "text": [
        "<IPython.core.display.HTML at 0x42d4b10>"
       ]
      },
      {
       "output_type": "stream",
       "stream": "stdout",
       "text": [
        "2014-02-03 15:56:24 weights INFO  : Loading ranges from pred-list.json ...\n",
        "2014-02-03 15:56:24 weights INFO  : Reading training sets tsets/cosmic-4__cosmic-1 ...\n",
        "2014-02-03 16:04:21 weights INFO  :   positive=1011, negative=346888\n",
        "2014-02-03 16:04:21 weights INFO  : Calculating cumulative distribution ...\n",
        "2014-02-03 16:04:21 weights INFO  :   SIFT: cump=933, cumn=330066\n",
        "2014-02-03 16:04:21 weights INFO  :   PPH2: cump=946, cumn=331225\n",
        "2014-02-03 16:04:21 weights INFO  :   MA: cump=962, cumn=339809\n",
        "2014-02-03 16:04:21 weights INFO  :   FATHMMC: cump=629, cumn=207123\n",
        "2014-02-03 16:04:21 weights INFO  :   TFIC_SIFT: cump=830, cumn=294913\n",
        "2014-02-03 16:04:21 weights INFO  :   TFIC_PPH2: cump=861, cumn=296718\n",
        "2014-02-03 16:04:21 weights INFO  :   TFIC_MA: cump=759, cumn=243008\n",
        "2014-02-03 16:04:21 weights INFO  :   TFIC_FATHMMC: cump=441, cumn=131895\n",
        "2014-02-03 16:04:21 weights INFO  : Calculating accuracy and cutoff ...\n",
        "2014-02-03 16:04:21 weights INFO  :   SIFT: cutoff=0.990, mcc=0.23, accuracy=74.82\n",
        "2014-02-03 16:04:21 weights INFO  :   PPH2: cutoff=0.810, mcc=0.09, accuracy=78.81\n",
        "2014-02-03 16:04:21 weights INFO  :   MA: cutoff=2.435, mcc=0.29, accuracy=99.72\n",
        "2014-02-03 16:04:21 weights INFO  :   FATHMMC: cutoff=6.910, mcc=10.80, accuracy=99.70\n",
        "2014-02-03 16:04:21 weights INFO  :   TFIC_SIFT: cutoff=1.576, mcc=0.70, accuracy=99.72\n",
        "2014-02-03 16:04:21 weights INFO  :   TFIC_PPH2: cutoff=4.971, mcc=1.05, accuracy=99.71\n",
        "2014-02-03 16:04:21 weights INFO  :   TFIC_MA: cutoff=3.724, mcc=0.52, accuracy=99.69\n",
        "2014-02-03 16:04:21 weights INFO  :   TFIC_FATHMMC: cutoff=5.573, mcc=11.08, accuracy=99.67\n",
        "2014-02-03 16:04:21 weights INFO  : Saving weights with full state ...\n",
        "\n"
       ]
      },
      {
       "html": [
        "<a href='files/stats/cosmic-4__poly-n.json' target='_blank'>stats/cosmic-4__poly-n.json</a><br>"
       ],
       "metadata": {},
       "output_type": "display_data",
       "text": [
        "/home/cperez/projects/transfic/data/validation/stats/cosmic-4__poly-n.json"
       ]
      },
      {
       "html": [
        "<strong>condel-weights ../pred-list.json tsets/cosmic-4__poly-n -o stats/cosmic-4__poly-n.json -p SIFT,PPH2,MA,FATHMMC,TFIC_SIFT,TFIC_PPH2,TFIC_MA,TFIC_FATHMMC -P 2 -f</strong>"
       ],
       "metadata": {},
       "output_type": "display_data",
       "text": [
        "<IPython.core.display.HTML at 0x42d4b10>"
       ]
      },
      {
       "output_type": "stream",
       "stream": "stdout",
       "text": [
        "2014-02-03 15:56:51 weights INFO  : Loading ranges from pred-list.json ...\n",
        "2014-02-03 15:56:51 weights INFO  : Reading training sets tsets/cosmic-4__poly-n ...\n",
        "2014-02-03 15:57:20 weights INFO  :   positive=1011, negative=20160\n",
        "2014-02-03 15:57:20 weights INFO  : Calculating cumulative distribution ...\n",
        "2014-02-03 15:57:20 weights INFO  :   SIFT: cump=933, cumn=19519\n",
        "2014-02-03 15:57:20 weights INFO  :   PPH2: cump=946, cumn=19959\n",
        "2014-02-03 15:57:20 weights INFO  :   MA: cump=962, cumn=19796\n",
        "2014-02-03 15:57:20 weights INFO  :   FATHMMC: cump=629, cumn=12623\n",
        "2014-02-03 15:57:20 weights INFO  :   TFIC_SIFT: cump=830, cumn=17070\n",
        "2014-02-03 15:57:20 weights INFO  :   TFIC_PPH2: cump=861, cumn=17455\n",
        "2014-02-03 15:57:20 weights INFO  :   TFIC_MA: cump=759, cumn=13967\n",
        "2014-02-03 15:57:20 weights INFO  :   TFIC_FATHMMC: cump=441, cumn=6834\n",
        "2014-02-03 15:57:20 weights INFO  : Calculating accuracy and cutoff ...\n",
        "2014-02-03 15:57:20 weights INFO  :   SIFT: cutoff=0.990, mcc=15.06, accuracy=89.79\n",
        "2014-02-03 15:57:20 weights INFO  :   PPH2: cutoff=0.810, mcc=17.99, accuracy=91.72\n",
        "2014-02-03 15:57:20 weights INFO  :   MA: cutoff=1.945, mcc=14.36, accuracy=95.36\n",
        "2014-02-03 15:57:20 weights INFO  :   FATHMMC: cutoff=2.060, mcc=29.83, accuracy=95.67\n",
        "2014-02-03 15:57:20 weights INFO  :   TFIC_SIFT: cutoff=1.096, mcc=17.18, accuracy=95.37\n",
        "2014-02-03 15:57:20 weights INFO  :   TFIC_PPH2: cutoff=0.771, mcc=20.13, accuracy=95.35\n",
        "2014-02-03 15:57:20 weights INFO  :   TFIC_MA: cutoff=1.634, mcc=18.24, accuracy=94.85\n",
        "2014-02-03 15:57:20 weights INFO  :   TFIC_FATHMMC: cutoff=2.923, mcc=29.71, accuracy=94.47\n",
        "2014-02-03 15:57:20 weights INFO  : Saving weights with full state ...\n",
        "\n"
       ]
      },
      {
       "html": [
        "<a href='files/stats/cosmic-5__cosmic-1.json' target='_blank'>stats/cosmic-5__cosmic-1.json</a><br>"
       ],
       "metadata": {},
       "output_type": "display_data",
       "text": [
        "/home/cperez/projects/transfic/data/validation/stats/cosmic-5__cosmic-1.json"
       ]
      },
      {
       "html": [
        "<strong>condel-weights ../pred-list.json tsets/cosmic-5__cosmic-1 -o stats/cosmic-5__cosmic-1.json -p SIFT,PPH2,MA,FATHMMC,TFIC_SIFT,TFIC_PPH2,TFIC_MA,TFIC_FATHMMC -P 2 -f</strong>"
       ],
       "metadata": {},
       "output_type": "display_data",
       "text": [
        "<IPython.core.display.HTML at 0x42d4b10>"
       ]
      },
      {
       "output_type": "stream",
       "stream": "stdout",
       "text": [
        "2014-02-03 15:57:16 weights INFO  : Loading ranges from pred-list.json ...\n",
        "2014-02-03 15:57:16 weights INFO  : Reading training sets tsets/cosmic-5__cosmic-1 ...\n",
        "2014-02-03 16:04:46 weights INFO  :   positive=467, negative=346888\n",
        "2014-02-03 16:04:46 weights INFO  : Calculating cumulative distribution ...\n",
        "2014-02-03 16:04:46 weights INFO  :   SIFT: cump=428, cumn=330066\n",
        "2014-02-03 16:04:46 weights INFO  :   PPH2: cump=440, cumn=331225\n",
        "2014-02-03 16:04:46 weights INFO  :   MA: cump=438, cumn=339809\n",
        "2014-02-03 16:04:46 weights INFO  :   FATHMMC: cump=280, cumn=207123\n",
        "2014-02-03 16:04:46 weights INFO  :   TFIC_SIFT: cump=379, cumn=294913\n",
        "2014-02-03 16:04:46 weights INFO  :   TFIC_PPH2: cump=404, cumn=296718\n",
        "2014-02-03 16:04:46 weights INFO  :   TFIC_MA: cump=347, cumn=243008\n",
        "2014-02-03 16:04:46 weights INFO  :   TFIC_FATHMMC: cump=205, cumn=131895\n",
        "2014-02-03 16:04:46 weights INFO  : Calculating accuracy and cutoff ...\n",
        "2014-02-03 16:04:46 weights INFO  :   SIFT: cutoff=0.990, mcc=0.50, accuracy=74.90\n",
        "2014-02-03 16:04:46 weights INFO  :   PPH2: cutoff=0.840, mcc=0.35, accuracy=78.91\n",
        "2014-02-03 16:04:46 weights INFO  :   MA: cutoff=2.395, mcc=0.44, accuracy=99.87\n",
        "2014-02-03 16:04:46 weights INFO  :   FATHMMC: cutoff=6.830, mcc=10.60, accuracy=99.86\n",
        "2014-02-03 16:04:46 weights INFO  :   TFIC_SIFT: cutoff=0.996, mcc=0.62, accuracy=99.87\n",
        "2014-02-03 16:04:46 weights INFO  :   TFIC_PPH2: cutoff=2.551, mcc=1.42, accuracy=99.86\n",
        "2014-02-03 16:04:46 weights INFO  :   TFIC_MA: cutoff=3.724, mcc=0.82, accuracy=99.86\n",
        "2014-02-03 16:04:46 weights INFO  :   TFIC_FATHMMC: cutoff=5.573, mcc=13.58, accuracy=99.84\n",
        "2014-02-03 16:04:46 weights INFO  : Saving weights with full state ...\n",
        "\n"
       ]
      },
      {
       "html": [
        "<a href='files/stats/cosmic-5__poly-n.json' target='_blank'>stats/cosmic-5__poly-n.json</a><br>"
       ],
       "metadata": {},
       "output_type": "display_data",
       "text": [
        "/home/cperez/projects/transfic/data/validation/stats/cosmic-5__poly-n.json"
       ]
      },
      {
       "html": [
        "<strong>condel-weights ../pred-list.json tsets/cosmic-5__poly-n -o stats/cosmic-5__poly-n.json -p SIFT,PPH2,MA,FATHMMC,TFIC_SIFT,TFIC_PPH2,TFIC_MA,TFIC_FATHMMC -P 2 -f</strong>"
       ],
       "metadata": {},
       "output_type": "display_data",
       "text": [
        "<IPython.core.display.HTML at 0x42d4b10>"
       ]
      },
      {
       "output_type": "stream",
       "stream": "stdout",
       "text": [
        "2014-02-03 15:57:20 weights INFO  : Loading ranges from pred-list.json ...\n",
        "2014-02-03 15:57:20 weights INFO  : Reading training sets tsets/cosmic-5__poly-n ...\n",
        "2014-02-03 15:57:47 weights INFO  :   positive=467, negative=20160\n",
        "2014-02-03 15:57:47 weights INFO  : Calculating cumulative distribution ...\n",
        "2014-02-03 15:57:47 weights INFO  :   SIFT: cump=428, cumn=19519\n",
        "2014-02-03 15:57:47 weights INFO  :   PPH2: cump=440, cumn=19959\n",
        "2014-02-03 15:57:47 weights INFO  :   MA: cump=438, cumn=19796\n",
        "2014-02-03 15:57:47 weights INFO  :   FATHMMC: cump=280, cumn=12623\n",
        "2014-02-03 15:57:47 weights INFO  :   TFIC_SIFT: cump=379, cumn=17070\n",
        "2014-02-03 15:57:47 weights INFO  :   TFIC_PPH2: cump=404, cumn=17455\n",
        "2014-02-03 15:57:47 weights INFO  :   TFIC_MA: cump=347, cumn=13967\n",
        "2014-02-03 15:57:47 weights INFO  :   TFIC_FATHMMC: cump=205, cumn=6834\n",
        "2014-02-03 15:57:47 weights INFO  : Calculating accuracy and cutoff ...\n",
        "2014-02-03 15:57:47 weights INFO  :   SIFT: cutoff=0.990, mcc=12.96, accuracy=91.47\n",
        "2014-02-03 15:57:47 weights INFO  :   PPH2: cutoff=0.840, mcc=14.53, accuracy=93.57\n",
        "2014-02-03 15:57:47 weights INFO  :   MA: cutoff=2.395, mcc=11.61, accuracy=97.83\n",
        "2014-02-03 15:57:47 weights INFO  :   FATHMMC: cutoff=4.950, mcc=35.30, accuracy=98.10\n",
        "2014-02-03 15:57:47 weights INFO  :   TFIC_SIFT: cutoff=0.996, mcc=14.87, accuracy=97.83\n",
        "2014-02-03 15:57:47 weights INFO  :   TFIC_PPH2: cutoff=0.781, mcc=16.73, accuracy=97.77\n",
        "2014-02-03 15:57:47 weights INFO  :   TFIC_MA: cutoff=1.684, mcc=17.14, accuracy=97.58\n",
        "2014-02-03 15:57:47 weights INFO  :   TFIC_FATHMMC: cutoff=2.923, mcc=34.65, accuracy=97.41\n",
        "2014-02-03 15:57:47 weights INFO  : Saving weights with full state ...\n",
        "\n"
       ]
      },
      {
       "html": [
        "<a href='files/stats/cosmic-CGC__cosmic-nonCGC.json' target='_blank'>stats/cosmic-CGC__cosmic-nonCGC.json</a><br>"
       ],
       "metadata": {},
       "output_type": "display_data",
       "text": [
        "/home/cperez/projects/transfic/data/validation/stats/cosmic-CGC__cosmic-nonCGC.json"
       ]
      },
      {
       "html": [
        "<strong>condel-weights ../pred-list.json tsets/cosmic-CGC__cosmic-nonCGC -o stats/cosmic-CGC__cosmic-nonCGC.json -p SIFT,PPH2,MA,FATHMMC,TFIC_SIFT,TFIC_PPH2,TFIC_MA,TFIC_FATHMMC -P 2 -f</strong>"
       ],
       "metadata": {},
       "output_type": "display_data",
       "text": [
        "<IPython.core.display.HTML at 0x42d4b10>"
       ]
      },
      {
       "output_type": "stream",
       "stream": "stdout",
       "text": [
        "2014-02-03 15:57:48 weights INFO  : Loading ranges from pred-list.json ...\n",
        "2014-02-03 15:57:48 weights INFO  : Reading training sets tsets/cosmic-CGC__cosmic-nonCGC ...\n",
        "2014-02-03 16:03:32 weights INFO  :   positive=13722, negative=334978\n",
        "2014-02-03 16:03:32 weights INFO  : Calculating cumulative distribution ...\n",
        "2014-02-03 16:03:32 weights INFO  :   SIFT: cump=12762, cumn=318902\n",
        "2014-02-03 16:03:32 weights INFO  :   PPH2: cump=13492, cumn=319487\n",
        "2014-02-03 16:03:32 weights INFO  :   MA: cump=13597, cumn=328005\n",
        "2014-02-03 16:03:32 weights INFO  :   FATHMMC: cump=8975, cumn=199343\n",
        "2014-02-03 16:03:32 weights INFO  :   TFIC_SIFT: cump=12495, cumn=283968\n",
        "2014-02-03 16:03:32 weights INFO  :   TFIC_PPH2: cump=13350, cumn=285083\n",
        "2014-02-03 16:03:32 weights INFO  :   TFIC_MA: cump=8864, cumn=235471\n",
        "2014-02-03 16:03:32 weights INFO  :   TFIC_FATHMMC: cump=6526, cumn=126276\n",
        "2014-02-03 16:03:32 weights INFO  : Calculating accuracy and cutoff ...\n",
        "2014-02-03 16:03:32 weights INFO  :   SIFT: cutoff=0.990, mcc=1.52, accuracy=73.26\n",
        "2014-02-03 16:03:32 weights INFO  :   PPH2: cutoff=0.890, mcc=2.02, accuracy=76.88\n",
        "2014-02-03 16:03:32 weights INFO  :   MA: cutoff=0.875, mcc=0.96, accuracy=96.02\n",
        "2014-02-03 16:03:32 weights INFO  :   FATHMMC: cutoff=0.390, mcc=23.08, accuracy=95.80\n",
        "2014-02-03 16:03:32 weights INFO  :   TFIC_SIFT: cutoff=1.256, mcc=4.96, accuracy=95.78\n",
        "2014-02-03 16:03:32 weights INFO  :   TFIC_PPH2: cutoff=2.011, mcc=5.65, accuracy=95.53\n",
        "2014-02-03 16:03:32 weights INFO  :   TFIC_MA: cutoff=2.914, mcc=4.17, accuracy=96.37\n",
        "2014-02-03 16:03:32 weights INFO  :   TFIC_FATHMMC: cutoff=3.423, mcc=14.25, accuracy=95.13\n",
        "2014-02-03 16:03:32 weights INFO  : Saving weights with full state ...\n",
        "\n"
       ]
      },
      {
       "html": [
        "<a href='files/stats/cosmic-D__cosmic-O.json' target='_blank'>stats/cosmic-D__cosmic-O.json</a><br>"
       ],
       "metadata": {},
       "output_type": "display_data",
       "text": [
        "/home/cperez/projects/transfic/data/validation/stats/cosmic-D__cosmic-O.json"
       ]
      },
      {
       "html": [
        "<strong>condel-weights ../pred-list.json tsets/cosmic-D__cosmic-O -o stats/cosmic-D__cosmic-O.json -p SIFT,PPH2,MA,FATHMMC,TFIC_SIFT,TFIC_PPH2,TFIC_MA,TFIC_FATHMMC -P 2 -f</strong>"
       ],
       "metadata": {},
       "output_type": "display_data",
       "text": [
        "<IPython.core.display.HTML at 0x42d4b10>"
       ]
      },
      {
       "output_type": "stream",
       "stream": "stdout",
       "text": [
        "2014-02-03 16:03:33 weights INFO  : Loading ranges from pred-list.json ...\n",
        "2014-02-03 16:03:33 weights INFO  : Reading training sets tsets/cosmic-D__cosmic-O ...\n",
        "2014-02-03 16:10:53 weights INFO  :   positive=5439, negative=342210\n",
        "2014-02-03 16:10:53 weights INFO  : Calculating cumulative distribution ...\n",
        "2014-02-03 16:10:53 weights INFO  :   SIFT: cump=4802, cumn=325880\n",
        "2014-02-03 16:10:53 weights INFO  :   PPH2: cump=5373, cumn=326604\n",
        "2014-02-03 16:10:53 weights INFO  :   MA: cump=5417, cumn=335147\n",
        "2014-02-03 16:10:53 weights INFO  :   FATHMMC: cump=3911, cumn=203782\n",
        "2014-02-03 16:10:53 weights INFO  :   TFIC_SIFT: cump=4712, cumn=290814\n",
        "2014-02-03 16:10:53 weights INFO  :   TFIC_PPH2: cump=5373, cumn=292097\n",
        "2014-02-03 16:10:53 weights INFO  :   TFIC_MA: cump=3703, cumn=239856\n",
        "2014-02-03 16:10:53 weights INFO  :   TFIC_FATHMMC: cump=3481, cumn=128928\n",
        "2014-02-03 16:10:53 weights INFO  : Calculating accuracy and cutoff ...\n",
        "2014-02-03 16:10:53 weights INFO  :   SIFT: cutoff=0.990, mcc=2.75, accuracy=74.48\n",
        "2014-02-03 16:10:53 weights INFO  :   PPH2: cutoff=0.910, mcc=2.52, accuracy=78.26\n",
        "2014-02-03 16:10:53 weights INFO  :   MA: cutoff=1.945, mcc=1.83, accuracy=98.41\n",
        "2014-02-03 16:10:53 weights INFO  :   FATHMMC: cutoff=3.080, mcc=32.79, accuracy=98.20\n",
        "2014-02-03 16:10:53 weights INFO  :   TFIC_SIFT: cutoff=1.286, mcc=6.08, accuracy=98.40\n",
        "2014-02-03 16:10:53 weights INFO  :   TFIC_PPH2: cutoff=2.101, mcc=5.65, accuracy=98.19\n",
        "2014-02-03 16:10:53 weights INFO  :   TFIC_MA: cutoff=0.684, mcc=4.00, accuracy=98.48\n",
        "2014-02-03 16:10:53 weights INFO  :   TFIC_FATHMMC: cutoff=3.573, mcc=16.03, accuracy=97.37\n",
        "2014-02-03 16:10:53 weights INFO  : Saving weights with full state ...\n",
        "\n"
       ]
      },
      {
       "html": [
        "<a href='files/stats/wg-2__wg-1.json' target='_blank'>stats/wg-2__wg-1.json</a><br>"
       ],
       "metadata": {},
       "output_type": "display_data",
       "text": [
        "/home/cperez/projects/transfic/data/validation/stats/wg-2__wg-1.json"
       ]
      },
      {
       "html": [
        "<strong>condel-weights ../pred-list.json tsets/wg-2__wg-1 -o stats/wg-2__wg-1.json -p SIFT,PPH2,MA,FATHMMC,TFIC_SIFT,TFIC_PPH2,TFIC_MA,TFIC_FATHMMC -P 2 -f</strong>"
       ],
       "metadata": {},
       "output_type": "display_data",
       "text": [
        "<IPython.core.display.HTML at 0x42d4b10>"
       ]
      },
      {
       "output_type": "stream",
       "stream": "stdout",
       "text": [
        "2014-02-03 16:03:56 weights INFO  : Loading ranges from pred-list.json ...\n",
        "2014-02-03 16:03:56 weights INFO  : Reading training sets tsets/wg-2__wg-1 ...\n",
        "2014-02-03 16:29:23 weights INFO  :   positive=18100, negative=1305006\n",
        "2014-02-03 16:29:23 weights INFO  : Calculating cumulative distribution ...\n",
        "2014-02-03 16:29:23 weights INFO  :   SIFT: cump=17156, cumn=1241569\n",
        "2014-02-03 16:29:23 weights INFO  :   PPH2: cump=15447, cumn=1101544\n",
        "2014-02-03 16:29:23 weights INFO  :   MA: cump=17710, cumn=1284424\n",
        "2014-02-03 16:29:23 weights INFO  :   FATHMMC: cump=10944, cumn=734617\n",
        "2014-02-03 16:29:23 weights INFO  :   TFIC_SIFT: cump=15600, cumn=1127907\n",
        "2014-02-03 16:29:23 weights INFO  :   TFIC_PPH2: cump=14204, cumn=1002880\n",
        "2014-02-03 16:29:23 weights INFO  :   TFIC_MA: cump=13167, cumn=920183\n",
        "2014-02-03 16:29:23 weights INFO  :   TFIC_FATHMMC: cump=7230, cumn=469349\n",
        "2014-02-03 16:29:23 weights INFO  : Calculating accuracy and cutoff ...\n",
        "2014-02-03 16:29:23 weights INFO  :   SIFT: cutoff=0.990, mcc=1.53, accuracy=73.81\n",
        "2014-02-03 16:29:23 weights INFO  :   PPH2: cutoff=0.990, mcc=1.12, accuracy=77.36\n",
        "2014-02-03 16:29:23 weights INFO  :   MA: cutoff=2.145, mcc=1.55, accuracy=98.64\n",
        "2014-02-03 16:29:23 weights INFO  :   FATHMMC: cutoff=6.830, mcc=12.29, accuracy=98.53\n",
        "2014-02-03 16:29:23 weights INFO  :   TFIC_SIFT: cutoff=1.286, mcc=1.79, accuracy=98.63\n",
        "2014-02-03 16:29:23 weights INFO  :   TFIC_PPH2: cutoff=1.611, mcc=1.22, accuracy=98.60\n",
        "2014-02-03 16:29:23 weights INFO  :   TFIC_MA: cutoff=1.044, mcc=1.55, accuracy=98.59\n",
        "2014-02-03 16:29:23 weights INFO  :   TFIC_FATHMMC: cutoff=5.573, mcc=15.16, accuracy=98.48\n",
        "2014-02-03 16:29:23 weights INFO  : Saving weights with full state ...\n",
        "\n"
       ]
      },
      {
       "html": [
        "<a href='files/stats/wg-3__wg-1.json' target='_blank'>stats/wg-3__wg-1.json</a><br>"
       ],
       "metadata": {},
       "output_type": "display_data",
       "text": [
        "/home/cperez/projects/transfic/data/validation/stats/wg-3__wg-1.json"
       ]
      },
      {
       "html": [
        "<strong>condel-weights ../pred-list.json tsets/wg-3__wg-1 -o stats/wg-3__wg-1.json -p SIFT,PPH2,MA,FATHMMC,TFIC_SIFT,TFIC_PPH2,TFIC_MA,TFIC_FATHMMC -P 2 -f</strong>"
       ],
       "metadata": {},
       "output_type": "display_data",
       "text": [
        "<IPython.core.display.HTML at 0x42d4b10>"
       ]
      },
      {
       "output_type": "stream",
       "stream": "stdout",
       "text": [
        "2014-02-03 16:04:05 weights INFO  : Loading ranges from pred-list.json ...\n",
        "2014-02-03 16:04:05 weights INFO  : Reading training sets tsets/wg-3__wg-1 ...\n",
        "2014-02-03 16:25:50 weights INFO  :   positive=5708, negative=1305006\n",
        "2014-02-03 16:25:50 weights INFO  : Calculating cumulative distribution ...\n",
        "2014-02-03 16:25:50 weights INFO  :   SIFT: cump=5406, cumn=1241569\n",
        "2014-02-03 16:25:50 weights INFO  :   PPH2: cump=4845, cumn=1101544\n",
        "2014-02-03 16:25:50 weights INFO  :   MA: cump=5541, cumn=1284424\n",
        "2014-02-03 16:25:50 weights INFO  :   FATHMMC: cump=3555, cumn=734617\n",
        "2014-02-03 16:25:50 weights INFO  :   TFIC_SIFT: cump=4966, cumn=1127907\n",
        "2014-02-03 16:25:50 weights INFO  :   TFIC_PPH2: cump=4526, cumn=1002880\n",
        "2014-02-03 16:25:50 weights INFO  :   TFIC_MA: cump=4367, cumn=920183\n",
        "2014-02-03 16:25:50 weights INFO  :   TFIC_FATHMMC: cump=2497, cumn=469349\n",
        "2014-02-03 16:25:50 weights INFO  : Calculating accuracy and cutoff ...\n",
        "2014-02-03 16:25:50 weights INFO  :   SIFT: cutoff=0.990, mcc=2.16, accuracy=74.24\n",
        "2014-02-03 16:25:50 weights INFO  :   PPH2: cutoff=0.990, mcc=1.44, accuracy=77.88\n",
        "2014-02-03 16:25:50 weights INFO  :   MA: cutoff=2.435, mcc=2.24, accuracy=99.57\n",
        "2014-02-03 16:25:50 weights INFO  :   FATHMMC: cutoff=6.830, mcc=20.93, accuracy=99.52\n",
        "2014-02-03 16:25:50 weights INFO  :   TFIC_SIFT: cutoff=1.286, mcc=2.95, accuracy=99.55\n",
        "2014-02-03 16:25:50 weights INFO  :   TFIC_PPH2: cutoff=1.861, mcc=2.02, accuracy=99.55\n",
        "2014-02-03 16:25:50 weights INFO  :   TFIC_MA: cutoff=1.044, mcc=2.50, accuracy=99.53\n",
        "2014-02-03 16:25:50 weights INFO  :   TFIC_FATHMMC: cutoff=5.573, mcc=25.73, accuracy=99.47\n",
        "2014-02-03 16:25:50 weights INFO  : Saving weights with full state ...\n",
        "\n"
       ]
      },
      {
       "html": [
        "<a href='files/stats/wg-4__wg-1.json' target='_blank'>stats/wg-4__wg-1.json</a><br>"
       ],
       "metadata": {},
       "output_type": "display_data",
       "text": [
        "/home/cperez/projects/transfic/data/validation/stats/wg-4__wg-1.json"
       ]
      },
      {
       "html": [
        "<strong>condel-weights ../pred-list.json tsets/wg-4__wg-1 -o stats/wg-4__wg-1.json -p SIFT,PPH2,MA,FATHMMC,TFIC_SIFT,TFIC_PPH2,TFIC_MA,TFIC_FATHMMC -P 2 -f</strong>"
       ],
       "metadata": {},
       "output_type": "display_data",
       "text": [
        "<IPython.core.display.HTML at 0x42d4b10>"
       ]
      },
      {
       "output_type": "stream",
       "stream": "stdout",
       "text": [
        "2014-02-03 16:04:22 weights INFO  : Loading ranges from pred-list.json ...\n",
        "2014-02-03 16:04:22 weights INFO  : Reading training sets tsets/wg-4__wg-1 ...\n",
        "2014-02-03 16:30:17 weights INFO  :   positive=1623, negative=1305006\n",
        "2014-02-03 16:30:17 weights INFO  : Calculating cumulative distribution ...\n",
        "2014-02-03 16:30:17 weights INFO  :   SIFT: cump=1554, cumn=1241569\n",
        "2014-02-03 16:30:17 weights INFO  :   PPH2: cump=1380, cumn=1101544\n",
        "2014-02-03 16:30:17 weights INFO  :   MA: cump=1566, cumn=1284424\n",
        "2014-02-03 16:30:17 weights INFO  :   FATHMMC: cump=1025, cumn=734617\n",
        "2014-02-03 16:30:17 weights INFO  :   TFIC_SIFT: cump=1439, cumn=1127907\n",
        "2014-02-03 16:30:17 weights INFO  :   TFIC_PPH2: cump=1303, cumn=1002880\n",
        "2014-02-03 16:30:17 weights INFO  :   TFIC_MA: cump=1283, cumn=920183\n",
        "2014-02-03 16:30:17 weights INFO  :   TFIC_FATHMMC: cump=782, cumn=469349\n",
        "2014-02-03 16:30:17 weights INFO  : Calculating accuracy and cutoff ...\n",
        "2014-02-03 16:30:17 weights INFO  :   SIFT: cutoff=0.990, mcc=1.70, accuracy=74.36\n",
        "2014-02-03 16:30:17 weights INFO  :   PPH2: cutoff=0.990, mcc=1.33, accuracy=78.03\n",
        "2014-02-03 16:30:17 weights INFO  :   MA: cutoff=2.275, mcc=1.85, accuracy=99.88\n",
        "2014-02-03 16:30:17 weights INFO  :   FATHMMC: cutoff=6.830, mcc=19.27, accuracy=99.86\n",
        "2014-02-03 16:30:17 weights INFO  :   TFIC_SIFT: cutoff=1.286, mcc=2.38, accuracy=99.87\n",
        "2014-02-03 16:30:17 weights INFO  :   TFIC_PPH2: cutoff=2.551, mcc=1.88, accuracy=99.87\n",
        "2014-02-03 16:30:17 weights INFO  :   TFIC_MA: cutoff=1.044, mcc=1.98, accuracy=99.86\n",
        "2014-02-03 16:30:17 weights INFO  :   TFIC_FATHMMC: cutoff=5.573, mcc=22.90, accuracy=99.83\n",
        "2014-02-03 16:30:17 weights INFO  : Saving weights with full state ...\n",
        "\n"
       ]
      },
      {
       "html": [
        "<a href='files/stats/wg-5__wg-1.json' target='_blank'>stats/wg-5__wg-1.json</a><br>"
       ],
       "metadata": {},
       "output_type": "display_data",
       "text": [
        "/home/cperez/projects/transfic/data/validation/stats/wg-5__wg-1.json"
       ]
      },
      {
       "html": [
        "<strong>condel-weights ../pred-list.json tsets/wg-5__wg-1 -o stats/wg-5__wg-1.json -p SIFT,PPH2,MA,FATHMMC,TFIC_SIFT,TFIC_PPH2,TFIC_MA,TFIC_FATHMMC -P 2 -f</strong>"
       ],
       "metadata": {},
       "output_type": "display_data",
       "text": [
        "<IPython.core.display.HTML at 0x42d4b10>"
       ]
      },
      {
       "output_type": "stream",
       "stream": "stdout",
       "text": [
        "2014-02-03 16:04:46 weights INFO  : Loading ranges from pred-list.json ...\n",
        "2014-02-03 16:04:46 weights INFO  : Reading training sets tsets/wg-5__wg-1 ...\n",
        "2014-02-03 16:32:25 weights INFO  :   positive=968, negative=1305006\n",
        "2014-02-03 16:32:25 weights INFO  : Calculating cumulative distribution ...\n",
        "2014-02-03 16:32:25 weights INFO  :   SIFT: cump=946, cumn=1241569\n",
        "2014-02-03 16:32:25 weights INFO  :   PPH2: cump=819, cumn=1101544\n",
        "2014-02-03 16:32:25 weights INFO  :   MA: cump=919, cumn=1284424\n",
        "2014-02-03 16:32:25 weights INFO  :   FATHMMC: cump=615, cumn=734617\n",
        "2014-02-03 16:32:25 weights INFO  :   TFIC_SIFT: cump=876, cumn=1127907\n",
        "2014-02-03 16:32:25 weights INFO  :   TFIC_PPH2: cump=772, cumn=1002880\n",
        "2014-02-03 16:32:25 weights INFO  :   TFIC_MA: cump=770, cumn=920183\n",
        "2014-02-03 16:32:25 weights INFO  :   TFIC_FATHMMC: cump=476, cumn=469349\n",
        "2014-02-03 16:32:25 weights INFO  : Calculating accuracy and cutoff ...\n",
        "2014-02-03 16:32:25 weights INFO  :   SIFT: cutoff=0.990, mcc=1.55, accuracy=74.37\n",
        "2014-02-03 16:32:25 weights INFO  :   PPH2: cutoff=0.990, mcc=1.38, accuracy=78.06\n",
        "2014-02-03 16:32:25 weights INFO  :   MA: cutoff=2.415, mcc=1.85, accuracy=99.93\n",
        "2014-02-03 16:32:25 weights INFO  :   FATHMMC: cutoff=6.830, mcc=18.96, accuracy=99.91\n",
        "2014-02-03 16:32:25 weights INFO  :   TFIC_SIFT: cutoff=1.286, mcc=2.22, accuracy=99.92\n",
        "2014-02-03 16:32:25 weights INFO  :   TFIC_PPH2: cutoff=2.551, mcc=1.99, accuracy=99.92\n",
        "2014-02-03 16:32:26 weights INFO  :   TFIC_MA: cutoff=1.044, mcc=2.07, accuracy=99.92\n",
        "2014-02-03 16:32:26 weights INFO  :   TFIC_FATHMMC: cutoff=5.573, mcc=22.35, accuracy=99.90\n",
        "2014-02-03 16:32:26 weights INFO  : Saving weights with full state ...\n",
        "\n"
       ]
      },
      {
       "html": [
        "<a href='files/stats/wg-CGC__wg-nonCGC.json' target='_blank'>stats/wg-CGC__wg-nonCGC.json</a><br>"
       ],
       "metadata": {},
       "output_type": "display_data",
       "text": [
        "/home/cperez/projects/transfic/data/validation/stats/wg-CGC__wg-nonCGC.json"
       ]
      },
      {
       "html": [
        "<strong>condel-weights ../pred-list.json tsets/wg-CGC__wg-nonCGC -o stats/wg-CGC__wg-nonCGC.json -p SIFT,PPH2,MA,FATHMMC,TFIC_SIFT,TFIC_PPH2,TFIC_MA,TFIC_FATHMMC -P 2 -f</strong>"
       ],
       "metadata": {},
       "output_type": "display_data",
       "text": [
        "<IPython.core.display.HTML at 0x42d4b10>"
       ]
      },
      {
       "output_type": "stream",
       "stream": "stdout",
       "text": [
        "2014-02-03 16:10:53 weights INFO  : Loading ranges from pred-list.json ...\n",
        "2014-02-03 16:10:53 weights INFO  : Reading training sets tsets/wg-CGC__wg-nonCGC ...\n",
        "2014-02-03 16:34:44 weights INFO  :   positive=254, negative=1273524\n",
        "2014-02-03 16:34:44 weights INFO  : Calculating cumulative distribution ...\n",
        "2014-02-03 16:34:44 weights INFO  :   SIFT: cump=254, cumn=1211504\n",
        "2014-02-03 16:34:44 weights INFO  :   PPH2: cump=200, cumn=1074584\n",
        "2014-02-03 16:34:44 weights INFO  :   MA: cump=254, cumn=1253395\n",
        "2014-02-03 16:34:44 weights INFO  :   FATHMMC: cump=254, cumn=712014\n",
        "2014-02-03 16:34:44 weights INFO  :   TFIC_SIFT: cump=254, cumn=1096236\n",
        "2014-02-03 16:34:44 weights INFO  :   TFIC_PPH2: cump=200, cumn=974352\n",
        "2014-02-03 16:34:44 weights INFO  :   TFIC_MA: cump=254, cumn=900946\n",
        "2014-02-03 16:34:44 weights INFO  :   TFIC_FATHMMC: cump=254, cumn=451390\n",
        "2014-02-03 16:34:44 weights INFO  : Calculating accuracy and cutoff ...\n",
        "2014-02-03 16:34:44 weights INFO  :   SIFT: cutoff=0.660, mcc=0.00, accuracy=74.59\n",
        "2014-02-03 16:34:44 weights INFO  :   PPH2: cutoff=0.010, mcc=0.17, accuracy=78.25\n",
        "2014-02-03 16:34:44 weights INFO  :   MA: cutoff=1.495, mcc=0.25, accuracy=99.98\n",
        "2014-02-03 16:34:44 weights INFO  :   FATHMMC: cutoff=-2.990, mcc=0.97, accuracy=99.96\n",
        "2014-02-03 16:34:44 weights INFO  :   TFIC_SIFT: cutoff=1.296, mcc=0.60, accuracy=99.97\n",
        "2014-02-03 16:34:44 weights INFO  :   TFIC_PPH2: cutoff=-1.299, mcc=0.28, accuracy=99.98\n",
        "2014-02-03 16:34:44 weights INFO  :   TFIC_MA: cutoff=-1.806, mcc=0.21, accuracy=99.97\n",
        "2014-02-03 16:34:44 weights INFO  :   TFIC_FATHMMC: cutoff=3.593, mcc=1.69, accuracy=99.94\n",
        "2014-02-03 16:34:44 weights INFO  : Saving weights with full state ...\n",
        "\n"
       ]
      }
     ],
     "prompt_number": 86
    },
    {
     "cell_type": "heading",
     "level": 2,
     "metadata": {},
     "source": [
      "Plot training sets statistics"
     ]
    },
    {
     "cell_type": "code",
     "collapsed": false,
     "input": [
      "results = []\n",
      "for in_path in sorted(glob(\"tsets/*\")):\n",
      "    in_basename = os.path.basename(in_path)\n",
      "    out_path = os.path.join(\"images\", \"stats-orig-{}.png\".format(in_basename))\n",
      "    cmd = \"condel-plot-stats -p {} stats/{}.json -o {} -W 12\".format(ORIG_PREDICTORS, in_basename, out_path)\n",
      "    results += [(cmd, out_path, lb.apply_async(check_output, cmd, stderr=STDOUT, shell=True))]\n",
      "    \n",
      "    out_path = os.path.join(\"images\", \"stats-tfic-{}.png\".format(in_basename))\n",
      "    cmd = \"condel-plot-stats -p {} stats/{}.json -o {} -W 12\".format(TFIC_PREDICTORS, in_basename, out_path)\n",
      "    results += [(cmd, out_path, lb.apply_async(check_output, cmd, stderr=STDOUT, shell=True))]\n",
      "    \n",
      "    for pred in ORIG_PREDICTORS.split(\",\"):\n",
      "        out_path = os.path.join(\"images\", \"stats-pred-{}-{}.png\".format(pred, in_basename))\n",
      "        cmd = \"condel-plot-stats -p {0},TFIC_{0} stats/{1}.json -o {2}\".format(pred, in_basename, out_path)\n",
      "        results += [(cmd, out_path, lb.apply_async(check_output, cmd, stderr=STDOUT, shell=True))]\n",
      "\n",
      "for cmd, out_path, ar in results:\n",
      "        ar.wait()\n",
      "        display(FileLink(out_path))"
     ],
     "language": "python",
     "metadata": {},
     "outputs": [
      {
       "html": [
        "<a href='files/images/stats-orig-cosmic-2__cosmic-1.png' target='_blank'>images/stats-orig-cosmic-2__cosmic-1.png</a><br>"
       ],
       "metadata": {},
       "output_type": "display_data",
       "text": [
        "/home/cperez/projects/transfic/data/validation/images/stats-orig-cosmic-2__cosmic-1.png"
       ]
      },
      {
       "html": [
        "<a href='files/images/stats-tfic-cosmic-2__cosmic-1.png' target='_blank'>images/stats-tfic-cosmic-2__cosmic-1.png</a><br>"
       ],
       "metadata": {},
       "output_type": "display_data",
       "text": [
        "/home/cperez/projects/transfic/data/validation/images/stats-tfic-cosmic-2__cosmic-1.png"
       ]
      },
      {
       "html": [
        "<a href='files/images/stats-pred-SIFT-cosmic-2__cosmic-1.png' target='_blank'>images/stats-pred-SIFT-cosmic-2__cosmic-1.png</a><br>"
       ],
       "metadata": {},
       "output_type": "display_data",
       "text": [
        "/home/cperez/projects/transfic/data/validation/images/stats-pred-SIFT-cosmic-2__cosmic-1.png"
       ]
      },
      {
       "html": [
        "<a href='files/images/stats-pred-PPH2-cosmic-2__cosmic-1.png' target='_blank'>images/stats-pred-PPH2-cosmic-2__cosmic-1.png</a><br>"
       ],
       "metadata": {},
       "output_type": "display_data",
       "text": [
        "/home/cperez/projects/transfic/data/validation/images/stats-pred-PPH2-cosmic-2__cosmic-1.png"
       ]
      },
      {
       "html": [
        "<a href='files/images/stats-pred-MA-cosmic-2__cosmic-1.png' target='_blank'>images/stats-pred-MA-cosmic-2__cosmic-1.png</a><br>"
       ],
       "metadata": {},
       "output_type": "display_data",
       "text": [
        "/home/cperez/projects/transfic/data/validation/images/stats-pred-MA-cosmic-2__cosmic-1.png"
       ]
      },
      {
       "html": [
        "<a href='files/images/stats-pred-FATHMMC-cosmic-2__cosmic-1.png' target='_blank'>images/stats-pred-FATHMMC-cosmic-2__cosmic-1.png</a><br>"
       ],
       "metadata": {},
       "output_type": "display_data",
       "text": [
        "/home/cperez/projects/transfic/data/validation/images/stats-pred-FATHMMC-cosmic-2__cosmic-1.png"
       ]
      },
      {
       "html": [
        "<a href='files/images/stats-orig-cosmic-2__poly-n.png' target='_blank'>images/stats-orig-cosmic-2__poly-n.png</a><br>"
       ],
       "metadata": {},
       "output_type": "display_data",
       "text": [
        "/home/cperez/projects/transfic/data/validation/images/stats-orig-cosmic-2__poly-n.png"
       ]
      },
      {
       "html": [
        "<a href='files/images/stats-tfic-cosmic-2__poly-n.png' target='_blank'>images/stats-tfic-cosmic-2__poly-n.png</a><br>"
       ],
       "metadata": {},
       "output_type": "display_data",
       "text": [
        "/home/cperez/projects/transfic/data/validation/images/stats-tfic-cosmic-2__poly-n.png"
       ]
      },
      {
       "html": [
        "<a href='files/images/stats-pred-SIFT-cosmic-2__poly-n.png' target='_blank'>images/stats-pred-SIFT-cosmic-2__poly-n.png</a><br>"
       ],
       "metadata": {},
       "output_type": "display_data",
       "text": [
        "/home/cperez/projects/transfic/data/validation/images/stats-pred-SIFT-cosmic-2__poly-n.png"
       ]
      },
      {
       "html": [
        "<a href='files/images/stats-pred-PPH2-cosmic-2__poly-n.png' target='_blank'>images/stats-pred-PPH2-cosmic-2__poly-n.png</a><br>"
       ],
       "metadata": {},
       "output_type": "display_data",
       "text": [
        "/home/cperez/projects/transfic/data/validation/images/stats-pred-PPH2-cosmic-2__poly-n.png"
       ]
      },
      {
       "html": [
        "<a href='files/images/stats-pred-MA-cosmic-2__poly-n.png' target='_blank'>images/stats-pred-MA-cosmic-2__poly-n.png</a><br>"
       ],
       "metadata": {},
       "output_type": "display_data",
       "text": [
        "/home/cperez/projects/transfic/data/validation/images/stats-pred-MA-cosmic-2__poly-n.png"
       ]
      },
      {
       "html": [
        "<a href='files/images/stats-pred-FATHMMC-cosmic-2__poly-n.png' target='_blank'>images/stats-pred-FATHMMC-cosmic-2__poly-n.png</a><br>"
       ],
       "metadata": {},
       "output_type": "display_data",
       "text": [
        "/home/cperez/projects/transfic/data/validation/images/stats-pred-FATHMMC-cosmic-2__poly-n.png"
       ]
      },
      {
       "html": [
        "<a href='files/images/stats-orig-cosmic-3__cosmic-1.png' target='_blank'>images/stats-orig-cosmic-3__cosmic-1.png</a><br>"
       ],
       "metadata": {},
       "output_type": "display_data",
       "text": [
        "/home/cperez/projects/transfic/data/validation/images/stats-orig-cosmic-3__cosmic-1.png"
       ]
      },
      {
       "html": [
        "<a href='files/images/stats-tfic-cosmic-3__cosmic-1.png' target='_blank'>images/stats-tfic-cosmic-3__cosmic-1.png</a><br>"
       ],
       "metadata": {},
       "output_type": "display_data",
       "text": [
        "/home/cperez/projects/transfic/data/validation/images/stats-tfic-cosmic-3__cosmic-1.png"
       ]
      },
      {
       "html": [
        "<a href='files/images/stats-pred-SIFT-cosmic-3__cosmic-1.png' target='_blank'>images/stats-pred-SIFT-cosmic-3__cosmic-1.png</a><br>"
       ],
       "metadata": {},
       "output_type": "display_data",
       "text": [
        "/home/cperez/projects/transfic/data/validation/images/stats-pred-SIFT-cosmic-3__cosmic-1.png"
       ]
      },
      {
       "html": [
        "<a href='files/images/stats-pred-PPH2-cosmic-3__cosmic-1.png' target='_blank'>images/stats-pred-PPH2-cosmic-3__cosmic-1.png</a><br>"
       ],
       "metadata": {},
       "output_type": "display_data",
       "text": [
        "/home/cperez/projects/transfic/data/validation/images/stats-pred-PPH2-cosmic-3__cosmic-1.png"
       ]
      },
      {
       "html": [
        "<a href='files/images/stats-pred-MA-cosmic-3__cosmic-1.png' target='_blank'>images/stats-pred-MA-cosmic-3__cosmic-1.png</a><br>"
       ],
       "metadata": {},
       "output_type": "display_data",
       "text": [
        "/home/cperez/projects/transfic/data/validation/images/stats-pred-MA-cosmic-3__cosmic-1.png"
       ]
      },
      {
       "html": [
        "<a href='files/images/stats-pred-FATHMMC-cosmic-3__cosmic-1.png' target='_blank'>images/stats-pred-FATHMMC-cosmic-3__cosmic-1.png</a><br>"
       ],
       "metadata": {},
       "output_type": "display_data",
       "text": [
        "/home/cperez/projects/transfic/data/validation/images/stats-pred-FATHMMC-cosmic-3__cosmic-1.png"
       ]
      },
      {
       "html": [
        "<a href='files/images/stats-orig-cosmic-3__poly-n.png' target='_blank'>images/stats-orig-cosmic-3__poly-n.png</a><br>"
       ],
       "metadata": {},
       "output_type": "display_data",
       "text": [
        "/home/cperez/projects/transfic/data/validation/images/stats-orig-cosmic-3__poly-n.png"
       ]
      },
      {
       "html": [
        "<a href='files/images/stats-tfic-cosmic-3__poly-n.png' target='_blank'>images/stats-tfic-cosmic-3__poly-n.png</a><br>"
       ],
       "metadata": {},
       "output_type": "display_data",
       "text": [
        "/home/cperez/projects/transfic/data/validation/images/stats-tfic-cosmic-3__poly-n.png"
       ]
      },
      {
       "html": [
        "<a href='files/images/stats-pred-SIFT-cosmic-3__poly-n.png' target='_blank'>images/stats-pred-SIFT-cosmic-3__poly-n.png</a><br>"
       ],
       "metadata": {},
       "output_type": "display_data",
       "text": [
        "/home/cperez/projects/transfic/data/validation/images/stats-pred-SIFT-cosmic-3__poly-n.png"
       ]
      },
      {
       "html": [
        "<a href='files/images/stats-pred-PPH2-cosmic-3__poly-n.png' target='_blank'>images/stats-pred-PPH2-cosmic-3__poly-n.png</a><br>"
       ],
       "metadata": {},
       "output_type": "display_data",
       "text": [
        "/home/cperez/projects/transfic/data/validation/images/stats-pred-PPH2-cosmic-3__poly-n.png"
       ]
      },
      {
       "html": [
        "<a href='files/images/stats-pred-MA-cosmic-3__poly-n.png' target='_blank'>images/stats-pred-MA-cosmic-3__poly-n.png</a><br>"
       ],
       "metadata": {},
       "output_type": "display_data",
       "text": [
        "/home/cperez/projects/transfic/data/validation/images/stats-pred-MA-cosmic-3__poly-n.png"
       ]
      },
      {
       "html": [
        "<a href='files/images/stats-pred-FATHMMC-cosmic-3__poly-n.png' target='_blank'>images/stats-pred-FATHMMC-cosmic-3__poly-n.png</a><br>"
       ],
       "metadata": {},
       "output_type": "display_data",
       "text": [
        "/home/cperez/projects/transfic/data/validation/images/stats-pred-FATHMMC-cosmic-3__poly-n.png"
       ]
      },
      {
       "html": [
        "<a href='files/images/stats-orig-cosmic-4__cosmic-1.png' target='_blank'>images/stats-orig-cosmic-4__cosmic-1.png</a><br>"
       ],
       "metadata": {},
       "output_type": "display_data",
       "text": [
        "/home/cperez/projects/transfic/data/validation/images/stats-orig-cosmic-4__cosmic-1.png"
       ]
      },
      {
       "html": [
        "<a href='files/images/stats-tfic-cosmic-4__cosmic-1.png' target='_blank'>images/stats-tfic-cosmic-4__cosmic-1.png</a><br>"
       ],
       "metadata": {},
       "output_type": "display_data",
       "text": [
        "/home/cperez/projects/transfic/data/validation/images/stats-tfic-cosmic-4__cosmic-1.png"
       ]
      },
      {
       "html": [
        "<a href='files/images/stats-pred-SIFT-cosmic-4__cosmic-1.png' target='_blank'>images/stats-pred-SIFT-cosmic-4__cosmic-1.png</a><br>"
       ],
       "metadata": {},
       "output_type": "display_data",
       "text": [
        "/home/cperez/projects/transfic/data/validation/images/stats-pred-SIFT-cosmic-4__cosmic-1.png"
       ]
      },
      {
       "html": [
        "<a href='files/images/stats-pred-PPH2-cosmic-4__cosmic-1.png' target='_blank'>images/stats-pred-PPH2-cosmic-4__cosmic-1.png</a><br>"
       ],
       "metadata": {},
       "output_type": "display_data",
       "text": [
        "/home/cperez/projects/transfic/data/validation/images/stats-pred-PPH2-cosmic-4__cosmic-1.png"
       ]
      },
      {
       "html": [
        "<a href='files/images/stats-pred-MA-cosmic-4__cosmic-1.png' target='_blank'>images/stats-pred-MA-cosmic-4__cosmic-1.png</a><br>"
       ],
       "metadata": {},
       "output_type": "display_data",
       "text": [
        "/home/cperez/projects/transfic/data/validation/images/stats-pred-MA-cosmic-4__cosmic-1.png"
       ]
      },
      {
       "html": [
        "<a href='files/images/stats-pred-FATHMMC-cosmic-4__cosmic-1.png' target='_blank'>images/stats-pred-FATHMMC-cosmic-4__cosmic-1.png</a><br>"
       ],
       "metadata": {},
       "output_type": "display_data",
       "text": [
        "/home/cperez/projects/transfic/data/validation/images/stats-pred-FATHMMC-cosmic-4__cosmic-1.png"
       ]
      },
      {
       "html": [
        "<a href='files/images/stats-orig-cosmic-4__poly-n.png' target='_blank'>images/stats-orig-cosmic-4__poly-n.png</a><br>"
       ],
       "metadata": {},
       "output_type": "display_data",
       "text": [
        "/home/cperez/projects/transfic/data/validation/images/stats-orig-cosmic-4__poly-n.png"
       ]
      },
      {
       "html": [
        "<a href='files/images/stats-tfic-cosmic-4__poly-n.png' target='_blank'>images/stats-tfic-cosmic-4__poly-n.png</a><br>"
       ],
       "metadata": {},
       "output_type": "display_data",
       "text": [
        "/home/cperez/projects/transfic/data/validation/images/stats-tfic-cosmic-4__poly-n.png"
       ]
      },
      {
       "html": [
        "<a href='files/images/stats-pred-SIFT-cosmic-4__poly-n.png' target='_blank'>images/stats-pred-SIFT-cosmic-4__poly-n.png</a><br>"
       ],
       "metadata": {},
       "output_type": "display_data",
       "text": [
        "/home/cperez/projects/transfic/data/validation/images/stats-pred-SIFT-cosmic-4__poly-n.png"
       ]
      },
      {
       "html": [
        "<a href='files/images/stats-pred-PPH2-cosmic-4__poly-n.png' target='_blank'>images/stats-pred-PPH2-cosmic-4__poly-n.png</a><br>"
       ],
       "metadata": {},
       "output_type": "display_data",
       "text": [
        "/home/cperez/projects/transfic/data/validation/images/stats-pred-PPH2-cosmic-4__poly-n.png"
       ]
      },
      {
       "html": [
        "<a href='files/images/stats-pred-MA-cosmic-4__poly-n.png' target='_blank'>images/stats-pred-MA-cosmic-4__poly-n.png</a><br>"
       ],
       "metadata": {},
       "output_type": "display_data",
       "text": [
        "/home/cperez/projects/transfic/data/validation/images/stats-pred-MA-cosmic-4__poly-n.png"
       ]
      },
      {
       "html": [
        "<a href='files/images/stats-pred-FATHMMC-cosmic-4__poly-n.png' target='_blank'>images/stats-pred-FATHMMC-cosmic-4__poly-n.png</a><br>"
       ],
       "metadata": {},
       "output_type": "display_data",
       "text": [
        "/home/cperez/projects/transfic/data/validation/images/stats-pred-FATHMMC-cosmic-4__poly-n.png"
       ]
      },
      {
       "html": [
        "<a href='files/images/stats-orig-cosmic-5__cosmic-1.png' target='_blank'>images/stats-orig-cosmic-5__cosmic-1.png</a><br>"
       ],
       "metadata": {},
       "output_type": "display_data",
       "text": [
        "/home/cperez/projects/transfic/data/validation/images/stats-orig-cosmic-5__cosmic-1.png"
       ]
      },
      {
       "html": [
        "<a href='files/images/stats-tfic-cosmic-5__cosmic-1.png' target='_blank'>images/stats-tfic-cosmic-5__cosmic-1.png</a><br>"
       ],
       "metadata": {},
       "output_type": "display_data",
       "text": [
        "/home/cperez/projects/transfic/data/validation/images/stats-tfic-cosmic-5__cosmic-1.png"
       ]
      },
      {
       "html": [
        "<a href='files/images/stats-pred-SIFT-cosmic-5__cosmic-1.png' target='_blank'>images/stats-pred-SIFT-cosmic-5__cosmic-1.png</a><br>"
       ],
       "metadata": {},
       "output_type": "display_data",
       "text": [
        "/home/cperez/projects/transfic/data/validation/images/stats-pred-SIFT-cosmic-5__cosmic-1.png"
       ]
      },
      {
       "html": [
        "<a href='files/images/stats-pred-PPH2-cosmic-5__cosmic-1.png' target='_blank'>images/stats-pred-PPH2-cosmic-5__cosmic-1.png</a><br>"
       ],
       "metadata": {},
       "output_type": "display_data",
       "text": [
        "/home/cperez/projects/transfic/data/validation/images/stats-pred-PPH2-cosmic-5__cosmic-1.png"
       ]
      },
      {
       "html": [
        "<a href='files/images/stats-pred-MA-cosmic-5__cosmic-1.png' target='_blank'>images/stats-pred-MA-cosmic-5__cosmic-1.png</a><br>"
       ],
       "metadata": {},
       "output_type": "display_data",
       "text": [
        "/home/cperez/projects/transfic/data/validation/images/stats-pred-MA-cosmic-5__cosmic-1.png"
       ]
      },
      {
       "html": [
        "<a href='files/images/stats-pred-FATHMMC-cosmic-5__cosmic-1.png' target='_blank'>images/stats-pred-FATHMMC-cosmic-5__cosmic-1.png</a><br>"
       ],
       "metadata": {},
       "output_type": "display_data",
       "text": [
        "/home/cperez/projects/transfic/data/validation/images/stats-pred-FATHMMC-cosmic-5__cosmic-1.png"
       ]
      },
      {
       "html": [
        "<a href='files/images/stats-orig-cosmic-5__poly-n.png' target='_blank'>images/stats-orig-cosmic-5__poly-n.png</a><br>"
       ],
       "metadata": {},
       "output_type": "display_data",
       "text": [
        "/home/cperez/projects/transfic/data/validation/images/stats-orig-cosmic-5__poly-n.png"
       ]
      },
      {
       "html": [
        "<a href='files/images/stats-tfic-cosmic-5__poly-n.png' target='_blank'>images/stats-tfic-cosmic-5__poly-n.png</a><br>"
       ],
       "metadata": {},
       "output_type": "display_data",
       "text": [
        "/home/cperez/projects/transfic/data/validation/images/stats-tfic-cosmic-5__poly-n.png"
       ]
      },
      {
       "html": [
        "<a href='files/images/stats-pred-SIFT-cosmic-5__poly-n.png' target='_blank'>images/stats-pred-SIFT-cosmic-5__poly-n.png</a><br>"
       ],
       "metadata": {},
       "output_type": "display_data",
       "text": [
        "/home/cperez/projects/transfic/data/validation/images/stats-pred-SIFT-cosmic-5__poly-n.png"
       ]
      },
      {
       "html": [
        "<a href='files/images/stats-pred-PPH2-cosmic-5__poly-n.png' target='_blank'>images/stats-pred-PPH2-cosmic-5__poly-n.png</a><br>"
       ],
       "metadata": {},
       "output_type": "display_data",
       "text": [
        "/home/cperez/projects/transfic/data/validation/images/stats-pred-PPH2-cosmic-5__poly-n.png"
       ]
      },
      {
       "html": [
        "<a href='files/images/stats-pred-MA-cosmic-5__poly-n.png' target='_blank'>images/stats-pred-MA-cosmic-5__poly-n.png</a><br>"
       ],
       "metadata": {},
       "output_type": "display_data",
       "text": [
        "/home/cperez/projects/transfic/data/validation/images/stats-pred-MA-cosmic-5__poly-n.png"
       ]
      },
      {
       "html": [
        "<a href='files/images/stats-pred-FATHMMC-cosmic-5__poly-n.png' target='_blank'>images/stats-pred-FATHMMC-cosmic-5__poly-n.png</a><br>"
       ],
       "metadata": {},
       "output_type": "display_data",
       "text": [
        "/home/cperez/projects/transfic/data/validation/images/stats-pred-FATHMMC-cosmic-5__poly-n.png"
       ]
      },
      {
       "html": [
        "<a href='files/images/stats-orig-cosmic-CGC__cosmic-nonCGC.png' target='_blank'>images/stats-orig-cosmic-CGC__cosmic-nonCGC.png</a><br>"
       ],
       "metadata": {},
       "output_type": "display_data",
       "text": [
        "/home/cperez/projects/transfic/data/validation/images/stats-orig-cosmic-CGC__cosmic-nonCGC.png"
       ]
      },
      {
       "html": [
        "<a href='files/images/stats-tfic-cosmic-CGC__cosmic-nonCGC.png' target='_blank'>images/stats-tfic-cosmic-CGC__cosmic-nonCGC.png</a><br>"
       ],
       "metadata": {},
       "output_type": "display_data",
       "text": [
        "/home/cperez/projects/transfic/data/validation/images/stats-tfic-cosmic-CGC__cosmic-nonCGC.png"
       ]
      },
      {
       "html": [
        "<a href='files/images/stats-pred-SIFT-cosmic-CGC__cosmic-nonCGC.png' target='_blank'>images/stats-pred-SIFT-cosmic-CGC__cosmic-nonCGC.png</a><br>"
       ],
       "metadata": {},
       "output_type": "display_data",
       "text": [
        "/home/cperez/projects/transfic/data/validation/images/stats-pred-SIFT-cosmic-CGC__cosmic-nonCGC.png"
       ]
      },
      {
       "html": [
        "<a href='files/images/stats-pred-PPH2-cosmic-CGC__cosmic-nonCGC.png' target='_blank'>images/stats-pred-PPH2-cosmic-CGC__cosmic-nonCGC.png</a><br>"
       ],
       "metadata": {},
       "output_type": "display_data",
       "text": [
        "/home/cperez/projects/transfic/data/validation/images/stats-pred-PPH2-cosmic-CGC__cosmic-nonCGC.png"
       ]
      },
      {
       "html": [
        "<a href='files/images/stats-pred-MA-cosmic-CGC__cosmic-nonCGC.png' target='_blank'>images/stats-pred-MA-cosmic-CGC__cosmic-nonCGC.png</a><br>"
       ],
       "metadata": {},
       "output_type": "display_data",
       "text": [
        "/home/cperez/projects/transfic/data/validation/images/stats-pred-MA-cosmic-CGC__cosmic-nonCGC.png"
       ]
      },
      {
       "html": [
        "<a href='files/images/stats-pred-FATHMMC-cosmic-CGC__cosmic-nonCGC.png' target='_blank'>images/stats-pred-FATHMMC-cosmic-CGC__cosmic-nonCGC.png</a><br>"
       ],
       "metadata": {},
       "output_type": "display_data",
       "text": [
        "/home/cperez/projects/transfic/data/validation/images/stats-pred-FATHMMC-cosmic-CGC__cosmic-nonCGC.png"
       ]
      },
      {
       "html": [
        "<a href='files/images/stats-orig-cosmic-D__cosmic-O.png' target='_blank'>images/stats-orig-cosmic-D__cosmic-O.png</a><br>"
       ],
       "metadata": {},
       "output_type": "display_data",
       "text": [
        "/home/cperez/projects/transfic/data/validation/images/stats-orig-cosmic-D__cosmic-O.png"
       ]
      },
      {
       "html": [
        "<a href='files/images/stats-tfic-cosmic-D__cosmic-O.png' target='_blank'>images/stats-tfic-cosmic-D__cosmic-O.png</a><br>"
       ],
       "metadata": {},
       "output_type": "display_data",
       "text": [
        "/home/cperez/projects/transfic/data/validation/images/stats-tfic-cosmic-D__cosmic-O.png"
       ]
      },
      {
       "html": [
        "<a href='files/images/stats-pred-SIFT-cosmic-D__cosmic-O.png' target='_blank'>images/stats-pred-SIFT-cosmic-D__cosmic-O.png</a><br>"
       ],
       "metadata": {},
       "output_type": "display_data",
       "text": [
        "/home/cperez/projects/transfic/data/validation/images/stats-pred-SIFT-cosmic-D__cosmic-O.png"
       ]
      },
      {
       "html": [
        "<a href='files/images/stats-pred-PPH2-cosmic-D__cosmic-O.png' target='_blank'>images/stats-pred-PPH2-cosmic-D__cosmic-O.png</a><br>"
       ],
       "metadata": {},
       "output_type": "display_data",
       "text": [
        "/home/cperez/projects/transfic/data/validation/images/stats-pred-PPH2-cosmic-D__cosmic-O.png"
       ]
      },
      {
       "html": [
        "<a href='files/images/stats-pred-MA-cosmic-D__cosmic-O.png' target='_blank'>images/stats-pred-MA-cosmic-D__cosmic-O.png</a><br>"
       ],
       "metadata": {},
       "output_type": "display_data",
       "text": [
        "/home/cperez/projects/transfic/data/validation/images/stats-pred-MA-cosmic-D__cosmic-O.png"
       ]
      },
      {
       "html": [
        "<a href='files/images/stats-pred-FATHMMC-cosmic-D__cosmic-O.png' target='_blank'>images/stats-pred-FATHMMC-cosmic-D__cosmic-O.png</a><br>"
       ],
       "metadata": {},
       "output_type": "display_data",
       "text": [
        "/home/cperez/projects/transfic/data/validation/images/stats-pred-FATHMMC-cosmic-D__cosmic-O.png"
       ]
      },
      {
       "html": [
        "<a href='files/images/stats-orig-wg-2__wg-1.png' target='_blank'>images/stats-orig-wg-2__wg-1.png</a><br>"
       ],
       "metadata": {},
       "output_type": "display_data",
       "text": [
        "/home/cperez/projects/transfic/data/validation/images/stats-orig-wg-2__wg-1.png"
       ]
      },
      {
       "html": [
        "<a href='files/images/stats-tfic-wg-2__wg-1.png' target='_blank'>images/stats-tfic-wg-2__wg-1.png</a><br>"
       ],
       "metadata": {},
       "output_type": "display_data",
       "text": [
        "/home/cperez/projects/transfic/data/validation/images/stats-tfic-wg-2__wg-1.png"
       ]
      },
      {
       "html": [
        "<a href='files/images/stats-pred-SIFT-wg-2__wg-1.png' target='_blank'>images/stats-pred-SIFT-wg-2__wg-1.png</a><br>"
       ],
       "metadata": {},
       "output_type": "display_data",
       "text": [
        "/home/cperez/projects/transfic/data/validation/images/stats-pred-SIFT-wg-2__wg-1.png"
       ]
      },
      {
       "html": [
        "<a href='files/images/stats-pred-PPH2-wg-2__wg-1.png' target='_blank'>images/stats-pred-PPH2-wg-2__wg-1.png</a><br>"
       ],
       "metadata": {},
       "output_type": "display_data",
       "text": [
        "/home/cperez/projects/transfic/data/validation/images/stats-pred-PPH2-wg-2__wg-1.png"
       ]
      },
      {
       "html": [
        "<a href='files/images/stats-pred-MA-wg-2__wg-1.png' target='_blank'>images/stats-pred-MA-wg-2__wg-1.png</a><br>"
       ],
       "metadata": {},
       "output_type": "display_data",
       "text": [
        "/home/cperez/projects/transfic/data/validation/images/stats-pred-MA-wg-2__wg-1.png"
       ]
      },
      {
       "html": [
        "<a href='files/images/stats-pred-FATHMMC-wg-2__wg-1.png' target='_blank'>images/stats-pred-FATHMMC-wg-2__wg-1.png</a><br>"
       ],
       "metadata": {},
       "output_type": "display_data",
       "text": [
        "/home/cperez/projects/transfic/data/validation/images/stats-pred-FATHMMC-wg-2__wg-1.png"
       ]
      },
      {
       "html": [
        "<a href='files/images/stats-orig-wg-3__wg-1.png' target='_blank'>images/stats-orig-wg-3__wg-1.png</a><br>"
       ],
       "metadata": {},
       "output_type": "display_data",
       "text": [
        "/home/cperez/projects/transfic/data/validation/images/stats-orig-wg-3__wg-1.png"
       ]
      },
      {
       "html": [
        "<a href='files/images/stats-tfic-wg-3__wg-1.png' target='_blank'>images/stats-tfic-wg-3__wg-1.png</a><br>"
       ],
       "metadata": {},
       "output_type": "display_data",
       "text": [
        "/home/cperez/projects/transfic/data/validation/images/stats-tfic-wg-3__wg-1.png"
       ]
      },
      {
       "html": [
        "<a href='files/images/stats-pred-SIFT-wg-3__wg-1.png' target='_blank'>images/stats-pred-SIFT-wg-3__wg-1.png</a><br>"
       ],
       "metadata": {},
       "output_type": "display_data",
       "text": [
        "/home/cperez/projects/transfic/data/validation/images/stats-pred-SIFT-wg-3__wg-1.png"
       ]
      },
      {
       "html": [
        "<a href='files/images/stats-pred-PPH2-wg-3__wg-1.png' target='_blank'>images/stats-pred-PPH2-wg-3__wg-1.png</a><br>"
       ],
       "metadata": {},
       "output_type": "display_data",
       "text": [
        "/home/cperez/projects/transfic/data/validation/images/stats-pred-PPH2-wg-3__wg-1.png"
       ]
      },
      {
       "html": [
        "<a href='files/images/stats-pred-MA-wg-3__wg-1.png' target='_blank'>images/stats-pred-MA-wg-3__wg-1.png</a><br>"
       ],
       "metadata": {},
       "output_type": "display_data",
       "text": [
        "/home/cperez/projects/transfic/data/validation/images/stats-pred-MA-wg-3__wg-1.png"
       ]
      },
      {
       "html": [
        "<a href='files/images/stats-pred-FATHMMC-wg-3__wg-1.png' target='_blank'>images/stats-pred-FATHMMC-wg-3__wg-1.png</a><br>"
       ],
       "metadata": {},
       "output_type": "display_data",
       "text": [
        "/home/cperez/projects/transfic/data/validation/images/stats-pred-FATHMMC-wg-3__wg-1.png"
       ]
      },
      {
       "html": [
        "<a href='files/images/stats-orig-wg-4__wg-1.png' target='_blank'>images/stats-orig-wg-4__wg-1.png</a><br>"
       ],
       "metadata": {},
       "output_type": "display_data",
       "text": [
        "/home/cperez/projects/transfic/data/validation/images/stats-orig-wg-4__wg-1.png"
       ]
      },
      {
       "html": [
        "<a href='files/images/stats-tfic-wg-4__wg-1.png' target='_blank'>images/stats-tfic-wg-4__wg-1.png</a><br>"
       ],
       "metadata": {},
       "output_type": "display_data",
       "text": [
        "/home/cperez/projects/transfic/data/validation/images/stats-tfic-wg-4__wg-1.png"
       ]
      },
      {
       "html": [
        "<a href='files/images/stats-pred-SIFT-wg-4__wg-1.png' target='_blank'>images/stats-pred-SIFT-wg-4__wg-1.png</a><br>"
       ],
       "metadata": {},
       "output_type": "display_data",
       "text": [
        "/home/cperez/projects/transfic/data/validation/images/stats-pred-SIFT-wg-4__wg-1.png"
       ]
      },
      {
       "html": [
        "<a href='files/images/stats-pred-PPH2-wg-4__wg-1.png' target='_blank'>images/stats-pred-PPH2-wg-4__wg-1.png</a><br>"
       ],
       "metadata": {},
       "output_type": "display_data",
       "text": [
        "/home/cperez/projects/transfic/data/validation/images/stats-pred-PPH2-wg-4__wg-1.png"
       ]
      },
      {
       "html": [
        "<a href='files/images/stats-pred-MA-wg-4__wg-1.png' target='_blank'>images/stats-pred-MA-wg-4__wg-1.png</a><br>"
       ],
       "metadata": {},
       "output_type": "display_data",
       "text": [
        "/home/cperez/projects/transfic/data/validation/images/stats-pred-MA-wg-4__wg-1.png"
       ]
      },
      {
       "html": [
        "<a href='files/images/stats-pred-FATHMMC-wg-4__wg-1.png' target='_blank'>images/stats-pred-FATHMMC-wg-4__wg-1.png</a><br>"
       ],
       "metadata": {},
       "output_type": "display_data",
       "text": [
        "/home/cperez/projects/transfic/data/validation/images/stats-pred-FATHMMC-wg-4__wg-1.png"
       ]
      },
      {
       "html": [
        "<a href='files/images/stats-orig-wg-5__wg-1.png' target='_blank'>images/stats-orig-wg-5__wg-1.png</a><br>"
       ],
       "metadata": {},
       "output_type": "display_data",
       "text": [
        "/home/cperez/projects/transfic/data/validation/images/stats-orig-wg-5__wg-1.png"
       ]
      },
      {
       "html": [
        "<a href='files/images/stats-tfic-wg-5__wg-1.png' target='_blank'>images/stats-tfic-wg-5__wg-1.png</a><br>"
       ],
       "metadata": {},
       "output_type": "display_data",
       "text": [
        "/home/cperez/projects/transfic/data/validation/images/stats-tfic-wg-5__wg-1.png"
       ]
      },
      {
       "html": [
        "<a href='files/images/stats-pred-SIFT-wg-5__wg-1.png' target='_blank'>images/stats-pred-SIFT-wg-5__wg-1.png</a><br>"
       ],
       "metadata": {},
       "output_type": "display_data",
       "text": [
        "/home/cperez/projects/transfic/data/validation/images/stats-pred-SIFT-wg-5__wg-1.png"
       ]
      },
      {
       "html": [
        "<a href='files/images/stats-pred-PPH2-wg-5__wg-1.png' target='_blank'>images/stats-pred-PPH2-wg-5__wg-1.png</a><br>"
       ],
       "metadata": {},
       "output_type": "display_data",
       "text": [
        "/home/cperez/projects/transfic/data/validation/images/stats-pred-PPH2-wg-5__wg-1.png"
       ]
      },
      {
       "html": [
        "<a href='files/images/stats-pred-MA-wg-5__wg-1.png' target='_blank'>images/stats-pred-MA-wg-5__wg-1.png</a><br>"
       ],
       "metadata": {},
       "output_type": "display_data",
       "text": [
        "/home/cperez/projects/transfic/data/validation/images/stats-pred-MA-wg-5__wg-1.png"
       ]
      },
      {
       "html": [
        "<a href='files/images/stats-pred-FATHMMC-wg-5__wg-1.png' target='_blank'>images/stats-pred-FATHMMC-wg-5__wg-1.png</a><br>"
       ],
       "metadata": {},
       "output_type": "display_data",
       "text": [
        "/home/cperez/projects/transfic/data/validation/images/stats-pred-FATHMMC-wg-5__wg-1.png"
       ]
      },
      {
       "html": [
        "<a href='files/images/stats-orig-wg-CGC__wg-nonCGC.png' target='_blank'>images/stats-orig-wg-CGC__wg-nonCGC.png</a><br>"
       ],
       "metadata": {},
       "output_type": "display_data",
       "text": [
        "/home/cperez/projects/transfic/data/validation/images/stats-orig-wg-CGC__wg-nonCGC.png"
       ]
      },
      {
       "html": [
        "<a href='files/images/stats-tfic-wg-CGC__wg-nonCGC.png' target='_blank'>images/stats-tfic-wg-CGC__wg-nonCGC.png</a><br>"
       ],
       "metadata": {},
       "output_type": "display_data",
       "text": [
        "/home/cperez/projects/transfic/data/validation/images/stats-tfic-wg-CGC__wg-nonCGC.png"
       ]
      },
      {
       "html": [
        "<a href='files/images/stats-pred-SIFT-wg-CGC__wg-nonCGC.png' target='_blank'>images/stats-pred-SIFT-wg-CGC__wg-nonCGC.png</a><br>"
       ],
       "metadata": {},
       "output_type": "display_data",
       "text": [
        "/home/cperez/projects/transfic/data/validation/images/stats-pred-SIFT-wg-CGC__wg-nonCGC.png"
       ]
      },
      {
       "html": [
        "<a href='files/images/stats-pred-PPH2-wg-CGC__wg-nonCGC.png' target='_blank'>images/stats-pred-PPH2-wg-CGC__wg-nonCGC.png</a><br>"
       ],
       "metadata": {},
       "output_type": "display_data",
       "text": [
        "/home/cperez/projects/transfic/data/validation/images/stats-pred-PPH2-wg-CGC__wg-nonCGC.png"
       ]
      },
      {
       "html": [
        "<a href='files/images/stats-pred-MA-wg-CGC__wg-nonCGC.png' target='_blank'>images/stats-pred-MA-wg-CGC__wg-nonCGC.png</a><br>"
       ],
       "metadata": {},
       "output_type": "display_data",
       "text": [
        "/home/cperez/projects/transfic/data/validation/images/stats-pred-MA-wg-CGC__wg-nonCGC.png"
       ]
      },
      {
       "html": [
        "<a href='files/images/stats-pred-FATHMMC-wg-CGC__wg-nonCGC.png' target='_blank'>images/stats-pred-FATHMMC-wg-CGC__wg-nonCGC.png</a><br>"
       ],
       "metadata": {},
       "output_type": "display_data",
       "text": [
        "/home/cperez/projects/transfic/data/validation/images/stats-pred-FATHMMC-wg-CGC__wg-nonCGC.png"
       ]
      }
     ],
     "prompt_number": 87
    },
    {
     "cell_type": "heading",
     "level": 2,
     "metadata": {},
     "source": [
      "Plot training sets performance"
     ]
    },
    {
     "cell_type": "code",
     "collapsed": false,
     "input": [
      "cflags = \" \".join([\"-c {0}/TFIC_{0}\".format(p) for p in ORIG_PREDICTORS.split(\",\")])\n",
      "!transfic-perf-plot -o images/perf-cosmic.png -H 14 $cflags stats/cosmic*.json\n",
      "display(FileLink(\"images/perf-cosmic.png\"))\n",
      "display(Image(\"images/perf-cosmic.png\", width=800))\n",
      "!transfic-perf-plot -o images/perf-wg.png -H 7 $cflags stats/wg*.json\n",
      "display(FileLink(\"images/perf-wg.png\"))\n",
      "display(Image(\"images/perf-wg.png\", width=800))"
     ],
     "language": "python",
     "metadata": {},
     "outputs": [
      {
       "output_type": "stream",
       "stream": "stdout",
       "text": [
        "2014-02-03 16:35:52 perf-plot INFO  : cosmic-2__cosmic-1 ...\r\n"
       ]
      },
      {
       "output_type": "stream",
       "stream": "stdout",
       "text": [
        "2014-02-03 16:35:53 perf-plot INFO  : cosmic-2__poly-n ...\r\n"
       ]
      },
      {
       "output_type": "stream",
       "stream": "stdout",
       "text": [
        "2014-02-03 16:35:53 perf-plot INFO  : cosmic-3__cosmic-1 ...\r\n"
       ]
      },
      {
       "output_type": "stream",
       "stream": "stdout",
       "text": [
        "2014-02-03 16:35:53 perf-plot INFO  : cosmic-3__poly-n ...\r\n"
       ]
      },
      {
       "output_type": "stream",
       "stream": "stdout",
       "text": [
        "2014-02-03 16:35:54 perf-plot INFO  : cosmic-4__cosmic-1 ...\r\n"
       ]
      },
      {
       "output_type": "stream",
       "stream": "stdout",
       "text": [
        "2014-02-03 16:35:54 perf-plot INFO  : cosmic-4__poly-n ...\r\n"
       ]
      },
      {
       "output_type": "stream",
       "stream": "stdout",
       "text": [
        "2014-02-03 16:35:54 perf-plot INFO  : cosmic-5__cosmic-1 ...\r\n"
       ]
      },
      {
       "output_type": "stream",
       "stream": "stdout",
       "text": [
        "2014-02-03 16:35:54 perf-plot INFO  : cosmic-5__poly-n ...\r\n"
       ]
      },
      {
       "output_type": "stream",
       "stream": "stdout",
       "text": [
        "2014-02-03 16:35:55 perf-plot INFO  : cosmic-CGC__cosmic-nonCGC ...\r\n"
       ]
      },
      {
       "output_type": "stream",
       "stream": "stdout",
       "text": [
        "2014-02-03 16:35:55 perf-plot INFO  : cosmic-D__cosmic-O ...\r\n"
       ]
      },
      {
       "html": [
        "<a href='files/images/perf-cosmic.png' target='_blank'>images/perf-cosmic.png</a><br>"
       ],
       "metadata": {},
       "output_type": "display_data",
       "text": [
        "/home/cperez/projects/transfic/data/validation/images/perf-cosmic.png"
       ]
      },
      {
       "metadata": {
        "png": {
         "width": 800
        }
       },
       "output_type": "display_data",
       "png": "[encoded data removed]",
       "text": [
        "<IPython.core.display.Image at 0x42d4b90>"
       ]
      },
      {
       "output_type": "stream",
       "stream": "stdout",
       "text": [
        "2014-02-03 16:35:57 perf-plot INFO  : wg-2__wg-1 ...\r\n"
       ]
      },
      {
       "output_type": "stream",
       "stream": "stdout",
       "text": [
        "2014-02-03 16:35:58 perf-plot INFO  : wg-3__wg-1 ...\r\n"
       ]
      },
      {
       "output_type": "stream",
       "stream": "stdout",
       "text": [
        "2014-02-03 16:35:58 perf-plot INFO  : wg-4__wg-1 ...\r\n"
       ]
      },
      {
       "output_type": "stream",
       "stream": "stdout",
       "text": [
        "2014-02-03 16:35:58 perf-plot INFO  : wg-5__wg-1 ...\r\n"
       ]
      },
      {
       "output_type": "stream",
       "stream": "stdout",
       "text": [
        "2014-02-03 16:35:58 perf-plot INFO  : wg-CGC__wg-nonCGC ...\r\n"
       ]
      },
      {
       "html": [
        "<a href='files/images/perf-wg.png' target='_blank'>images/perf-wg.png</a><br>"
       ],
       "metadata": {},
       "output_type": "display_data",
       "text": [
        "/home/cperez/projects/transfic/data/validation/images/perf-wg.png"
       ]
      },
      {
       "metadata": {
        "png": {
         "width": 800
        }
       },
       "output_type": "display_data",
       "png": "[encoded data removed]",
       "text": [
        "<IPython.core.display.Image at 0x42d4a90>"
       ]
      }
     ],
     "prompt_number": 88
    },
    {
     "cell_type": "heading",
     "level": 2,
     "metadata": {},
     "source": [
      "Calculate low-medium and medium-high cutoffs"
     ]
    },
    {
     "cell_type": "markdown",
     "metadata": {},
     "source": [
      "*TODO calc*\n",
      "\n",
      "*TODO plot*"
     ]
    },
    {
     "cell_type": "heading",
     "level": 2,
     "metadata": {},
     "source": [
      "Update the database with the labels"
     ]
    },
    {
     "cell_type": "markdown",
     "metadata": {},
     "source": [
      "*TODO*"
     ]
    }
   ],
   "metadata": {}
  }
 ]
}