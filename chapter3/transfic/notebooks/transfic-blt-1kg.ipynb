{
 "metadata": {
  "name": "",
  "signature": "sha256:f9e248774ea32be5e3acad7b84666dc22b2c5544d9d3fee5b075546e3317a28d"
 },
 "nbformat": 3,
 "nbformat_minor": 0,
 "worksheets": [
  {
   "cells": [
    {
     "cell_type": "heading",
     "level": 1,
     "metadata": {},
     "source": [
      "TransFIC Baseline Tolerance (1kg)"
     ]
    },
    {
     "cell_type": "markdown",
     "metadata": {},
     "source": [
      "This notebook should be run in gencluster."
     ]
    },
    {
     "cell_type": "code",
     "collapsed": false,
     "input": [
      "from IPython.parallel import Client\n",
      "client = Client(profile=\"sge\")"
     ],
     "language": "python",
     "metadata": {},
     "outputs": [],
     "prompt_number": 1
    },
    {
     "cell_type": "code",
     "collapsed": false,
     "input": [
      "dv = client[:]\n",
      "lb = client.load_balanced_view(targets=dv.targets)\n",
      "lb.block = False\n",
      "lb.ordered = False"
     ],
     "language": "python",
     "metadata": {},
     "outputs": [],
     "prompt_number": 2
    },
    {
     "cell_type": "code",
     "collapsed": false,
     "input": [
      "%load_ext autoreload\n",
      "%autoreload 2"
     ],
     "language": "python",
     "metadata": {},
     "outputs": [],
     "prompt_number": 3
    },
    {
     "cell_type": "code",
     "collapsed": false,
     "input": [
      "%%px --local\n",
      "from __future__ import print_function\n",
      "\n",
      "import os\n",
      "from pymongo import MongoClient\n",
      "from ipnb.db.tasks import Task\n",
      "from ipnb.path import clean_path, ensure_path_exists\n",
      "from ipnb.temp import temp_file"
     ],
     "language": "python",
     "metadata": {},
     "outputs": [],
     "prompt_number": 4
    },
    {
     "cell_type": "code",
     "collapsed": false,
     "input": [
      "import shutil\n",
      "from functools import partial\n",
      "from IPython.display import display, FileLink\n",
      "from ipnb.display.tasks import display_task"
     ],
     "language": "python",
     "metadata": {},
     "outputs": [],
     "prompt_number": 12
    },
    {
     "cell_type": "code",
     "collapsed": false,
     "input": [
      "%%px --local\n",
      "\n",
      "SCRATCH_PATH = \"/scratch/cperez/\"\n",
      "TMP_PATH = SCRATCH_PATH + \"tmp\"\n",
      "NBS_PATH = \"/data/users/cperez/notebooks\"\n",
      "WORK_PATH = NBS_PATH + \"/transfic/blt-1kg\"\n",
      "\n",
      "KG_PATH = \"/shared/datasets/...\"\n",
      "\n",
      "CHROMOSOMES = [str(x) for x in range(1, 23)] + [\"X\", \"Y\"]\n",
      "\n",
      "# MongoDB\n",
      "\n",
      "FANNSDB = dict(\n",
      "    uri=\"mongodb://localhost/fanns05\",\n",
      "    url=\"mongodb://localhost\", # deprecated\n",
      "    db=\"fanns05\") # deprecated\n",
      "\n",
      "# Ensembl biomart\n",
      "\n",
      "ENST_PATH = os.path.join(WORK_PATH, \"ensp_enst.map\")\n",
      "UNIPROT_PATH = os.path.join(WORK_PATH, \"ensp_uniprot.map\")\n",
      "\n",
      "PREDICTORS = [\"SIFT\", \"PPH2\", \"MA\", \"FATHMMC\"]\n",
      "TFIC_PREDICTORS = [\"TFIC_\" + p for p in PREDICTORS]\n",
      "ALL_PREDICTORS = PREDICTORS + TFIC_PREDICTORS\n",
      "\n",
      "TRANSFORMS = dict(\n",
      "    SIFT=lambda x: 1.0 - x,\n",
      "    FATHMM=lambda x: -x \n",
      ")"
     ],
     "language": "python",
     "metadata": {},
     "outputs": [],
     "prompt_number": 6
    },
    {
     "cell_type": "code",
     "collapsed": false,
     "input": [
      "ensure_path_exists(WORK_PATH)"
     ],
     "language": "python",
     "metadata": {},
     "outputs": [],
     "prompt_number": 7
    },
    {
     "cell_type": "heading",
     "level": 2,
     "metadata": {},
     "source": [
      "Download external data"
     ]
    },
    {
     "cell_type": "markdown",
     "metadata": {},
     "source": [
      "Download The Gene Ontology, get mappings and generate the dependency map tree:"
     ]
    },
    {
     "cell_type": "code",
     "collapsed": false,
     "input": [
      "%%bash -s $WORK_PATH\n",
      "cd $1\n",
      "wget http://www.geneontology.org/ontology/obo_format_1_2/gene_ontology.1_2.obo\n",
      "transfic-obo-to-map --desc --asc --compact gene_ontology.1_2.obo\n",
      "\n",
      "ensembl-get-ann sep2011.archive.ensembl.org go_ensp_64.map go_id ensembl_peptide_id\n",
      "ensembl-get-ann sep2011.archive.ensembl.org ensg_prot_64.map ensembl_gene_id ensembl_peptide_id\n",
      "cat go_ensp_64.map ensg_prot_64.map >>features.map\n",
      "\n",
      "ensembl-get-ann sep2011.archive.ensembl.org go_ensg_64.map go_id ensembl_gene_id\n",
      "cat gene_ontology.1_2-desc.map >tree.map\n",
      "tail -n+5 go_ensg_64.map >>tree.map\n",
      "\n",
      "ensembl-get-ann sep2011.archive.ensembl.org trs_len.tsv ensembl_transcript_id cds_length\n",
      "ensembl-get-ann sep2011.archive.ensembl.org protein_len.tsv ensembl_peptide_id cds_length"
     ],
     "language": "python",
     "metadata": {},
     "outputs": []
    },
    {
     "cell_type": "heading",
     "level": 2,
     "metadata": {},
     "source": [
      "Extract SNVs from 1000G VCFs"
     ]
    },
    {
     "cell_type": "code",
     "collapsed": false,
     "input": [
      "zcat $KG_PATH/ALL.*.tsv.gz | transfic-vcf-to-snvs -o $WORK_PATH/1kg.tsv.gz -"
     ],
     "language": "python",
     "metadata": {},
     "outputs": []
    },
    {
     "cell_type": "heading",
     "level": 2,
     "metadata": {},
     "source": [
      "Fetch scores from germline mutations"
     ]
    },
    {
     "cell_type": "markdown",
     "metadata": {},
     "source": [
      "Load the protein CDS length information into memory for all the engines."
     ]
    },
    {
     "cell_type": "code",
     "collapsed": false,
     "input": [
      "%%px --local\n",
      "from collections import defaultdict\n",
      "prot_len = defaultdict(int)\n",
      "with open(os.path.join(WORK_PATH, \"protein_len.tsv\")) as f:\n",
      "    for line in f:\n",
      "        if line.startswith(\"#\"):\n",
      "            continue\n",
      "        name, ln = line.rstrip(\"\\n\").split(\"\\t\")\n",
      "        prot_len[name] = ln"
     ],
     "language": "python",
     "metadata": {},
     "outputs": [],
     "prompt_number": 7
    },
    {
     "cell_type": "markdown",
     "metadata": {},
     "source": [
      "Partition the list of 1000G mutations into separate files to parallelize the queries."
     ]
    },
    {
     "cell_type": "code",
     "collapsed": false,
     "input": [
      "import gzip\n",
      "from datetime import datetime as dt\n",
      "\n",
      "parts_path = os.path.join(WORK_PATH, \"1kg-partitions\")\n",
      "if not os.path.exists(parts_path):\n",
      "    os.makedirs(parts_path)\n",
      "\n",
      "part = 1\n",
      "wf = open(os.path.join(parts_path, \"1kg-{:03}.tsv\".format(part)), \"w\")\n",
      "wf.write(\"CHR\\tSTART\\tREF\\tALT\\n\")\n",
      "with gzip.open(os.path.join(WORK_PATH, \"1kg.tsv.gz\")) as f:\n",
      "    f.readline()\n",
      "    for num_lines, line in enumerate(f, start=1):\n",
      "        wf.write(line)\n",
      "        if num_lines % 500000 == 0:\n",
      "            print(\"{} {} lines, {} partitions\".format(dt.now(), num_lines, part))\n",
      "            part += 1\n",
      "            wf.close()\n",
      "            wf = open(os.path.join(parts_path, \"1kg-{:03}.tsv\".format(part)), \"w\")\n",
      "            wf.write(\"CHR\\tSTART\\tREF\\tALT\\n\")\n",
      "    wf.close()\n",
      "\n",
      "print(\"{} {} lines, {} partitions\".format(dt.now(), num_lines, part))"
     ],
     "language": "python",
     "metadata": {},
     "outputs": [
      {
       "output_type": "stream",
       "stream": "stdout",
       "text": [
        "2014-03-25 18:27:50.354159 500000 lines, 1 partitions\n",
        "2014-03-25 18:27:53.293268 1000000 lines, 2 partitions"
       ]
      },
      {
       "output_type": "stream",
       "stream": "stdout",
       "text": [
        "\n",
        "2014-03-25 18:27:56.244249 1500000 lines, 3 partitions"
       ]
      },
      {
       "output_type": "stream",
       "stream": "stdout",
       "text": [
        "\n",
        "2014-03-25 18:27:59.213194 2000000 lines, 4 partitions"
       ]
      },
      {
       "output_type": "stream",
       "stream": "stdout",
       "text": [
        "\n",
        "2014-03-25 18:28:02.156811 2500000 lines, 5 partitions"
       ]
      },
      {
       "output_type": "stream",
       "stream": "stdout",
       "text": [
        "\n",
        "2014-03-25 18:28:05.086906 3000000 lines, 6 partitions"
       ]
      },
      {
       "output_type": "stream",
       "stream": "stdout",
       "text": [
        "\n",
        "2014-03-25 18:28:08.047814 3500000 lines, 7 partitions"
       ]
      },
      {
       "output_type": "stream",
       "stream": "stdout",
       "text": [
        "\n",
        "2014-03-25 18:28:11.001361 4000000 lines, 8 partitions"
       ]
      },
      {
       "output_type": "stream",
       "stream": "stdout",
       "text": [
        "\n",
        "2014-03-25 18:28:13.954809 4500000 lines, 9 partitions"
       ]
      },
      {
       "output_type": "stream",
       "stream": "stdout",
       "text": [
        "\n",
        "2014-03-25 18:28:16.876653 5000000 lines, 10 partitions"
       ]
      },
      {
       "output_type": "stream",
       "stream": "stdout",
       "text": [
        "\n",
        "2014-03-25 18:28:19.827933 5500000 lines, 11 partitions"
       ]
      },
      {
       "output_type": "stream",
       "stream": "stdout",
       "text": [
        "\n",
        "2014-03-25 18:28:22.775935 6000000 lines, 12 partitions"
       ]
      },
      {
       "output_type": "stream",
       "stream": "stdout",
       "text": [
        "\n",
        "2014-03-25 18:28:25.719718 6500000 lines, 13 partitions"
       ]
      },
      {
       "output_type": "stream",
       "stream": "stdout",
       "text": [
        "\n",
        "2014-03-25 18:28:28.650661 7000000 lines, 14 partitions"
       ]
      },
      {
       "output_type": "stream",
       "stream": "stdout",
       "text": [
        "\n",
        "2014-03-25 18:28:31.613345 7500000 lines, 15 partitions"
       ]
      },
      {
       "output_type": "stream",
       "stream": "stdout",
       "text": [
        "\n",
        "2014-03-25 18:28:34.546310 8000000 lines, 16 partitions"
       ]
      },
      {
       "output_type": "stream",
       "stream": "stdout",
       "text": [
        "\n",
        "2014-03-25 18:28:37.483194 8500000 lines, 17 partitions"
       ]
      },
      {
       "output_type": "stream",
       "stream": "stdout",
       "text": [
        "\n",
        "2014-03-25 18:28:40.431293 9000000 lines, 18 partitions"
       ]
      },
      {
       "output_type": "stream",
       "stream": "stdout",
       "text": [
        "\n",
        "2014-03-25 18:28:43.379487 9500000 lines, 19 partitions"
       ]
      },
      {
       "output_type": "stream",
       "stream": "stdout",
       "text": [
        "\n",
        "2014-03-25 18:28:46.316718 10000000 lines, 20 partitions"
       ]
      },
      {
       "output_type": "stream",
       "stream": "stdout",
       "text": [
        "\n",
        "2014-03-25 18:28:49.259115 10500000 lines, 21 partitions"
       ]
      },
      {
       "output_type": "stream",
       "stream": "stdout",
       "text": [
        "\n",
        "2014-03-25 18:28:52.189847 11000000 lines, 22 partitions"
       ]
      },
      {
       "output_type": "stream",
       "stream": "stdout",
       "text": [
        "\n",
        "2014-03-25 18:28:55.171876 11500000 lines, 23 partitions"
       ]
      },
      {
       "output_type": "stream",
       "stream": "stdout",
       "text": [
        "\n",
        "2014-03-25 18:28:58.111877 12000000 lines, 24 partitions"
       ]
      },
      {
       "output_type": "stream",
       "stream": "stdout",
       "text": [
        "\n",
        "2014-03-25 18:29:01.072820 12500000 lines, 25 partitions"
       ]
      },
      {
       "output_type": "stream",
       "stream": "stdout",
       "text": [
        "\n",
        "2014-03-25 18:29:04.015153 13000000 lines, 26 partitions"
       ]
      },
      {
       "output_type": "stream",
       "stream": "stdout",
       "text": [
        "\n",
        "2014-03-25 18:29:06.960105 13500000 lines, 27 partitions"
       ]
      },
      {
       "output_type": "stream",
       "stream": "stdout",
       "text": [
        "\n",
        "2014-03-25 18:29:09.894787 14000000 lines, 28 partitions"
       ]
      },
      {
       "output_type": "stream",
       "stream": "stdout",
       "text": [
        "\n",
        "2014-03-25 18:29:12.831812 14500000 lines, 29 partitions"
       ]
      },
      {
       "output_type": "stream",
       "stream": "stdout",
       "text": [
        "\n",
        "2014-03-25 18:29:15.784587 15000000 lines, 30 partitions"
       ]
      },
      {
       "output_type": "stream",
       "stream": "stdout",
       "text": [
        "\n",
        "2014-03-25 18:29:18.738727 15500000 lines, 31 partitions"
       ]
      },
      {
       "output_type": "stream",
       "stream": "stdout",
       "text": [
        "\n",
        "2014-03-25 18:29:21.681450 16000000 lines, 32 partitions"
       ]
      },
      {
       "output_type": "stream",
       "stream": "stdout",
       "text": [
        "\n",
        "2014-03-25 18:29:24.623610 16500000 lines, 33 partitions"
       ]
      },
      {
       "output_type": "stream",
       "stream": "stdout",
       "text": [
        "\n",
        "2014-03-25 18:29:27.568222 17000000 lines, 34 partitions"
       ]
      },
      {
       "output_type": "stream",
       "stream": "stdout",
       "text": [
        "\n",
        "2014-03-25 18:29:30.510959 17500000 lines, 35 partitions"
       ]
      },
      {
       "output_type": "stream",
       "stream": "stdout",
       "text": [
        "\n",
        "2014-03-25 18:29:33.444193 18000000 lines, 36 partitions"
       ]
      },
      {
       "output_type": "stream",
       "stream": "stdout",
       "text": [
        "\n",
        "2014-03-25 18:29:36.369819 18500000 lines, 37 partitions"
       ]
      },
      {
       "output_type": "stream",
       "stream": "stdout",
       "text": [
        "\n",
        "2014-03-25 18:29:39.329098 19000000 lines, 38 partitions"
       ]
      },
      {
       "output_type": "stream",
       "stream": "stdout",
       "text": [
        "\n",
        "2014-03-25 18:29:42.260421 19500000 lines, 39 partitions"
       ]
      },
      {
       "output_type": "stream",
       "stream": "stdout",
       "text": [
        "\n",
        "2014-03-25 18:29:45.215585 20000000 lines, 40 partitions"
       ]
      },
      {
       "output_type": "stream",
       "stream": "stdout",
       "text": [
        "\n",
        "2014-03-25 18:29:48.171272 20500000 lines, 41 partitions"
       ]
      },
      {
       "output_type": "stream",
       "stream": "stdout",
       "text": [
        "\n",
        "2014-03-25 18:29:51.097341 21000000 lines, 42 partitions"
       ]
      },
      {
       "output_type": "stream",
       "stream": "stdout",
       "text": [
        "\n",
        "2014-03-25 18:29:54.033875 21500000 lines, 43 partitions"
       ]
      },
      {
       "output_type": "stream",
       "stream": "stdout",
       "text": [
        "\n",
        "2014-03-25 18:29:56.955119 22000000 lines, 44 partitions"
       ]
      },
      {
       "output_type": "stream",
       "stream": "stdout",
       "text": [
        "\n",
        "2014-03-25 18:29:59.878955 22500000 lines, 45 partitions"
       ]
      },
      {
       "output_type": "stream",
       "stream": "stdout",
       "text": [
        "\n",
        "2014-03-25 18:30:02.810240 23000000 lines, 46 partitions"
       ]
      },
      {
       "output_type": "stream",
       "stream": "stdout",
       "text": [
        "\n",
        "2014-03-25 18:30:05.761131 23500000 lines, 47 partitions"
       ]
      },
      {
       "output_type": "stream",
       "stream": "stdout",
       "text": [
        "\n",
        "2014-03-25 18:30:08.694331 24000000 lines, 48 partitions"
       ]
      },
      {
       "output_type": "stream",
       "stream": "stdout",
       "text": [
        "\n",
        "2014-03-25 18:30:11.629522 24500000 lines, 49 partitions"
       ]
      },
      {
       "output_type": "stream",
       "stream": "stdout",
       "text": [
        "\n",
        "2014-03-25 18:30:14.584149 25000000 lines, 50 partitions"
       ]
      },
      {
       "output_type": "stream",
       "stream": "stdout",
       "text": [
        "\n",
        "2014-03-25 18:30:17.515341 25500000 lines, 51 partitions"
       ]
      },
      {
       "output_type": "stream",
       "stream": "stdout",
       "text": [
        "\n",
        "2014-03-25 18:30:20.455810 26000000 lines, 52 partitions"
       ]
      },
      {
       "output_type": "stream",
       "stream": "stdout",
       "text": [
        "\n",
        "2014-03-25 18:30:23.409869 26500000 lines, 53 partitions"
       ]
      },
      {
       "output_type": "stream",
       "stream": "stdout",
       "text": [
        "\n",
        "2014-03-25 18:30:26.340661 27000000 lines, 54 partitions"
       ]
      },
      {
       "output_type": "stream",
       "stream": "stdout",
       "text": [
        "\n",
        "2014-03-25 18:30:29.285527 27500000 lines, 55 partitions"
       ]
      },
      {
       "output_type": "stream",
       "stream": "stdout",
       "text": [
        "\n",
        "2014-03-25 18:30:32.206741 28000000 lines, 56 partitions"
       ]
      },
      {
       "output_type": "stream",
       "stream": "stdout",
       "text": [
        "\n",
        "2014-03-25 18:30:35.142190 28500000 lines, 57 partitions"
       ]
      },
      {
       "output_type": "stream",
       "stream": "stdout",
       "text": [
        "\n",
        "2014-03-25 18:30:38.077103 29000000 lines, 58 partitions"
       ]
      },
      {
       "output_type": "stream",
       "stream": "stdout",
       "text": [
        "\n",
        "2014-03-25 18:30:41.023955 29500000 lines, 59 partitions"
       ]
      },
      {
       "output_type": "stream",
       "stream": "stdout",
       "text": [
        "\n",
        "2014-03-25 18:30:43.955108 30000000 lines, 60 partitions"
       ]
      },
      {
       "output_type": "stream",
       "stream": "stdout",
       "text": [
        "\n",
        "2014-03-25 18:30:46.890076 30500000 lines, 61 partitions"
       ]
      },
      {
       "output_type": "stream",
       "stream": "stdout",
       "text": [
        "\n",
        "2014-03-25 18:30:49.818800 31000000 lines, 62 partitions"
       ]
      },
      {
       "output_type": "stream",
       "stream": "stdout",
       "text": [
        "\n",
        "2014-03-25 18:30:52.765301 31500000 lines, 63 partitions"
       ]
      },
      {
       "output_type": "stream",
       "stream": "stdout",
       "text": [
        "\n",
        "2014-03-25 18:30:55.695003 32000000 lines, 64 partitions"
       ]
      },
      {
       "output_type": "stream",
       "stream": "stdout",
       "text": [
        "\n",
        "2014-03-25 18:30:58.643854 32500000 lines, 65 partitions"
       ]
      },
      {
       "output_type": "stream",
       "stream": "stdout",
       "text": [
        "\n",
        "2014-03-25 18:31:01.571636 33000000 lines, 66 partitions"
       ]
      },
      {
       "output_type": "stream",
       "stream": "stdout",
       "text": [
        "\n",
        "2014-03-25 18:31:04.516510 33500000 lines, 67 partitions"
       ]
      },
      {
       "output_type": "stream",
       "stream": "stdout",
       "text": [
        "\n",
        "2014-03-25 18:31:07.458456 34000000 lines, 68 partitions"
       ]
      },
      {
       "output_type": "stream",
       "stream": "stdout",
       "text": [
        "\n",
        "2014-03-25 18:31:10.391373 34500000 lines, 69 partitions"
       ]
      },
      {
       "output_type": "stream",
       "stream": "stdout",
       "text": [
        "\n",
        "2014-03-25 18:31:13.325002 35000000 lines, 70 partitions"
       ]
      },
      {
       "output_type": "stream",
       "stream": "stdout",
       "text": [
        "\n",
        "2014-03-25 18:31:16.262026 35500000 lines, 71 partitions"
       ]
      },
      {
       "output_type": "stream",
       "stream": "stdout",
       "text": [
        "\n",
        "2014-03-25 18:31:19.208184 36000000 lines, 72 partitions"
       ]
      },
      {
       "output_type": "stream",
       "stream": "stdout",
       "text": [
        "\n",
        "2014-03-25 18:31:22.140719 36500000 lines, 73 partitions"
       ]
      },
      {
       "output_type": "stream",
       "stream": "stdout",
       "text": [
        "\n",
        "2014-03-25 18:31:25.082168 37000000 lines, 74 partitions"
       ]
      },
      {
       "output_type": "stream",
       "stream": "stdout",
       "text": [
        "\n",
        "2014-03-25 18:31:28.025264 37500000 lines, 75 partitions"
       ]
      },
      {
       "output_type": "stream",
       "stream": "stdout",
       "text": [
        "\n",
        "2014-03-25 18:31:30.953610 38000000 lines, 76 partitions"
       ]
      },
      {
       "output_type": "stream",
       "stream": "stdout",
       "text": [
        "\n",
        "2014-03-25 18:31:32.686790 38248780 lines, 77 partitions"
       ]
      },
      {
       "output_type": "stream",
       "stream": "stdout",
       "text": [
        "\n"
       ]
      }
     ],
     "prompt_number": 8
    },
    {
     "cell_type": "markdown",
     "metadata": {},
     "source": [
      "Do the queries for each partition in parallel."
     ]
    },
    {
     "cell_type": "code",
     "collapsed": false,
     "input": [
      "%%px --local\n",
      "def fetch_partition(path, out_base_path, db_uri):\n",
      "    from datetime import datetime as dt\n",
      "    from fannsdb.db.mongodb import FannsMongoDb\n",
      "    from fannsdb.mutations.tsv_reader import MutationsTsvReader\n",
      "\n",
      "    with Task(db_uri, \"transfic-1kg-fetch\", os.path.basename(path)) as task:\n",
      "        reader = MutationsTsvReader(path, rename_cols={\"POS\" : \"START\"})\n",
      "        fdb = FannsMongoDb(uri=db_uri)\n",
      "        db = fdb.db\n",
      "        num_muts = 0\n",
      "        with open(os.path.join(out_base_path, os.path.basename(path)), \"w\") as wf:\n",
      "            hits = fails = 0\n",
      "            for num_muts, m in enumerate(reader, start=1):\n",
      "                protein = None\n",
      "                protein_len = 0\n",
      "                scores = None\n",
      "                # get the scores for the longest protein\n",
      "                #for d in db.query_scores(chr=m.chr, start=m.start, ref=m.ref, alt=m.alt,\n",
      "                #                         fields=[\"protein\"], predictors=PREDICTORS):\n",
      "                for d in db.scores.find({\"g.c\" : m.chr, \"g.s\" : m.start, \"g.r\" : m.ref, \"g.a\" : m.alt}, {\"p.n\":1, \"s\":1}):\n",
      "                    pname = d[\"p\"][\"n\"]\n",
      "                    #plen = prot_len.get(d[\"protein\"], 0)\n",
      "                    plen = prot_len.get(pname, 0)\n",
      "                    if plen > protein_len or protein is None:\n",
      "                        #protein = d[\"protein\"]\n",
      "                        protein = pname\n",
      "                        protein_len = plen\n",
      "                        #scores = d[\"scores\"]\n",
      "                        scores = d[\"s\"]\n",
      "\n",
      "                if num_muts % 10000 == 0:\n",
      "                    task.logger.info(\"queried={}, hits={}, fails={}.\".format(num_muts, hits, fails))\n",
      "\n",
      "                if protein is None:\n",
      "                    fails += 1\n",
      "                    continue\n",
      "\n",
      "                hits += 1\n",
      "                values = [m.chr, m.start, m.ref, m.alt, protein]\n",
      "                values += [scores.get(p) for p in PREDICTORS]\n",
      "                wf.write(\"\\t\".join([str(v) if v is not None else \"\" for v in values]) + \"\\n\")\n",
      "\n",
      "        task.logger.info(\"queried={}, hits={}, fails={}.\".format(num_muts, hits, fails))"
     ],
     "language": "python",
     "metadata": {},
     "outputs": [],
     "prompt_number": 9
    },
    {
     "cell_type": "code",
     "collapsed": false,
     "input": [
      "parts_path = os.path.join(WORK_PATH, \"1kg-partitions\")\n",
      "parts_out_path = parts_path + \"-scores\"\n",
      "if not os.path.exists(parts_out_path):\n",
      "    os.makedirs(parts_out_path)\n",
      "\n",
      "parts = [os.path.join(parts_path, part) for part in os.listdir(parts_path)]\n",
      "#parts = [os.path.join(parts_path, part) for part in [\"1kg-063.tsv\", \"1kg-064.tsv\", \"1kg-066.tsv\"]]\n",
      "fn = partial(fetch_partition, out_base_path=parts_out_path, db_conf=FANNSDB)\n",
      "far = lb.map_async(fn, parts)"
     ],
     "language": "python",
     "metadata": {},
     "outputs": [],
     "prompt_number": 22
    },
    {
     "cell_type": "code",
     "collapsed": false,
     "input": [
      "display_task(client, far)"
     ],
     "language": "python",
     "metadata": {},
     "outputs": [
      {
       "output_type": "stream",
       "stream": "stdout",
       "text": [
        "[0] [268b16ab-eef6-40a1-8c2c-c9a4696b1d58]\n",
        "\n",
        "Submitted: 2014-03-26 08:38:52, Started: 08:38:52, Completed: 08:57:08, Received: 08:57:08\n",
        "\n",
        "[stdout]\n",
        "2014-03-26 08:39:14.978722 10000 queried mutations, hits=214, fails=9785.\n",
        "2014-03-26 08:39:36.940390 20000 queried mutations, hits=270, fails=19729.\n",
        "2014-03-26 08:39:59.173269 30000 queried mutations, hits=497, fails=29502.\n",
        "2014-03-26 08:40:21.154677 40000 queried mutations, hits=554, fails=39445.\n",
        "2014-03-26 08:40:43.078059 50000 queried mutations, hits=563, fails=49436.\n",
        "2014-03-26 08:41:04.987135 60000 queried mutations, hits=624, fails=59375.\n",
        "2014-03-26 08:41:26.903034 70000 queried mutations, hits=660, fails=69339.\n",
        "2014-03-26 08:41:49.111242 80000 queried mutations, hits=811, fails=79188.\n",
        "2014-03-26 08:42:11.284059 90000 queried mutations, hits=976, fails=89023.\n",
        "2014-03-26 08:42:33.439564 100000 queried mutations, hits=1174, fails=98825.\n",
        "2014-03-26 08:42:55.434343 110000 queried mutations, hits=1265, fails=108734.\n",
        "2014-03-26 08:43:17.514319 120000 queried mutations, hits=1338, fails=118661.\n",
        "2014-03-26 08:43:39.449137 130000 queried mutations, hits=1363, fails=128636.\n",
        "2014-03-26 08:44:01.344316 140000 queried mutations, hits=1366, fails=138633.\n",
        "2014-03-26 08:44:23.271967 150000 queried mutations, hits=1366, fails=148633.\n",
        "2014-03-26 08:44:45.265899 160000 queried mutations, hits=1366, fails=158633.\n",
        "2014-03-26 08:45:07.129063 170000 queried mutations, hits=1366, fails=168633.\n",
        "2014-03-26 08:45:29.017843 180000 queried mutations, hits=1378, fails=178621.\n",
        "2014-03-26 08:45:50.887226 190000 queried mutations, hits=1422, fails=188577.\n",
        "2014-03-26 08:46:12.740917 200000 queried mutations, hits=1424, fails=198575.\n",
        "2014-03-26 08:46:34.686560 210000 queried mutations, hits=1529, fails=208470.\n",
        "2014-03-26 08:46:56.610625 220000 queried mutations, hits=1529, fails=218470.\n",
        "2014-03-26 08:47:18.475484 230000 queried mutations, hits=1529, fails=228470.\n",
        "2014-03-26 08:47:40.482050 240000 queried mutations, hits=1539, fails=238460.\n",
        "2014-03-26 08:48:02.373073 250000 queried mutations, hits=1548, fails=248451.\n",
        "2014-03-26 08:48:24.239673 260000 queried mutations, hits=1591, fails=258408.\n",
        "2014-03-26 08:48:46.147310 270000 queried mutations, hits=1612, fails=268387.\n",
        "2014-03-26 08:49:08.122671 280000 queried mutations, hits=1664, fails=278335.\n",
        "2014-03-26 08:49:30.039381 290000 queried mutations, hits=1689, fails=288310.\n",
        "2014-03-26 08:49:51.907129 300000 queried mutations, hits=1711, fails=298288.\n",
        "2014-03-26 08:50:13.907960 310000 queried mutations, hits=1726, fails=308273.\n",
        "2014-03-26 08:50:35.785653 320000 queried mutations, hits=1733, fails=318266.\n",
        "2014-03-26 08:50:57.570904 330000 queried mutations, hits=1748, fails=328251.\n",
        "2014-03-26 08:51:19.478916 340000 queried mutations, hits=1828, fails=338171.\n",
        "2014-03-26 08:51:41.389566 350000 queried mutations, hits=1886, fails=348113.\n",
        "2014-03-26 08:52:03.301171 360000 queried mutations, hits=2026, fails=357973.\n",
        "2014-03-26 08:52:25.287988 370000 queried mutations, hits=2089, fails=367910.\n",
        "2014-03-26 08:52:47.281876 380000 queried mutations, hits=2170, fails=377829.\n",
        "2014-03-26 08:53:09.394497 390000 queried mutations, hits=2263, fails=387736.\n",
        "2014-03-26 08:53:31.445310 400000 queried mutations, hits=2272, fails=397727.\n",
        "2014-03-26 08:53:53.460158 410000 queried mutations, hits=2361, fails=407638.\n",
        "2014-03-26 08:54:15.378929 420000 queried mutations, hits=2361, fails=417638.\n",
        "2014-03-26 08:54:37.304913 430000 queried mutations, hits=2416, fails=427583.\n",
        "2014-03-26 08:54:59.310981 440000 queried mutations, hits=2505, fails=437494.\n",
        "2014-03-26 08:55:21.334762 450000 queried mutations, hits=2534, fails=447465.\n",
        "2014-03-26 08:55:42.963295 460000 queried mutations, hits=2554, fails=457445.\n",
        "2014-03-26 08:56:04.550209 470000 queried mutations, hits=2584, fails=467415.\n",
        "2014-03-26 08:56:26.133209 480000 queried mutations, hits=2678, fails=477321.\n",
        "2014-03-26 08:56:47.639332 490000 queried mutations, hits=2823, fails=487176.\n",
        "2014-03-26 08:57:08.013900 500000 queried mutations, hits=2901, fails=497098.\n",
        "2014-03-26 08:57:08.021623 hits=2901, fails=497099\n",
        "\n",
        "[1] [c7f5155e-2e1b-4c3b-9247-2d156d20ccf4]\n",
        "\n",
        "Submitted: 2014-03-26 08:38:52, Started: 08:38:52, Completed: 08:55:30, Received: 08:55:30\n",
        "\n",
        "[stdout]\n",
        "2014-03-26 08:39:12.922561 10000 queried mutations, hits=23, fails=9976.\n",
        "2014-03-26 08:39:32.952176 20000 queried mutations, hits=74, fails=19925.\n",
        "2014-03-26 08:39:52.945876 30000 queried mutations, hits=112, fails=29887.\n",
        "2014-03-26 08:40:12.891163 40000 queried mutations, hits=141, fails=39858.\n",
        "2014-03-26 08:40:32.675505 50000 queried mutations, hits=161, fails=49838.\n",
        "2014-03-26 08:40:52.666873 60000 queried mutations, hits=227, fails=59772.\n",
        "2014-03-26 08:41:12.647545 70000 queried mutations, hits=264, fails=69735.\n",
        "2014-03-26 08:41:32.602135 80000 queried mutations, hits=317, fails=79682.\n",
        "2014-03-26 08:41:52.598605 90000 queried mutations, hits=355, fails=89644.\n",
        "2014-03-26 08:42:12.557996 100000 queried mutations, hits=389, fails=99610.\n",
        "2014-03-26 08:42:32.502700 110000 queried mutations, hits=451, fails=109548.\n",
        "2014-03-26 08:42:52.402412 120000 queried mutations, hits=462, fails=119537.\n",
        "2014-03-26 08:43:12.307552 130000 queried mutations, hits=466, fails=129533.\n",
        "2014-03-26 08:43:32.198572 140000 queried mutations, hits=509, fails=139490.\n",
        "2014-03-26 08:43:52.093834 150000 queried mutations, hits=526, fails=149473.\n",
        "2014-03-26 08:44:12.140266 160000 queried mutations, hits=609, fails=159390.\n",
        "2014-03-26 08:44:32.510135 170000 queried mutations, hits=864, fails=169135.\n",
        "2014-03-26 08:44:52.474195 180000 queried mutations, hits=970, fails=179029.\n",
        "2014-03-26 08:45:12.267822 190000 queried mutations, hits=996, fails=189003.\n",
        "2014-03-26 08:45:32.199140 200000 queried mutations, hits=999, fails=199000.\n",
        "2014-03-26 08:45:52.246776 210000 queried mutations, hits=1053, fails=208946.\n",
        "2014-03-26 08:46:12.321490 220000 queried mutations, hits=1359, fails=218640.\n",
        "2014-03-26 08:46:32.207542 230000 queried mutations, hits=1428, fails=228571.\n",
        "2014-03-26 08:46:52.077172 240000 queried mutations, hits=1428, fails=238571.\n",
        "2014-03-26 08:47:12.056875 250000 queried mutations, hits=1456, fails=248543.\n",
        "2014-03-26 08:47:32.190521 260000 queried mutations, hits=1569, fails=258430.\n",
        "2014-03-26 08:47:52.122586 270000 queried mutations, hits=1590, fails=268409.\n",
        "2014-03-26 08:48:12.017751 280000 queried mutations, hits=1590, fails=278409.\n",
        "2014-03-26 08:48:31.902872 290000 queried mutations, hits=1590, fails=288409.\n",
        "2014-03-26 08:48:51.791361 300000 queried mutations, hits=1613, fails=298386.\n",
        "2014-03-26 08:49:11.673835 310000 queried mutations, hits=1613, fails=308386.\n",
        "2014-03-26 08:49:31.626609 320000 queried mutations, hits=1627, fails=318372.\n",
        "2014-03-26 08:49:51.457607 330000 queried mutations, hits=1665, fails=328334.\n",
        "2014-03-26 08:50:11.395656 340000 queried mutations, hits=1765, fails=338234.\n",
        "2014-03-26 08:50:31.306695 350000 queried mutations, hits=1776, fails=348223.\n",
        "2014-03-26 08:50:51.250010 360000 queried mutations, hits=1786, fails=358213.\n",
        "2014-03-26 08:51:11.177506 370000 queried mutations, hits=1786, fails=368213.\n",
        "2014-03-26 08:51:31.071667 380000 queried mutations, hits=1786, fails=378213.\n",
        "2014-03-26 08:51:50.995032 390000 queried mutations, hits=1833, fails=388166.\n",
        "2014-03-26 08:52:10.940545 400000 queried mutations, hits=1943, fails=398056.\n",
        "2014-03-26 08:52:30.807146 410000 queried mutations, hits=1984, fails=408015.\n",
        "2014-03-26 08:52:50.726483 420000 queried mutations, hits=2031, fails=417968.\n",
        "2014-03-26 08:53:10.711900 430000 queried mutations, hits=2031, fails=427968.\n",
        "2014-03-26 08:53:30.678666 440000 queried mutations, hits=2031, fails=437968.\n",
        "2014-03-26 08:53:50.652147 450000 queried mutations, hits=2031, fails=447968.\n",
        "2014-03-26 08:54:10.586115 460000 queried mutations, hits=2035, fails=457964.\n",
        "2014-03-26 08:54:30.587628 470000 queried mutations, hits=2070, fails=467929.\n",
        "2014-03-26 08:54:50.599168 480000 queried mutations, hits=2076, fails=477923.\n",
        "2014-03-26 08:55:10.596141 490000 queried mutations, hits=2081, fails=487918.\n",
        "2014-03-26 08:55:30.733691 500000 queried mutations, hits=2135, fails=497864.\n",
        "2014-03-26 08:55:30.739170 hits=2135, fails=497865\n",
        "\n",
        "[2] [46931d79-6de3-4e55-a0fa-6348a9f4fe21]\n",
        "\n",
        "Submitted: 2014-03-26 08:38:52, Started: 08:38:52, Completed: 08:56:59, Received: 08:56:59\n",
        "\n",
        "[stdout]\n",
        "2014-03-26 08:39:14.651573 10000 queried mutations, hits=45, fails=9954.\n",
        "2014-03-26 08:39:36.497179 20000 queried mutations, hits=64, fails=19935.\n",
        "2014-03-26 08:39:58.222805 30000 queried mutations, hits=64, fails=29935.\n",
        "2014-03-26 08:40:20.040916 40000 queried mutations, hits=114, fails=39885.\n",
        "2014-03-26 08:40:41.910550 50000 queried mutations, hits=244, fails=49755.\n",
        "2014-03-26 08:41:03.597772 60000 queried mutations, hits=304, fails=59695.\n",
        "2014-03-26 08:41:25.223309 70000 queried mutations, hits=304, fails=69695.\n",
        "2014-03-26 08:41:46.912286 80000 queried mutations, hits=304, fails=79695.\n",
        "2014-03-26 08:42:08.553045 90000 queried mutations, hits=323, fails=89676.\n",
        "2014-03-26 08:42:30.233132 100000 queried mutations, hits=382, fails=99617.\n",
        "2014-03-26 08:42:51.904096 110000 queried mutations, hits=499, fails=109500.\n",
        "2014-03-26 08:43:13.631969 120000 queried mutations, hits=568, fails=119431.\n",
        "2014-03-26 08:43:35.374854 130000 queried mutations, hits=696, fails=129303.\n",
        "2014-03-26 08:43:56.931403 140000 queried mutations, hits=723, fails=139276.\n",
        "2014-03-26 08:44:18.740221 150000 queried mutations, hits=726, fails=149273.\n",
        "2014-03-26 08:44:40.466362 160000 queried mutations, hits=726, fails=159273.\n",
        "2014-03-26 08:45:02.181999 170000 queried mutations, hits=746, fails=169253.\n",
        "2014-03-26 08:45:23.917830 180000 queried mutations, hits=850, fails=179149.\n",
        "2014-03-26 08:45:45.731088 190000 queried mutations, hits=944, fails=189055.\n",
        "2014-03-26 08:46:07.622609 200000 queried mutations, hits=1181, fails=198818.\n",
        "2014-03-26 08:46:29.378558 210000 queried mutations, hits=1264, fails=208735.\n",
        "2014-03-26 08:46:51.213813 220000 queried mutations, hits=1359, fails=218640.\n",
        "2014-03-26 08:47:12.960653 230000 queried mutations, hits=1393, fails=228606.\n",
        "2014-03-26 08:47:34.682031 240000 queried mutations, hits=1451, fails=238548.\n",
        "2014-03-26 08:47:56.359979 250000 queried mutations, hits=1477, fails=248522.\n",
        "2014-03-26 08:48:18.087851 260000 queried mutations, hits=1520, fails=258479.\n",
        "2014-03-26 08:48:39.879333 270000 queried mutations, hits=1588, fails=268411.\n",
        "2014-03-26 08:49:01.671366 280000 queried mutations, hits=1777, fails=278222.\n",
        "2014-03-26 08:49:23.306982 290000 queried mutations, hits=1790, fails=288209.\n",
        "2014-03-26 08:49:44.889733 300000 queried mutations, hits=1801, fails=298198.\n",
        "2014-03-26 08:50:06.619192 310000 queried mutations, hits=1833, fails=308166.\n",
        "2014-03-26 08:50:28.356457 320000 queried mutations, hits=1869, fails=318130.\n",
        "2014-03-26 08:50:50.069075 330000 queried mutations, hits=2069, fails=327930.\n",
        "2014-03-26 08:51:11.910444 340000 queried mutations, hits=2174, fails=337825.\n",
        "2014-03-26 08:51:33.708613 350000 queried mutations, hits=2309, fails=347690.\n",
        "2014-03-26 08:51:55.431172 360000 queried mutations, hits=2344, fails=357655.\n",
        "2014-03-26 08:52:17.311348 370000 queried mutations, hits=2603, fails=367396.\n",
        "2014-03-26 08:52:39.019855 380000 queried mutations, hits=2769, fails=377230.\n",
        "2014-03-26 08:53:01.002252 390000 queried mutations, hits=3099, fails=386900.\n",
        "2014-03-26 08:53:22.722456 400000 queried mutations, hits=3106, fails=396893.\n",
        "2014-03-26 08:53:44.446340 410000 queried mutations, hits=3106, fails=406893.\n",
        "2014-03-26 08:54:06.164742 420000 queried mutations, hits=3106, fails=416893.\n",
        "2014-03-26 08:54:27.919617 430000 queried mutations, hits=3116, fails=426883.\n",
        "2014-03-26 08:54:49.631747 440000 queried mutations, hits=3120, fails=436879.\n",
        "2014-03-26 08:55:11.370330 450000 queried mutations, hits=3142, fails=446857.\n",
        "2014-03-26 08:55:33.090992 460000 queried mutations, hits=3232, fails=456767.\n",
        "2014-03-26 08:55:54.611941 470000 queried mutations, hits=3420, fails=466579.\n",
        "2014-03-26 08:56:16.108365 480000 queried mutations, hits=3544, fails=476455.\n",
        "2014-03-26 08:56:38.144958 490000 queried mutations, hits=3959, fails=486040.\n",
        "2014-03-26 08:56:59.685592 500000 queried mutations, hits=4023, fails=495976.\n",
        "2014-03-26 08:56:59.692642 hits=4023, fails=495977\n",
        "\n"
       ]
      }
     ],
     "prompt_number": 34
    },
    {
     "cell_type": "markdown",
     "metadata": {},
     "source": [
      "Merge all the partitions into one single file"
     ]
    },
    {
     "cell_type": "code",
     "collapsed": false,
     "input": [
      "!cat $parts_out_path/* >$WORK_PATH/1kg-scores.tsv"
     ],
     "language": "python",
     "metadata": {},
     "outputs": [],
     "prompt_number": 35
    },
    {
     "cell_type": "heading",
     "level": 2,
     "metadata": {},
     "source": [
      "Calculate baseline tolerance"
     ]
    },
    {
     "cell_type": "code",
     "collapsed": false,
     "input": [
      "os.chdir(WORK_PATH)\n",
      "predictors = \",\".join(PREDICTORS)\n",
      "!transfic-blt-partial -t \"SIFT=max(1e-2,min(1-1e-2,x))\" -t \"SIFT=log((1-x)/x)\" \\\n",
      "                      -t \"PPH2=max(1e-3,min(1-1e-3,x))\" -t \"PPH2=log(x/(1-x))\" \\\n",
      "                      -t \"FATHMMC=-x\" \\\n",
      "                      1kg-scores.tsv $predictors blt-partial.tsv"
     ],
     "language": "python",
     "metadata": {},
     "outputs": [
      {
       "output_type": "stream",
       "stream": "stdout",
       "text": [
        "2014-03-26 09:02:42 blt-partial INFO  : Selected predictors: SIFT, PPH2, MA, FATHMMC\r\n",
        "2014-03-26 09:02:42 blt-partial INFO  : Predictors transformations:\r\n",
        "2014-03-26 09:02:42 blt-partial INFO  :   FATHMMC:\r\n",
        "2014-03-26 09:02:42 blt-partial INFO  :     -x\r\n",
        "2014-03-26 09:02:42 blt-partial INFO  :   PPH2:\r\n",
        "2014-03-26 09:02:42 blt-partial INFO  :     max(1e-3,min(1-1e-3,x))\r\n",
        "2014-03-26 09:02:42 blt-partial INFO  :     log(x/(1-x))\r\n",
        "2014-03-26 09:02:42 blt-partial INFO  :   SIFT:\r\n",
        "2014-03-26 09:02:42 blt-partial INFO  :     max(1e-2,min(1-1e-2,x))\r\n",
        "2014-03-26 09:02:42 blt-partial INFO  :     log((1-x)/x)\r\n",
        "2014-03-26 09:02:42 blt-partial INFO  : Reading scores from 1kg-scores.tsv ...\r\n"
       ]
      },
      {
       "output_type": "stream",
       "stream": "stdout",
       "text": [
        "2014-03-26 09:02:48 blt-partial INFO  : Saving results into blt-partial.tsv ...\r\n"
       ]
      },
      {
       "output_type": "stream",
       "stream": "stdout",
       "text": [
        "2014-03-26 09:02:49 blt-partial INFO  : Number of SNV's = 320045, lost SNV's = 0, number of features = 34683\r\n"
       ]
      }
     ],
     "prompt_number": 36
    },
    {
     "cell_type": "code",
     "collapsed": false,
     "input": [
      "os.chdir(WORK_PATH)\n",
      "!transfic-blt-groups tree.map GO:0003674 features.map blt-partial.tsv blt-proteins.json --tsv blt-proteins.tsv"
     ],
     "language": "python",
     "metadata": {},
     "outputs": [
      {
       "output_type": "stream",
       "stream": "stdout",
       "text": [
        "2014-03-26 09:17:34 blt-groups INFO  : Loading groups tree ...\r\n"
       ]
      },
      {
       "output_type": "stream",
       "stream": "stdout",
       "text": [
        "2014-03-26 09:17:39 blt-groups INFO  :   Nodes: 57596\r\n",
        "2014-03-26 09:17:39 blt-groups INFO  : Loading mappings between groups and features ...\r\n"
       ]
      },
      {
       "output_type": "stream",
       "stream": "stdout",
       "text": [
        "2014-03-26 09:17:50 blt-groups INFO  :   Nodes: 152080\r\n",
        "2014-03-26 09:17:50 blt-groups INFO  :   Groups: 33517\r\n",
        "2014-03-26 09:17:50 blt-groups INFO  :   Features: 92012\r\n",
        "2014-03-26 09:17:50 blt-groups INFO  : Loading partial statistics ...\r\n"
       ]
      },
      {
       "output_type": "stream",
       "stream": "stdout",
       "text": [
        "2014-03-26 09:17:53 blt-groups INFO  :   Nodes: 152080\r\n",
        "2014-03-26 09:17:53 blt-groups INFO  :   Features: 34683\r\n",
        "2014-03-26 09:17:53 blt-groups INFO  :   Predictors: SIFT, PPH2, MA, FATHMMC\r\n",
        "2014-03-26 09:17:53 blt-groups INFO  : Calculating baseline tolerance ...\r\n",
        "2014-03-26 09:17:53 blt-groups INFO  : For SIFT ...\r\n"
       ]
      },
      {
       "output_type": "stream",
       "stream": "stdout",
       "text": [
        "2014-03-26 09:18:17 blt-groups INFO  : For PPH2 ...\r\n"
       ]
      },
      {
       "output_type": "stream",
       "stream": "stdout",
       "text": [
        "2014-03-26 09:18:38 blt-groups INFO  : For MA ...\r\n"
       ]
      },
      {
       "output_type": "stream",
       "stream": "stdout",
       "text": [
        "2014-03-26 09:18:59 blt-groups INFO  : For FATHMMC ...\r\n"
       ]
      },
      {
       "output_type": "stream",
       "stream": "stdout",
       "text": [
        "2014-03-26 09:19:19 blt-groups INFO  : Writing results into blt-proteins.json ...\r\n"
       ]
      }
     ],
     "prompt_number": 38
    },
    {
     "cell_type": "code",
     "collapsed": false,
     "input": [
      "!head blt-proteins.tsv"
     ],
     "language": "python",
     "metadata": {},
     "outputs": [
      {
       "output_type": "stream",
       "stream": "stdout",
       "text": [
        "FEATURE\tSIFT\tPPH2\tMA\tFATHMMC\r\n",
        "ENSP00000245441\tENSP00000245441/D/72/0.860026969393/1.812150088\tENSP00000245441/D/72/-0.360055873793/4.84566416014\t-/-/-/-/-\tGO:0005525/L/1782/-1.32688552189/2.04056201243\r\n",
        "ENSP00000391545\tGO:0008270/L/27414/1.65818143455/2.42825019414\tGO:0008270/L/25452/-1.7729814612/4.16750398094\tGO:0008270/L/27422/1.07899606156/1.14307469927\tGO:0008270/L/13909/-2.1518879862/1.48743151711\r\n",
        "ENSP00000391546\tGO:0004430/L/56/1.37771270791/1.9524946325\tGO:0004430/L/56/-2.14360103071/3.65680362768\tGO:0016773/L/650/1.20773076923/1.06503627974\tGO:0004430/D/21/0.758095238095/1.54129043028\r\n",
        "ENSP00000391540\tGO:0005083/L/372/1.66458675096/2.38019531912\tGO:0005083/L/374/-1.663885529/3.96057942085\tGO:0005083/L/407/1.08035626536/1.03320681069\tGO:0005083/L/161/-0.86751552795/1.25377032937\r\n",
        "ENSP00000245448\tGO:0015078/L/199/2.04664446981/2.50352543789\tGO:0015078/L/166/-1.53005777426/4.05936579133\tGO:0015078/L/180/1.46563888889/1.3976339774\t-/-/-/-/-\r\n",
        "ENSP00000407297\tGO:0070628/L/144/1.59551303888/1.91353818707\tGO:0070628/L/140/-1.6260265006/3.87740635318\tGO:0031593/L/131/1.31442748092/1.0368019693\tGO:0031593/L/47/-1.74829787234/1.19979947446\r\n",
        "ENSP00000407296\tGO:0017111/L/4345/1.80213094714/2.46569662274\tGO:0017111/L/4087/-1.07939557959/4.32017980101\tGO:0017111/L/4380/1.49024885845/1.3446497916\tGO:0017111/L/2061/-2.57122270742/1.04985027106\r\n",
        "ENSP00000407295\tGO:0003700/L/8838/1.54979967391/2.38795197492\tGO:0003700/L/8210/-1.79681553054/4.13570997498\tGO:0003700/L/8849/1.04596564584/1.05589069071\tGO:0003700/L/4116/-1.70680029155/1.65981080184\r\n",
        "ENSP00000407294\tGO:0003677/L/22093/1.68052622786/2.42308997079\tGO:0003677/L/21129/-1.84266769641/4.13246297136\tGO:0003677/L/22167/1.06071818469/1.12221672943\tGO:0003677/L/11191/-1.99298811545/1.59962472357\r\n"
       ]
      }
     ],
     "prompt_number": 39
    }
   ],
   "metadata": {}
  }
 ]
}