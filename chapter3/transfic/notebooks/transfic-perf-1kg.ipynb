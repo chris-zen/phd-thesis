{
 "metadata": {
  "name": "",
  "signature": "sha256:06e104beca698f90f258657c397bcbba0c648f4457180cb67ca72e791a3baea2"
 },
 "nbformat": 3,
 "nbformat_minor": 0,
 "worksheets": [
  {
   "cells": [
    {
     "cell_type": "heading",
     "level": 1,
     "metadata": {},
     "source": [
      "TransFIC performance"
     ]
    },
    {
     "cell_type": "markdown",
     "metadata": {},
     "source": [
      "This notebook should be run in gencluster."
     ]
    },
    {
     "cell_type": "markdown",
     "metadata": {},
     "source": [
      "Predictors:\n",
      "\n",
      "- SIFT (*dbNSFP 2.1*)\n",
      "- PPH2 (*dbNSFP 2.1*)\n",
      "- MutationAssessor (*dbNSFP 2.1*)\n",
      "- FATHMM (*dbNSFP 2.1*)\n",
      "- MutationTaster (*dbNSFP 2.1*)\n",
      "- GERP RS (*dbNSFP 2.1*)\n",
      "- PhyloP (*dbNSFP 2.1*)\n",
      "- CADD\n",
      "- CHASM\n"
     ]
    },
    {
     "cell_type": "code",
     "collapsed": false,
     "input": [
      "from IPython.parallel import Client\n",
      "client = Client(profile=\"sge\")"
     ],
     "language": "python",
     "metadata": {},
     "outputs": [],
     "prompt_number": 1
    },
    {
     "cell_type": "code",
     "collapsed": false,
     "input": [
      "dv = client[:]\n",
      "lb = client.load_balanced_view(targets=dv.targets)\n",
      "lb.block = False\n",
      "lb.ordered = False"
     ],
     "language": "python",
     "metadata": {},
     "outputs": [],
     "prompt_number": 2
    },
    {
     "cell_type": "code",
     "collapsed": false,
     "input": [
      "%%px --local\n",
      "%load_ext autoreload\n",
      "%autoreload 2"
     ],
     "language": "python",
     "metadata": {},
     "outputs": [],
     "prompt_number": 3
    },
    {
     "cell_type": "code",
     "collapsed": false,
     "input": [
      "%%px --local\n",
      "from __future__ import print_function\n",
      "\n",
      "import os\n",
      "from pymongo import MongoClient\n",
      "from ipnb.db.tasks import Task"
     ],
     "language": "python",
     "metadata": {},
     "outputs": [],
     "prompt_number": 4
    },
    {
     "cell_type": "code",
     "collapsed": false,
     "input": [
      "import shutil\n",
      "from functools import partial\n",
      "from IPython.display import display, FileLink, Image\n",
      "from ipnb.display.tasks import display_task"
     ],
     "language": "python",
     "metadata": {},
     "outputs": [],
     "prompt_number": 5
    },
    {
     "cell_type": "code",
     "collapsed": false,
     "input": [
      "%%px --local\n",
      "\n",
      "SCRATCH_PATH = \"/scratch/cperez/\"\n",
      "TMP_PATH = SCRATCH_PATH + \"tmp\"\n",
      "NBS_PATH = \"/data/users/cperez/notebooks\"\n",
      "WORK_PATH = os.path.join(NBS_PATH, \"transfic\", \"perf-1kg\")\n",
      "\n",
      "SNVS_PATH = os.path.join(WORK_PATH, \"snvs\")\n",
      "SCORES_PATH = os.path.join(WORK_PATH, \"scores\")\n",
      "TSETS_PATH = os.path.join(WORK_PATH, \"tsets\")\n",
      "TFIC_PATH = os.path.join(WORK_PATH, \"tfic\")\n",
      "METRICS_PATH = os.path.join(WORK_PATH, \"metrics\")\n",
      "IMAGES_PATH = os.path.join(WORK_PATH, \"images\")\n",
      "\n",
      "BLT_PATH = os.path.join(NBS_PATH, \"transfic\", \"blt-1kg\", \"blt-proteins.json\")\n",
      "\n",
      "CHROMOSOMES = [str(x) for x in range(1, 23)] + [\"X\", \"Y\"]\n",
      "\n",
      "# MongoDB\n",
      "\n",
      "FANNSDB = dict(\n",
      "    uri=\"mongodb://localhost/fanns05\",\n",
      "    url=\"mongodb://localhost\", # deprecated\n",
      "    db=\"fanns05\" # deprecated\n",
      ")\n",
      "\n",
      "# Ensembl biomart\n",
      "\n",
      "ENST_PATH = os.path.join(WORK_PATH, \"ensp_enst.map\")\n",
      "UNIPROT_PATH = os.path.join(WORK_PATH, \"ensp_uniprot.map\")\n",
      "\n",
      "PREDICTORS = [\"SIFT\", \"PPH2\", \"MA\", \"FATHMMC\"]\n",
      "TFIC_PREDICTORS = [\"TFIC_\" + p for p in PREDICTORS]\n",
      "ALL_PREDICTORS = [e for sl in zip(PREDICTORS, TFIC_PREDICTORS) for e in sl]\n",
      "\n",
      "PERF_SCORES = [\"MCC\", \"ACC\", \"PRECISION\", \"RECALL\"]\n",
      "\n",
      "TFIC_TRANSFORMS = dict(\n",
      "    SIFT=[\n",
      "        (\"max(1e-2,min(1-1e-2,x))\", lambda x: max(1e-2,min(1-1e-2,x))),\n",
      "        (\"log((1-x)/x)\", lambda x: log((1-x)/x))],\n",
      "    PPH2=[\n",
      "        (\"max(1e-3,min(1-1e-3,x))\", lambda x: max(1e-3,min(1-1e-3,x))),\n",
      "        (\"log(x/(1-x))\", lambda x: log(x/(1-x)))],\n",
      "    FATHMMC=[\n",
      "        (\"-x\", lambda x: -x)]\n",
      ")\n",
      "\n",
      "METRICS_TRANSFORMS = dict(\n",
      "    SIFT=lambda v: 1.0 - v,\n",
      "    FATHMMC=lambda x: -x\n",
      ")"
     ],
     "language": "python",
     "metadata": {},
     "outputs": [],
     "prompt_number": 6
    },
    {
     "cell_type": "code",
     "collapsed": false,
     "input": [
      "%%px --local\n",
      "import sys\n",
      "import logging\n",
      "logger = logging.getLogger()\n",
      "for h in logger.handlers:\n",
      "    logger.removeHandler(h)\n",
      "h = logging.StreamHandler(sys.stdout)\n",
      "h.setFormatter(logging.Formatter(\"%(asctime)s %(name)-10s [%(levelname)-7s] %(message)s\", \"%Y-%m-%d %H:%M:%S\"))\n",
      "logger.addHandler(h)\n",
      "logger.setLevel(logging.INFO)"
     ],
     "language": "python",
     "metadata": {},
     "outputs": [],
     "prompt_number": 7
    },
    {
     "cell_type": "code",
     "collapsed": false,
     "input": [
      "if not os.path.exists(WORK_PATH):\n",
      "    os.makedirs(WORK_PATH)"
     ],
     "language": "python",
     "metadata": {},
     "outputs": [],
     "prompt_number": 7
    },
    {
     "cell_type": "code",
     "collapsed": false,
     "input": [
      "%%px --local\n",
      "def temp_file(base_path=None):\n",
      "    import tempfile\n",
      "    \n",
      "    if base_path is None:\n",
      "        base_path = tempfile.gettempdir()\n",
      "\n",
      "    if not os.path.exists(base_path):\n",
      "        os.makedirs(base_path)\n",
      "\n",
      "    if base_path[-1] != \"/\":\n",
      "        base_path += \"/\"\n",
      "\n",
      "    tf = tempfile.NamedTemporaryFile(prefix=base_path)\n",
      "    \n",
      "    return tf"
     ],
     "language": "python",
     "metadata": {},
     "outputs": [],
     "prompt_number": 8
    },
    {
     "cell_type": "code",
     "collapsed": false,
     "input": [
      "def clean_path(path):\n",
      "    if os.path.exists(path):\n",
      "        shutil.rmtree(path)\n",
      "    os.makedirs(path)"
     ],
     "language": "python",
     "metadata": {},
     "outputs": [],
     "prompt_number": 9
    },
    {
     "cell_type": "heading",
     "level": 2,
     "metadata": {},
     "source": [
      "Fetch scores"
     ]
    },
    {
     "cell_type": "markdown",
     "metadata": {},
     "source": [
      "Fetch the predictor scores for each of the input datasets."
     ]
    },
    {
     "cell_type": "code",
     "collapsed": false,
     "input": [
      "clean_path(SCORES_PATH)"
     ],
     "language": "python",
     "metadata": {},
     "outputs": [],
     "prompt_number": 128
    },
    {
     "cell_type": "code",
     "collapsed": false,
     "input": [
      "%%px --local\n",
      "def fetch(in_path, out_path, predictors, db_uri, tasks_db_uri=None):\n",
      "    from ipnb.tasks.db import Task\n",
      "    from fannsdb.db.mongodb import FannsMongoDb\n",
      "    \n",
      "    name = os.path.basename(in_path)\n",
      "    \n",
      "    if os.path.isdir(out_path):\n",
      "        in_dir = os.path.dirname(in_path)\n",
      "        if os.path.realpath(in_dir) == os.path.realpath(out_path):\n",
      "            name += \".scores\"\n",
      "        out_path = os.path.join(out_path, name)\n",
      "\n",
      "    if os.path.exists(out_path):\n",
      "        return\n",
      "    \n",
      "    coord_cols = [\"protein\", \"aa_pos\", \"aa_ref\", \"aa_alt\"]\n",
      "    \n",
      "    task = Task(tasks_db_uri or db_uri, \"transfic-fetch\", name)\n",
      "    \n",
      "    log = task.logger\n",
      "    \n",
      "    try:\n",
      "        log.info(\"Fetching ...\")\n",
      "\n",
      "        fdb = FannsMongoDb(uri=db_uri)\n",
      "\n",
      "        with open(in_path) as f, open(out_path, \"w\") as wf:\n",
      "            wf.write(\"\\t\".join([\"ID\"] + [c.upper() for c in coord_cols + predictors]) + \"\\n\")\n",
      "\n",
      "            for num_snvs, line in enumerate(f, start=1):\n",
      "                fields = line.rstrip(\"\\n\").split(\"\\t\")\n",
      "                protein, aa_pos, aa_ref, aa_alt = fields[0:4]\n",
      "                src_id = protein\n",
      "                scores = {}\n",
      "                for d in fdb.query_scores(predictors=predictors, protein=protein,\n",
      "                                          aa_pos=int(aa_pos), aa_ref=aa_ref, aa_alt=aa_alt):\n",
      "                    protein = d[\"protein\"]\n",
      "                    s = d[\"scores\"]\n",
      "                    for pred, score in s.items():\n",
      "                        if score is not None and pred not in scores:\n",
      "                            scores[pred] = score\n",
      "\n",
      "                # [str(coord[c]) for c in coord_cols]\n",
      "                wf.write(\"\\t\".join([src_id, protein, aa_pos, aa_ref, aa_alt] + [str(scores.get(p, \"\")) for p in predictors]) + \"\\n\")\n",
      "\n",
      "                if num_snvs % 1000 == 0:\n",
      "                    task.progress(num_snvs)\n",
      "\n",
      "        log.info(\"[{}] Fetched {} SNVs\".format(name, num_snvs))\n",
      "        \n",
      "        task.finished(num_snvs=num_snvs)\n",
      "    except:\n",
      "        task.error(num_snvs=num_snvs)"
     ],
     "language": "python",
     "metadata": {},
     "outputs": [],
     "prompt_number": 10
    },
    {
     "cell_type": "code",
     "collapsed": false,
     "input": [
      "os.chdir(WORK_PATH)\n",
      "\n",
      "sorted(os.listdir(\"snvs\"))"
     ],
     "language": "python",
     "metadata": {},
     "outputs": [
      {
       "metadata": {},
       "output_type": "pyout",
       "prompt_number": 11,
       "text": [
        "['c52-1',\n",
        " 'c52-2',\n",
        " 'c52-4',\n",
        " 'c52-CGC',\n",
        " 'c52-D',\n",
        " 'c52-O',\n",
        " 'c52-noCGC',\n",
        " 'cosmic-1',\n",
        " 'cosmic-2',\n",
        " 'cosmic-4',\n",
        " 'cosmic-CGC',\n",
        " 'cosmic-D',\n",
        " 'cosmic-O',\n",
        " 'cosmic-noCGC',\n",
        " 'humvar-d',\n",
        " 'humvar-n',\n",
        " 'wg-1',\n",
        " 'wg-2',\n",
        " 'wg-4',\n",
        " 'wg-CGC',\n",
        " 'wg-PD',\n",
        " 'wg-TD',\n",
        " 'wg-noCGC',\n",
        " 'wg-noPD',\n",
        " 'wg-noTD']"
       ]
      }
     ],
     "prompt_number": 11
    },
    {
     "cell_type": "code",
     "collapsed": false,
     "input": [
      "os.chdir(WORK_PATH)\n",
      "\n",
      "ds = [os.path.join(WORK_PATH, \"snvs\", d) for d in sorted(os.listdir(\"snvs\"))]\n",
      "\n",
      "fn = partial(fetch, out_path=SCORES_PATH, predictors=PREDICTORS, db_conf=FANNSDB)\n",
      "fetch_amr = lb.map(fn, ds)"
     ],
     "language": "python",
     "metadata": {},
     "outputs": [],
     "prompt_number": 49
    },
    {
     "cell_type": "code",
     "collapsed": false,
     "input": [
      "os.chdir(WORK_PATH)\n",
      "\n",
      "ds = [os.path.join(WORK_PATH, \"snvs\", d) for d in [\"wg-CGC\", \"wg-noCGC\"]]\n",
      "    \n",
      "fn = partial(fetch, out_path=SCORES_PATH, predictors=PREDICTORS, db_conf=FANNSDB)\n",
      "fetch_amr = lb.map(fn, ds)"
     ],
     "language": "python",
     "metadata": {},
     "outputs": [],
     "prompt_number": 39
    },
    {
     "cell_type": "code",
     "collapsed": false,
     "input": [
      "class TaskReport(object):\n",
      "    def __init__(self, name, db_conf):\n",
      "        self.name = name\n",
      "        self.conn = MongoClient(db_conf[\"url\"])\n",
      "        self.db = self.conn[db_conf[\"db\"]]\n",
      "        \n",
      "    def count_by_state(self):\n",
      "        r = self.db.tasks.aggregate([{\"$match\": {\"name\":self.name}}, {\"$group\":{\"_id\":\"$state\", \"count\":{\"$sum\":1}}}])\n",
      "        cs = {}\n",
      "        for rs in r[\"result\"]:\n",
      "            cs[rs[\"_id\"]] = rs[\"count\"]\n",
      "        return cs"
     ],
     "language": "python",
     "metadata": {},
     "outputs": [],
     "prompt_number": 13
    },
    {
     "cell_type": "code",
     "collapsed": false,
     "input": [
      "r = TaskReport(\"transfic-fetch\", db_conf=FANNSDB)\n",
      "r.count_by_state()"
     ],
     "language": "python",
     "metadata": {},
     "outputs": [
      {
       "metadata": {},
       "output_type": "pyout",
       "prompt_number": 51,
       "text": [
        "{u'finished': 25}"
       ]
      }
     ],
     "prompt_number": 51
    },
    {
     "cell_type": "code",
     "collapsed": false,
     "input": [
      "display_task(client, fetch_amr)"
     ],
     "language": "python",
     "metadata": {},
     "outputs": [
      {
       "output_type": "stream",
       "stream": "stdout",
       "text": [
        "[0] [70956427-2ceb-4b96-91c2-62299b87129c]\n",
        "\n",
        "Submitted: 2014-04-02 12:13:26, Started: 12:13:26, Completed: 12:13:26, Received: 12:13:26\n",
        "()\n",
        "[1] [cbfc9dc3-9346-4514-a2c7-b253e754af7d]\n",
        "\n",
        "Submitted: 2014-04-02 12:13:26, Started: 12:13:26, Completed: 12:13:26, Received: 12:13:26\n",
        "\n",
        "[stdout]\n",
        "2014-04-02 12:13:26.267365 INFO Fetching ...\n",
        "2014-04-02 12:13:26.530999 INFO [c52-2] Fetched 69 SNVs\n",
        "\n",
        "()\n",
        "[2] [418a04ed-cbb9-44e2-aa17-5a491c05c233]\n",
        "\n",
        "Submitted: 2014-04-02 12:13:26, Started: 12:13:26, Completed: 12:13:26, Received: 12:13:26\n",
        "()\n",
        "[3] [66ef2db2-7694-4528-a5e2-45686107d9c3]\n",
        "\n",
        "Started: 2014-04-02 12:13:26, Completed: 12:13:26, Received: 12:13:26\n",
        "()\n",
        "[4] [58cfd578-fe3b-48c7-b7e2-4af83927cf8b]\n",
        "\n",
        "Started: 2014-04-02 12:13:26, Completed: 12:13:26, Received: 12:13:26\n",
        "()\n",
        "[5] [3d345ab4-02f6-4533-b6e1-2c9defb18ef5]\n",
        "\n",
        "Started: 2014-04-02 12:13:26, Completed: 12:13:26, Received: 12:13:26\n",
        "()\n",
        "[6] [1c45eff3-aa7b-4a27-bddf-29a12c85a277]\n",
        "\n",
        "Started: 2014-04-02 12:13:26, Completed: 12:13:35, Received: 12:13:35\n",
        "\n",
        "[stdout]\n",
        "2014-04-02 12:13:26.428356 INFO Fetching ...\n",
        "2014-04-02 12:13:35.010506 INFO [c52-noCGC] Fetched 4917 SNVs\n",
        "\n",
        "()\n",
        "[7] [0d2407dc-6c30-40ff-917e-0351787f04f8]\n",
        "\n",
        "Started: 2014-04-02 12:13:26, Completed: 12:22:28, Received: 12:22:28\n",
        "\n",
        "[stdout]\n",
        "2014-04-02 12:13:26.423854 INFO Fetching ...\n",
        "2014-04-02 12:22:28.151192 INFO [cosmic-1] Fetched 335386 SNVs\n",
        "\n",
        "()\n",
        "[8] [3f823353-7fef-4234-b0f5-c9891c862af8]\n",
        "\n",
        "Started: 2014-04-02 12:13:26, Completed: 12:13:26, Received: 12:13:26\n",
        "()\n",
        "[9] [ccaead23-9826-4f48-a8a4-c8277c2a8397]\n",
        "\n",
        "Started: 2014-04-02 12:13:26, Completed: 12:13:28, Received: 12:13:28\n",
        "\n",
        "[stdout]\n",
        "2014-04-02 12:13:26.417515 INFO Fetching ...\n",
        "2014-04-02 12:13:28.400641 INFO [cosmic-4] Fetched 1072 SNVs\n",
        "\n",
        "()\n",
        "[10] [ab45985a-caa6-4153-996e-6e4964140638]\n",
        "\n",
        "Started: 2014-04-02 12:13:26, Completed: 12:13:50, Received: 12:13:50\n",
        "\n",
        "[stdout]\n",
        "2014-04-02 12:13:26.426412 INFO Fetching ...\n",
        "2014-04-02 12:13:50.919617 INFO [cosmic-CGC] Fetched 14447 SNVs\n",
        "\n",
        "()\n",
        "[11] [306da8f0-d269-4604-bcac-bb8af31479d0]\n",
        "\n",
        "Started: 2014-04-02 12:13:26, Completed: 12:13:35, Received: 12:13:35\n",
        "\n",
        "[stdout]\n",
        "2014-04-02 12:13:26.422831 INFO Fetching ...\n",
        "2014-04-02 12:13:35.623166 INFO [cosmic-D] Fetched 5125 SNVs\n",
        "\n",
        "()"
       ]
      },
      {
       "output_type": "stream",
       "stream": "stdout",
       "text": [
        "\n",
        "[12] [bfd931aa-2da4-453c-ad3d-da259c6ad6f1]\n",
        "\n",
        "Started: 2014-04-02 12:13:26, Completed: 12:22:14, Received: 12:22:14\n",
        "\n",
        "[stdout]\n",
        "2014-04-02 12:13:26.427883 INFO Fetching ...\n",
        "2014-04-02 12:22:14.650231 INFO [cosmic-O] Fetched 330736 SNVs\n",
        "\n",
        "()\n",
        "[13] [2650cd85-016f-4d21-8d31-c45a5939ab2c]\n",
        "\n",
        "Started: 2014-04-02 12:13:26, Completed: 12:13:26, Received: 12:13:26\n",
        "()\n",
        "[14] [582ecbae-e5c3-4d27-8de4-524bdefe70e1]\n",
        "\n",
        "Started: 2014-04-02 12:13:26, Completed: 12:14:44, Received: 12:14:44\n",
        "\n",
        "[stdout]\n",
        "2014-04-02 12:13:26.418203 INFO Fetching ...\n",
        "2014-04-02 12:14:44.928854 INFO [humvar-d] Fetched 22196 SNVs\n",
        "\n",
        "()\n",
        "[15] [b765c5cd-5e23-4ccd-97f7-4c19c2ce541e]\n",
        "\n",
        "Started: 2014-04-02 12:13:26, Completed: 12:14:40, Received: 12:14:40\n",
        "\n",
        "[stdout]\n",
        "2014-04-02 12:13:26.429028 INFO Fetching ...\n",
        "2014-04-02 12:14:40.813194 INFO [humvar-n] Fetched 21151 SNVs\n",
        "\n",
        "()\n",
        "[16] [7a2200e9-a151-410d-b43e-4511ff9d72f6]\n",
        "\n",
        "Started: 2014-04-02 12:13:26, Completed: 12:25:15, Received: 12:25:15\n",
        "\n",
        "[stdout]\n",
        "2014-04-02 12:13:26.432505 INFO Fetching ...\n",
        "2014-04-02 12:25:15.436852 INFO [wg-1] Fetched 469692 SNVs\n",
        "\n",
        "()\n",
        "[17] [a6f2dfdc-a432-4f69-b278-8266ae9a85e1]\n",
        "\n",
        "Started: 2014-04-02 12:13:26, Completed: 12:13:57, Received: 12:13:57\n",
        "\n",
        "[stdout]\n",
        "2014-04-02 12:13:26.422315 INFO Fetching ...\n",
        "2014-04-02 12:13:57.354841 INFO [wg-2] Fetched 18831 SNVs\n",
        "\n",
        "()\n",
        "[18] [5b7fec0a-22e6-4cf5-8603-6169a3be99b3]\n",
        "\n",
        "Started: 2014-04-02 12:13:26, Completed: 12:13:28, Received: 12:13:28\n",
        "\n",
        "[stdout]\n",
        "2014-04-02 12:13:26.424178 INFO Fetching ...\n",
        "2014-04-02 12:13:28.164582 INFO [wg-4] Fetched 967 SNVs\n",
        "\n",
        "()\n",
        "[19] [f10f2ae9-662c-40d8-aa38-e8384dbb0653]\n",
        "\n",
        "Started: 2014-04-02 12:13:26, Completed: 12:13:26, Received: 12:13:26\n",
        "()\n",
        "[20] [8f0e6364-0e27-40b4-979d-256ec3813360]\n",
        "\n",
        "Started: 2014-04-02 12:13:26, Completed: 12:14:04, Received: 12:14:04\n",
        "\n",
        "[stdout]\n",
        "2014-04-02 12:13:26.425358 INFO Fetching ...\n",
        "2014-04-02 12:14:04.459228 INFO [wg-PD] Fetched 24125 SNVs\n",
        "\n",
        "()\n",
        "[21] [8fd691aa-d051-4378-aa4f-7767e81893bb]\n",
        "\n",
        "Started: 2014-04-02 12:13:26, Completed: 12:13:55, Received: 12:13:55\n",
        "\n",
        "[stdout]\n",
        "2014-04-02 12:13:26.424399 INFO Fetching ...\n",
        "2014-04-02 12:13:55.554036 INFO [wg-TD] Fetched 17772 SNVs\n",
        "\n",
        "()\n",
        "[22] [a40ab6fc-ca84-4641-b112-56e2dc4542ba]\n",
        "\n",
        "Started: 2014-04-02 12:13:26, Completed: 12:13:26, Received: 12:13:26\n",
        "()\n",
        "[23] [37ba0141-77c3-44d5-87da-7f2e3e75209c]\n",
        "\n",
        "Started: 2014-04-02 12:13:26, Completed: 12:24:50, Received: 12:24:50\n",
        "\n",
        "[stdout]\n",
        "2014-04-02 12:13:26.422843 INFO Fetching ...\n",
        "2014-04-02 12:24:50.786886 INFO [wg-noPD] Fetched 447010 SNVs\n",
        "\n",
        "()"
       ]
      },
      {
       "output_type": "stream",
       "stream": "stdout",
       "text": [
        "\n",
        "[24] [ad271ff0-9543-46a0-acaa-9024df02d2f8]\n",
        "\n",
        "Started: 2014-04-02 12:13:26, Completed: 12:24:39, Received: 12:24:39\n",
        "\n",
        "[stdout]\n",
        "2014-04-02 12:13:26.425957 INFO Fetching ...\n",
        "2014-04-02 12:24:39.747329 INFO [wg-noTD] Fetched 453126 SNVs\n",
        "\n"
       ]
      }
     ],
     "prompt_number": 52
    },
    {
     "cell_type": "code",
     "collapsed": false,
     "input": [
      "fetch_amr.r"
     ],
     "language": "python",
     "metadata": {},
     "outputs": []
    },
    {
     "cell_type": "markdown",
     "metadata": {},
     "source": [
      "Create a dataset with all the mutations"
     ]
    },
    {
     "cell_type": "code",
     "collapsed": false,
     "input": [
      "os.chdir(SNVS_PATH)\n",
      "!cat cosmic-{1,2,4,CGC,D,noCGC,O} | cut -s -f 2,3,4,5 | sort -u >cosmic-all.tsv\n",
      "!cat wg-{1,2,4,CGC,noCGC,TD,noTD,PD,noPD} | cut -s -f 2,3,4,5 | sort -u >wg-all.tsv\n",
      "!cat humvar-{d,n} | cut -s -f 2,3,4,5 | grep ENSP | sort -u >humvar-all.tsv\n",
      "!cat {cosmic,wg,humvar}-all.tsv | sort -u | awk 'BEGIN{FS=\"\\t\";OFS=\"\\t\"}(length($3)==1&&length($4)==1){print $1,$3$2$4}' >all-snvs.tsv\n",
      "!rm {cosmic,wg,humvar}-all.tsv\n",
      "!gzip all-snvs.tsv\n",
      "!mv all-snvs.tsv $WORK_PATH/"
     ],
     "language": "python",
     "metadata": {},
     "outputs": [],
     "prompt_number": 13
    },
    {
     "cell_type": "heading",
     "level": 2,
     "metadata": {},
     "source": [
      "Prepare training datasets"
     ]
    },
    {
     "cell_type": "code",
     "collapsed": false,
     "input": [
      "clean_path(TSETS_PATH)"
     ],
     "language": "python",
     "metadata": {},
     "outputs": [],
     "prompt_number": 53
    },
    {
     "cell_type": "code",
     "collapsed": false,
     "input": [
      "wg_tsets = [\n",
      "    (\"wg-2\", \"wg-1\"),\n",
      "    (\"wg-4\", \"wg-1\"),\n",
      "    (\"wg-TD\", \"wg-noTD\"), # Tamborero et al\n",
      "    (\"wg-PD\", \"wg-noPD\"), # In preparation\n",
      "    (\"wg-CGC\", \"wg-noCGC\"),\n",
      "]\n",
      "\n",
      "cosmic_tsets = [\n",
      "    (\"cosmic-2\", \"cosmic-1\"),\n",
      "    (\"cosmic-4\", \"cosmic-1\"),\n",
      "    (\"cosmic-2\", \"humvar-n\"),\n",
      "    (\"cosmic-4\", \"humvar-n\"),\n",
      "    (\"cosmic-D\", \"cosmic-O\"),\n",
      "    (\"cosmic-CGC\", \"cosmic-noCGC\")\n",
      "]\n",
      "\n",
      "c52_tsets = [\n",
      "    (\"c52-2\", \"c52-1\"),\n",
      "    (\"c52-4\", \"c52-1\"),\n",
      "    (\"c52-2\", \"humvar-n\"),\n",
      "    (\"c52-4\", \"humvar-n\"),\n",
      "    (\"c52-D\", \"c52-O\"),\n",
      "    (\"c52-CGC\", \"c52-noCGC\")\n",
      "]\n",
      "\n",
      "tsets = wg_tsets + cosmic_tsets + c52_tsets\n",
      "tset_names = [\"{}__{}\".format(p, n) for p, n in tsets]"
     ],
     "language": "python",
     "metadata": {},
     "outputs": [],
     "prompt_number": 217
    },
    {
     "cell_type": "code",
     "collapsed": false,
     "input": [
      "tsets = c52_tsets\n",
      "tset_names = [\"{}__{}\".format(p, n) for p, n in c52_tsets]"
     ],
     "language": "python",
     "metadata": {},
     "outputs": [],
     "prompt_number": 193
    },
    {
     "cell_type": "code",
     "collapsed": false,
     "input": [
      "for pos_name, neg_name in tsets:\n",
      "    name = \"{}__{}\".format(pos_name, neg_name)\n",
      "    tset_name = os.path.join(TSETS_PATH, name)\n",
      "    pos_count = neg_count = 0\n",
      "    with open(tset_name, \"w\") as wf:\n",
      "        with open(os.path.join(SCORES_PATH, pos_name)) as f:\n",
      "            wf.write(f.readline())\n",
      "            for line in f:\n",
      "                pos_count += 1\n",
      "                i = line.find(\"\\t\")\n",
      "                wf.write(\"POS\" + line[i:])\n",
      "        with open(os.path.join(SCORES_PATH, neg_name)) as f:\n",
      "            f.readline()\n",
      "            for line in f:\n",
      "                neg_count += 1\n",
      "                i = line.find(\"\\t\")\n",
      "                wf.write(\"NEG\" + line[i:])\n",
      "    \n",
      "    print(\"{:25}  POS: [{:7}]  NEG: [{:7}]\".format(name, pos_count, neg_count))"
     ],
     "language": "python",
     "metadata": {},
     "outputs": [
      {
       "output_type": "stream",
       "stream": "stdout",
       "text": [
        "wg-2__wg-1                 POS: [  18831]  NEG: [ 469692]\n",
        "wg-4__wg-1                 POS: [    967]  NEG: [ 469692]"
       ]
      },
      {
       "output_type": "stream",
       "stream": "stdout",
       "text": [
        "\n",
        "wg-TD__wg-noTD             POS: [  17772]  NEG: [ 453126]"
       ]
      },
      {
       "output_type": "stream",
       "stream": "stdout",
       "text": [
        "\n",
        "wg-PD__wg-noPD             POS: [  24125]  NEG: [ 447010]"
       ]
      },
      {
       "output_type": "stream",
       "stream": "stdout",
       "text": [
        "\n",
        "wg-CGC__wg-noCGC           POS: [  16592]  NEG: [ 454149]"
       ]
      },
      {
       "output_type": "stream",
       "stream": "stdout",
       "text": [
        "\n",
        "cosmic-2__cosmic-1         POS: [  20946]  NEG: [ 335386]"
       ]
      },
      {
       "output_type": "stream",
       "stream": "stdout",
       "text": [
        "\n",
        "cosmic-4__cosmic-1         POS: [   1072]  NEG: [ 335386]"
       ]
      },
      {
       "output_type": "stream",
       "stream": "stdout",
       "text": [
        "\n",
        "cosmic-2__humvar-n         POS: [  20946]  NEG: [  21151]"
       ]
      },
      {
       "output_type": "stream",
       "stream": "stdout",
       "text": [
        "\n",
        "cosmic-4__humvar-n         POS: [   1072]  NEG: [  21151]"
       ]
      },
      {
       "output_type": "stream",
       "stream": "stdout",
       "text": [
        "\n",
        "cosmic-D__cosmic-O         POS: [   5125]  NEG: [ 330736]"
       ]
      },
      {
       "output_type": "stream",
       "stream": "stdout",
       "text": [
        "\n",
        "cosmic-CGC__cosmic-noCGC   POS: [  14447]  NEG: [ 322114]"
       ]
      },
      {
       "output_type": "stream",
       "stream": "stdout",
       "text": [
        "\n",
        "c52-2__c52-1               POS: [     69]  NEG: [   5182]\n",
        "c52-4__c52-1               POS: [     11]  NEG: [   5182]\n",
        "c52-2__humvar-n            POS: [     69]  NEG: [  21151]"
       ]
      },
      {
       "output_type": "stream",
       "stream": "stdout",
       "text": [
        "\n",
        "c52-4__humvar-n            POS: [     11]  NEG: [  21151]"
       ]
      },
      {
       "output_type": "stream",
       "stream": "stdout",
       "text": [
        "\n",
        "c52-D__c52-O               POS: [    237]  NEG: [   4990]\n",
        "c52-CGC__c52-noCGC         POS: [    311]  NEG: [   4917]"
       ]
      },
      {
       "output_type": "stream",
       "stream": "stdout",
       "text": [
        "\n"
       ]
      }
     ],
     "prompt_number": 218
    },
    {
     "cell_type": "code",
     "collapsed": false,
     "input": [
      "for pos_name, neg_name in [(\"humvar-d\", \"humvar-n\")]:\n",
      "    name = \"{}__{}\".format(pos_name, neg_name)\n",
      "    tset_name = os.path.join(TSETS_PATH, name)\n",
      "    pos_count = neg_count = 0\n",
      "    with open(tset_name, \"w\") as wf:\n",
      "        with open(os.path.join(SCORES_PATH, pos_name)) as f:\n",
      "            wf.write(f.readline())\n",
      "            for line in f:\n",
      "                pos_count += 1\n",
      "                i = line.find(\"\\t\")\n",
      "                wf.write(\"POS\" + line[i:])\n",
      "        with open(os.path.join(SCORES_PATH, neg_name)) as f:\n",
      "            f.readline()\n",
      "            for line in f:\n",
      "                neg_count += 1\n",
      "                i = line.find(\"\\t\")\n",
      "                wf.write(\"NEG\" + line[i:])\n",
      "    \n",
      "    print(\"{:25}  POS: [{:7}]  NEG: [{:7}]\".format(name, pos_count, neg_count))"
     ],
     "language": "python",
     "metadata": {},
     "outputs": [
      {
       "output_type": "stream",
       "stream": "stdout",
       "text": [
        "humvar-d__humvar-n         POS: [  22196]  NEG: [  21151]\n"
       ]
      }
     ],
     "prompt_number": 293
    },
    {
     "cell_type": "markdown",
     "metadata": {},
     "source": [
      "**Documentation talking about unbalanced classes:**\n",
      "\n",
      "http://weka.8497.n7.nabble.com/Unbalanced-class-problem-td24681.html\n",
      "Weka supports several methods for dealing with imbalanced data in classifiers that typically have problems with class imbalance.  You can subsample the majority class (try the filter SpreadSubsample).  You can oversample the minority class, creating synthetic examples (try SMOTE).  Or you can make your classifier cost sensitive (try the metaclassifier CostSensitiveClassifier).  Each of the methods has it's own strengths and weaknesses, refer to the papers referenced in the documentation of each one.\n",
      "\n",
      "Section 4 of this paper:\n",
      "http://www.ele.uri.edu/faculty/he/PDFfiles/ImbalancedLearning.pdf"
     ]
    },
    {
     "cell_type": "heading",
     "level": 2,
     "metadata": {},
     "source": [
      "Calculate TransFIC for the training datasets"
     ]
    },
    {
     "cell_type": "code",
     "collapsed": false,
     "input": [
      "clean_path(TFIC_PATH)"
     ],
     "language": "python",
     "metadata": {},
     "outputs": [],
     "prompt_number": 56
    },
    {
     "cell_type": "markdown",
     "metadata": {},
     "source": [
      "Load the baseline tolerance statistics"
     ]
    },
    {
     "cell_type": "code",
     "collapsed": false,
     "input": [
      "%%px --local\n",
      "def load_blt_stats(path):\n",
      "    import json\n",
      "    with open(path) as f:\n",
      "        doc = json.load(f)\n",
      "        blt_stats = doc[\"blt\"]\n",
      "    return blt_stats"
     ],
     "language": "python",
     "metadata": {},
     "outputs": [],
     "prompt_number": 294
    },
    {
     "cell_type": "code",
     "collapsed": false,
     "input": [
      "%%px --local\n",
      "from math import log\n",
      "def tfic_calc_tset(ds_path, blt_path):\n",
      "    from transfic.calc import tfic_calc_file\n",
      "    \n",
      "    out_path = os.path.join(TFIC_PATH, os.path.basename(ds_path))\n",
      "    \n",
      "    blt_stats = load_blt_stats(blt_path)\n",
      "    \n",
      "    tfic_calc_file(ds_path, out_path, PREDICTORS, TFIC_PREDICTORS, \"PROTEIN\", blt_stats, TFIC_TRANSFORMS)\n",
      "    "
     ],
     "language": "python",
     "metadata": {},
     "outputs": [],
     "prompt_number": 295
    },
    {
     "cell_type": "code",
     "collapsed": false,
     "input": [
      "paths = sorted([os.path.join(TSETS_PATH, fname) for fname in tset_names])\n",
      "fn = partial(tfic_calc_tset, blt_path=BLT_PATH)\n",
      "tc_amr = lb.map(fn, paths)"
     ],
     "language": "python",
     "metadata": {},
     "outputs": [],
     "prompt_number": 194
    },
    {
     "cell_type": "code",
     "collapsed": false,
     "input": [
      "paths = sorted([os.path.join(TSETS_PATH, fname) for fname in [\"humvar-d__humvar-n\"]])\n",
      "fn = partial(tfic_calc_tset, blt_path=BLT_PATH)\n",
      "tc_amr = lb.map(fn, paths)"
     ],
     "language": "python",
     "metadata": {},
     "outputs": [],
     "prompt_number": 296
    },
    {
     "cell_type": "code",
     "collapsed": false,
     "input": [
      "display_task(client, tc_amr)"
     ],
     "language": "python",
     "metadata": {},
     "outputs": []
    },
    {
     "cell_type": "code",
     "collapsed": false,
     "input": [
      "tc_amr.r"
     ],
     "language": "python",
     "metadata": {},
     "outputs": [
      {
       "metadata": {},
       "output_type": "pyout",
       "prompt_number": 297,
       "text": [
        "[None]"
       ]
      }
     ],
     "prompt_number": 297
    },
    {
     "cell_type": "heading",
     "level": 2,
     "metadata": {},
     "source": [
      "Calculate metrics"
     ]
    },
    {
     "cell_type": "code",
     "collapsed": false,
     "input": [
      "clean_path(METRICS_PATH)"
     ],
     "language": "python",
     "metadata": {},
     "outputs": [],
     "prompt_number": 63
    },
    {
     "cell_type": "code",
     "collapsed": false,
     "input": [
      "clean_path(IMAGES_PATH)"
     ],
     "language": "python",
     "metadata": {},
     "outputs": [],
     "prompt_number": 64
    },
    {
     "cell_type": "code",
     "collapsed": false,
     "input": [
      "%%px --local\n",
      "def calc_metrics(tset_path, metrics_base_path, predictors, db_uri, overwrite=False):\n",
      "    import os\n",
      "    import json\n",
      "    from condel.metrics import perf_metrics\n",
      "    \n",
      "    basename = os.path.basename(tset_path)\n",
      "    \n",
      "    metrics_path = os.path.join(metrics_base_path, basename)\n",
      "    if not overwrite and os.path.exists(metrics_path):\n",
      "        return\n",
      "    \n",
      "    with Task(db_uri, \"transfic-calc-metrics\", basename) as task:\n",
      "        task.logger.info(\"Calculating metrics for {} ...\".format(basename))\n",
      "\n",
      "        if basename == \"cosmic-2__humvar-n\":\n",
      "            m = perf_metrics(predictors, tset_path, transforms=METRICS_TRANSFORMS, title=basename,\n",
      "                             undersampling=False, scores=PERF_SCORES)\n",
      "        else:\n",
      "            m = perf_metrics(predictors, tset_path, transforms=METRICS_TRANSFORMS, title=basename,\n",
      "                             undersampling=True, num_samples=4, scores=PERF_SCORES)\n",
      "\n",
      "        task.logger.info(\"Saving metrics ...\")\n",
      "\n",
      "        with open(metrics_path, \"w\") as f:\n",
      "            json.dump(m, f)\n",
      "\n",
      "        task.logger.info(\"Done\")"
     ],
     "language": "python",
     "metadata": {},
     "outputs": [],
     "prompt_number": 142
    },
    {
     "cell_type": "code",
     "collapsed": false,
     "input": [
      "paths = sorted([os.path.join(TFIC_PATH, fname) for fname in tset_names])\n",
      "fn = partial(calc_metrics, metrics_base_path=METRICS_PATH, predictors=ALL_PREDICTORS, db_uri=FANNSDB[\"uri\"])\n",
      "cm_amr = lb.map_async(fn, paths)"
     ],
     "language": "python",
     "metadata": {},
     "outputs": [],
     "prompt_number": 197
    },
    {
     "cell_type": "code",
     "collapsed": false,
     "input": [
      "paths = sorted([os.path.join(TFIC_PATH, fname) for fname in c52_names])\n",
      "fn = partial(calc_metrics, metrics_base_path=METRICS_PATH, predictors=ALL_PREDICTORS, db_uri=FANNSDB[\"uri\"])\n",
      "cm_amr = lb.map_async(fn, paths) #[os.path.join(TFIC_PATH, \"cosmic-4__humvar-n\")])"
     ],
     "language": "python",
     "metadata": {},
     "outputs": [],
     "prompt_number": 191
    },
    {
     "cell_type": "code",
     "collapsed": false,
     "input": [
      "display_task(client, cm_amr)"
     ],
     "language": "python",
     "metadata": {},
     "outputs": [
      {
       "output_type": "stream",
       "stream": "stdout",
       "text": [
        "[0] [08e24bbf-bf03-46a1-873d-8fa8373c306b]\n",
        "\n",
        "Submitted: 2014-04-02 15:52:28\n",
        "\n",
        "[stdout]\n",
        "2014-04-02 15:52:28 transfic-calc-metrics/c52-2__c52-1 [INFO   ] Task transfic-calc-metrics/c52-2__c52-1 started on host node3\n",
        "2014-04-02 15:52:28 transfic-calc-metrics/c52-2__c52-1 [INFO   ] Task transfic-calc-metrics/c52-2__c52-1 started on host node3\n",
        "2014-04-02 15:52:28 transfic-calc-metrics/c52-2__c52-1 [INFO   ] Calculating metrics for c52-2__c52-1 ...\n",
        "2014-04-02 15:52:28 transfic-calc-metrics/c52-2__c52-1 [INFO   ] Calculating metrics for c52-2__c52-1 ...\n",
        "\n",
        "\n",
        "[stderr]\n",
        "/data/users/cperez/.virtualenvs/notebooks/lib/python2.7/site-packages/sklearn/metrics/metrics.py:1734: UserWarning: The sum of true positives and false positives are equal to zero for some labels. Precision is ill defined for those labels [0]. The precision and recall are equal to zero for some labels. fbeta_score is ill defined for those labels [0]. \n",
        "  average=average)\n",
        "/data/users/cperez/.virtualenvs/notebooks/lib/python2.7/site-packages/sklearn/metrics/metrics.py:1809: UserWarning: The sum of true positives and false positives are equal to zero for some labels. Precision is ill defined for those labels [0]. The precision and recall are equal to zero for some labels. fbeta_score is ill defined for those labels [0]. \n",
        "  average=average)\n",
        "/data/users/cperez/.virtualenvs/notebooks/lib/python2.7/site-packages/sklearn/metrics/metrics.py:1734: UserWarning: The precision and recall are equal to zero for some labels. fbeta_score is ill defined for those labels [0]. \n",
        "  average=average)\n",
        "/data/users/cperez/.virtualenvs/notebooks/lib/python2.7/site-packages/sklearn/metrics/metrics.py:1809: UserWarning: The precision and recall are equal to zero for some labels. fbeta_score is ill defined for those labels [0]. \n",
        "  average=average)\n",
        "/data/users/cperez/.virtualenvs/notebooks/lib/python2.7/site-packages/sklearn/metrics/metrics.py:1734: UserWarning: The precision and recall are equal to zero for some labels. fbeta_score is ill defined for those labels [1]. \n",
        "  average=average)\n",
        "/data/users/cperez/.virtualenvs/notebooks/lib/python2.7/site-packages/sklearn/metrics/metrics.py:1809: UserWarning: The precision and recall are equal to zero for some labels. fbeta_score is ill defined for those labels [1]. \n",
        "  average=average)\n",
        "/data/users/cperez/.virtualenvs/notebooks/lib/python2.7/site-packages/sklearn/metrics/metrics.py:1734: UserWarning: The sum of true positives and false positives are equal to zero for some labels. Precision is ill defined for those labels [1]. The precision and recall are equal to zero for some labels. fbeta_score is ill defined for those labels [1]. \n",
        "  average=average)\n",
        "\n",
        "()\n",
        "[1] [9c6f5a0a-e283-4929-aae2-468aae6b1e6f]\n",
        "\n",
        "Submitted: 2014-04-02 15:52:28\n",
        "\n",
        "[stdout]\n",
        "2014-04-02 15:52:28 transfic-calc-metrics/c52-2__humvar-n [INFO   ] Task transfic-calc-metrics/c52-2__humvar-n started on host node2\n",
        "2014-04-02 15:52:28 transfic-calc-metrics/c52-2__humvar-n [INFO   ] Task transfic-calc-metrics/c52-2__humvar-n started on host node2\n",
        "2014-04-02 15:52:28 transfic-calc-metrics/c52-2__humvar-n [INFO   ] Calculating metrics for c52-2__humvar-n ...\n",
        "2014-04-02 15:52:28 transfic-calc-metrics/c52-2__humvar-n [INFO   ] Calculating metrics for c52-2__humvar-n ...\n",
        "\n",
        "\n",
        "[stderr]\n",
        "/data/users/cperez/.virtualenvs/notebooks/lib/python2.7/site-packages/sklearn/metrics/metrics.py:1734: UserWarning: The sum of true positives and false positives are equal to zero for some labels. Precision is ill defined for those labels [0]. The precision and recall are equal to zero for some labels. fbeta_score is ill defined for those labels [0]. \n",
        "  average=average)\n",
        "/data/users/cperez/.virtualenvs/notebooks/lib/python2.7/site-packages/sklearn/metrics/metrics.py:1809: UserWarning: The sum of true positives and false positives are equal to zero for some labels. Precision is ill defined for those labels [0]. The precision and recall are equal to zero for some labels. fbeta_score is ill defined for those labels [0]. \n",
        "  average=average)\n",
        "/data/users/cperez/.virtualenvs/notebooks/lib/python2.7/site-packages/sklearn/metrics/metrics.py:1734: UserWarning: The precision and recall are equal to zero for some labels. fbeta_score is ill defined for those labels [1]. \n",
        "  average=average)\n",
        "/data/users/cperez/.virtualenvs/notebooks/lib/python2.7/site-packages/sklearn/metrics/metrics.py:1809: UserWarning: The precision and recall are equal to zero for some labels. fbeta_score is ill defined for those labels [1]. \n",
        "  average=average)\n",
        "/data/users/cperez/.virtualenvs/notebooks/lib/python2.7/site-packages/sklearn/metrics/metrics.py:1734: UserWarning: The sum of true positives and false positives are equal to zero for some labels. Precision is ill defined for those labels [1]. The precision and recall are equal to zero for some labels. fbeta_score is ill defined for those labels [1]. \n",
        "  average=average)\n",
        "\n",
        "()\n",
        "[2] [b9ffad73-212f-4132-abd9-7cbacf386996]\n",
        "\n",
        "Submitted: 2014-04-02 15:52:28\n",
        "\n",
        "[stdout]\n",
        "2014-04-02 15:52:28 transfic-calc-metrics/c52-4__c52-1 [INFO   ] Task transfic-calc-metrics/c52-4__c52-1 started on host node5\n",
        "2014-04-02 15:52:28 transfic-calc-metrics/c52-4__c52-1 [INFO   ] Task transfic-calc-metrics/c52-4__c52-1 started on host node5\n",
        "2014-04-02 15:52:28 transfic-calc-metrics/c52-4__c52-1 [INFO   ] Calculating metrics for c52-4__c52-1 ...\n",
        "2014-04-02 15:52:28 transfic-calc-metrics/c52-4__c52-1 [INFO   ] Calculating metrics for c52-4__c52-1 ...\n",
        "\n",
        "\n",
        "[stderr]\n",
        "/data/users/cperez/.virtualenvs/notebooks/lib/python2.7/site-packages/sklearn/metrics/metrics.py:1734: UserWarning: The sum of true positives and false positives are equal to zero for some labels. Precision is ill defined for those labels [0]. The precision and recall are equal to zero for some labels. fbeta_score is ill defined for those labels [0]. \n",
        "  average=average)\n",
        "/data/users/cperez/.virtualenvs/notebooks/lib/python2.7/site-packages/sklearn/metrics/metrics.py:1809: UserWarning: The sum of true positives and false positives are equal to zero for some labels. Precision is ill defined for those labels [0]. The precision and recall are equal to zero for some labels. fbeta_score is ill defined for those labels [0]. \n",
        "  average=average)\n",
        "/data/users/cperez/.virtualenvs/notebooks/lib/python2.7/site-packages/sklearn/metrics/metrics.py:1734: UserWarning: The precision and recall are equal to zero for some labels. fbeta_score is ill defined for those labels [0]. \n",
        "  average=average)\n",
        "/data/users/cperez/.virtualenvs/notebooks/lib/python2.7/site-packages/sklearn/metrics/metrics.py:1809: UserWarning: The precision and recall are equal to zero for some labels. fbeta_score is ill defined for those labels [0]. \n",
        "  average=average)\n",
        "/data/users/cperez/.virtualenvs/notebooks/lib/python2.7/site-packages/sklearn/metrics/metrics.py:1734: UserWarning: The precision and recall are equal to zero for some labels. fbeta_score is ill defined for those labels [1]. \n",
        "  average=average)\n",
        "\n",
        "()\n",
        "[3] [9d9da195-fd29-4a60-9df5-fbf7ea8b9fc4]\n",
        "\n",
        "Submitted: 2014-04-02 15:52:28\n",
        "\n",
        "[stdout]\n",
        "2014-04-02 15:52:28 transfic-calc-metrics/c52-4__humvar-n [INFO   ] Task transfic-calc-metrics/c52-4__humvar-n started on host node3\n",
        "2014-04-02 15:52:28 transfic-calc-metrics/c52-4__humvar-n [INFO   ] Task transfic-calc-metrics/c52-4__humvar-n started on host node3\n",
        "2014-04-02 15:52:28 transfic-calc-metrics/c52-4__humvar-n [INFO   ] Calculating metrics for c52-4__humvar-n ...\n",
        "2014-04-02 15:52:28 transfic-calc-metrics/c52-4__humvar-n [INFO   ] Calculating metrics for c52-4__humvar-n ...\n",
        "\n",
        "\n",
        "[stderr]\n",
        "/data/users/cperez/.virtualenvs/notebooks/lib/python2.7/site-packages/sklearn/metrics/metrics.py:1734: UserWarning: The sum of true positives and false positives are equal to zero for some labels. Precision is ill defined for those labels [0]. The precision and recall are equal to zero for some labels. fbeta_score is ill defined for those labels [0]. \n",
        "  average=average)\n",
        "/data/users/cperez/.virtualenvs/notebooks/lib/python2.7/site-packages/sklearn/metrics/metrics.py:1809: UserWarning: The sum of true positives and false positives are equal to zero for some labels. Precision is ill defined for those labels [0]. The precision and recall are equal to zero for some labels. fbeta_score is ill defined for those labels [0]. \n",
        "  average=average)\n",
        "/data/users/cperez/.virtualenvs/notebooks/lib/python2.7/site-packages/sklearn/metrics/metrics.py:1734: UserWarning: The precision and recall are equal to zero for some labels. fbeta_score is ill defined for those labels [1]. \n",
        "  average=average)\n",
        "/data/users/cperez/.virtualenvs/notebooks/lib/python2.7/site-packages/sklearn/metrics/metrics.py:1809: UserWarning: The precision and recall are equal to zero for some labels. fbeta_score is ill defined for those labels [1]. \n",
        "  average=average)\n",
        "/data/users/cperez/.virtualenvs/notebooks/lib/python2.7/site-packages/sklearn/metrics/metrics.py:1734: UserWarning: The sum of true positives and false positives are equal to zero for some labels. Precision is ill defined for those labels [1]. The precision and recall are equal to zero for some labels. fbeta_score is ill defined for those labels [1]. \n",
        "  average=average)\n",
        "\n",
        "()\n",
        "[4] [17e94402-83ac-4e0a-973d-a724ff4265dc]\n",
        "\n",
        "Submitted: 2014-04-02 15:52:28\n",
        "\n",
        "[stdout]\n",
        "2014-04-02 15:52:28 transfic-calc-metrics/c52-CGC__c52-noCGC [INFO   ] Task transfic-calc-metrics/c52-CGC__c52-noCGC started on host node2\n",
        "2014-04-02 15:52:28 transfic-calc-metrics/c52-CGC__c52-noCGC [INFO   ] Task transfic-calc-metrics/c52-CGC__c52-noCGC started on host node2\n",
        "2014-04-02 15:52:28 transfic-calc-metrics/c52-CGC__c52-noCGC [INFO   ] Calculating metrics for c52-CGC__c52-noCGC ...\n",
        "2014-04-02 15:52:28 transfic-calc-metrics/c52-CGC__c52-noCGC [INFO   ] Calculating metrics for c52-CGC__c52-noCGC ...\n",
        "\n",
        "\n",
        "[stderr]\n",
        "/data/users/cperez/.virtualenvs/notebooks/lib/python2.7/site-packages/sklearn/metrics/metrics.py:1734: UserWarning: The sum of true positives and false positives are equal to zero for some labels. Precision is ill defined for those labels [0]. The precision and recall are equal to zero for some labels. fbeta_score is ill defined for those labels [0]. \n",
        "  average=average)\n",
        "/data/users/cperez/.virtualenvs/notebooks/lib/python2.7/site-packages/sklearn/metrics/metrics.py:1809: UserWarning: The sum of true positives and false positives are equal to zero for some labels. Precision is ill defined for those labels [0]. The precision and recall are equal to zero for some labels. fbeta_score is ill defined for those labels [0]. \n",
        "  average=average)\n",
        "/data/users/cperez/.virtualenvs/notebooks/lib/python2.7/site-packages/sklearn/metrics/metrics.py:1734: UserWarning: The precision and recall are equal to zero for some labels. fbeta_score is ill defined for those labels [1]. \n",
        "  average=average)\n",
        "/data/users/cperez/.virtualenvs/notebooks/lib/python2.7/site-packages/sklearn/metrics/metrics.py:1809: UserWarning: The precision and recall are equal to zero for some labels. fbeta_score is ill defined for those labels [1]. \n",
        "  average=average)\n",
        "/data/users/cperez/.virtualenvs/notebooks/lib/python2.7/site-packages/sklearn/metrics/metrics.py:1734: UserWarning: The sum of true positives and false positives are equal to zero for some labels. Precision is ill defined for those labels [1]. The precision and recall are equal to zero for some labels. fbeta_score is ill defined for those labels [1]. \n",
        "  average=average)\n",
        "\n",
        "()\n",
        "[5] [922dd6a5-4f41-4d1e-b0d7-1c9000848b76]\n",
        "\n",
        "[stdout]\n",
        "2014-04-02 15:52:28 transfic-calc-metrics/c52-D__c52-O [INFO   ] Task transfic-calc-metrics/c52-D__c52-O started on host node4\n",
        "2014-04-02 15:52:28 transfic-calc-metrics/c52-D__c52-O [INFO   ] Task transfic-calc-metrics/c52-D__c52-O started on host node4\n",
        "2014-04-02 15:52:28 transfic-calc-metrics/c52-D__c52-O [INFO   ] Calculating metrics for c52-D__c52-O ...\n",
        "2014-04-02 15:52:28 transfic-calc-metrics/c52-D__c52-O [INFO   ] Calculating metrics for c52-D__c52-O ...\n",
        "\n",
        "\n",
        "[stderr]\n",
        "/data/users/cperez/.virtualenvs/notebooks/lib/python2.7/site-packages/sklearn/metrics/metrics.py:1734: UserWarning: The sum of true positives and false positives are equal to zero for some labels. Precision is ill defined for those labels [0]. The precision and recall are equal to zero for some labels. fbeta_score is ill defined for those labels [0]. \n",
        "  average=average)\n",
        "/data/users/cperez/.virtualenvs/notebooks/lib/python2.7/site-packages/sklearn/metrics/metrics.py:1809: UserWarning: The sum of true positives and false positives are equal to zero for some labels. Precision is ill defined for those labels [0]. The precision and recall are equal to zero for some labels. fbeta_score is ill defined for those labels [0]. \n",
        "  average=average)\n",
        "/data/users/cperez/.virtualenvs/notebooks/lib/python2.7/site-packages/sklearn/metrics/metrics.py:1734: UserWarning: The precision and recall are equal to zero for some labels. fbeta_score is ill defined for those labels [1]. \n",
        "  average=average)\n",
        "/data/users/cperez/.virtualenvs/notebooks/lib/python2.7/site-packages/sklearn/metrics/metrics.py:1809: UserWarning: The precision and recall are equal to zero for some labels. fbeta_score is ill defined for those labels [1]. \n",
        "  average=average)\n",
        "/data/users/cperez/.virtualenvs/notebooks/lib/python2.7/site-packages/sklearn/metrics/metrics.py:1734: UserWarning: The sum of true positives and false positives are equal to zero for some labels. Precision is ill defined for those labels [1]. The precision and recall are equal to zero for some labels. fbeta_score is ill defined for those labels [1]. \n",
        "  average=average)\n",
        "\n"
       ]
      }
     ],
     "prompt_number": 198
    },
    {
     "cell_type": "code",
     "collapsed": false,
     "input": [
      "cm_amr.r"
     ],
     "language": "python",
     "metadata": {},
     "outputs": [
      {
       "metadata": {},
       "output_type": "pyout",
       "prompt_number": 200,
       "text": [
        "[None, None, None, None, None, None]"
       ]
      }
     ],
     "prompt_number": 200
    },
    {
     "cell_type": "code",
     "collapsed": false,
     "input": [
      "%%px\n",
      "import condel.metrics\n",
      "reload(condel.metrics)"
     ],
     "language": "python",
     "metadata": {},
     "outputs": []
    },
    {
     "cell_type": "heading",
     "level": 2,
     "metadata": {},
     "source": [
      "Plot metrics"
     ]
    },
    {
     "cell_type": "code",
     "collapsed": false,
     "input": [
      "%%px --local\n",
      "def plot_metrics(metrics_path, image_base_path, predictors):\n",
      "    import os\n",
      "    import json\n",
      "    from condel.metrics import plot_perf_metrics\n",
      "    \n",
      "    basename = os.path.basename(metrics_path)\n",
      "    image_path = os.path.join(image_base_path, basename + \".png\")\n",
      "    \n",
      "    logger.info(\"Plotting metrics for {} ...\".format(basename))\n",
      "    \n",
      "    with open(metrics_path) as f:\n",
      "        m = json.load(f)\n",
      "    \n",
      "    plot_perf_metrics(m, image_path, predictors=predictors, perf_scores=PERF_SCORES)\n",
      "    \n",
      "    logger.info(\"Done\")"
     ],
     "language": "python",
     "metadata": {},
     "outputs": [],
     "prompt_number": 201
    },
    {
     "cell_type": "code",
     "collapsed": false,
     "input": [
      "paths = sorted([os.path.join(METRICS_PATH, fname) for fname in tset_names])\n",
      "fn = partial(plot_metrics, image_base_path=IMAGES_PATH, predictors=ALL_PREDICTORS)\n",
      "pm_amr = lb.map_async(fn, paths)"
     ],
     "language": "python",
     "metadata": {},
     "outputs": [],
     "prompt_number": 202
    },
    {
     "cell_type": "code",
     "collapsed": false,
     "input": [
      "paths = sorted([os.path.join(METRICS_PATH, fname) for fname in tset_names])\n",
      "for path in paths:\n",
      "    plot_metrics(path, image_base_path=IMAGES_PATH, predictors=ALL_PREDICTORS)"
     ],
     "language": "python",
     "metadata": {},
     "outputs": [
      {
       "output_type": "stream",
       "stream": "stdout",
       "text": [
        "2014-04-02 15:13:44 root       [INFO   ] Plotting metrics for cosmic-2__cosmic-1 ...\n"
       ]
      },
      {
       "output_type": "stream",
       "stream": "stdout",
       "text": [
        "2014-04-02 15:14:37 root       [INFO   ] Done\n"
       ]
      },
      {
       "output_type": "stream",
       "stream": "stdout",
       "text": [
        "2014-04-02 15:14:37 root       [INFO   ] Plotting metrics for cosmic-2__humvar-n ...\n"
       ]
      },
      {
       "output_type": "stream",
       "stream": "stdout",
       "text": [
        "2014-04-02 15:15:29 root       [INFO   ] Done\n"
       ]
      },
      {
       "output_type": "stream",
       "stream": "stdout",
       "text": [
        "2014-04-02 15:15:29 root       [INFO   ] Plotting metrics for cosmic-4__cosmic-1 ...\n"
       ]
      },
      {
       "output_type": "stream",
       "stream": "stdout",
       "text": [
        "2014-04-02 15:16:23 root       [INFO   ] Done\n"
       ]
      },
      {
       "output_type": "stream",
       "stream": "stdout",
       "text": [
        "2014-04-02 15:16:23 root       [INFO   ] Plotting metrics for cosmic-4__humvar-n ...\n"
       ]
      },
      {
       "output_type": "stream",
       "stream": "stdout",
       "text": [
        "2014-04-02 15:17:10 root       [INFO   ] Done\n"
       ]
      },
      {
       "output_type": "stream",
       "stream": "stdout",
       "text": [
        "2014-04-02 15:17:10 root       [INFO   ] Plotting metrics for cosmic-CGC__cosmic-noCGC ...\n"
       ]
      },
      {
       "output_type": "stream",
       "stream": "stdout",
       "text": [
        "2014-04-02 15:18:05 root       [INFO   ] Done\n"
       ]
      },
      {
       "output_type": "stream",
       "stream": "stdout",
       "text": [
        "2014-04-02 15:18:05 root       [INFO   ] Plotting metrics for cosmic-D__cosmic-O ...\n"
       ]
      },
      {
       "output_type": "stream",
       "stream": "stdout",
       "text": [
        "2014-04-02 15:18:59 root       [INFO   ] Done\n"
       ]
      },
      {
       "output_type": "stream",
       "stream": "stdout",
       "text": [
        "2014-04-02 15:18:59 root       [INFO   ] Plotting metrics for wg-2__wg-1 ...\n"
       ]
      },
      {
       "output_type": "stream",
       "stream": "stdout",
       "text": [
        "2014-04-02 15:19:59 root       [INFO   ] Done\n"
       ]
      },
      {
       "output_type": "stream",
       "stream": "stdout",
       "text": [
        "2014-04-02 15:19:59 root       [INFO   ] Plotting metrics for wg-4__wg-1 ...\n"
       ]
      },
      {
       "output_type": "stream",
       "stream": "stdout",
       "text": [
        "2014-04-02 15:20:56 root       [INFO   ] Done\n"
       ]
      },
      {
       "output_type": "stream",
       "stream": "stdout",
       "text": [
        "2014-04-02 15:20:56 root       [INFO   ] Plotting metrics for wg-CGC__wg-noCGC ...\n"
       ]
      },
      {
       "output_type": "stream",
       "stream": "stdout",
       "text": [
        "2014-04-02 15:21:54 root       [INFO   ] Done\n"
       ]
      },
      {
       "output_type": "stream",
       "stream": "stdout",
       "text": [
        "2014-04-02 15:21:54 root       [INFO   ] Plotting metrics for wg-PD__wg-noPD ...\n"
       ]
      },
      {
       "output_type": "stream",
       "stream": "stdout",
       "text": [
        "2014-04-02 15:22:54 root       [INFO   ] Done\n"
       ]
      },
      {
       "output_type": "stream",
       "stream": "stdout",
       "text": [
        "2014-04-02 15:22:54 root       [INFO   ] Plotting metrics for wg-TD__wg-noTD ...\n"
       ]
      },
      {
       "output_type": "stream",
       "stream": "stdout",
       "text": [
        "2014-04-02 15:23:54 root       [INFO   ] Done\n"
       ]
      }
     ],
     "prompt_number": 183
    },
    {
     "cell_type": "code",
     "collapsed": false,
     "input": [
      "pm_amr.wait()"
     ],
     "language": "python",
     "metadata": {},
     "outputs": []
    },
    {
     "cell_type": "code",
     "collapsed": false,
     "input": [
      "display_task(client, pm_amr)"
     ],
     "language": "python",
     "metadata": {},
     "outputs": [
      {
       "output_type": "stream",
       "stream": "stdout",
       "text": [
        "[0] [d507f986-8ce7-45f9-9c3a-d04b0acd1c27]\n",
        "\n",
        "Submitted: 2014-04-02 16:20:53\n",
        "\n",
        "[stdout]\n",
        "2014-04-02 16:20:53 root       [INFO   ] Plotting metrics for c52-2__c52-1 ...\n",
        "\n",
        "()\n",
        "[1] [ca84f3ab-3037-4f12-95c2-7e86962834f5]\n",
        "\n",
        "[stdout]\n",
        "2014-04-02 16:20:53 root       [INFO   ] Plotting metrics for c52-2__humvar-n ...\n",
        "\n",
        "()\n",
        "[2] [0feb54c0-1a45-4838-8bfb-d29eaaa2795f]\n",
        "\n",
        "[stdout]\n",
        "2014-04-02 16:20:53 root       [INFO   ] Plotting metrics for c52-4__c52-1 ...\n",
        "\n",
        "()\n",
        "[3] [d44a913f-49fc-497c-a618-368aa5e43b18]\n",
        "\n",
        "[stdout]\n",
        "2014-04-02 16:20:53 root       [INFO   ] Plotting metrics for c52-4__humvar-n ...\n",
        "\n",
        "()\n",
        "[4] [755db97c-055e-4019-ba66-71482ff071e0]\n",
        "\n",
        "[stdout]\n",
        "2014-04-02 16:20:53 root       [INFO   ] Plotting metrics for c52-CGC__c52-noCGC ...\n",
        "\n",
        "()\n",
        "[5] [81662bb9-a829-43b1-abdd-7d8db520b3df]\n",
        "\n",
        "[stdout]\n",
        "2014-04-02 16:20:53 root       [INFO   ] Plotting metrics for c52-D__c52-O ...\n",
        "\n"
       ]
      }
     ],
     "prompt_number": 204
    },
    {
     "cell_type": "heading",
     "level": 2,
     "metadata": {},
     "source": [
      "Plot datasets performance"
     ]
    },
    {
     "cell_type": "code",
     "collapsed": false,
     "input": [
      "cflags = \" \".join([\"-c {0}/TFIC_{0}\".format(p) for p in PREDICTORS])\n",
      "metrics_files = \" \".join([\"metrics/{}\".format(name) for name in tset_names])\n",
      "os.chdir(WORK_PATH)\n",
      "!transfic-perf-plot -L debug -o images/perf-1kg.png -H 14 -W 14 $cflags $metrics_files"
     ],
     "language": "python",
     "metadata": {},
     "outputs": [
      {
       "output_type": "stream",
       "stream": "stdout",
       "text": [
        "2014-04-02 15:39:51 perf-plot INFO  : wg-2__wg-1 ...\r\n"
       ]
      },
      {
       "output_type": "stream",
       "stream": "stdout",
       "text": [
        "2014-04-02 15:39:52 perf-plot INFO  : wg-4__wg-1 ...\r\n"
       ]
      },
      {
       "output_type": "stream",
       "stream": "stdout",
       "text": [
        "2014-04-02 15:39:52 perf-plot INFO  : wg-TD__wg-noTD ...\r\n"
       ]
      },
      {
       "output_type": "stream",
       "stream": "stdout",
       "text": [
        "2014-04-02 15:39:53 perf-plot INFO  : wg-PD__wg-noPD ...\r\n"
       ]
      },
      {
       "output_type": "stream",
       "stream": "stdout",
       "text": [
        "2014-04-02 15:39:54 perf-plot INFO  : wg-CGC__wg-noCGC ...\r\n"
       ]
      },
      {
       "output_type": "stream",
       "stream": "stdout",
       "text": [
        "2014-04-02 15:39:54 perf-plot INFO  : cosmic-2__cosmic-1 ...\r\n"
       ]
      },
      {
       "output_type": "stream",
       "stream": "stdout",
       "text": [
        "2014-04-02 15:39:55 perf-plot INFO  : cosmic-4__cosmic-1 ...\r\n"
       ]
      },
      {
       "output_type": "stream",
       "stream": "stdout",
       "text": [
        "2014-04-02 15:39:55 perf-plot INFO  : cosmic-2__humvar-n ...\r\n"
       ]
      },
      {
       "output_type": "stream",
       "stream": "stdout",
       "text": [
        "2014-04-02 15:39:56 perf-plot INFO  : cosmic-4__humvar-n ...\r\n"
       ]
      },
      {
       "output_type": "stream",
       "stream": "stdout",
       "text": [
        "2014-04-02 15:39:56 perf-plot INFO  : cosmic-D__cosmic-O ...\r\n"
       ]
      },
      {
       "output_type": "stream",
       "stream": "stdout",
       "text": [
        "2014-04-02 15:39:57 perf-plot INFO  : cosmic-CGC__cosmic-noCGC ...\r\n"
       ]
      }
     ],
     "prompt_number": 184
    },
    {
     "cell_type": "code",
     "collapsed": false,
     "input": [
      "display(Image(\"images/perf-1kg.png\", width=1024))"
     ],
     "language": "python",
     "metadata": {},
     "outputs": [
      {
       "metadata": {
        "png": {
         "width": 1024
        }
       },
       "output_type": "display_data",
       "png": "[encoded data removed]",
       "text": [
        "<IPython.core.display.Image at 0x4455dd0>"
       ]
      }
     ],
     "prompt_number": 185
    },
    {
     "cell_type": "heading",
     "level": 2,
     "metadata": {},
     "source": [
      "Pruebas"
     ]
    },
    {
     "cell_type": "code",
     "collapsed": false,
     "input": [
      "from condel.metrics import perf_metrics, plot_perf_metrics\n",
      "tset_path = os.path.join(TSETS_PATH, \"wg-TD__wg-noTD\")\n",
      "image_path = os.path.join(WORK_PATH, \"test.png\")\n",
      "m = perf_metrics([\"SIFT\", \"MA\", \"FATHMMC\"], tset_path, transforms=METRICS_TRANSFORMS, title=\"test\",\n",
      "                 undersampling=True, w=1/64.0, scores=[\"MCC\"])\n",
      "plot_perf_metrics(m, image_path)\n",
      "display(Image(image_path))"
     ],
     "language": "python",
     "metadata": {},
     "outputs": []
    },
    {
     "cell_type": "code",
     "collapsed": false,
     "input": [
      "import numpy as np\n",
      "import pandas as pd\n",
      "tset_path = os.path.join(TSETS_PATH, \"wg-CGC__wg-noCGC\")\n",
      "tset_path = os.path.join(TSETS_PATH, \"wg-TD__wg-noTD\")\n",
      "#tset_path = os.path.join(TSETS_PATH, \"cosmic-4__cosmic-1\")\n",
      "#tset_path = os.path.join(TSETS_PATH, \"humvar-d__humvar-n\")\n",
      "d = pd.read_csv(tset_path, sep=\"\\t\", index_col=False)"
     ],
     "language": "python",
     "metadata": {},
     "outputs": [],
     "prompt_number": 304
    },
    {
     "cell_type": "code",
     "collapsed": false,
     "input": [
      "pos = d[d[\"ID\"] == \"POS\"]\n",
      "neg = d[d[\"ID\"] == \"NEG\"]\n",
      "pred = \"MA\"\n",
      "p = pos[pred][np.isfinite(pos[pred])]\n",
      "n = neg[pred][np.isfinite(neg[pred])]\n",
      "print(len(p),len(n), len(n) / len(p))"
     ],
     "language": "python",
     "metadata": {},
     "outputs": [
      {
       "output_type": "stream",
       "stream": "stdout",
       "text": [
        "16225 410520 25\n"
       ]
      }
     ],
     "prompt_number": 305
    },
    {
     "cell_type": "code",
     "collapsed": false,
     "input": [
      "#fig, axis = plt.subplots(2,2, figsize=(12,12))\n",
      "d.boxplot(column=[\"SIFT\"], by=\"ID\", figsize=(8,4), widths=0.8)\n",
      "d.boxplot(column=[\"PPH2\"], by=\"ID\", figsize=(8,4), widths=0.8)\n",
      "d.boxplot(column=[\"MA\"], by=\"ID\", figsize=(8,4), widths=0.8)\n",
      "d.boxplot(column=[\"FATHMMC\"], by=\"ID\", figsize=(8,4), widths=0.8)"
     ],
     "language": "python",
     "metadata": {},
     "outputs": [
      {
       "metadata": {},
       "output_type": "pyout",
       "prompt_number": 306,
       "text": [
        "<matplotlib.axes.AxesSubplot at 0x222ff190>"
       ]
      },
      {
       "metadata": {},
       "output_type": "display_data",
       "png": "[encoded data removed]",
       "text": [
        "<matplotlib.figure.Figure at 0x1ecc7c50>"
       ]
      },
      {
       "metadata": {},
       "output_type": "display_data",
       "png": "[encoded data removed]",
       "text": [
        "<matplotlib.figure.Figure at 0x2023c990>"
       ]
      },
      {
       "metadata": {},
       "output_type": "display_data",
       "png": "[encoded data removed]",
       "text": [
        "<matplotlib.figure.Figure at 0x21a79fd0>"
       ]
      },
      {
       "metadata": {},
       "output_type": "display_data",
       "png": "[encoded data removed]",
       "text": [
        "<matplotlib.figure.Figure at 0x17caf210>"
       ]
      }
     ],
     "prompt_number": 306
    },
    {
     "cell_type": "code",
     "collapsed": false,
     "input": [
      "plt.figure()\n",
      "p.hist(bins=100)\n",
      "plt.xlim(-2, 6)"
     ],
     "language": "python",
     "metadata": {},
     "outputs": [
      {
       "metadata": {},
       "output_type": "pyout",
       "prompt_number": 301,
       "text": [
        "(-2, 6)"
       ]
      },
      {
       "metadata": {},
       "output_type": "display_data",
       "png": "[encoded data removed]",
       "text": [
        "<matplotlib.figure.Figure at 0x15d97710>"
       ]
      }
     ],
     "prompt_number": 301
    },
    {
     "cell_type": "code",
     "collapsed": false,
     "input": [
      "plt.figure()\n",
      "n.hist(bins=100)\n",
      "plt.xlim(-2, 6)"
     ],
     "language": "python",
     "metadata": {},
     "outputs": [
      {
       "metadata": {},
       "output_type": "pyout",
       "prompt_number": 302,
       "text": [
        "(-2, 6)"
       ]
      },
      {
       "metadata": {},
       "output_type": "display_data",
       "png": "[encoded data removed]",
       "text": [
        "<matplotlib.figure.Figure at 0x199b3f50>"
       ]
      }
     ],
     "prompt_number": 302
    },
    {
     "cell_type": "code",
     "collapsed": false,
     "input": [
      "if pred in METRICS_TRANSFORMS:\n",
      "    transform = METRICS_TRANSFORMS[pred]\n",
      "    p = p.map(transform)\n",
      "    n = n.map(transform)"
     ],
     "language": "python",
     "metadata": {},
     "outputs": []
    },
    {
     "cell_type": "code",
     "collapsed": false,
     "input": [
      "%matplotlib inline\n",
      "import matplotlib.pyplot as plt\n",
      "from sklearn.neighbors.kde import KernelDensity\n",
      "\n",
      "nkde = KernelDensity(bandwidth=0.2).fit(n.reshape(-1, 1))\n",
      "nx = np.linspace(n.min(), n.max(), 100).reshape(-1, 1)\n",
      "nda = np.exp(nkde.score_samples(nx))\n",
      "plt.plot(nx, nda)\n",
      "\n",
      "pkde = KernelDensity(bandwidth=0.2).fit(p.reshape(-1, 1))\n",
      "px = np.linspace(p.min(), p.max(), 100).reshape(-1, 1)\n",
      "pda = np.exp(pkde.score_samples(px))\n",
      "plt.plot(px, pda)"
     ],
     "language": "python",
     "metadata": {},
     "outputs": [
      {
       "metadata": {},
       "output_type": "pyout",
       "prompt_number": 303,
       "text": [
        "[<matplotlib.lines.Line2D at 0x1ecc72d0>]"
       ]
      },
      {
       "metadata": {},
       "output_type": "display_data",
       "png": "[encoded data removed]",
       "text": [
        "<matplotlib.figure.Figure at 0x222f01d0>"
       ]
      }
     ],
     "prompt_number": 303
    },
    {
     "cell_type": "code",
     "collapsed": false,
     "input": [
      "import random\n",
      "import numpy as np\n",
      "import pandas as pd\n",
      "from sklearn.metrics import matthews_corrcoef, accuracy_score, f1_score, roc_curve, auc\n",
      "\n",
      "def calc_perf(y_true, pos, neg, cutoffs, perf):\n",
      "    tset = pd.concat([pos, neg])\n",
      "    for i, cutoff in enumerate(cutoffs):\n",
      "        y_pred = tset >= cutoff\n",
      "        perf[i] = matthews_corrcoef(y_true, y_pred)\n",
      "    return tset\n",
      "\n",
      "def sampled_perf(y_true, pos, neg, neg_index, cutoffs, perf):\n",
      "    nr = random.sample(neg_index, len(pos.index))\n",
      "    neg_sample = neg.ix[nr]\n",
      "    tset = calc_perf(y_true, pos, neg_sample, cutoffs, perf)\n",
      "    return nr, tset\n",
      "\n",
      "def balanced_perf(pos, neg, cutoffs):\n",
      "    num_pos = len(pos.index)\n",
      "    num_neg = len(neg.index)\n",
      "    num_perf = 1 # mcc, acc\n",
      "    if False:\n",
      "        y_true = np.empty(num_pos + num_neg, np.int8)\n",
      "        y_true[:num_pos] = 1\n",
      "        y_true[num_pos:] = 0\n",
      "        perf = np.empty((cutoffs.shape[0], num_perf, 1))\n",
      "        tset = calc_perf(y_true, pos, neg, cutoffs, perf)\n",
      "    else:\n",
      "        y_true = np.empty(num_pos * 2, np.int8)\n",
      "        y_true[:num_pos] = 1\n",
      "        y_true[num_pos:] = 0\n",
      "        num_samples = int(num_neg / num_pos)\n",
      "        #num_samples = 4\n",
      "        perf = np.empty((cutoffs.shape[0], num_samples))\n",
      "        for s in xrange(num_samples):\n",
      "            ri, tset = sampled_perf(y_true, pos, neg, neg.index, cutoffs, perf[:,s])\n",
      "            neg = neg.drop(ri)\n",
      "        display(pd.DataFrame(perf, index=cutoffs))\n",
      "    return pd.DataFrame(perf.mean(axis=1), index=cutoffs)"
     ],
     "language": "python",
     "metadata": {},
     "outputs": [],
     "prompt_number": 226
    },
    {
     "cell_type": "code",
     "collapsed": false,
     "input": [
      "from condel.metrics import perf_metrics, plot_perf_metrics\n",
      "rmin = min(p.min(), n.min())\n",
      "rmax = max(p.max(), n.max())\n",
      "w = 1.0 / 32.0\n",
      "cutoffs = np.arange(rmin, rmax + w, w)\n",
      "#cutoffs = np.array([0.781])\n",
      "perf = balanced_perf(p, n, cutoffs)"
     ],
     "language": "python",
     "metadata": {},
     "outputs": [
      {
       "html": [
        "<div style=\"max-height:1000px;max-width:1500px;overflow:auto;\">\n",
        "<table border=\"1\" class=\"dataframe\">\n",
        "  <thead>\n",
        "    <tr style=\"text-align: right;\">\n",
        "      <th></th>\n",
        "      <th>0</th>\n",
        "      <th>1</th>\n",
        "      <th>2</th>\n",
        "      <th>3</th>\n",
        "      <th>4</th>\n",
        "      <th>5</th>\n",
        "      <th>6</th>\n",
        "      <th>7</th>\n",
        "      <th>8</th>\n",
        "      <th>9</th>\n",
        "      <th>10</th>\n",
        "      <th>11</th>\n",
        "      <th>12</th>\n",
        "      <th>13</th>\n",
        "      <th>14</th>\n",
        "      <th>15</th>\n",
        "      <th>16</th>\n",
        "      <th>17</th>\n",
        "    </tr>\n",
        "  </thead>\n",
        "  <tbody>\n",
        "    <tr>\n",
        "      <th>0.00000</th>\n",
        "      <td> 0.000000</td>\n",
        "      <td> 0.000000</td>\n",
        "      <td> 0.000000</td>\n",
        "      <td> 0.000000</td>\n",
        "      <td> 0.000000</td>\n",
        "      <td> 0.000000</td>\n",
        "      <td> 0.000000</td>\n",
        "      <td> 0.000000</td>\n",
        "      <td> 0.000000</td>\n",
        "      <td> 0.000000</td>\n",
        "      <td> 0.000000</td>\n",
        "      <td> 0.000000</td>\n",
        "      <td> 0.000000</td>\n",
        "      <td> 0.000000</td>\n",
        "      <td> 0.000000</td>\n",
        "      <td> 0.000000</td>\n",
        "      <td> 0.000000</td>\n",
        "      <td> 0.000000</td>\n",
        "    </tr>\n",
        "    <tr>\n",
        "      <th>0.03125</th>\n",
        "      <td> 0.027266</td>\n",
        "      <td> 0.025609</td>\n",
        "      <td> 0.028634</td>\n",
        "      <td> 0.028634</td>\n",
        "      <td> 0.030395</td>\n",
        "      <td> 0.027403</td>\n",
        "      <td> 0.029268</td>\n",
        "      <td> 0.027997</td>\n",
        "      <td> 0.031336</td>\n",
        "      <td> 0.030171</td>\n",
        "      <td> 0.025239</td>\n",
        "      <td> 0.029675</td>\n",
        "      <td> 0.025702</td>\n",
        "      <td> 0.026071</td>\n",
        "      <td> 0.025053</td>\n",
        "      <td> 0.026715</td>\n",
        "      <td> 0.029178</td>\n",
        "      <td> 0.027677</td>\n",
        "    </tr>\n",
        "    <tr>\n",
        "      <th>0.06250</th>\n",
        "      <td> 0.025717</td>\n",
        "      <td> 0.023860</td>\n",
        "      <td> 0.026901</td>\n",
        "      <td> 0.026726</td>\n",
        "      <td> 0.028424</td>\n",
        "      <td> 0.025849</td>\n",
        "      <td> 0.026945</td>\n",
        "      <td> 0.025056</td>\n",
        "      <td> 0.028727</td>\n",
        "      <td> 0.027729</td>\n",
        "      <td> 0.023013</td>\n",
        "      <td> 0.026814</td>\n",
        "      <td> 0.023905</td>\n",
        "      <td> 0.023415</td>\n",
        "      <td> 0.023103</td>\n",
        "      <td> 0.025101</td>\n",
        "      <td> 0.027207</td>\n",
        "      <td> 0.025937</td>\n",
        "    </tr>\n",
        "    <tr>\n",
        "      <th>0.09375</th>\n",
        "      <td> 0.026201</td>\n",
        "      <td> 0.024556</td>\n",
        "      <td> 0.027832</td>\n",
        "      <td> 0.027791</td>\n",
        "      <td> 0.029944</td>\n",
        "      <td> 0.026537</td>\n",
        "      <td> 0.027624</td>\n",
        "      <td> 0.026075</td>\n",
        "      <td> 0.028788</td>\n",
        "      <td> 0.029738</td>\n",
        "      <td> 0.024004</td>\n",
        "      <td> 0.027999</td>\n",
        "      <td> 0.025444</td>\n",
        "      <td> 0.025781</td>\n",
        "      <td> 0.024852</td>\n",
        "      <td> 0.025781</td>\n",
        "      <td> 0.028580</td>\n",
        "      <td> 0.026747</td>\n",
        "    </tr>\n",
        "    <tr>\n",
        "      <th>0.12500</th>\n",
        "      <td> 0.026975</td>\n",
        "      <td> 0.026491</td>\n",
        "      <td> 0.029579</td>\n",
        "      <td> 0.029300</td>\n",
        "      <td> 0.031401</td>\n",
        "      <td> 0.028021</td>\n",
        "      <td> 0.028742</td>\n",
        "      <td> 0.027257</td>\n",
        "      <td> 0.029738</td>\n",
        "      <td> 0.030729</td>\n",
        "      <td> 0.026491</td>\n",
        "      <td> 0.030413</td>\n",
        "      <td> 0.027298</td>\n",
        "      <td> 0.027378</td>\n",
        "      <td> 0.026167</td>\n",
        "      <td> 0.027056</td>\n",
        "      <td> 0.030611</td>\n",
        "      <td> 0.028542</td>\n",
        "    </tr>\n",
        "    <tr>\n",
        "      <th>0.15625</th>\n",
        "      <td> 0.026086</td>\n",
        "      <td> 0.025854</td>\n",
        "      <td> 0.027472</td>\n",
        "      <td> 0.028161</td>\n",
        "      <td> 0.030178</td>\n",
        "      <td> 0.026395</td>\n",
        "      <td> 0.027970</td>\n",
        "      <td> 0.026433</td>\n",
        "      <td> 0.027702</td>\n",
        "      <td> 0.030594</td>\n",
        "      <td> 0.024885</td>\n",
        "      <td> 0.029495</td>\n",
        "      <td> 0.025854</td>\n",
        "      <td> 0.026202</td>\n",
        "      <td> 0.026356</td>\n",
        "      <td> 0.025970</td>\n",
        "      <td> 0.028390</td>\n",
        "      <td> 0.028390</td>\n",
        "    </tr>\n",
        "    <tr>\n",
        "      <th>0.18750</th>\n",
        "      <td> 0.026627</td>\n",
        "      <td> 0.025447</td>\n",
        "      <td> 0.027765</td>\n",
        "      <td> 0.027582</td>\n",
        "      <td> 0.029878</td>\n",
        "      <td> 0.025632</td>\n",
        "      <td> 0.027619</td>\n",
        "      <td> 0.026001</td>\n",
        "      <td> 0.026664</td>\n",
        "      <td> 0.029261</td>\n",
        "      <td> 0.023440</td>\n",
        "      <td> 0.028751</td>\n",
        "      <td> 0.025706</td>\n",
        "      <td> 0.026038</td>\n",
        "      <td> 0.025299</td>\n",
        "      <td> 0.025188</td>\n",
        "      <td> 0.027655</td>\n",
        "      <td> 0.027728</td>\n",
        "    </tr>\n",
        "    <tr>\n",
        "      <th>0.21875</th>\n",
        "      <td> 0.027173</td>\n",
        "      <td> 0.027067</td>\n",
        "      <td> 0.028619</td>\n",
        "      <td> 0.028478</td>\n",
        "      <td> 0.031381</td>\n",
        "      <td> 0.025896</td>\n",
        "      <td> 0.028724</td>\n",
        "      <td> 0.026429</td>\n",
        "      <td> 0.028689</td>\n",
        "      <td> 0.030231</td>\n",
        "      <td> 0.025076</td>\n",
        "      <td> 0.030545</td>\n",
        "      <td> 0.025967</td>\n",
        "      <td> 0.027491</td>\n",
        "      <td> 0.026002</td>\n",
        "      <td> 0.026712</td>\n",
        "      <td> 0.029672</td>\n",
        "      <td> 0.029321</td>\n",
        "    </tr>\n",
        "    <tr>\n",
        "      <th>0.25000</th>\n",
        "      <td> 0.029134</td>\n",
        "      <td> 0.028190</td>\n",
        "      <td> 0.030844</td>\n",
        "      <td> 0.030543</td>\n",
        "      <td> 0.033006</td>\n",
        "      <td> 0.027311</td>\n",
        "      <td> 0.030443</td>\n",
        "      <td> 0.028528</td>\n",
        "      <td> 0.030877</td>\n",
        "      <td> 0.030944</td>\n",
        "      <td> 0.026394</td>\n",
        "      <td> 0.032808</td>\n",
        "      <td> 0.026734</td>\n",
        "      <td> 0.030643</td>\n",
        "      <td> 0.028021</td>\n",
        "      <td> 0.029302</td>\n",
        "      <td> 0.030443</td>\n",
        "      <td> 0.031711</td>\n",
        "    </tr>\n",
        "    <tr>\n",
        "      <th>0.28125</th>\n",
        "      <td> 0.030067</td>\n",
        "      <td> 0.028558</td>\n",
        "      <td> 0.029534</td>\n",
        "      <td> 0.029093</td>\n",
        "      <td> 0.034021</td>\n",
        "      <td> 0.026278</td>\n",
        "      <td> 0.030412</td>\n",
        "      <td> 0.029156</td>\n",
        "      <td> 0.030224</td>\n",
        "      <td> 0.030287</td>\n",
        "      <td> 0.026564</td>\n",
        "      <td> 0.031350</td>\n",
        "      <td> 0.027231</td>\n",
        "      <td> 0.030787</td>\n",
        "      <td> 0.027040</td>\n",
        "      <td> 0.029031</td>\n",
        "      <td> 0.031131</td>\n",
        "      <td> 0.032253</td>\n",
        "    </tr>\n",
        "    <tr>\n",
        "      <th>0.31250</th>\n",
        "      <td> 0.033556</td>\n",
        "      <td> 0.029439</td>\n",
        "      <td> 0.030249</td>\n",
        "      <td> 0.030459</td>\n",
        "      <td> 0.034621</td>\n",
        "      <td> 0.028356</td>\n",
        "      <td> 0.032280</td>\n",
        "      <td> 0.030728</td>\n",
        "      <td> 0.031296</td>\n",
        "      <td> 0.032755</td>\n",
        "      <td> 0.027177</td>\n",
        "      <td> 0.032815</td>\n",
        "      <td> 0.027993</td>\n",
        "      <td> 0.032131</td>\n",
        "      <td> 0.028657</td>\n",
        "      <td> 0.029830</td>\n",
        "      <td> 0.031773</td>\n",
        "      <td> 0.033912</td>\n",
        "    </tr>\n",
        "    <tr>\n",
        "      <th>0.34375</th>\n",
        "      <td> 0.034356</td>\n",
        "      <td> 0.031181</td>\n",
        "      <td> 0.032128</td>\n",
        "      <td> 0.031009</td>\n",
        "      <td> 0.034640</td>\n",
        "      <td> 0.028671</td>\n",
        "      <td> 0.032558</td>\n",
        "      <td> 0.032701</td>\n",
        "      <td> 0.032329</td>\n",
        "      <td> 0.033758</td>\n",
        "      <td> 0.028119</td>\n",
        "      <td> 0.033444</td>\n",
        "      <td> 0.029307</td>\n",
        "      <td> 0.033101</td>\n",
        "      <td> 0.030116</td>\n",
        "      <td> 0.030087</td>\n",
        "      <td> 0.032930</td>\n",
        "      <td> 0.034412</td>\n",
        "    </tr>\n",
        "    <tr>\n",
        "      <th>0.37500</th>\n",
        "      <td> 0.036393</td>\n",
        "      <td> 0.032984</td>\n",
        "      <td> 0.033833</td>\n",
        "      <td> 0.032984</td>\n",
        "      <td> 0.036909</td>\n",
        "      <td> 0.029539</td>\n",
        "      <td> 0.034106</td>\n",
        "      <td> 0.036122</td>\n",
        "      <td> 0.033668</td>\n",
        "      <td> 0.035959</td>\n",
        "      <td> 0.030258</td>\n",
        "      <td> 0.034761</td>\n",
        "      <td> 0.029871</td>\n",
        "      <td> 0.033805</td>\n",
        "      <td> 0.030893</td>\n",
        "      <td> 0.031527</td>\n",
        "      <td> 0.033778</td>\n",
        "      <td> 0.035823</td>\n",
        "    </tr>\n",
        "    <tr>\n",
        "      <th>0.40625</th>\n",
        "      <td> 0.036733</td>\n",
        "      <td> 0.032146</td>\n",
        "      <td> 0.033489</td>\n",
        "      <td> 0.033541</td>\n",
        "      <td> 0.036602</td>\n",
        "      <td> 0.030904</td>\n",
        "      <td> 0.035167</td>\n",
        "      <td> 0.035219</td>\n",
        "      <td> 0.033068</td>\n",
        "      <td> 0.035036</td>\n",
        "      <td> 0.030056</td>\n",
        "      <td> 0.035663</td>\n",
        "      <td> 0.030692</td>\n",
        "      <td> 0.034040</td>\n",
        "      <td> 0.030719</td>\n",
        "      <td> 0.032067</td>\n",
        "      <td> 0.033961</td>\n",
        "      <td> 0.036941</td>\n",
        "    </tr>\n",
        "    <tr>\n",
        "      <th>0.43750</th>\n",
        "      <td> 0.038672</td>\n",
        "      <td> 0.034512</td>\n",
        "      <td> 0.034537</td>\n",
        "      <td> 0.034461</td>\n",
        "      <td> 0.038398</td>\n",
        "      <td> 0.033603</td>\n",
        "      <td> 0.036472</td>\n",
        "      <td> 0.037049</td>\n",
        "      <td> 0.034335</td>\n",
        "      <td> 0.036372</td>\n",
        "      <td> 0.031424</td>\n",
        "      <td> 0.037949</td>\n",
        "      <td> 0.033426</td>\n",
        "      <td> 0.034612</td>\n",
        "      <td> 0.032693</td>\n",
        "      <td> 0.033300</td>\n",
        "      <td> 0.037124</td>\n",
        "      <td> 0.038024</td>\n",
        "    </tr>\n",
        "    <tr>\n",
        "      <th>0.46875</th>\n",
        "      <td> 0.040794</td>\n",
        "      <td> 0.037020</td>\n",
        "      <td> 0.036923</td>\n",
        "      <td> 0.037285</td>\n",
        "      <td> 0.041177</td>\n",
        "      <td> 0.035834</td>\n",
        "      <td> 0.038587</td>\n",
        "      <td> 0.039860</td>\n",
        "      <td> 0.036270</td>\n",
        "      <td> 0.038322</td>\n",
        "      <td> 0.032649</td>\n",
        "      <td> 0.040243</td>\n",
        "      <td> 0.034816</td>\n",
        "      <td> 0.036294</td>\n",
        "      <td> 0.034913</td>\n",
        "      <td> 0.035519</td>\n",
        "      <td> 0.039284</td>\n",
        "      <td> 0.040171</td>\n",
        "    </tr>\n",
        "    <tr>\n",
        "      <th>0.50000</th>\n",
        "      <td> 0.037428</td>\n",
        "      <td> 0.034237</td>\n",
        "      <td> 0.033587</td>\n",
        "      <td> 0.034028</td>\n",
        "      <td> 0.038831</td>\n",
        "      <td> 0.032400</td>\n",
        "      <td> 0.035835</td>\n",
        "      <td> 0.036089</td>\n",
        "      <td> 0.034330</td>\n",
        "      <td> 0.036251</td>\n",
        "      <td> 0.030555</td>\n",
        "      <td> 0.038463</td>\n",
        "      <td> 0.032959</td>\n",
        "      <td> 0.033563</td>\n",
        "      <td> 0.031770</td>\n",
        "      <td> 0.033261</td>\n",
        "      <td> 0.036667</td>\n",
        "      <td> 0.037612</td>\n",
        "    </tr>\n",
        "    <tr>\n",
        "      <th>0.53125</th>\n",
        "      <td> 0.037561</td>\n",
        "      <td> 0.034826</td>\n",
        "      <td> 0.033808</td>\n",
        "      <td> 0.035335</td>\n",
        "      <td> 0.037407</td>\n",
        "      <td> 0.032765</td>\n",
        "      <td> 0.034937</td>\n",
        "      <td> 0.035291</td>\n",
        "      <td> 0.034428</td>\n",
        "      <td> 0.036130</td>\n",
        "      <td> 0.029936</td>\n",
        "      <td> 0.038616</td>\n",
        "      <td> 0.033120</td>\n",
        "      <td> 0.033985</td>\n",
        "      <td> 0.032343</td>\n",
        "      <td> 0.031876</td>\n",
        "      <td> 0.037385</td>\n",
        "      <td> 0.037253</td>\n",
        "    </tr>\n",
        "    <tr>\n",
        "      <th>0.56250</th>\n",
        "      <td> 0.040033</td>\n",
        "      <td> 0.036227</td>\n",
        "      <td> 0.035239</td>\n",
        "      <td> 0.037085</td>\n",
        "      <td> 0.039543</td>\n",
        "      <td> 0.034379</td>\n",
        "      <td> 0.036313</td>\n",
        "      <td> 0.036420</td>\n",
        "      <td> 0.035733</td>\n",
        "      <td> 0.038048</td>\n",
        "      <td> 0.032977</td>\n",
        "      <td> 0.040118</td>\n",
        "      <td> 0.035691</td>\n",
        "      <td> 0.036699</td>\n",
        "      <td> 0.033905</td>\n",
        "      <td> 0.034572</td>\n",
        "      <td> 0.037963</td>\n",
        "      <td> 0.039052</td>\n",
        "    </tr>\n",
        "    <tr>\n",
        "      <th>0.59375</th>\n",
        "      <td> 0.044285</td>\n",
        "      <td> 0.039596</td>\n",
        "      <td> 0.038183</td>\n",
        "      <td> 0.040880</td>\n",
        "      <td> 0.042141</td>\n",
        "      <td> 0.038246</td>\n",
        "      <td> 0.039118</td>\n",
        "      <td> 0.039388</td>\n",
        "      <td> 0.040590</td>\n",
        "      <td> 0.039886</td>\n",
        "      <td> 0.037226</td>\n",
        "      <td> 0.042843</td>\n",
        "      <td> 0.039637</td>\n",
        "      <td> 0.038682</td>\n",
        "      <td> 0.036747</td>\n",
        "      <td> 0.036955</td>\n",
        "      <td> 0.040818</td>\n",
        "      <td> 0.042162</td>\n",
        "    </tr>\n",
        "    <tr>\n",
        "      <th>0.62500</th>\n",
        "      <td> 0.042588</td>\n",
        "      <td> 0.039244</td>\n",
        "      <td> 0.037253</td>\n",
        "      <td> 0.039184</td>\n",
        "      <td> 0.041109</td>\n",
        "      <td> 0.037414</td>\n",
        "      <td> 0.037978</td>\n",
        "      <td> 0.038300</td>\n",
        "      <td> 0.040247</td>\n",
        "      <td> 0.039686</td>\n",
        "      <td> 0.037152</td>\n",
        "      <td> 0.041929</td>\n",
        "      <td> 0.038601</td>\n",
        "      <td> 0.037354</td>\n",
        "      <td> 0.036285</td>\n",
        "      <td> 0.035902</td>\n",
        "      <td> 0.040047</td>\n",
        "      <td> 0.041289</td>\n",
        "    </tr>\n",
        "    <tr>\n",
        "      <th>0.65625</th>\n",
        "      <td> 0.000000</td>\n",
        "      <td> 0.000000</td>\n",
        "      <td> 0.000000</td>\n",
        "      <td> 0.000000</td>\n",
        "      <td> 0.000000</td>\n",
        "      <td> 0.000000</td>\n",
        "      <td> 0.000000</td>\n",
        "      <td> 0.000000</td>\n",
        "      <td> 0.000000</td>\n",
        "      <td> 0.000000</td>\n",
        "      <td> 0.000000</td>\n",
        "      <td> 0.000000</td>\n",
        "      <td> 0.000000</td>\n",
        "      <td> 0.000000</td>\n",
        "      <td> 0.000000</td>\n",
        "      <td> 0.000000</td>\n",
        "      <td> 0.000000</td>\n",
        "      <td> 0.000000</td>\n",
        "    </tr>\n",
        "    <tr>\n",
        "      <th>0.68750</th>\n",
        "      <td> 0.000000</td>\n",
        "      <td> 0.000000</td>\n",
        "      <td> 0.000000</td>\n",
        "      <td> 0.000000</td>\n",
        "      <td> 0.000000</td>\n",
        "      <td> 0.000000</td>\n",
        "      <td> 0.000000</td>\n",
        "      <td> 0.000000</td>\n",
        "      <td> 0.000000</td>\n",
        "      <td> 0.000000</td>\n",
        "      <td> 0.000000</td>\n",
        "      <td> 0.000000</td>\n",
        "      <td> 0.000000</td>\n",
        "      <td> 0.000000</td>\n",
        "      <td> 0.000000</td>\n",
        "      <td> 0.000000</td>\n",
        "      <td> 0.000000</td>\n",
        "      <td> 0.000000</td>\n",
        "    </tr>\n",
        "    <tr>\n",
        "      <th>0.71875</th>\n",
        "      <td> 0.000000</td>\n",
        "      <td> 0.000000</td>\n",
        "      <td> 0.000000</td>\n",
        "      <td> 0.000000</td>\n",
        "      <td> 0.000000</td>\n",
        "      <td> 0.000000</td>\n",
        "      <td> 0.000000</td>\n",
        "      <td> 0.000000</td>\n",
        "      <td> 0.000000</td>\n",
        "      <td> 0.000000</td>\n",
        "      <td> 0.000000</td>\n",
        "      <td> 0.000000</td>\n",
        "      <td> 0.000000</td>\n",
        "      <td> 0.000000</td>\n",
        "      <td> 0.000000</td>\n",
        "      <td> 0.000000</td>\n",
        "      <td> 0.000000</td>\n",
        "      <td> 0.000000</td>\n",
        "    </tr>\n",
        "    <tr>\n",
        "      <th>0.75000</th>\n",
        "      <td> 0.000000</td>\n",
        "      <td> 0.000000</td>\n",
        "      <td> 0.000000</td>\n",
        "      <td> 0.000000</td>\n",
        "      <td> 0.000000</td>\n",
        "      <td> 0.000000</td>\n",
        "      <td> 0.000000</td>\n",
        "      <td> 0.000000</td>\n",
        "      <td> 0.000000</td>\n",
        "      <td> 0.000000</td>\n",
        "      <td> 0.000000</td>\n",
        "      <td> 0.000000</td>\n",
        "      <td> 0.000000</td>\n",
        "      <td> 0.000000</td>\n",
        "      <td> 0.000000</td>\n",
        "      <td> 0.000000</td>\n",
        "      <td> 0.000000</td>\n",
        "      <td> 0.000000</td>\n",
        "    </tr>\n",
        "    <tr>\n",
        "      <th>0.78125</th>\n",
        "      <td> 0.000000</td>\n",
        "      <td> 0.000000</td>\n",
        "      <td> 0.000000</td>\n",
        "      <td> 0.000000</td>\n",
        "      <td> 0.000000</td>\n",
        "      <td> 0.000000</td>\n",
        "      <td> 0.000000</td>\n",
        "      <td> 0.000000</td>\n",
        "      <td> 0.000000</td>\n",
        "      <td> 0.000000</td>\n",
        "      <td> 0.000000</td>\n",
        "      <td> 0.000000</td>\n",
        "      <td> 0.000000</td>\n",
        "      <td> 0.000000</td>\n",
        "      <td> 0.000000</td>\n",
        "      <td> 0.000000</td>\n",
        "      <td> 0.000000</td>\n",
        "      <td> 0.000000</td>\n",
        "    </tr>\n",
        "    <tr>\n",
        "      <th>0.81250</th>\n",
        "      <td> 0.000000</td>\n",
        "      <td> 0.000000</td>\n",
        "      <td> 0.000000</td>\n",
        "      <td> 0.000000</td>\n",
        "      <td> 0.000000</td>\n",
        "      <td> 0.000000</td>\n",
        "      <td> 0.000000</td>\n",
        "      <td> 0.000000</td>\n",
        "      <td> 0.000000</td>\n",
        "      <td> 0.000000</td>\n",
        "      <td> 0.000000</td>\n",
        "      <td> 0.000000</td>\n",
        "      <td> 0.000000</td>\n",
        "      <td> 0.000000</td>\n",
        "      <td> 0.000000</td>\n",
        "      <td> 0.000000</td>\n",
        "      <td> 0.000000</td>\n",
        "      <td> 0.000000</td>\n",
        "    </tr>\n",
        "    <tr>\n",
        "      <th>0.84375</th>\n",
        "      <td> 0.000000</td>\n",
        "      <td> 0.000000</td>\n",
        "      <td> 0.000000</td>\n",
        "      <td> 0.000000</td>\n",
        "      <td> 0.000000</td>\n",
        "      <td> 0.000000</td>\n",
        "      <td> 0.000000</td>\n",
        "      <td> 0.000000</td>\n",
        "      <td> 0.000000</td>\n",
        "      <td> 0.000000</td>\n",
        "      <td> 0.000000</td>\n",
        "      <td> 0.000000</td>\n",
        "      <td> 0.000000</td>\n",
        "      <td> 0.000000</td>\n",
        "      <td> 0.000000</td>\n",
        "      <td> 0.000000</td>\n",
        "      <td> 0.000000</td>\n",
        "      <td> 0.000000</td>\n",
        "    </tr>\n",
        "    <tr>\n",
        "      <th>0.87500</th>\n",
        "      <td> 0.000000</td>\n",
        "      <td> 0.000000</td>\n",
        "      <td> 0.000000</td>\n",
        "      <td> 0.000000</td>\n",
        "      <td> 0.000000</td>\n",
        "      <td> 0.000000</td>\n",
        "      <td> 0.000000</td>\n",
        "      <td> 0.000000</td>\n",
        "      <td> 0.000000</td>\n",
        "      <td> 0.000000</td>\n",
        "      <td> 0.000000</td>\n",
        "      <td> 0.000000</td>\n",
        "      <td> 0.000000</td>\n",
        "      <td> 0.000000</td>\n",
        "      <td> 0.000000</td>\n",
        "      <td> 0.000000</td>\n",
        "      <td> 0.000000</td>\n",
        "      <td> 0.000000</td>\n",
        "    </tr>\n",
        "    <tr>\n",
        "      <th>0.90625</th>\n",
        "      <td> 0.000000</td>\n",
        "      <td> 0.000000</td>\n",
        "      <td> 0.000000</td>\n",
        "      <td> 0.000000</td>\n",
        "      <td> 0.000000</td>\n",
        "      <td> 0.000000</td>\n",
        "      <td> 0.000000</td>\n",
        "      <td> 0.000000</td>\n",
        "      <td> 0.000000</td>\n",
        "      <td> 0.000000</td>\n",
        "      <td> 0.000000</td>\n",
        "      <td> 0.000000</td>\n",
        "      <td> 0.000000</td>\n",
        "      <td> 0.000000</td>\n",
        "      <td> 0.000000</td>\n",
        "      <td> 0.000000</td>\n",
        "      <td> 0.000000</td>\n",
        "      <td> 0.000000</td>\n",
        "    </tr>\n",
        "    <tr>\n",
        "      <th>0.93750</th>\n",
        "      <td> 0.000000</td>\n",
        "      <td> 0.000000</td>\n",
        "      <td> 0.000000</td>\n",
        "      <td> 0.000000</td>\n",
        "      <td> 0.000000</td>\n",
        "      <td> 0.000000</td>\n",
        "      <td> 0.000000</td>\n",
        "      <td> 0.000000</td>\n",
        "      <td> 0.000000</td>\n",
        "      <td> 0.000000</td>\n",
        "      <td> 0.000000</td>\n",
        "      <td> 0.000000</td>\n",
        "      <td> 0.000000</td>\n",
        "      <td> 0.000000</td>\n",
        "      <td> 0.000000</td>\n",
        "      <td> 0.000000</td>\n",
        "      <td> 0.000000</td>\n",
        "      <td> 0.000000</td>\n",
        "    </tr>\n",
        "    <tr>\n",
        "      <th>0.96875</th>\n",
        "      <td> 0.000000</td>\n",
        "      <td> 0.000000</td>\n",
        "      <td> 0.000000</td>\n",
        "      <td> 0.000000</td>\n",
        "      <td> 0.000000</td>\n",
        "      <td> 0.000000</td>\n",
        "      <td> 0.000000</td>\n",
        "      <td> 0.000000</td>\n",
        "      <td> 0.000000</td>\n",
        "      <td> 0.000000</td>\n",
        "      <td> 0.000000</td>\n",
        "      <td> 0.000000</td>\n",
        "      <td> 0.000000</td>\n",
        "      <td> 0.000000</td>\n",
        "      <td> 0.000000</td>\n",
        "      <td> 0.000000</td>\n",
        "      <td> 0.000000</td>\n",
        "      <td> 0.000000</td>\n",
        "    </tr>\n",
        "    <tr>\n",
        "      <th>1.00000</th>\n",
        "      <td> 0.000000</td>\n",
        "      <td> 0.000000</td>\n",
        "      <td> 0.000000</td>\n",
        "      <td> 0.000000</td>\n",
        "      <td> 0.000000</td>\n",
        "      <td> 0.000000</td>\n",
        "      <td> 0.000000</td>\n",
        "      <td> 0.000000</td>\n",
        "      <td> 0.000000</td>\n",
        "      <td> 0.000000</td>\n",
        "      <td> 0.000000</td>\n",
        "      <td> 0.000000</td>\n",
        "      <td> 0.000000</td>\n",
        "      <td> 0.000000</td>\n",
        "      <td> 0.000000</td>\n",
        "      <td> 0.000000</td>\n",
        "      <td> 0.000000</td>\n",
        "      <td> 0.000000</td>\n",
        "    </tr>\n",
        "  </tbody>\n",
        "</table>\n",
        "<p>33 rows \u00d7 18 columns</p>\n",
        "</div>"
       ],
       "metadata": {},
       "output_type": "display_data",
       "text": [
        "               0         1         2         3         4         5         6   \\\n",
        "0.00000  0.000000  0.000000  0.000000  0.000000  0.000000  0.000000  0.000000   \n",
        "0.03125  0.027266  0.025609  0.028634  0.028634  0.030395  0.027403  0.029268   \n",
        "0.06250  0.025717  0.023860  0.026901  0.026726  0.028424  0.025849  0.026945   \n",
        "0.09375  0.026201  0.024556  0.027832  0.027791  0.029944  0.026537  0.027624   \n",
        "0.12500  0.026975  0.026491  0.029579  0.029300  0.031401  0.028021  0.028742   \n",
        "0.15625  0.026086  0.025854  0.027472  0.028161  0.030178  0.026395  0.027970   \n",
        "0.18750  0.026627  0.025447  0.027765  0.027582  0.029878  0.025632  0.027619   \n",
        "0.21875  0.027173  0.027067  0.028619  0.028478  0.031381  0.025896  0.028724   \n",
        "0.25000  0.029134  0.028190  0.030844  0.030543  0.033006  0.027311  0.030443   \n",
        "0.28125  0.030067  0.028558  0.029534  0.029093  0.034021  0.026278  0.030412   \n",
        "0.31250  0.033556  0.029439  0.030249  0.030459  0.034621  0.028356  0.032280   \n",
        "0.34375  0.034356  0.031181  0.032128  0.031009  0.034640  0.028671  0.032558   \n",
        "0.37500  0.036393  0.032984  0.033833  0.032984  0.036909  0.029539  0.034106   \n",
        "0.40625  0.036733  0.032146  0.033489  0.033541  0.036602  0.030904  0.035167   \n",
        "0.43750  0.038672  0.034512  0.034537  0.034461  0.038398  0.033603  0.036472   \n",
        "0.46875  0.040794  0.037020  0.036923  0.037285  0.041177  0.035834  0.038587   \n",
        "0.50000  0.037428  0.034237  0.033587  0.034028  0.038831  0.032400  0.035835   \n",
        "0.53125  0.037561  0.034826  0.033808  0.035335  0.037407  0.032765  0.034937   \n",
        "0.56250  0.040033  0.036227  0.035239  0.037085  0.039543  0.034379  0.036313   \n",
        "0.59375  0.044285  0.039596  0.038183  0.040880  0.042141  0.038246  0.039118   \n",
        "0.62500  0.042588  0.039244  0.037253  0.039184  0.041109  0.037414  0.037978   \n",
        "0.65625  0.000000  0.000000  0.000000  0.000000  0.000000  0.000000  0.000000   \n",
        "0.68750  0.000000  0.000000  0.000000  0.000000  0.000000  0.000000  0.000000   \n",
        "0.71875  0.000000  0.000000  0.000000  0.000000  0.000000  0.000000  0.000000   \n",
        "0.75000  0.000000  0.000000  0.000000  0.000000  0.000000  0.000000  0.000000   \n",
        "0.78125  0.000000  0.000000  0.000000  0.000000  0.000000  0.000000  0.000000   \n",
        "0.81250  0.000000  0.000000  0.000000  0.000000  0.000000  0.000000  0.000000   \n",
        "0.84375  0.000000  0.000000  0.000000  0.000000  0.000000  0.000000  0.000000   \n",
        "0.87500  0.000000  0.000000  0.000000  0.000000  0.000000  0.000000  0.000000   \n",
        "0.90625  0.000000  0.000000  0.000000  0.000000  0.000000  0.000000  0.000000   \n",
        "0.93750  0.000000  0.000000  0.000000  0.000000  0.000000  0.000000  0.000000   \n",
        "0.96875  0.000000  0.000000  0.000000  0.000000  0.000000  0.000000  0.000000   \n",
        "1.00000  0.000000  0.000000  0.000000  0.000000  0.000000  0.000000  0.000000   \n",
        "\n",
        "               7         8         9         10        11        12        13  \\\n",
        "0.00000  0.000000  0.000000  0.000000  0.000000  0.000000  0.000000  0.000000   \n",
        "0.03125  0.027997  0.031336  0.030171  0.025239  0.029675  0.025702  0.026071   \n",
        "0.06250  0.025056  0.028727  0.027729  0.023013  0.026814  0.023905  0.023415   \n",
        "0.09375  0.026075  0.028788  0.029738  0.024004  0.027999  0.025444  0.025781   \n",
        "0.12500  0.027257  0.029738  0.030729  0.026491  0.030413  0.027298  0.027378   \n",
        "0.15625  0.026433  0.027702  0.030594  0.024885  0.029495  0.025854  0.026202   \n",
        "0.18750  0.026001  0.026664  0.029261  0.023440  0.028751  0.025706  0.026038   \n",
        "0.21875  0.026429  0.028689  0.030231  0.025076  0.030545  0.025967  0.027491   \n",
        "0.25000  0.028528  0.030877  0.030944  0.026394  0.032808  0.026734  0.030643   \n",
        "0.28125  0.029156  0.030224  0.030287  0.026564  0.031350  0.027231  0.030787   \n",
        "0.31250  0.030728  0.031296  0.032755  0.027177  0.032815  0.027993  0.032131   \n",
        "0.34375  0.032701  0.032329  0.033758  0.028119  0.033444  0.029307  0.033101   \n",
        "0.37500  0.036122  0.033668  0.035959  0.030258  0.034761  0.029871  0.033805   \n",
        "0.40625  0.035219  0.033068  0.035036  0.030056  0.035663  0.030692  0.034040   \n",
        "0.43750  0.037049  0.034335  0.036372  0.031424  0.037949  0.033426  0.034612   \n",
        "0.46875  0.039860  0.036270  0.038322  0.032649  0.040243  0.034816  0.036294   \n",
        "0.50000  0.036089  0.034330  0.036251  0.030555  0.038463  0.032959  0.033563   \n",
        "0.53125  0.035291  0.034428  0.036130  0.029936  0.038616  0.033120  0.033985   \n",
        "0.56250  0.036420  0.035733  0.038048  0.032977  0.040118  0.035691  0.036699   \n",
        "0.59375  0.039388  0.040590  0.039886  0.037226  0.042843  0.039637  0.038682   \n",
        "0.62500  0.038300  0.040247  0.039686  0.037152  0.041929  0.038601  0.037354   \n",
        "0.65625  0.000000  0.000000  0.000000  0.000000  0.000000  0.000000  0.000000   \n",
        "0.68750  0.000000  0.000000  0.000000  0.000000  0.000000  0.000000  0.000000   \n",
        "0.71875  0.000000  0.000000  0.000000  0.000000  0.000000  0.000000  0.000000   \n",
        "0.75000  0.000000  0.000000  0.000000  0.000000  0.000000  0.000000  0.000000   \n",
        "0.78125  0.000000  0.000000  0.000000  0.000000  0.000000  0.000000  0.000000   \n",
        "0.81250  0.000000  0.000000  0.000000  0.000000  0.000000  0.000000  0.000000   \n",
        "0.84375  0.000000  0.000000  0.000000  0.000000  0.000000  0.000000  0.000000   \n",
        "0.87500  0.000000  0.000000  0.000000  0.000000  0.000000  0.000000  0.000000   \n",
        "0.90625  0.000000  0.000000  0.000000  0.000000  0.000000  0.000000  0.000000   \n",
        "0.93750  0.000000  0.000000  0.000000  0.000000  0.000000  0.000000  0.000000   \n",
        "0.96875  0.000000  0.000000  0.000000  0.000000  0.000000  0.000000  0.000000   \n",
        "1.00000  0.000000  0.000000  0.000000  0.000000  0.000000  0.000000  0.000000   \n",
        "\n",
        "               14        15        16        17  \n",
        "0.00000  0.000000  0.000000  0.000000  0.000000  \n",
        "0.03125  0.025053  0.026715  0.029178  0.027677  \n",
        "0.06250  0.023103  0.025101  0.027207  0.025937  \n",
        "0.09375  0.024852  0.025781  0.028580  0.026747  \n",
        "0.12500  0.026167  0.027056  0.030611  0.028542  \n",
        "0.15625  0.026356  0.025970  0.028390  0.028390  \n",
        "0.18750  0.025299  0.025188  0.027655  0.027728  \n",
        "0.21875  0.026002  0.026712  0.029672  0.029321  \n",
        "0.25000  0.028021  0.029302  0.030443  0.031711  \n",
        "0.28125  0.027040  0.029031  0.031131  0.032253  \n",
        "0.31250  0.028657  0.029830  0.031773  0.033912  \n",
        "0.34375  0.030116  0.030087  0.032930  0.034412  \n",
        "0.37500  0.030893  0.031527  0.033778  0.035823  \n",
        "0.40625  0.030719  0.032067  0.033961  0.036941  \n",
        "0.43750  0.032693  0.033300  0.037124  0.038024  \n",
        "0.46875  0.034913  0.035519  0.039284  0.040171  \n",
        "0.50000  0.031770  0.033261  0.036667  0.037612  \n",
        "0.53125  0.032343  0.031876  0.037385  0.037253  \n",
        "0.56250  0.033905  0.034572  0.037963  0.039052  \n",
        "0.59375  0.036747  0.036955  0.040818  0.042162  \n",
        "0.62500  0.036285  0.035902  0.040047  0.041289  \n",
        "0.65625  0.000000  0.000000  0.000000  0.000000  \n",
        "0.68750  0.000000  0.000000  0.000000  0.000000  \n",
        "0.71875  0.000000  0.000000  0.000000  0.000000  \n",
        "0.75000  0.000000  0.000000  0.000000  0.000000  \n",
        "0.78125  0.000000  0.000000  0.000000  0.000000  \n",
        "0.81250  0.000000  0.000000  0.000000  0.000000  \n",
        "0.84375  0.000000  0.000000  0.000000  0.000000  \n",
        "0.87500  0.000000  0.000000  0.000000  0.000000  \n",
        "0.90625  0.000000  0.000000  0.000000  0.000000  \n",
        "0.93750  0.000000  0.000000  0.000000  0.000000  \n",
        "0.96875  0.000000  0.000000  0.000000  0.000000  \n",
        "1.00000  0.000000  0.000000  0.000000  0.000000  \n",
        "\n",
        "[33 rows x 18 columns]"
       ]
      }
     ],
     "prompt_number": 233
    },
    {
     "cell_type": "code",
     "collapsed": false,
     "input": [
      "%matplotlib inline\n",
      "import matplotlib.pyplot as plt\n",
      "plt.plot(cutoffs, perf[0])"
     ],
     "language": "python",
     "metadata": {},
     "outputs": [
      {
       "metadata": {},
       "output_type": "pyout",
       "prompt_number": 235,
       "text": [
        "[<matplotlib.lines.Line2D at 0x5f18510>]"
       ]
      },
      {
       "metadata": {},
       "output_type": "display_data",
       "png": "[encoded data removed]",
       "text": [
        "<matplotlib.figure.Figure at 0x121bba10>"
       ]
      }
     ],
     "prompt_number": 235
    }
   ],
   "metadata": {}
  }
 ]
}